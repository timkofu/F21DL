{
 "cells": [
  {
   "cell_type": "markdown",
   "metadata": {},
   "source": [
    "# INTRODUCTION"
   ]
  },
  {
   "cell_type": "markdown",
   "metadata": {},
   "source": [
    "In this coursework we'll do data exploration, preparation and analysis, correlation and feature selection, probabilistic data analysis and clustering"
   ]
  },
  {
   "cell_type": "markdown",
   "metadata": {},
   "source": [
    "# DATA EXPLORATION"
   ]
  },
  {
   "cell_type": "markdown",
   "metadata": {},
   "source": [
    "## Loading the data"
   ]
  },
  {
   "cell_type": "markdown",
   "metadata": {},
   "source": [
    "We Have been provided with CSV files containing instances of road sign images that are gray-scalled. I have already downloaded these, and written a library (see the model folder) to read CSV files and return a Pandas dataframe, and to write pandas dataframes into HDF5 files.\n",
    "\n",
    "Let's go ahead and load the images CSV."
   ]
  },
  {
   "cell_type": "code",
   "execution_count": 1,
   "metadata": {
    "ExecuteTime": {
     "end_time": "2019-11-18T12:17:38.796399Z",
     "start_time": "2019-11-18T12:17:38.790907Z"
    }
   },
   "outputs": [],
   "source": [
    "# First we add the project into PYTHONPATH so our notebook can access the code in our MVC structure\n",
    "import set_sys_path"
   ]
  },
  {
   "cell_type": "code",
   "execution_count": 2,
   "metadata": {
    "ExecuteTime": {
     "end_time": "2019-11-18T12:17:43.189552Z",
     "start_time": "2019-11-18T12:17:39.215677Z"
    }
   },
   "outputs": [],
   "source": [
    "# Now we import the data read-write library from the model package, and initialise the read and write objects\n",
    "from classy.model.data.read import Reader\n",
    "from classy.model.data.write import Writer\n",
    "\n",
    "reader = Reader()\n",
    "writer = Writer()"
   ]
  },
  {
   "cell_type": "code",
   "execution_count": 3,
   "metadata": {
    "ExecuteTime": {
     "end_time": "2019-11-18T12:17:43.204115Z",
     "start_time": "2019-11-18T12:17:43.191818Z"
    }
   },
   "outputs": [
    {
     "data": {
      "text/plain": [
       "['y_train_smpl_0.csv',\n",
       " 'y_train_smpl_1.csv',\n",
       " 'y_train_smpl_3.csv',\n",
       " 'x_train_gr_smpl.csv',\n",
       " 'y_train_smpl_2.csv',\n",
       " 'y_train_smpl_6.csv',\n",
       " 'y_train_smpl_7.csv',\n",
       " 'y_train_smpl.csv',\n",
       " 'y_train_smpl_5.csv',\n",
       " 'y_train_smpl_4.csv',\n",
       " 'y_train_smpl_9.csv',\n",
       " 'y_train_smpl_8.csv']"
      ]
     },
     "execution_count": 3,
     "metadata": {},
     "output_type": "execute_result"
    }
   ],
   "source": [
    "# Let's see what data we have been provided with\n",
    "reader.list_data_files(file_type=\"csv\")"
   ]
  },
  {
   "cell_type": "markdown",
   "metadata": {},
   "source": [
    "The x_train_gr_smpl.csv is the main dataset that contains the instances and features (X in datamining lingo). The y_* are the labels for each intance (except y_train_smpl.csv).\n",
    "\n",
    "The labels are in the vertical order of instances."
   ]
  },
  {
   "cell_type": "code",
   "execution_count": 4,
   "metadata": {
    "ExecuteTime": {
     "end_time": "2019-11-18T12:17:50.069008Z",
     "start_time": "2019-11-18T12:17:44.691269Z"
    }
   },
   "outputs": [],
   "source": [
    "# Now lets load the main (X) dataset\n",
    "x_train_gr_smpl = reader.load_data(\"x_train_gr_smpl\", file_type=\"csv\")"
   ]
  },
  {
   "cell_type": "code",
   "execution_count": 5,
   "metadata": {
    "ExecuteTime": {
     "end_time": "2019-11-18T12:17:50.101241Z",
     "start_time": "2019-11-18T12:17:50.071215Z"
    }
   },
   "outputs": [],
   "source": [
    "# Let's also load the labels\n",
    "labels_transient = {\n",
    "    (\"speed_limit_60\", 3): reader.load_data(\"y_train_smpl_0\", file_type=\"csv\"),\n",
    "    (\"speed_limit_80\", 5): reader.load_data(\"y_train_smpl_1\", file_type=\"csv\"),\n",
    "    (\"speed_limit_80_lifted\", 6): reader.load_data(\"y_train_smpl_2\", file_type=\"csv\"),\n",
    "    (\"right_of_way_crossing\", 11): reader.load_data(\"y_train_smpl_3\", file_type=\"csv\"),\n",
    "    (\"right_of_way_general\", 12): reader.load_data(\"y_train_smpl_4\", file_type=\"csv\"),\n",
    "    (\"give_way\", 13): reader.load_data(\"y_train_smpl_5\", file_type=\"csv\"),\n",
    "    (\"stop\", 14): reader.load_data(\"y_train_smpl_6\", file_type=\"csv\"),\n",
    "    (\"no_speed_limit_general\", 32): reader.load_data(\"y_train_smpl_7\", file_type=\"csv\"),\n",
    "    (\"turn_right_down\", 38): reader.load_data(\"y_train_smpl_8\", file_type=\"csv\"),\n",
    "    (\"turn_left_down\", 39): reader.load_data(\"y_train_smpl_9\", file_type=\"csv\"),\n",
    "}"
   ]
  },
  {
   "cell_type": "markdown",
   "metadata": {},
   "source": [
    "## Exploration"
   ]
  },
  {
   "cell_type": "code",
   "execution_count": 6,
   "metadata": {
    "ExecuteTime": {
     "end_time": "2019-11-18T12:17:51.451141Z",
     "start_time": "2019-11-18T12:17:51.423029Z"
    }
   },
   "outputs": [
    {
     "data": {
      "text/html": [
       "<div>\n",
       "<style scoped>\n",
       "    .dataframe tbody tr th:only-of-type {\n",
       "        vertical-align: middle;\n",
       "    }\n",
       "\n",
       "    .dataframe tbody tr th {\n",
       "        vertical-align: top;\n",
       "    }\n",
       "\n",
       "    .dataframe thead th {\n",
       "        text-align: right;\n",
       "    }\n",
       "</style>\n",
       "<table border=\"1\" class=\"dataframe\">\n",
       "  <thead>\n",
       "    <tr style=\"text-align: right;\">\n",
       "      <th></th>\n",
       "      <th>0</th>\n",
       "      <th>1</th>\n",
       "      <th>2</th>\n",
       "      <th>3</th>\n",
       "      <th>4</th>\n",
       "      <th>5</th>\n",
       "      <th>6</th>\n",
       "      <th>7</th>\n",
       "      <th>8</th>\n",
       "      <th>9</th>\n",
       "      <th>...</th>\n",
       "      <th>2294</th>\n",
       "      <th>2295</th>\n",
       "      <th>2296</th>\n",
       "      <th>2297</th>\n",
       "      <th>2298</th>\n",
       "      <th>2299</th>\n",
       "      <th>2300</th>\n",
       "      <th>2301</th>\n",
       "      <th>2302</th>\n",
       "      <th>2303</th>\n",
       "    </tr>\n",
       "  </thead>\n",
       "  <tbody>\n",
       "    <tr>\n",
       "      <th>0</th>\n",
       "      <td>30.0</td>\n",
       "      <td>29.0</td>\n",
       "      <td>28.0</td>\n",
       "      <td>29.0</td>\n",
       "      <td>31.0</td>\n",
       "      <td>30.0</td>\n",
       "      <td>29.0</td>\n",
       "      <td>28.0</td>\n",
       "      <td>27.0</td>\n",
       "      <td>26.0</td>\n",
       "      <td>...</td>\n",
       "      <td>31.0</td>\n",
       "      <td>32.0</td>\n",
       "      <td>35.0</td>\n",
       "      <td>38.0</td>\n",
       "      <td>39.0</td>\n",
       "      <td>39.0</td>\n",
       "      <td>40.0</td>\n",
       "      <td>39.0</td>\n",
       "      <td>39.0</td>\n",
       "      <td>38.0</td>\n",
       "    </tr>\n",
       "    <tr>\n",
       "      <th>1</th>\n",
       "      <td>31.0</td>\n",
       "      <td>31.0</td>\n",
       "      <td>33.0</td>\n",
       "      <td>32.0</td>\n",
       "      <td>31.0</td>\n",
       "      <td>30.0</td>\n",
       "      <td>29.0</td>\n",
       "      <td>28.0</td>\n",
       "      <td>28.0</td>\n",
       "      <td>28.0</td>\n",
       "      <td>...</td>\n",
       "      <td>32.0</td>\n",
       "      <td>34.0</td>\n",
       "      <td>35.0</td>\n",
       "      <td>36.0</td>\n",
       "      <td>36.0</td>\n",
       "      <td>37.0</td>\n",
       "      <td>38.0</td>\n",
       "      <td>38.0</td>\n",
       "      <td>37.0</td>\n",
       "      <td>37.0</td>\n",
       "    </tr>\n",
       "    <tr>\n",
       "      <th>2</th>\n",
       "      <td>30.0</td>\n",
       "      <td>30.0</td>\n",
       "      <td>31.0</td>\n",
       "      <td>29.0</td>\n",
       "      <td>28.0</td>\n",
       "      <td>27.0</td>\n",
       "      <td>26.0</td>\n",
       "      <td>28.0</td>\n",
       "      <td>30.0</td>\n",
       "      <td>31.0</td>\n",
       "      <td>...</td>\n",
       "      <td>33.0</td>\n",
       "      <td>35.0</td>\n",
       "      <td>37.0</td>\n",
       "      <td>37.0</td>\n",
       "      <td>38.0</td>\n",
       "      <td>39.0</td>\n",
       "      <td>38.0</td>\n",
       "      <td>38.0</td>\n",
       "      <td>39.0</td>\n",
       "      <td>40.0</td>\n",
       "    </tr>\n",
       "    <tr>\n",
       "      <th>3</th>\n",
       "      <td>26.0</td>\n",
       "      <td>25.0</td>\n",
       "      <td>24.0</td>\n",
       "      <td>24.0</td>\n",
       "      <td>24.0</td>\n",
       "      <td>27.0</td>\n",
       "      <td>28.0</td>\n",
       "      <td>29.0</td>\n",
       "      <td>29.0</td>\n",
       "      <td>30.0</td>\n",
       "      <td>...</td>\n",
       "      <td>32.0</td>\n",
       "      <td>34.0</td>\n",
       "      <td>36.0</td>\n",
       "      <td>37.0</td>\n",
       "      <td>38.0</td>\n",
       "      <td>42.0</td>\n",
       "      <td>40.0</td>\n",
       "      <td>37.0</td>\n",
       "      <td>36.0</td>\n",
       "      <td>36.0</td>\n",
       "    </tr>\n",
       "    <tr>\n",
       "      <th>4</th>\n",
       "      <td>25.0</td>\n",
       "      <td>26.0</td>\n",
       "      <td>28.0</td>\n",
       "      <td>28.0</td>\n",
       "      <td>28.0</td>\n",
       "      <td>28.0</td>\n",
       "      <td>28.0</td>\n",
       "      <td>27.0</td>\n",
       "      <td>26.0</td>\n",
       "      <td>25.0</td>\n",
       "      <td>...</td>\n",
       "      <td>30.0</td>\n",
       "      <td>31.0</td>\n",
       "      <td>33.0</td>\n",
       "      <td>37.0</td>\n",
       "      <td>38.0</td>\n",
       "      <td>37.0</td>\n",
       "      <td>36.0</td>\n",
       "      <td>36.0</td>\n",
       "      <td>35.0</td>\n",
       "      <td>35.0</td>\n",
       "    </tr>\n",
       "    <tr>\n",
       "      <th>...</th>\n",
       "      <td>...</td>\n",
       "      <td>...</td>\n",
       "      <td>...</td>\n",
       "      <td>...</td>\n",
       "      <td>...</td>\n",
       "      <td>...</td>\n",
       "      <td>...</td>\n",
       "      <td>...</td>\n",
       "      <td>...</td>\n",
       "      <td>...</td>\n",
       "      <td>...</td>\n",
       "      <td>...</td>\n",
       "      <td>...</td>\n",
       "      <td>...</td>\n",
       "      <td>...</td>\n",
       "      <td>...</td>\n",
       "      <td>...</td>\n",
       "      <td>...</td>\n",
       "      <td>...</td>\n",
       "      <td>...</td>\n",
       "      <td>...</td>\n",
       "    </tr>\n",
       "    <tr>\n",
       "      <th>12655</th>\n",
       "      <td>8.0</td>\n",
       "      <td>8.0</td>\n",
       "      <td>7.0</td>\n",
       "      <td>7.0</td>\n",
       "      <td>8.0</td>\n",
       "      <td>8.0</td>\n",
       "      <td>8.0</td>\n",
       "      <td>8.0</td>\n",
       "      <td>8.0</td>\n",
       "      <td>8.0</td>\n",
       "      <td>...</td>\n",
       "      <td>11.0</td>\n",
       "      <td>10.0</td>\n",
       "      <td>9.0</td>\n",
       "      <td>9.0</td>\n",
       "      <td>10.0</td>\n",
       "      <td>9.0</td>\n",
       "      <td>9.0</td>\n",
       "      <td>10.0</td>\n",
       "      <td>11.0</td>\n",
       "      <td>11.0</td>\n",
       "    </tr>\n",
       "    <tr>\n",
       "      <th>12656</th>\n",
       "      <td>7.0</td>\n",
       "      <td>7.0</td>\n",
       "      <td>8.0</td>\n",
       "      <td>8.0</td>\n",
       "      <td>9.0</td>\n",
       "      <td>8.0</td>\n",
       "      <td>8.0</td>\n",
       "      <td>9.0</td>\n",
       "      <td>8.0</td>\n",
       "      <td>9.0</td>\n",
       "      <td>...</td>\n",
       "      <td>10.0</td>\n",
       "      <td>10.0</td>\n",
       "      <td>10.0</td>\n",
       "      <td>9.0</td>\n",
       "      <td>9.0</td>\n",
       "      <td>9.0</td>\n",
       "      <td>9.0</td>\n",
       "      <td>9.0</td>\n",
       "      <td>9.0</td>\n",
       "      <td>9.0</td>\n",
       "    </tr>\n",
       "    <tr>\n",
       "      <th>12657</th>\n",
       "      <td>9.0</td>\n",
       "      <td>10.0</td>\n",
       "      <td>9.0</td>\n",
       "      <td>9.0</td>\n",
       "      <td>9.0</td>\n",
       "      <td>9.0</td>\n",
       "      <td>11.0</td>\n",
       "      <td>10.0</td>\n",
       "      <td>10.0</td>\n",
       "      <td>10.0</td>\n",
       "      <td>...</td>\n",
       "      <td>9.0</td>\n",
       "      <td>9.0</td>\n",
       "      <td>9.0</td>\n",
       "      <td>9.0</td>\n",
       "      <td>8.0</td>\n",
       "      <td>9.0</td>\n",
       "      <td>9.0</td>\n",
       "      <td>10.0</td>\n",
       "      <td>9.0</td>\n",
       "      <td>9.0</td>\n",
       "    </tr>\n",
       "    <tr>\n",
       "      <th>12658</th>\n",
       "      <td>8.0</td>\n",
       "      <td>7.0</td>\n",
       "      <td>6.0</td>\n",
       "      <td>6.0</td>\n",
       "      <td>6.0</td>\n",
       "      <td>6.0</td>\n",
       "      <td>7.0</td>\n",
       "      <td>6.0</td>\n",
       "      <td>6.0</td>\n",
       "      <td>6.0</td>\n",
       "      <td>...</td>\n",
       "      <td>10.0</td>\n",
       "      <td>9.0</td>\n",
       "      <td>9.0</td>\n",
       "      <td>9.0</td>\n",
       "      <td>9.0</td>\n",
       "      <td>9.0</td>\n",
       "      <td>10.0</td>\n",
       "      <td>10.0</td>\n",
       "      <td>9.0</td>\n",
       "      <td>9.0</td>\n",
       "    </tr>\n",
       "    <tr>\n",
       "      <th>12659</th>\n",
       "      <td>8.0</td>\n",
       "      <td>7.0</td>\n",
       "      <td>6.0</td>\n",
       "      <td>6.0</td>\n",
       "      <td>6.0</td>\n",
       "      <td>6.0</td>\n",
       "      <td>8.0</td>\n",
       "      <td>8.0</td>\n",
       "      <td>9.0</td>\n",
       "      <td>10.0</td>\n",
       "      <td>...</td>\n",
       "      <td>9.0</td>\n",
       "      <td>10.0</td>\n",
       "      <td>10.0</td>\n",
       "      <td>10.0</td>\n",
       "      <td>10.0</td>\n",
       "      <td>8.0</td>\n",
       "      <td>8.0</td>\n",
       "      <td>8.0</td>\n",
       "      <td>9.0</td>\n",
       "      <td>8.0</td>\n",
       "    </tr>\n",
       "  </tbody>\n",
       "</table>\n",
       "<p>12660 rows × 2304 columns</p>\n",
       "</div>"
      ],
      "text/plain": [
       "          0     1     2     3     4     5     6     7     8     9  ...  2294  \\\n",
       "0      30.0  29.0  28.0  29.0  31.0  30.0  29.0  28.0  27.0  26.0  ...  31.0   \n",
       "1      31.0  31.0  33.0  32.0  31.0  30.0  29.0  28.0  28.0  28.0  ...  32.0   \n",
       "2      30.0  30.0  31.0  29.0  28.0  27.0  26.0  28.0  30.0  31.0  ...  33.0   \n",
       "3      26.0  25.0  24.0  24.0  24.0  27.0  28.0  29.0  29.0  30.0  ...  32.0   \n",
       "4      25.0  26.0  28.0  28.0  28.0  28.0  28.0  27.0  26.0  25.0  ...  30.0   \n",
       "...     ...   ...   ...   ...   ...   ...   ...   ...   ...   ...  ...   ...   \n",
       "12655   8.0   8.0   7.0   7.0   8.0   8.0   8.0   8.0   8.0   8.0  ...  11.0   \n",
       "12656   7.0   7.0   8.0   8.0   9.0   8.0   8.0   9.0   8.0   9.0  ...  10.0   \n",
       "12657   9.0  10.0   9.0   9.0   9.0   9.0  11.0  10.0  10.0  10.0  ...   9.0   \n",
       "12658   8.0   7.0   6.0   6.0   6.0   6.0   7.0   6.0   6.0   6.0  ...  10.0   \n",
       "12659   8.0   7.0   6.0   6.0   6.0   6.0   8.0   8.0   9.0  10.0  ...   9.0   \n",
       "\n",
       "       2295  2296  2297  2298  2299  2300  2301  2302  2303  \n",
       "0      32.0  35.0  38.0  39.0  39.0  40.0  39.0  39.0  38.0  \n",
       "1      34.0  35.0  36.0  36.0  37.0  38.0  38.0  37.0  37.0  \n",
       "2      35.0  37.0  37.0  38.0  39.0  38.0  38.0  39.0  40.0  \n",
       "3      34.0  36.0  37.0  38.0  42.0  40.0  37.0  36.0  36.0  \n",
       "4      31.0  33.0  37.0  38.0  37.0  36.0  36.0  35.0  35.0  \n",
       "...     ...   ...   ...   ...   ...   ...   ...   ...   ...  \n",
       "12655  10.0   9.0   9.0  10.0   9.0   9.0  10.0  11.0  11.0  \n",
       "12656  10.0  10.0   9.0   9.0   9.0   9.0   9.0   9.0   9.0  \n",
       "12657   9.0   9.0   9.0   8.0   9.0   9.0  10.0   9.0   9.0  \n",
       "12658   9.0   9.0   9.0   9.0   9.0  10.0  10.0   9.0   9.0  \n",
       "12659  10.0  10.0  10.0  10.0   8.0   8.0   8.0   9.0   8.0  \n",
       "\n",
       "[12660 rows x 2304 columns]"
      ]
     },
     "execution_count": 6,
     "metadata": {},
     "output_type": "execute_result"
    }
   ],
   "source": [
    "# How does the data look like?\n",
    "x_train_gr_smpl"
   ]
  },
  {
   "cell_type": "code",
   "execution_count": 7,
   "metadata": {
    "ExecuteTime": {
     "end_time": "2019-11-18T12:17:54.642824Z",
     "start_time": "2019-11-18T12:17:54.637501Z"
    }
   },
   "outputs": [
    {
     "data": {
      "text/plain": [
       "0       float64\n",
       "1       float64\n",
       "2       float64\n",
       "3       float64\n",
       "4       float64\n",
       "         ...   \n",
       "2299    float64\n",
       "2300    float64\n",
       "2301    float64\n",
       "2302    float64\n",
       "2303    float64\n",
       "Length: 2304, dtype: object"
      ]
     },
     "execution_count": 7,
     "metadata": {},
     "output_type": "execute_result"
    }
   ],
   "source": [
    "# what datatypes are they?\n",
    "x_train_gr_smpl.dtypes"
   ]
  },
  {
   "cell_type": "code",
   "execution_count": 8,
   "metadata": {
    "ExecuteTime": {
     "end_time": "2019-11-18T12:17:59.454765Z",
     "start_time": "2019-11-18T12:17:57.014350Z"
    }
   },
   "outputs": [
    {
     "data": {
      "text/plain": [
       "True"
      ]
     },
     "execution_count": 8,
     "metadata": {},
     "output_type": "execute_result"
    }
   ],
   "source": [
    "# They all seem to be integers. Are they really all integers (floats with 0 after the decimal place)? Let's confirm\n",
    "\n",
    "import numpy as np\n",
    "\n",
    "all(x_train_gr_smpl.apply(np.vectorize(float.is_integer)))"
   ]
  },
  {
   "cell_type": "code",
   "execution_count": 9,
   "metadata": {
    "ExecuteTime": {
     "end_time": "2019-11-18T12:18:00.440701Z",
     "start_time": "2019-11-18T12:18:00.285639Z"
    }
   },
   "outputs": [],
   "source": [
    "# Confirmed. Let's convert them all to what they really are; integers.\n",
    "x_train_gr_smpl = x_train_gr_smpl.astype(int)"
   ]
  },
  {
   "cell_type": "code",
   "execution_count": 10,
   "metadata": {
    "ExecuteTime": {
     "end_time": "2019-11-18T12:18:01.370581Z",
     "start_time": "2019-11-18T12:18:01.352801Z"
    }
   },
   "outputs": [
    {
     "data": {
      "text/html": [
       "<div>\n",
       "<style scoped>\n",
       "    .dataframe tbody tr th:only-of-type {\n",
       "        vertical-align: middle;\n",
       "    }\n",
       "\n",
       "    .dataframe tbody tr th {\n",
       "        vertical-align: top;\n",
       "    }\n",
       "\n",
       "    .dataframe thead th {\n",
       "        text-align: right;\n",
       "    }\n",
       "</style>\n",
       "<table border=\"1\" class=\"dataframe\">\n",
       "  <thead>\n",
       "    <tr style=\"text-align: right;\">\n",
       "      <th></th>\n",
       "      <th>0</th>\n",
       "      <th>1</th>\n",
       "      <th>2</th>\n",
       "      <th>3</th>\n",
       "      <th>4</th>\n",
       "      <th>5</th>\n",
       "      <th>6</th>\n",
       "      <th>7</th>\n",
       "      <th>8</th>\n",
       "      <th>9</th>\n",
       "      <th>...</th>\n",
       "      <th>2294</th>\n",
       "      <th>2295</th>\n",
       "      <th>2296</th>\n",
       "      <th>2297</th>\n",
       "      <th>2298</th>\n",
       "      <th>2299</th>\n",
       "      <th>2300</th>\n",
       "      <th>2301</th>\n",
       "      <th>2302</th>\n",
       "      <th>2303</th>\n",
       "    </tr>\n",
       "  </thead>\n",
       "  <tbody>\n",
       "    <tr>\n",
       "      <th>0</th>\n",
       "      <td>30</td>\n",
       "      <td>29</td>\n",
       "      <td>28</td>\n",
       "      <td>29</td>\n",
       "      <td>31</td>\n",
       "      <td>30</td>\n",
       "      <td>29</td>\n",
       "      <td>28</td>\n",
       "      <td>27</td>\n",
       "      <td>26</td>\n",
       "      <td>...</td>\n",
       "      <td>31</td>\n",
       "      <td>32</td>\n",
       "      <td>35</td>\n",
       "      <td>38</td>\n",
       "      <td>39</td>\n",
       "      <td>39</td>\n",
       "      <td>40</td>\n",
       "      <td>39</td>\n",
       "      <td>39</td>\n",
       "      <td>38</td>\n",
       "    </tr>\n",
       "    <tr>\n",
       "      <th>1</th>\n",
       "      <td>31</td>\n",
       "      <td>31</td>\n",
       "      <td>33</td>\n",
       "      <td>32</td>\n",
       "      <td>31</td>\n",
       "      <td>30</td>\n",
       "      <td>29</td>\n",
       "      <td>28</td>\n",
       "      <td>28</td>\n",
       "      <td>28</td>\n",
       "      <td>...</td>\n",
       "      <td>32</td>\n",
       "      <td>34</td>\n",
       "      <td>35</td>\n",
       "      <td>36</td>\n",
       "      <td>36</td>\n",
       "      <td>37</td>\n",
       "      <td>38</td>\n",
       "      <td>38</td>\n",
       "      <td>37</td>\n",
       "      <td>37</td>\n",
       "    </tr>\n",
       "    <tr>\n",
       "      <th>2</th>\n",
       "      <td>30</td>\n",
       "      <td>30</td>\n",
       "      <td>31</td>\n",
       "      <td>29</td>\n",
       "      <td>28</td>\n",
       "      <td>27</td>\n",
       "      <td>26</td>\n",
       "      <td>28</td>\n",
       "      <td>30</td>\n",
       "      <td>31</td>\n",
       "      <td>...</td>\n",
       "      <td>33</td>\n",
       "      <td>35</td>\n",
       "      <td>37</td>\n",
       "      <td>37</td>\n",
       "      <td>38</td>\n",
       "      <td>39</td>\n",
       "      <td>38</td>\n",
       "      <td>38</td>\n",
       "      <td>39</td>\n",
       "      <td>40</td>\n",
       "    </tr>\n",
       "    <tr>\n",
       "      <th>3</th>\n",
       "      <td>26</td>\n",
       "      <td>25</td>\n",
       "      <td>24</td>\n",
       "      <td>24</td>\n",
       "      <td>24</td>\n",
       "      <td>27</td>\n",
       "      <td>28</td>\n",
       "      <td>29</td>\n",
       "      <td>29</td>\n",
       "      <td>30</td>\n",
       "      <td>...</td>\n",
       "      <td>32</td>\n",
       "      <td>34</td>\n",
       "      <td>36</td>\n",
       "      <td>37</td>\n",
       "      <td>38</td>\n",
       "      <td>42</td>\n",
       "      <td>40</td>\n",
       "      <td>37</td>\n",
       "      <td>36</td>\n",
       "      <td>36</td>\n",
       "    </tr>\n",
       "    <tr>\n",
       "      <th>4</th>\n",
       "      <td>25</td>\n",
       "      <td>26</td>\n",
       "      <td>28</td>\n",
       "      <td>28</td>\n",
       "      <td>28</td>\n",
       "      <td>28</td>\n",
       "      <td>28</td>\n",
       "      <td>27</td>\n",
       "      <td>26</td>\n",
       "      <td>25</td>\n",
       "      <td>...</td>\n",
       "      <td>30</td>\n",
       "      <td>31</td>\n",
       "      <td>33</td>\n",
       "      <td>37</td>\n",
       "      <td>38</td>\n",
       "      <td>37</td>\n",
       "      <td>36</td>\n",
       "      <td>36</td>\n",
       "      <td>35</td>\n",
       "      <td>35</td>\n",
       "    </tr>\n",
       "    <tr>\n",
       "      <th>...</th>\n",
       "      <td>...</td>\n",
       "      <td>...</td>\n",
       "      <td>...</td>\n",
       "      <td>...</td>\n",
       "      <td>...</td>\n",
       "      <td>...</td>\n",
       "      <td>...</td>\n",
       "      <td>...</td>\n",
       "      <td>...</td>\n",
       "      <td>...</td>\n",
       "      <td>...</td>\n",
       "      <td>...</td>\n",
       "      <td>...</td>\n",
       "      <td>...</td>\n",
       "      <td>...</td>\n",
       "      <td>...</td>\n",
       "      <td>...</td>\n",
       "      <td>...</td>\n",
       "      <td>...</td>\n",
       "      <td>...</td>\n",
       "      <td>...</td>\n",
       "    </tr>\n",
       "    <tr>\n",
       "      <th>12655</th>\n",
       "      <td>8</td>\n",
       "      <td>8</td>\n",
       "      <td>7</td>\n",
       "      <td>7</td>\n",
       "      <td>8</td>\n",
       "      <td>8</td>\n",
       "      <td>8</td>\n",
       "      <td>8</td>\n",
       "      <td>8</td>\n",
       "      <td>8</td>\n",
       "      <td>...</td>\n",
       "      <td>11</td>\n",
       "      <td>10</td>\n",
       "      <td>9</td>\n",
       "      <td>9</td>\n",
       "      <td>10</td>\n",
       "      <td>9</td>\n",
       "      <td>9</td>\n",
       "      <td>10</td>\n",
       "      <td>11</td>\n",
       "      <td>11</td>\n",
       "    </tr>\n",
       "    <tr>\n",
       "      <th>12656</th>\n",
       "      <td>7</td>\n",
       "      <td>7</td>\n",
       "      <td>8</td>\n",
       "      <td>8</td>\n",
       "      <td>9</td>\n",
       "      <td>8</td>\n",
       "      <td>8</td>\n",
       "      <td>9</td>\n",
       "      <td>8</td>\n",
       "      <td>9</td>\n",
       "      <td>...</td>\n",
       "      <td>10</td>\n",
       "      <td>10</td>\n",
       "      <td>10</td>\n",
       "      <td>9</td>\n",
       "      <td>9</td>\n",
       "      <td>9</td>\n",
       "      <td>9</td>\n",
       "      <td>9</td>\n",
       "      <td>9</td>\n",
       "      <td>9</td>\n",
       "    </tr>\n",
       "    <tr>\n",
       "      <th>12657</th>\n",
       "      <td>9</td>\n",
       "      <td>10</td>\n",
       "      <td>9</td>\n",
       "      <td>9</td>\n",
       "      <td>9</td>\n",
       "      <td>9</td>\n",
       "      <td>11</td>\n",
       "      <td>10</td>\n",
       "      <td>10</td>\n",
       "      <td>10</td>\n",
       "      <td>...</td>\n",
       "      <td>9</td>\n",
       "      <td>9</td>\n",
       "      <td>9</td>\n",
       "      <td>9</td>\n",
       "      <td>8</td>\n",
       "      <td>9</td>\n",
       "      <td>9</td>\n",
       "      <td>10</td>\n",
       "      <td>9</td>\n",
       "      <td>9</td>\n",
       "    </tr>\n",
       "    <tr>\n",
       "      <th>12658</th>\n",
       "      <td>8</td>\n",
       "      <td>7</td>\n",
       "      <td>6</td>\n",
       "      <td>6</td>\n",
       "      <td>6</td>\n",
       "      <td>6</td>\n",
       "      <td>7</td>\n",
       "      <td>6</td>\n",
       "      <td>6</td>\n",
       "      <td>6</td>\n",
       "      <td>...</td>\n",
       "      <td>10</td>\n",
       "      <td>9</td>\n",
       "      <td>9</td>\n",
       "      <td>9</td>\n",
       "      <td>9</td>\n",
       "      <td>9</td>\n",
       "      <td>10</td>\n",
       "      <td>10</td>\n",
       "      <td>9</td>\n",
       "      <td>9</td>\n",
       "    </tr>\n",
       "    <tr>\n",
       "      <th>12659</th>\n",
       "      <td>8</td>\n",
       "      <td>7</td>\n",
       "      <td>6</td>\n",
       "      <td>6</td>\n",
       "      <td>6</td>\n",
       "      <td>6</td>\n",
       "      <td>8</td>\n",
       "      <td>8</td>\n",
       "      <td>9</td>\n",
       "      <td>10</td>\n",
       "      <td>...</td>\n",
       "      <td>9</td>\n",
       "      <td>10</td>\n",
       "      <td>10</td>\n",
       "      <td>10</td>\n",
       "      <td>10</td>\n",
       "      <td>8</td>\n",
       "      <td>8</td>\n",
       "      <td>8</td>\n",
       "      <td>9</td>\n",
       "      <td>8</td>\n",
       "    </tr>\n",
       "  </tbody>\n",
       "</table>\n",
       "<p>12660 rows × 2304 columns</p>\n",
       "</div>"
      ],
      "text/plain": [
       "        0   1   2   3   4   5   6   7   8   9  ...  2294  2295  2296  2297  \\\n",
       "0      30  29  28  29  31  30  29  28  27  26  ...    31    32    35    38   \n",
       "1      31  31  33  32  31  30  29  28  28  28  ...    32    34    35    36   \n",
       "2      30  30  31  29  28  27  26  28  30  31  ...    33    35    37    37   \n",
       "3      26  25  24  24  24  27  28  29  29  30  ...    32    34    36    37   \n",
       "4      25  26  28  28  28  28  28  27  26  25  ...    30    31    33    37   \n",
       "...    ..  ..  ..  ..  ..  ..  ..  ..  ..  ..  ...   ...   ...   ...   ...   \n",
       "12655   8   8   7   7   8   8   8   8   8   8  ...    11    10     9     9   \n",
       "12656   7   7   8   8   9   8   8   9   8   9  ...    10    10    10     9   \n",
       "12657   9  10   9   9   9   9  11  10  10  10  ...     9     9     9     9   \n",
       "12658   8   7   6   6   6   6   7   6   6   6  ...    10     9     9     9   \n",
       "12659   8   7   6   6   6   6   8   8   9  10  ...     9    10    10    10   \n",
       "\n",
       "       2298  2299  2300  2301  2302  2303  \n",
       "0        39    39    40    39    39    38  \n",
       "1        36    37    38    38    37    37  \n",
       "2        38    39    38    38    39    40  \n",
       "3        38    42    40    37    36    36  \n",
       "4        38    37    36    36    35    35  \n",
       "...     ...   ...   ...   ...   ...   ...  \n",
       "12655    10     9     9    10    11    11  \n",
       "12656     9     9     9     9     9     9  \n",
       "12657     8     9     9    10     9     9  \n",
       "12658     9     9    10    10     9     9  \n",
       "12659    10     8     8     8     9     8  \n",
       "\n",
       "[12660 rows x 2304 columns]"
      ]
     },
     "execution_count": 10,
     "metadata": {},
     "output_type": "execute_result"
    }
   ],
   "source": [
    "x_train_gr_smpl"
   ]
  },
  {
   "cell_type": "markdown",
   "metadata": {},
   "source": [
    "So this is <b>ratio</b> data, all in the same <b>range</b> (0-255).\n",
    "\n",
    "There are also no null values. All cells have values (pixel brightness count), so no null cells need to be replaced with the label mean for that cell for example.\n",
    "\n",
    "We have 12660 instances with 2304 features each (48*48 grayscale image unrolled into one horizontal array)"
   ]
  },
  {
   "cell_type": "code",
   "execution_count": 11,
   "metadata": {
    "ExecuteTime": {
     "end_time": "2019-11-18T12:18:10.474055Z",
     "start_time": "2019-11-18T12:18:05.622171Z"
    }
   },
   "outputs": [
    {
     "data": {
      "text/html": [
       "<div>\n",
       "<style scoped>\n",
       "    .dataframe tbody tr th:only-of-type {\n",
       "        vertical-align: middle;\n",
       "    }\n",
       "\n",
       "    .dataframe tbody tr th {\n",
       "        vertical-align: top;\n",
       "    }\n",
       "\n",
       "    .dataframe thead th {\n",
       "        text-align: right;\n",
       "    }\n",
       "</style>\n",
       "<table border=\"1\" class=\"dataframe\">\n",
       "  <thead>\n",
       "    <tr style=\"text-align: right;\">\n",
       "      <th></th>\n",
       "      <th>0</th>\n",
       "      <th>1</th>\n",
       "      <th>2</th>\n",
       "      <th>3</th>\n",
       "      <th>4</th>\n",
       "      <th>5</th>\n",
       "      <th>6</th>\n",
       "      <th>7</th>\n",
       "      <th>8</th>\n",
       "      <th>9</th>\n",
       "      <th>...</th>\n",
       "      <th>2294</th>\n",
       "      <th>2295</th>\n",
       "      <th>2296</th>\n",
       "      <th>2297</th>\n",
       "      <th>2298</th>\n",
       "      <th>2299</th>\n",
       "      <th>2300</th>\n",
       "      <th>2301</th>\n",
       "      <th>2302</th>\n",
       "      <th>2303</th>\n",
       "    </tr>\n",
       "  </thead>\n",
       "  <tbody>\n",
       "    <tr>\n",
       "      <th>count</th>\n",
       "      <td>12660.000000</td>\n",
       "      <td>12660.000000</td>\n",
       "      <td>12660.000000</td>\n",
       "      <td>12660.000000</td>\n",
       "      <td>12660.000000</td>\n",
       "      <td>12660.000000</td>\n",
       "      <td>12660.000000</td>\n",
       "      <td>12660.000000</td>\n",
       "      <td>12660.000000</td>\n",
       "      <td>12660.000000</td>\n",
       "      <td>...</td>\n",
       "      <td>12660.000000</td>\n",
       "      <td>12660.000000</td>\n",
       "      <td>12660.000000</td>\n",
       "      <td>12660.000000</td>\n",
       "      <td>12660.000000</td>\n",
       "      <td>12660.000000</td>\n",
       "      <td>12660.000000</td>\n",
       "      <td>12660.000000</td>\n",
       "      <td>12660.000000</td>\n",
       "      <td>12660.000000</td>\n",
       "    </tr>\n",
       "    <tr>\n",
       "      <th>mean</th>\n",
       "      <td>90.275908</td>\n",
       "      <td>90.296840</td>\n",
       "      <td>90.331043</td>\n",
       "      <td>90.369510</td>\n",
       "      <td>90.608847</td>\n",
       "      <td>90.852370</td>\n",
       "      <td>91.113033</td>\n",
       "      <td>91.427488</td>\n",
       "      <td>91.566588</td>\n",
       "      <td>91.775355</td>\n",
       "      <td>...</td>\n",
       "      <td>72.123460</td>\n",
       "      <td>71.547393</td>\n",
       "      <td>71.399368</td>\n",
       "      <td>70.980253</td>\n",
       "      <td>70.064455</td>\n",
       "      <td>69.243681</td>\n",
       "      <td>68.339336</td>\n",
       "      <td>67.716983</td>\n",
       "      <td>67.734992</td>\n",
       "      <td>67.784123</td>\n",
       "    </tr>\n",
       "    <tr>\n",
       "      <th>std</th>\n",
       "      <td>79.531811</td>\n",
       "      <td>79.674242</td>\n",
       "      <td>79.816240</td>\n",
       "      <td>79.896452</td>\n",
       "      <td>79.958141</td>\n",
       "      <td>80.082173</td>\n",
       "      <td>80.266651</td>\n",
       "      <td>80.406439</td>\n",
       "      <td>80.439131</td>\n",
       "      <td>80.457116</td>\n",
       "      <td>...</td>\n",
       "      <td>65.643296</td>\n",
       "      <td>65.317373</td>\n",
       "      <td>65.485237</td>\n",
       "      <td>65.649521</td>\n",
       "      <td>65.109495</td>\n",
       "      <td>64.328815</td>\n",
       "      <td>63.312147</td>\n",
       "      <td>62.688005</td>\n",
       "      <td>62.951496</td>\n",
       "      <td>63.289188</td>\n",
       "    </tr>\n",
       "    <tr>\n",
       "      <th>min</th>\n",
       "      <td>5.000000</td>\n",
       "      <td>6.000000</td>\n",
       "      <td>5.000000</td>\n",
       "      <td>6.000000</td>\n",
       "      <td>6.000000</td>\n",
       "      <td>6.000000</td>\n",
       "      <td>6.000000</td>\n",
       "      <td>6.000000</td>\n",
       "      <td>5.000000</td>\n",
       "      <td>6.000000</td>\n",
       "      <td>...</td>\n",
       "      <td>6.000000</td>\n",
       "      <td>6.000000</td>\n",
       "      <td>6.000000</td>\n",
       "      <td>6.000000</td>\n",
       "      <td>5.000000</td>\n",
       "      <td>6.000000</td>\n",
       "      <td>6.000000</td>\n",
       "      <td>6.000000</td>\n",
       "      <td>6.000000</td>\n",
       "      <td>5.000000</td>\n",
       "    </tr>\n",
       "    <tr>\n",
       "      <th>25%</th>\n",
       "      <td>29.000000</td>\n",
       "      <td>29.000000</td>\n",
       "      <td>29.000000</td>\n",
       "      <td>28.000000</td>\n",
       "      <td>28.000000</td>\n",
       "      <td>28.000000</td>\n",
       "      <td>28.000000</td>\n",
       "      <td>28.000000</td>\n",
       "      <td>28.000000</td>\n",
       "      <td>29.000000</td>\n",
       "      <td>...</td>\n",
       "      <td>26.000000</td>\n",
       "      <td>25.000000</td>\n",
       "      <td>25.000000</td>\n",
       "      <td>25.000000</td>\n",
       "      <td>25.000000</td>\n",
       "      <td>24.000000</td>\n",
       "      <td>24.000000</td>\n",
       "      <td>24.000000</td>\n",
       "      <td>24.000000</td>\n",
       "      <td>24.000000</td>\n",
       "    </tr>\n",
       "    <tr>\n",
       "      <th>50%</th>\n",
       "      <td>55.000000</td>\n",
       "      <td>56.000000</td>\n",
       "      <td>55.000000</td>\n",
       "      <td>55.000000</td>\n",
       "      <td>56.000000</td>\n",
       "      <td>56.000000</td>\n",
       "      <td>56.000000</td>\n",
       "      <td>56.000000</td>\n",
       "      <td>57.000000</td>\n",
       "      <td>57.000000</td>\n",
       "      <td>...</td>\n",
       "      <td>47.000000</td>\n",
       "      <td>47.000000</td>\n",
       "      <td>47.000000</td>\n",
       "      <td>46.000000</td>\n",
       "      <td>45.000000</td>\n",
       "      <td>44.000000</td>\n",
       "      <td>44.000000</td>\n",
       "      <td>44.000000</td>\n",
       "      <td>43.000000</td>\n",
       "      <td>43.000000</td>\n",
       "    </tr>\n",
       "    <tr>\n",
       "      <th>75%</th>\n",
       "      <td>136.000000</td>\n",
       "      <td>136.000000</td>\n",
       "      <td>135.000000</td>\n",
       "      <td>136.000000</td>\n",
       "      <td>137.000000</td>\n",
       "      <td>137.000000</td>\n",
       "      <td>140.000000</td>\n",
       "      <td>140.000000</td>\n",
       "      <td>140.000000</td>\n",
       "      <td>140.000000</td>\n",
       "      <td>...</td>\n",
       "      <td>94.000000</td>\n",
       "      <td>93.000000</td>\n",
       "      <td>93.000000</td>\n",
       "      <td>92.000000</td>\n",
       "      <td>91.000000</td>\n",
       "      <td>90.000000</td>\n",
       "      <td>88.000000</td>\n",
       "      <td>87.000000</td>\n",
       "      <td>86.000000</td>\n",
       "      <td>87.000000</td>\n",
       "    </tr>\n",
       "    <tr>\n",
       "      <th>max</th>\n",
       "      <td>255.000000</td>\n",
       "      <td>255.000000</td>\n",
       "      <td>255.000000</td>\n",
       "      <td>255.000000</td>\n",
       "      <td>255.000000</td>\n",
       "      <td>255.000000</td>\n",
       "      <td>255.000000</td>\n",
       "      <td>255.000000</td>\n",
       "      <td>255.000000</td>\n",
       "      <td>255.000000</td>\n",
       "      <td>...</td>\n",
       "      <td>255.000000</td>\n",
       "      <td>255.000000</td>\n",
       "      <td>255.000000</td>\n",
       "      <td>255.000000</td>\n",
       "      <td>255.000000</td>\n",
       "      <td>255.000000</td>\n",
       "      <td>255.000000</td>\n",
       "      <td>255.000000</td>\n",
       "      <td>255.000000</td>\n",
       "      <td>255.000000</td>\n",
       "    </tr>\n",
       "  </tbody>\n",
       "</table>\n",
       "<p>8 rows × 2304 columns</p>\n",
       "</div>"
      ],
      "text/plain": [
       "                  0             1             2             3             4  \\\n",
       "count  12660.000000  12660.000000  12660.000000  12660.000000  12660.000000   \n",
       "mean      90.275908     90.296840     90.331043     90.369510     90.608847   \n",
       "std       79.531811     79.674242     79.816240     79.896452     79.958141   \n",
       "min        5.000000      6.000000      5.000000      6.000000      6.000000   \n",
       "25%       29.000000     29.000000     29.000000     28.000000     28.000000   \n",
       "50%       55.000000     56.000000     55.000000     55.000000     56.000000   \n",
       "75%      136.000000    136.000000    135.000000    136.000000    137.000000   \n",
       "max      255.000000    255.000000    255.000000    255.000000    255.000000   \n",
       "\n",
       "                  5             6             7             8             9  \\\n",
       "count  12660.000000  12660.000000  12660.000000  12660.000000  12660.000000   \n",
       "mean      90.852370     91.113033     91.427488     91.566588     91.775355   \n",
       "std       80.082173     80.266651     80.406439     80.439131     80.457116   \n",
       "min        6.000000      6.000000      6.000000      5.000000      6.000000   \n",
       "25%       28.000000     28.000000     28.000000     28.000000     29.000000   \n",
       "50%       56.000000     56.000000     56.000000     57.000000     57.000000   \n",
       "75%      137.000000    140.000000    140.000000    140.000000    140.000000   \n",
       "max      255.000000    255.000000    255.000000    255.000000    255.000000   \n",
       "\n",
       "       ...          2294          2295          2296          2297  \\\n",
       "count  ...  12660.000000  12660.000000  12660.000000  12660.000000   \n",
       "mean   ...     72.123460     71.547393     71.399368     70.980253   \n",
       "std    ...     65.643296     65.317373     65.485237     65.649521   \n",
       "min    ...      6.000000      6.000000      6.000000      6.000000   \n",
       "25%    ...     26.000000     25.000000     25.000000     25.000000   \n",
       "50%    ...     47.000000     47.000000     47.000000     46.000000   \n",
       "75%    ...     94.000000     93.000000     93.000000     92.000000   \n",
       "max    ...    255.000000    255.000000    255.000000    255.000000   \n",
       "\n",
       "               2298          2299          2300          2301          2302  \\\n",
       "count  12660.000000  12660.000000  12660.000000  12660.000000  12660.000000   \n",
       "mean      70.064455     69.243681     68.339336     67.716983     67.734992   \n",
       "std       65.109495     64.328815     63.312147     62.688005     62.951496   \n",
       "min        5.000000      6.000000      6.000000      6.000000      6.000000   \n",
       "25%       25.000000     24.000000     24.000000     24.000000     24.000000   \n",
       "50%       45.000000     44.000000     44.000000     44.000000     43.000000   \n",
       "75%       91.000000     90.000000     88.000000     87.000000     86.000000   \n",
       "max      255.000000    255.000000    255.000000    255.000000    255.000000   \n",
       "\n",
       "               2303  \n",
       "count  12660.000000  \n",
       "mean      67.784123  \n",
       "std       63.289188  \n",
       "min        5.000000  \n",
       "25%       24.000000  \n",
       "50%       43.000000  \n",
       "75%       87.000000  \n",
       "max      255.000000  \n",
       "\n",
       "[8 rows x 2304 columns]"
      ]
     },
     "execution_count": 11,
     "metadata": {},
     "output_type": "execute_result"
    }
   ],
   "source": [
    "# Now let's see some statistics about our data\n",
    "x_train_gr_smpl.describe()"
   ]
  },
  {
   "cell_type": "markdown",
   "metadata": {},
   "source": [
    "Interesting statistics, but not really practical for image data."
   ]
  },
  {
   "cell_type": "markdown",
   "metadata": {},
   "source": [
    "## Visualization"
   ]
  },
  {
   "cell_type": "code",
   "execution_count": 12,
   "metadata": {
    "ExecuteTime": {
     "end_time": "2019-11-18T12:18:13.400502Z",
     "start_time": "2019-11-18T12:18:13.289390Z"
    }
   },
   "outputs": [],
   "source": [
    "# The libraries\n",
    "import matplotlib.pyplot as plt\n",
    "%matplotlib inline\n",
    "\n",
    "from classy.controller.utilities.visualize_image import visualize_image"
   ]
  },
  {
   "cell_type": "code",
   "execution_count": 13,
   "metadata": {
    "ExecuteTime": {
     "end_time": "2019-11-18T12:18:14.564856Z",
     "start_time": "2019-11-18T12:18:14.382167Z"
    }
   },
   "outputs": [
    {
     "data": {
      "image/png": "[encoded data removed]",
      "text/plain": [
       "<Figure size 432x288 with 1 Axes>"
      ]
     },
     "metadata": {
      "needs_background": "light"
     },
     "output_type": "display_data"
    }
   ],
   "source": [
    "# Lets see a random image\n",
    "random_sample = x_train_gr_smpl.sample(1)\n",
    "random_sample_index = random_sample.index.values[0] # We'll need this later\n",
    "\n",
    "visualize_image(random_sample, plt)"
   ]
  },
  {
   "cell_type": "markdown",
   "metadata": {},
   "source": [
    "After we concatenate the labels to the features and instances, we can confirm what this image was using the index."
   ]
  },
  {
   "cell_type": "markdown",
   "metadata": {},
   "source": [
    "# DATA PREPARATION"
   ]
  },
  {
   "cell_type": "markdown",
   "metadata": {},
   "source": [
    "Lets first concantenate the labels to the instances and features as one big dataframe."
   ]
  },
  {
   "cell_type": "code",
   "execution_count": 14,
   "metadata": {
    "ExecuteTime": {
     "end_time": "2019-11-18T12:18:23.341549Z",
     "start_time": "2019-11-18T12:18:23.337773Z"
    }
   },
   "outputs": [],
   "source": [
    "# First the function to generate a list of label dataframes, which we will the concatanate one by one to the \n",
    "# instances and features dataframe\n",
    "\n",
    "def generate_label_dfs():\n",
    "    dataframes = []\n",
    "    for k,v in labels_transient.items():\n",
    "        # Set column label\n",
    "        v.columns = [k[0]]\n",
    "        # Convert 1s to the original label and leave 0s as 0s\n",
    "        v.loc[v[k[0]] == 1, k[0]] = k[1]\n",
    "        # And append the new df to the master df\n",
    "        dataframes.append(v)\n",
    "    return dataframes"
   ]
  },
  {
   "cell_type": "code",
   "execution_count": 15,
   "metadata": {
    "ExecuteTime": {
     "end_time": "2019-11-18T12:18:28.344274Z",
     "start_time": "2019-11-18T12:18:24.428206Z"
    }
   },
   "outputs": [],
   "source": [
    "# Now the concatenation\n",
    "import pandas as pd\n",
    "\n",
    "working_dataframe = x_train_gr_smpl\n",
    "for label_df in generate_label_dfs():\n",
    "    working_dataframe = pd.concat([working_dataframe, label_df], axis=1)"
   ]
  },
  {
   "cell_type": "code",
   "execution_count": 16,
   "metadata": {
    "ExecuteTime": {
     "end_time": "2019-11-18T12:18:28.369440Z",
     "start_time": "2019-11-18T12:18:28.346357Z"
    }
   },
   "outputs": [
    {
     "data": {
      "text/html": [
       "<div>\n",
       "<style scoped>\n",
       "    .dataframe tbody tr th:only-of-type {\n",
       "        vertical-align: middle;\n",
       "    }\n",
       "\n",
       "    .dataframe tbody tr th {\n",
       "        vertical-align: top;\n",
       "    }\n",
       "\n",
       "    .dataframe thead th {\n",
       "        text-align: right;\n",
       "    }\n",
       "</style>\n",
       "<table border=\"1\" class=\"dataframe\">\n",
       "  <thead>\n",
       "    <tr style=\"text-align: right;\">\n",
       "      <th></th>\n",
       "      <th>0</th>\n",
       "      <th>1</th>\n",
       "      <th>2</th>\n",
       "      <th>3</th>\n",
       "      <th>4</th>\n",
       "      <th>5</th>\n",
       "      <th>6</th>\n",
       "      <th>7</th>\n",
       "      <th>8</th>\n",
       "      <th>9</th>\n",
       "      <th>...</th>\n",
       "      <th>speed_limit_60</th>\n",
       "      <th>speed_limit_80</th>\n",
       "      <th>speed_limit_80_lifted</th>\n",
       "      <th>right_of_way_crossing</th>\n",
       "      <th>right_of_way_general</th>\n",
       "      <th>give_way</th>\n",
       "      <th>stop</th>\n",
       "      <th>no_speed_limit_general</th>\n",
       "      <th>turn_right_down</th>\n",
       "      <th>turn_left_down</th>\n",
       "    </tr>\n",
       "  </thead>\n",
       "  <tbody>\n",
       "    <tr>\n",
       "      <th>0</th>\n",
       "      <td>30</td>\n",
       "      <td>29</td>\n",
       "      <td>28</td>\n",
       "      <td>29</td>\n",
       "      <td>31</td>\n",
       "      <td>30</td>\n",
       "      <td>29</td>\n",
       "      <td>28</td>\n",
       "      <td>27</td>\n",
       "      <td>26</td>\n",
       "      <td>...</td>\n",
       "      <td>0</td>\n",
       "      <td>5</td>\n",
       "      <td>6</td>\n",
       "      <td>11</td>\n",
       "      <td>12</td>\n",
       "      <td>13</td>\n",
       "      <td>14</td>\n",
       "      <td>32</td>\n",
       "      <td>38</td>\n",
       "      <td>39</td>\n",
       "    </tr>\n",
       "    <tr>\n",
       "      <th>1</th>\n",
       "      <td>31</td>\n",
       "      <td>31</td>\n",
       "      <td>33</td>\n",
       "      <td>32</td>\n",
       "      <td>31</td>\n",
       "      <td>30</td>\n",
       "      <td>29</td>\n",
       "      <td>28</td>\n",
       "      <td>28</td>\n",
       "      <td>28</td>\n",
       "      <td>...</td>\n",
       "      <td>0</td>\n",
       "      <td>5</td>\n",
       "      <td>6</td>\n",
       "      <td>11</td>\n",
       "      <td>12</td>\n",
       "      <td>13</td>\n",
       "      <td>14</td>\n",
       "      <td>32</td>\n",
       "      <td>38</td>\n",
       "      <td>39</td>\n",
       "    </tr>\n",
       "    <tr>\n",
       "      <th>2</th>\n",
       "      <td>30</td>\n",
       "      <td>30</td>\n",
       "      <td>31</td>\n",
       "      <td>29</td>\n",
       "      <td>28</td>\n",
       "      <td>27</td>\n",
       "      <td>26</td>\n",
       "      <td>28</td>\n",
       "      <td>30</td>\n",
       "      <td>31</td>\n",
       "      <td>...</td>\n",
       "      <td>0</td>\n",
       "      <td>5</td>\n",
       "      <td>6</td>\n",
       "      <td>11</td>\n",
       "      <td>12</td>\n",
       "      <td>13</td>\n",
       "      <td>14</td>\n",
       "      <td>32</td>\n",
       "      <td>38</td>\n",
       "      <td>39</td>\n",
       "    </tr>\n",
       "    <tr>\n",
       "      <th>3</th>\n",
       "      <td>26</td>\n",
       "      <td>25</td>\n",
       "      <td>24</td>\n",
       "      <td>24</td>\n",
       "      <td>24</td>\n",
       "      <td>27</td>\n",
       "      <td>28</td>\n",
       "      <td>29</td>\n",
       "      <td>29</td>\n",
       "      <td>30</td>\n",
       "      <td>...</td>\n",
       "      <td>0</td>\n",
       "      <td>5</td>\n",
       "      <td>6</td>\n",
       "      <td>11</td>\n",
       "      <td>12</td>\n",
       "      <td>13</td>\n",
       "      <td>14</td>\n",
       "      <td>32</td>\n",
       "      <td>38</td>\n",
       "      <td>39</td>\n",
       "    </tr>\n",
       "    <tr>\n",
       "      <th>4</th>\n",
       "      <td>25</td>\n",
       "      <td>26</td>\n",
       "      <td>28</td>\n",
       "      <td>28</td>\n",
       "      <td>28</td>\n",
       "      <td>28</td>\n",
       "      <td>28</td>\n",
       "      <td>27</td>\n",
       "      <td>26</td>\n",
       "      <td>25</td>\n",
       "      <td>...</td>\n",
       "      <td>0</td>\n",
       "      <td>5</td>\n",
       "      <td>6</td>\n",
       "      <td>11</td>\n",
       "      <td>12</td>\n",
       "      <td>13</td>\n",
       "      <td>14</td>\n",
       "      <td>32</td>\n",
       "      <td>38</td>\n",
       "      <td>39</td>\n",
       "    </tr>\n",
       "    <tr>\n",
       "      <th>...</th>\n",
       "      <td>...</td>\n",
       "      <td>...</td>\n",
       "      <td>...</td>\n",
       "      <td>...</td>\n",
       "      <td>...</td>\n",
       "      <td>...</td>\n",
       "      <td>...</td>\n",
       "      <td>...</td>\n",
       "      <td>...</td>\n",
       "      <td>...</td>\n",
       "      <td>...</td>\n",
       "      <td>...</td>\n",
       "      <td>...</td>\n",
       "      <td>...</td>\n",
       "      <td>...</td>\n",
       "      <td>...</td>\n",
       "      <td>...</td>\n",
       "      <td>...</td>\n",
       "      <td>...</td>\n",
       "      <td>...</td>\n",
       "      <td>...</td>\n",
       "    </tr>\n",
       "    <tr>\n",
       "      <th>12655</th>\n",
       "      <td>8</td>\n",
       "      <td>8</td>\n",
       "      <td>7</td>\n",
       "      <td>7</td>\n",
       "      <td>8</td>\n",
       "      <td>8</td>\n",
       "      <td>8</td>\n",
       "      <td>8</td>\n",
       "      <td>8</td>\n",
       "      <td>8</td>\n",
       "      <td>...</td>\n",
       "      <td>3</td>\n",
       "      <td>5</td>\n",
       "      <td>6</td>\n",
       "      <td>11</td>\n",
       "      <td>12</td>\n",
       "      <td>13</td>\n",
       "      <td>14</td>\n",
       "      <td>32</td>\n",
       "      <td>38</td>\n",
       "      <td>0</td>\n",
       "    </tr>\n",
       "    <tr>\n",
       "      <th>12656</th>\n",
       "      <td>7</td>\n",
       "      <td>7</td>\n",
       "      <td>8</td>\n",
       "      <td>8</td>\n",
       "      <td>9</td>\n",
       "      <td>8</td>\n",
       "      <td>8</td>\n",
       "      <td>9</td>\n",
       "      <td>8</td>\n",
       "      <td>9</td>\n",
       "      <td>...</td>\n",
       "      <td>3</td>\n",
       "      <td>5</td>\n",
       "      <td>6</td>\n",
       "      <td>11</td>\n",
       "      <td>12</td>\n",
       "      <td>13</td>\n",
       "      <td>14</td>\n",
       "      <td>32</td>\n",
       "      <td>38</td>\n",
       "      <td>0</td>\n",
       "    </tr>\n",
       "    <tr>\n",
       "      <th>12657</th>\n",
       "      <td>9</td>\n",
       "      <td>10</td>\n",
       "      <td>9</td>\n",
       "      <td>9</td>\n",
       "      <td>9</td>\n",
       "      <td>9</td>\n",
       "      <td>11</td>\n",
       "      <td>10</td>\n",
       "      <td>10</td>\n",
       "      <td>10</td>\n",
       "      <td>...</td>\n",
       "      <td>3</td>\n",
       "      <td>5</td>\n",
       "      <td>6</td>\n",
       "      <td>11</td>\n",
       "      <td>12</td>\n",
       "      <td>13</td>\n",
       "      <td>14</td>\n",
       "      <td>32</td>\n",
       "      <td>38</td>\n",
       "      <td>0</td>\n",
       "    </tr>\n",
       "    <tr>\n",
       "      <th>12658</th>\n",
       "      <td>8</td>\n",
       "      <td>7</td>\n",
       "      <td>6</td>\n",
       "      <td>6</td>\n",
       "      <td>6</td>\n",
       "      <td>6</td>\n",
       "      <td>7</td>\n",
       "      <td>6</td>\n",
       "      <td>6</td>\n",
       "      <td>6</td>\n",
       "      <td>...</td>\n",
       "      <td>3</td>\n",
       "      <td>5</td>\n",
       "      <td>6</td>\n",
       "      <td>11</td>\n",
       "      <td>12</td>\n",
       "      <td>13</td>\n",
       "      <td>14</td>\n",
       "      <td>32</td>\n",
       "      <td>38</td>\n",
       "      <td>0</td>\n",
       "    </tr>\n",
       "    <tr>\n",
       "      <th>12659</th>\n",
       "      <td>8</td>\n",
       "      <td>7</td>\n",
       "      <td>6</td>\n",
       "      <td>6</td>\n",
       "      <td>6</td>\n",
       "      <td>6</td>\n",
       "      <td>8</td>\n",
       "      <td>8</td>\n",
       "      <td>9</td>\n",
       "      <td>10</td>\n",
       "      <td>...</td>\n",
       "      <td>3</td>\n",
       "      <td>5</td>\n",
       "      <td>6</td>\n",
       "      <td>11</td>\n",
       "      <td>12</td>\n",
       "      <td>13</td>\n",
       "      <td>14</td>\n",
       "      <td>32</td>\n",
       "      <td>38</td>\n",
       "      <td>0</td>\n",
       "    </tr>\n",
       "  </tbody>\n",
       "</table>\n",
       "<p>12660 rows × 2314 columns</p>\n",
       "</div>"
      ],
      "text/plain": [
       "        0   1   2   3   4   5   6   7   8   9  ...  speed_limit_60  \\\n",
       "0      30  29  28  29  31  30  29  28  27  26  ...               0   \n",
       "1      31  31  33  32  31  30  29  28  28  28  ...               0   \n",
       "2      30  30  31  29  28  27  26  28  30  31  ...               0   \n",
       "3      26  25  24  24  24  27  28  29  29  30  ...               0   \n",
       "4      25  26  28  28  28  28  28  27  26  25  ...               0   \n",
       "...    ..  ..  ..  ..  ..  ..  ..  ..  ..  ..  ...             ...   \n",
       "12655   8   8   7   7   8   8   8   8   8   8  ...               3   \n",
       "12656   7   7   8   8   9   8   8   9   8   9  ...               3   \n",
       "12657   9  10   9   9   9   9  11  10  10  10  ...               3   \n",
       "12658   8   7   6   6   6   6   7   6   6   6  ...               3   \n",
       "12659   8   7   6   6   6   6   8   8   9  10  ...               3   \n",
       "\n",
       "       speed_limit_80  speed_limit_80_lifted  right_of_way_crossing  \\\n",
       "0                   5                      6                     11   \n",
       "1                   5                      6                     11   \n",
       "2                   5                      6                     11   \n",
       "3                   5                      6                     11   \n",
       "4                   5                      6                     11   \n",
       "...               ...                    ...                    ...   \n",
       "12655               5                      6                     11   \n",
       "12656               5                      6                     11   \n",
       "12657               5                      6                     11   \n",
       "12658               5                      6                     11   \n",
       "12659               5                      6                     11   \n",
       "\n",
       "       right_of_way_general  give_way  stop  no_speed_limit_general  \\\n",
       "0                        12        13    14                      32   \n",
       "1                        12        13    14                      32   \n",
       "2                        12        13    14                      32   \n",
       "3                        12        13    14                      32   \n",
       "4                        12        13    14                      32   \n",
       "...                     ...       ...   ...                     ...   \n",
       "12655                    12        13    14                      32   \n",
       "12656                    12        13    14                      32   \n",
       "12657                    12        13    14                      32   \n",
       "12658                    12        13    14                      32   \n",
       "12659                    12        13    14                      32   \n",
       "\n",
       "       turn_right_down  turn_left_down  \n",
       "0                   38              39  \n",
       "1                   38              39  \n",
       "2                   38              39  \n",
       "3                   38              39  \n",
       "4                   38              39  \n",
       "...                ...             ...  \n",
       "12655               38               0  \n",
       "12656               38               0  \n",
       "12657               38               0  \n",
       "12658               38               0  \n",
       "12659               38               0  \n",
       "\n",
       "[12660 rows x 2314 columns]"
      ]
     },
     "execution_count": 16,
     "metadata": {},
     "output_type": "execute_result"
    }
   ],
   "source": [
    "working_dataframe"
   ]
  },
  {
   "cell_type": "markdown",
   "metadata": {},
   "source": [
    "Done.\n",
    "\n",
    "Now lets see what the label for our previosly visualized dataframe is using it's index:"
   ]
  },
  {
   "cell_type": "code",
   "execution_count": 17,
   "metadata": {
    "ExecuteTime": {
     "end_time": "2019-11-18T12:18:31.839444Z",
     "start_time": "2019-11-18T12:18:31.835766Z"
    }
   },
   "outputs": [],
   "source": [
    "# First separate the labels\n",
    "labels = working_dataframe.iloc[:, 2304:] # All the rows, and columns staring where the last feature ends and the labels begin"
   ]
  },
  {
   "cell_type": "code",
   "execution_count": 18,
   "metadata": {
    "ExecuteTime": {
     "end_time": "2019-11-18T12:18:32.711792Z",
     "start_time": "2019-11-18T12:18:32.707075Z"
    }
   },
   "outputs": [
    {
     "data": {
      "text/plain": [
       "speed_limit_60             3\n",
       "speed_limit_80             5\n",
       "speed_limit_80_lifted      6\n",
       "right_of_way_crossing     11\n",
       "right_of_way_general      12\n",
       "give_way                   0\n",
       "stop                      14\n",
       "no_speed_limit_general    32\n",
       "turn_right_down           38\n",
       "turn_left_down            39\n",
       "Name: 8178, dtype: int64"
      ]
     },
     "execution_count": 18,
     "metadata": {},
     "output_type": "execute_result"
    }
   ],
   "source": [
    "# Now we see what the label for our image is\n",
    "labels.iloc[random_sample_index,:]"
   ]
  },
  {
   "cell_type": "markdown",
   "metadata": {},
   "source": [
    "And there we have it.\n",
    "\n",
    "But we should have one class/target feature column, not 10. So let's fix that. Now that we know the column with a zero is the one that is the label for that instance, we can write some code to replace that 0 with the original label number.\n",
    "\n",
    "Here we go:"
   ]
  },
  {
   "cell_type": "code",
   "execution_count": 19,
   "metadata": {
    "ExecuteTime": {
     "end_time": "2019-11-18T12:19:11.645403Z",
     "start_time": "2019-11-18T12:19:11.641842Z"
    }
   },
   "outputs": [],
   "source": [
    "# First, the label mappings\n",
    "label_mappings = {\n",
    "    \"speed_limit_60\": 3,\n",
    "    \"speed_limit_80\": 5,\n",
    "    \"speed_limit_80_lifted\": 6,\n",
    "    \"right_of_way_crossing\": 11,\n",
    "    \"right_of_way_general\": 12,\n",
    "    \"give_way\": 13,\n",
    "    \"stop\": 14,\n",
    "    \"no_speed_limit_general\": 32,\n",
    "    \"turn_right_down\": 38,\n",
    "    \"turn_left_down\": 39,\n",
    "}"
   ]
  },
  {
   "cell_type": "code",
   "execution_count": 20,
   "metadata": {
    "ExecuteTime": {
     "end_time": "2019-11-18T12:19:12.685658Z",
     "start_time": "2019-11-18T12:19:12.682111Z"
    }
   },
   "outputs": [],
   "source": [
    "# This function will generate the class attribute \"labels\"\n",
    "def make_class_attr():\n",
    "    class_attributes = []\n",
    "    for lb in labels.itertuples():\n",
    "        for l in label_mappings.keys():\n",
    "            if getattr(lb, l) == 0:\n",
    "                class_attributes.append(label_mappings[l])\n",
    "    return class_attributes"
   ]
  },
  {
   "cell_type": "code",
   "execution_count": 21,
   "metadata": {
    "ExecuteTime": {
     "end_time": "2019-11-18T12:19:15.072103Z",
     "start_time": "2019-11-18T12:19:15.026704Z"
    }
   },
   "outputs": [],
   "source": [
    "# Here we go\n",
    "single_column_labels = pd.DataFrame(make_class_attr(), columns=['label'])"
   ]
  },
  {
   "cell_type": "code",
   "execution_count": 22,
   "metadata": {
    "ExecuteTime": {
     "end_time": "2019-11-18T12:19:15.736771Z",
     "start_time": "2019-11-18T12:19:15.729991Z"
    }
   },
   "outputs": [
    {
     "data": {
      "text/html": [
       "<div>\n",
       "<style scoped>\n",
       "    .dataframe tbody tr th:only-of-type {\n",
       "        vertical-align: middle;\n",
       "    }\n",
       "\n",
       "    .dataframe tbody tr th {\n",
       "        vertical-align: top;\n",
       "    }\n",
       "\n",
       "    .dataframe thead th {\n",
       "        text-align: right;\n",
       "    }\n",
       "</style>\n",
       "<table border=\"1\" class=\"dataframe\">\n",
       "  <thead>\n",
       "    <tr style=\"text-align: right;\">\n",
       "      <th></th>\n",
       "      <th>label</th>\n",
       "    </tr>\n",
       "  </thead>\n",
       "  <tbody>\n",
       "    <tr>\n",
       "      <th>0</th>\n",
       "      <td>3</td>\n",
       "    </tr>\n",
       "    <tr>\n",
       "      <th>1</th>\n",
       "      <td>3</td>\n",
       "    </tr>\n",
       "    <tr>\n",
       "      <th>2</th>\n",
       "      <td>3</td>\n",
       "    </tr>\n",
       "    <tr>\n",
       "      <th>3</th>\n",
       "      <td>3</td>\n",
       "    </tr>\n",
       "    <tr>\n",
       "      <th>4</th>\n",
       "      <td>3</td>\n",
       "    </tr>\n",
       "    <tr>\n",
       "      <th>...</th>\n",
       "      <td>...</td>\n",
       "    </tr>\n",
       "    <tr>\n",
       "      <th>12655</th>\n",
       "      <td>39</td>\n",
       "    </tr>\n",
       "    <tr>\n",
       "      <th>12656</th>\n",
       "      <td>39</td>\n",
       "    </tr>\n",
       "    <tr>\n",
       "      <th>12657</th>\n",
       "      <td>39</td>\n",
       "    </tr>\n",
       "    <tr>\n",
       "      <th>12658</th>\n",
       "      <td>39</td>\n",
       "    </tr>\n",
       "    <tr>\n",
       "      <th>12659</th>\n",
       "      <td>39</td>\n",
       "    </tr>\n",
       "  </tbody>\n",
       "</table>\n",
       "<p>12660 rows × 1 columns</p>\n",
       "</div>"
      ],
      "text/plain": [
       "       label\n",
       "0          3\n",
       "1          3\n",
       "2          3\n",
       "3          3\n",
       "4          3\n",
       "...      ...\n",
       "12655     39\n",
       "12656     39\n",
       "12657     39\n",
       "12658     39\n",
       "12659     39\n",
       "\n",
       "[12660 rows x 1 columns]"
      ]
     },
     "execution_count": 22,
     "metadata": {},
     "output_type": "execute_result"
    }
   ],
   "source": [
    "single_column_labels"
   ]
  },
  {
   "cell_type": "code",
   "execution_count": 23,
   "metadata": {
    "ExecuteTime": {
     "end_time": "2019-11-18T12:19:17.696328Z",
     "start_time": "2019-11-18T12:19:17.570057Z"
    }
   },
   "outputs": [],
   "source": [
    "# Now we join that column to the instances and attributes and now we finally have a dataset to feed to our\n",
    "# model\n",
    "dataset = pd.concat([x_train_gr_smpl, single_column_labels], axis=1)"
   ]
  },
  {
   "cell_type": "code",
   "execution_count": 24,
   "metadata": {
    "ExecuteTime": {
     "end_time": "2019-11-18T12:19:18.253840Z",
     "start_time": "2019-11-18T12:19:17.940348Z"
    }
   },
   "outputs": [
    {
     "data": {
      "text/html": [
       "<div>\n",
       "<style scoped>\n",
       "    .dataframe tbody tr th:only-of-type {\n",
       "        vertical-align: middle;\n",
       "    }\n",
       "\n",
       "    .dataframe tbody tr th {\n",
       "        vertical-align: top;\n",
       "    }\n",
       "\n",
       "    .dataframe thead th {\n",
       "        text-align: right;\n",
       "    }\n",
       "</style>\n",
       "<table border=\"1\" class=\"dataframe\">\n",
       "  <thead>\n",
       "    <tr style=\"text-align: right;\">\n",
       "      <th></th>\n",
       "      <th>0</th>\n",
       "      <th>1</th>\n",
       "      <th>2</th>\n",
       "      <th>3</th>\n",
       "      <th>4</th>\n",
       "      <th>5</th>\n",
       "      <th>6</th>\n",
       "      <th>7</th>\n",
       "      <th>8</th>\n",
       "      <th>9</th>\n",
       "      <th>...</th>\n",
       "      <th>2295</th>\n",
       "      <th>2296</th>\n",
       "      <th>2297</th>\n",
       "      <th>2298</th>\n",
       "      <th>2299</th>\n",
       "      <th>2300</th>\n",
       "      <th>2301</th>\n",
       "      <th>2302</th>\n",
       "      <th>2303</th>\n",
       "      <th>label</th>\n",
       "    </tr>\n",
       "  </thead>\n",
       "  <tbody>\n",
       "    <tr>\n",
       "      <th>5303</th>\n",
       "      <td>110</td>\n",
       "      <td>111</td>\n",
       "      <td>135</td>\n",
       "      <td>176</td>\n",
       "      <td>185</td>\n",
       "      <td>183</td>\n",
       "      <td>189</td>\n",
       "      <td>187</td>\n",
       "      <td>185</td>\n",
       "      <td>183</td>\n",
       "      <td>...</td>\n",
       "      <td>254</td>\n",
       "      <td>255</td>\n",
       "      <td>255</td>\n",
       "      <td>255</td>\n",
       "      <td>255</td>\n",
       "      <td>255</td>\n",
       "      <td>255</td>\n",
       "      <td>253</td>\n",
       "      <td>227</td>\n",
       "      <td>12</td>\n",
       "    </tr>\n",
       "    <tr>\n",
       "      <th>11896</th>\n",
       "      <td>88</td>\n",
       "      <td>83</td>\n",
       "      <td>99</td>\n",
       "      <td>131</td>\n",
       "      <td>168</td>\n",
       "      <td>173</td>\n",
       "      <td>216</td>\n",
       "      <td>255</td>\n",
       "      <td>255</td>\n",
       "      <td>255</td>\n",
       "      <td>...</td>\n",
       "      <td>41</td>\n",
       "      <td>43</td>\n",
       "      <td>46</td>\n",
       "      <td>48</td>\n",
       "      <td>51</td>\n",
       "      <td>56</td>\n",
       "      <td>50</td>\n",
       "      <td>41</td>\n",
       "      <td>35</td>\n",
       "      <td>38</td>\n",
       "    </tr>\n",
       "    <tr>\n",
       "      <th>10741</th>\n",
       "      <td>47</td>\n",
       "      <td>71</td>\n",
       "      <td>107</td>\n",
       "      <td>77</td>\n",
       "      <td>48</td>\n",
       "      <td>23</td>\n",
       "      <td>15</td>\n",
       "      <td>15</td>\n",
       "      <td>14</td>\n",
       "      <td>14</td>\n",
       "      <td>...</td>\n",
       "      <td>39</td>\n",
       "      <td>40</td>\n",
       "      <td>41</td>\n",
       "      <td>41</td>\n",
       "      <td>39</td>\n",
       "      <td>41</td>\n",
       "      <td>46</td>\n",
       "      <td>53</td>\n",
       "      <td>57</td>\n",
       "      <td>38</td>\n",
       "    </tr>\n",
       "    <tr>\n",
       "      <th>4830</th>\n",
       "      <td>255</td>\n",
       "      <td>255</td>\n",
       "      <td>255</td>\n",
       "      <td>255</td>\n",
       "      <td>255</td>\n",
       "      <td>255</td>\n",
       "      <td>255</td>\n",
       "      <td>255</td>\n",
       "      <td>255</td>\n",
       "      <td>255</td>\n",
       "      <td>...</td>\n",
       "      <td>26</td>\n",
       "      <td>26</td>\n",
       "      <td>26</td>\n",
       "      <td>26</td>\n",
       "      <td>27</td>\n",
       "      <td>29</td>\n",
       "      <td>29</td>\n",
       "      <td>28</td>\n",
       "      <td>27</td>\n",
       "      <td>11</td>\n",
       "    </tr>\n",
       "    <tr>\n",
       "      <th>9556</th>\n",
       "      <td>84</td>\n",
       "      <td>105</td>\n",
       "      <td>112</td>\n",
       "      <td>112</td>\n",
       "      <td>111</td>\n",
       "      <td>110</td>\n",
       "      <td>114</td>\n",
       "      <td>118</td>\n",
       "      <td>118</td>\n",
       "      <td>117</td>\n",
       "      <td>...</td>\n",
       "      <td>39</td>\n",
       "      <td>39</td>\n",
       "      <td>38</td>\n",
       "      <td>40</td>\n",
       "      <td>40</td>\n",
       "      <td>39</td>\n",
       "      <td>39</td>\n",
       "      <td>44</td>\n",
       "      <td>49</td>\n",
       "      <td>14</td>\n",
       "    </tr>\n",
       "    <tr>\n",
       "      <th>11013</th>\n",
       "      <td>84</td>\n",
       "      <td>134</td>\n",
       "      <td>193</td>\n",
       "      <td>229</td>\n",
       "      <td>170</td>\n",
       "      <td>95</td>\n",
       "      <td>72</td>\n",
       "      <td>72</td>\n",
       "      <td>78</td>\n",
       "      <td>76</td>\n",
       "      <td>...</td>\n",
       "      <td>97</td>\n",
       "      <td>102</td>\n",
       "      <td>108</td>\n",
       "      <td>115</td>\n",
       "      <td>112</td>\n",
       "      <td>105</td>\n",
       "      <td>100</td>\n",
       "      <td>100</td>\n",
       "      <td>102</td>\n",
       "      <td>38</td>\n",
       "    </tr>\n",
       "    <tr>\n",
       "      <th>1790</th>\n",
       "      <td>145</td>\n",
       "      <td>145</td>\n",
       "      <td>147</td>\n",
       "      <td>147</td>\n",
       "      <td>147</td>\n",
       "      <td>146</td>\n",
       "      <td>144</td>\n",
       "      <td>145</td>\n",
       "      <td>145</td>\n",
       "      <td>143</td>\n",
       "      <td>...</td>\n",
       "      <td>50</td>\n",
       "      <td>46</td>\n",
       "      <td>43</td>\n",
       "      <td>40</td>\n",
       "      <td>40</td>\n",
       "      <td>42</td>\n",
       "      <td>47</td>\n",
       "      <td>55</td>\n",
       "      <td>53</td>\n",
       "      <td>5</td>\n",
       "    </tr>\n",
       "  </tbody>\n",
       "</table>\n",
       "<p>7 rows × 2305 columns</p>\n",
       "</div>"
      ],
      "text/plain": [
       "         0    1    2    3    4    5    6    7    8    9  ...  2295  2296  \\\n",
       "5303   110  111  135  176  185  183  189  187  185  183  ...   254   255   \n",
       "11896   88   83   99  131  168  173  216  255  255  255  ...    41    43   \n",
       "10741   47   71  107   77   48   23   15   15   14   14  ...    39    40   \n",
       "4830   255  255  255  255  255  255  255  255  255  255  ...    26    26   \n",
       "9556    84  105  112  112  111  110  114  118  118  117  ...    39    39   \n",
       "11013   84  134  193  229  170   95   72   72   78   76  ...    97   102   \n",
       "1790   145  145  147  147  147  146  144  145  145  143  ...    50    46   \n",
       "\n",
       "       2297  2298  2299  2300  2301  2302  2303  label  \n",
       "5303    255   255   255   255   255   253   227     12  \n",
       "11896    46    48    51    56    50    41    35     38  \n",
       "10741    41    41    39    41    46    53    57     38  \n",
       "4830     26    26    27    29    29    28    27     11  \n",
       "9556     38    40    40    39    39    44    49     14  \n",
       "11013   108   115   112   105   100   100   102     38  \n",
       "1790     43    40    40    42    47    55    53      5  \n",
       "\n",
       "[7 rows x 2305 columns]"
      ]
     },
     "execution_count": 24,
     "metadata": {},
     "output_type": "execute_result"
    }
   ],
   "source": [
    "dataset.sample(7)"
   ]
  },
  {
   "cell_type": "markdown",
   "metadata": {},
   "source": [
    "Let's visualize a couple to make sure they are correctly labeled:"
   ]
  },
  {
   "cell_type": "code",
   "execution_count": 25,
   "metadata": {
    "ExecuteTime": {
     "end_time": "2019-11-18T12:19:21.181282Z",
     "start_time": "2019-11-18T12:19:21.017657Z"
    }
   },
   "outputs": [
    {
     "data": {
      "image/png": "[encoded data removed]",
      "text/plain": [
       "<Figure size 432x288 with 1 Axes>"
      ]
     },
     "metadata": {
      "needs_background": "light"
     },
     "output_type": "display_data"
    }
   ],
   "source": [
    "random_image = dataset.iloc[1989, :2304]\n",
    "visualize_image(random_image, plt)"
   ]
  },
  {
   "cell_type": "code",
   "execution_count": 26,
   "metadata": {
    "ExecuteTime": {
     "end_time": "2019-11-18T12:19:23.779324Z",
     "start_time": "2019-11-18T12:19:23.776516Z"
    }
   },
   "outputs": [],
   "source": [
    "# Now we need to flip the labels dictionary so we can index by the label numbers\n",
    "label_mappings = {v:k for k,v in label_mappings.items()}"
   ]
  },
  {
   "cell_type": "code",
   "execution_count": 27,
   "metadata": {
    "ExecuteTime": {
     "end_time": "2019-11-18T12:19:24.494092Z",
     "start_time": "2019-11-18T12:19:24.489686Z"
    }
   },
   "outputs": [
    {
     "data": {
      "text/plain": [
       "5"
      ]
     },
     "execution_count": 27,
     "metadata": {},
     "output_type": "execute_result"
    }
   ],
   "source": [
    "# Now let's see whats at that label position\n",
    "dataset.iloc[1989, 2304:].values[0]"
   ]
  },
  {
   "cell_type": "code",
   "execution_count": 28,
   "metadata": {
    "ExecuteTime": {
     "end_time": "2019-11-18T12:19:25.542603Z",
     "start_time": "2019-11-18T12:19:25.538995Z"
    }
   },
   "outputs": [
    {
     "name": "stdout",
     "output_type": "stream",
     "text": [
      "speed_limit_80\n"
     ]
    }
   ],
   "source": [
    "# Now let's see which label is 5\n",
    "print(label_mappings[dataset.iloc[1989, 2304:].values[0]])"
   ]
  },
  {
   "cell_type": "markdown",
   "metadata": {},
   "source": [
    "We're good. Onward."
   ]
  },
  {
   "cell_type": "markdown",
   "metadata": {},
   "source": [
    "### Train-Test split"
   ]
  },
  {
   "cell_type": "markdown",
   "metadata": {},
   "source": [
    "This is very important because the model will need to be tested on data it has never seen before, to confirm it's generalizing well (not overfitting; doesn't have high variance)\n",
    "\n",
    "We'll do a 70-30 split, 70% of the dataset for training, and 30% for testing.\n",
    "\n",
    "We will use the excellent [scikit-learn](https://scikit-learn.org/stable/) machine learning library from here on out."
   ]
  },
  {
   "cell_type": "code",
   "execution_count": 29,
   "metadata": {
    "ExecuteTime": {
     "end_time": "2019-11-18T12:19:49.818405Z",
     "start_time": "2019-11-18T12:19:29.553168Z"
    }
   },
   "outputs": [],
   "source": [
    "# First we import the train_test_split function\n",
    "from sklearn.model_selection import train_test_split"
   ]
  },
  {
   "cell_type": "code",
   "execution_count": 30,
   "metadata": {
    "ExecuteTime": {
     "end_time": "2019-11-18T12:19:53.404323Z",
     "start_time": "2019-11-18T12:19:53.400313Z"
    }
   },
   "outputs": [],
   "source": [
    "# Create labels and instances&features numpy arrays (scikit-learn mostly works with numpy arrays)\n",
    "instances_features = dataset.iloc[:, :-1].values\n",
    "labels = dataset['label'].values"
   ]
  },
  {
   "cell_type": "code",
   "execution_count": 31,
   "metadata": {
    "ExecuteTime": {
     "end_time": "2019-11-18T12:19:55.587622Z",
     "start_time": "2019-11-18T12:19:54.392292Z"
    }
   },
   "outputs": [],
   "source": [
    "# And do a stratified 70/30 train-test split\n",
    "X_train, X_test, y_train, y_test = train_test_split(\n",
    "    instances_features,\n",
    "    labels,\n",
    "    # (70 30)% split\n",
    "    test_size=0.3,\n",
    "    # We want it stratified, labels equally distributed in the training and test datasets\n",
    "    stratify=labels\n",
    ")"
   ]
  },
  {
   "cell_type": "markdown",
   "metadata": {},
   "source": [
    "The data is stratified and shuffled before splitting."
   ]
  },
  {
   "cell_type": "markdown",
   "metadata": {},
   "source": [
    "## Correlation"
   ]
  },
  {
   "cell_type": "markdown",
   "metadata": {
    "ExecuteTime": {
     "end_time": "2019-11-09T15:21:49.635718Z",
     "start_time": "2019-11-09T15:21:49.633211Z"
    }
   },
   "source": [
    "## Feature Selection"
   ]
  },
  {
   "cell_type": "markdown",
   "metadata": {},
   "source": [
    "I did many of experiments (please see jupyter notebook <b>4_actual - Classification -- Performance of the Naive Bayes algorithm on the given data set</b> inside the scratch-pad folder for the experiments) to find out which automated feature selector would select the best features. Analysis of variace didn't work very well, at best producing a 39% accuracy dataset with 20% of the features using the SelectPercentile autoselector.\n",
    "\n",
    "A model based selector using a RandomForest classifier with 100 tree worked well. We'll reproduce it below:"
   ]
  },
  {
   "cell_type": "code",
   "execution_count": 32,
   "metadata": {
    "ExecuteTime": {
     "end_time": "2019-11-18T12:20:00.074167Z",
     "start_time": "2019-11-18T12:20:00.007467Z"
    }
   },
   "outputs": [],
   "source": [
    "from sklearn.feature_selection import SelectFromModel\n",
    "from sklearn.ensemble import RandomForestClassifier\n",
    "import numpy as np"
   ]
  },
  {
   "cell_type": "code",
   "execution_count": 33,
   "metadata": {
    "ExecuteTime": {
     "end_time": "2019-11-18T12:20:02.044180Z",
     "start_time": "2019-11-18T12:20:02.040672Z"
    }
   },
   "outputs": [],
   "source": [
    "selector = SelectFromModel(\n",
    "        RandomForestClassifier(\n",
    "        n_estimators=100, # Chose this purely randomly\n",
    "        random_state=1337, # deterministic randomization (oxymoron?)\n",
    "        n_jobs=4, # I have 4 cores\n",
    "    ),\n",
    "    # produces 25% of the best features (mean is the mean of feature importances)\n",
    "    # threshold=\"0.8*mean\", It turns out this keeps varrying, so I'll set a hard limit at 25%\n",
    "    threshold=-np.inf, # Disables threshold, so we can hard set a limit\n",
    "    max_features=round((X_train.shape[1] * 25) / 100) # 25%\n",
    "    # From the experiment, 25% of the best features produced the best accuracy\n",
    ")"
   ]
  },
  {
   "cell_type": "code",
   "execution_count": 34,
   "metadata": {
    "ExecuteTime": {
     "end_time": "2019-11-18T12:20:07.640006Z",
     "start_time": "2019-11-18T12:20:02.935732Z"
    }
   },
   "outputs": [
    {
     "data": {
      "text/plain": [
       "SelectFromModel(estimator=RandomForestClassifier(bootstrap=True,\n",
       "                                                 class_weight=None,\n",
       "                                                 criterion='gini',\n",
       "                                                 max_depth=None,\n",
       "                                                 max_features='auto',\n",
       "                                                 max_leaf_nodes=None,\n",
       "                                                 min_impurity_decrease=0.0,\n",
       "                                                 min_impurity_split=None,\n",
       "                                                 min_samples_leaf=1,\n",
       "                                                 min_samples_split=2,\n",
       "                                                 min_weight_fraction_leaf=0.0,\n",
       "                                                 n_estimators=100, n_jobs=4,\n",
       "                                                 oob_score=False,\n",
       "                                                 random_state=1337, verbose=0,\n",
       "                                                 warm_start=False),\n",
       "                max_features=576, norm_order=1, prefit=False, threshold=-inf)"
      ]
     },
     "execution_count": 34,
     "metadata": {},
     "output_type": "execute_result"
    }
   ],
   "source": [
    "selector.fit(X_train, y_train)"
   ]
  },
  {
   "cell_type": "code",
   "execution_count": 35,
   "metadata": {
    "ExecuteTime": {
     "end_time": "2019-11-18T12:20:09.298019Z",
     "start_time": "2019-11-18T12:20:09.119368Z"
    }
   },
   "outputs": [],
   "source": [
    "X_train_selected = selector.transform(X_train)"
   ]
  },
  {
   "cell_type": "code",
   "execution_count": 36,
   "metadata": {
    "ExecuteTime": {
     "end_time": "2019-11-18T12:20:09.883693Z",
     "start_time": "2019-11-18T12:20:09.880366Z"
    }
   },
   "outputs": [
    {
     "data": {
      "text/plain": [
       "(8862, 576)"
      ]
     },
     "execution_count": 36,
     "metadata": {},
     "output_type": "execute_result"
    }
   ],
   "source": [
    "# How many features selected, and which ones?\n",
    "X_train_selected.shape"
   ]
  },
  {
   "cell_type": "markdown",
   "metadata": {},
   "source": [
    "We have 25% of the best features for our images. Let's proceed to the classifier."
   ]
  },
  {
   "cell_type": "markdown",
   "metadata": {},
   "source": [
    "# CLASSIFICATION"
   ]
  },
  {
   "cell_type": "markdown",
   "metadata": {},
   "source": [
    "## Naïve Bayes"
   ]
  },
  {
   "cell_type": "markdown",
   "metadata": {},
   "source": [
    "In my experiments, I tried using Guassian Naive Bayes (GuassainNB). This did not produce good results. Complement Naive Bayes (ComplementNB) produced the best results. This is no surprise as it works best with imbalanced data, where some classes have waay more instances than others.\n",
    "\n",
    "Do we have imbalanced data? Let's find out."
   ]
  },
  {
   "cell_type": "code",
   "execution_count": 37,
   "metadata": {
    "ExecuteTime": {
     "end_time": "2019-11-18T12:20:14.826882Z",
     "start_time": "2019-11-18T12:20:14.815595Z"
    }
   },
   "outputs": [
    {
     "name": "stdout",
     "output_type": "stream",
     "text": [
      "Name                      Label    Frequency\n",
      "----------------------  -------  -----------\n",
      "give_way                     13         2160\n",
      "right_of_way_general         12         2100\n",
      "turn_right_down              38         2070\n",
      "speed_limit_80                5         1860\n",
      "speed_limit_60                3         1410\n",
      "right_of_way_crossing        11         1320\n",
      "stop                         14          780\n",
      "speed_limit_80_lifted         6          420\n",
      "turn_left_down               39          300\n",
      "no_speed_limit_general       32          240\n"
     ]
    }
   ],
   "source": [
    "# Count frequency of labels\n",
    "from tabulate import tabulate\n",
    "\n",
    "table = []\n",
    "for label_frequency in dataset['label'].value_counts().iteritems():\n",
    "    # Print a table: Name, Label, Frequency\n",
    "    table.append([label_mappings[label_frequency[0]], label_frequency[0], label_frequency[1]])\n",
    "\n",
    "print(tabulate(\n",
    "    table,\n",
    "    headers=[\"Name\", \"Label\", \"Frequency\"]\n",
    "))"
   ]
  },
  {
   "cell_type": "markdown",
   "metadata": {},
   "source": [
    "<b>Extreamly so.</b>"
   ]
  },
  {
   "cell_type": "code",
   "execution_count": 38,
   "metadata": {
    "ExecuteTime": {
     "end_time": "2019-11-18T12:20:18.212017Z",
     "start_time": "2019-11-18T12:20:18.206507Z"
    }
   },
   "outputs": [],
   "source": [
    "# Let's import both classifiers\n",
    "from sklearn.naive_bayes import ComplementNB"
   ]
  },
  {
   "cell_type": "code",
   "execution_count": 39,
   "metadata": {
    "ExecuteTime": {
     "end_time": "2019-11-18T12:20:19.073757Z",
     "start_time": "2019-11-18T12:20:19.071336Z"
    }
   },
   "outputs": [],
   "source": [
    "complement_naive_bayes = ComplementNB()"
   ]
  },
  {
   "cell_type": "code",
   "execution_count": 40,
   "metadata": {
    "ExecuteTime": {
     "end_time": "2019-11-18T12:20:19.585450Z",
     "start_time": "2019-11-18T12:20:19.544944Z"
    }
   },
   "outputs": [
    {
     "data": {
      "text/plain": [
       "ComplementNB(alpha=1.0, class_prior=None, fit_prior=True, norm=False)"
      ]
     },
     "execution_count": 40,
     "metadata": {},
     "output_type": "execute_result"
    }
   ],
   "source": [
    "# Let's train the model\n",
    "complement_naive_bayes.fit(X_train_selected, y_train)"
   ]
  },
  {
   "cell_type": "code",
   "execution_count": 41,
   "metadata": {
    "ExecuteTime": {
     "end_time": "2019-11-18T12:20:20.328198Z",
     "start_time": "2019-11-18T12:20:20.191859Z"
    }
   },
   "outputs": [],
   "source": [
    "# Select the test set with the model selector\n",
    "X_test_selected = selector.transform(X_test)"
   ]
  },
  {
   "cell_type": "code",
   "execution_count": 42,
   "metadata": {
    "ExecuteTime": {
     "end_time": "2019-11-18T12:20:20.897376Z",
     "start_time": "2019-11-18T12:20:20.878890Z"
    }
   },
   "outputs": [
    {
     "data": {
      "text/plain": [
       "0.7114270668773038"
      ]
     },
     "execution_count": 42,
     "metadata": {},
     "output_type": "execute_result"
    }
   ],
   "source": [
    "# Now we test the model with data it has never seen before. This will tell us if it generalized well.\n",
    "complement_naive_bayes.score(X_test_selected, y_test)"
   ]
  },
  {
   "cell_type": "markdown",
   "metadata": {},
   "source": [
    "71% accuracy.\n",
    "\n",
    "And what are the actual predictions?"
   ]
  },
  {
   "cell_type": "code",
   "execution_count": 43,
   "metadata": {
    "ExecuteTime": {
     "end_time": "2019-11-18T12:20:39.544289Z",
     "start_time": "2019-11-18T12:20:39.533693Z"
    }
   },
   "outputs": [],
   "source": [
    "predicted = complement_naive_bayes.predict(X_test_selected)"
   ]
  },
  {
   "cell_type": "markdown",
   "metadata": {},
   "source": [
    "### Analysis"
   ]
  },
  {
   "cell_type": "code",
   "execution_count": 44,
   "metadata": {
    "ExecuteTime": {
     "end_time": "2019-11-18T12:20:45.472888Z",
     "start_time": "2019-11-18T12:20:45.470404Z"
    }
   },
   "outputs": [],
   "source": [
    "from sklearn.metrics import (\n",
    "    confusion_matrix,\n",
    "    classification_report\n",
    ")"
   ]
  },
  {
   "cell_type": "markdown",
   "metadata": {},
   "source": [
    "How does the confusion matrix look like?"
   ]
  },
  {
   "cell_type": "code",
   "execution_count": 45,
   "metadata": {
    "ExecuteTime": {
     "end_time": "2019-11-18T12:20:46.916285Z",
     "start_time": "2019-11-18T12:20:46.908748Z"
    }
   },
   "outputs": [
    {
     "data": {
      "text/plain": [
       "array([[ 39, 165,   0,  18,  61, 116,   2,   0,  22,   0],\n",
       "       [  0, 316,   0,  21,  87, 109,   0,   0,  25,   0],\n",
       "       [  0,   0,   0,   1, 125,   0,   0,   0,   0,   0],\n",
       "       [  0,   0,   0, 346,  47,   2,   0,   0,   1,   0],\n",
       "       [  0,  18,   0,  18, 574,  20,   0,   0,   0,   0],\n",
       "       [  0,   0,   0,  26,   9, 613,   0,   0,   0,   0],\n",
       "       [  0,   0,   0,   1,   3,   1, 227,   0,   2,   0],\n",
       "       [  0,   2,   0,   1,  65,   0,   0,   0,   4,   0],\n",
       "       [  0,   0,   0,   0,  20,  27,   0,   0, 574,   0],\n",
       "       [  0,   1,   0,   5,  16,  55,   0,   0,   0,  13]])"
      ]
     },
     "execution_count": 45,
     "metadata": {},
     "output_type": "execute_result"
    }
   ],
   "source": [
    "confusion_matrix(y_test, predicted)"
   ]
  },
  {
   "cell_type": "code",
   "execution_count": 46,
   "metadata": {
    "ExecuteTime": {
     "end_time": "2019-11-18T12:20:48.865812Z",
     "start_time": "2019-11-18T12:20:48.852656Z"
    }
   },
   "outputs": [
    {
     "name": "stdout",
     "output_type": "stream",
     "text": [
      "              precision    recall  f1-score   support\n",
      "\n",
      "           3       1.00      0.09      0.17       423\n",
      "           5       0.63      0.57      0.60       558\n",
      "           6       0.00      0.00      0.00       126\n",
      "          11       0.79      0.87      0.83       396\n",
      "          12       0.57      0.91      0.70       630\n",
      "          13       0.65      0.95      0.77       648\n",
      "          14       0.99      0.97      0.98       234\n",
      "          32       0.00      0.00      0.00        72\n",
      "          38       0.91      0.92      0.92       621\n",
      "          39       1.00      0.14      0.25        90\n",
      "\n",
      "    accuracy                           0.71      3798\n",
      "   macro avg       0.65      0.54      0.52      3798\n",
      "weighted avg       0.73      0.71      0.66      3798\n",
      "\n"
     ]
    },
    {
     "name": "stderr",
     "output_type": "stream",
     "text": [
      "/Users/timkofu/.local/share/virtualenvs/F21DLCW-Y6aQsTGC/lib/python3.7/site-packages/sklearn/metrics/classification.py:1437: UndefinedMetricWarning: Precision and F-score are ill-defined and being set to 0.0 in labels with no predicted samples.\n",
      "  'precision', 'predicted', average, warn_for)\n"
     ]
    }
   ],
   "source": [
    "print(classification_report(y_test, predicted))"
   ]
  },
  {
   "cell_type": "markdown",
   "metadata": {},
   "source": [
    "During a recent class, a presenter gleaned that floats computer better, and that estimators like values that are between 0 and 1. As it is, all values are in a fixed range 0-255, so converting them to values between 0-1 (by deviding with the max, does not change the meaning of the numbers, but let's see of the estimator does indeed like that range."
   ]
  },
  {
   "cell_type": "code",
   "execution_count": 47,
   "metadata": {
    "ExecuteTime": {
     "end_time": "2019-11-18T12:20:54.420536Z",
     "start_time": "2019-11-18T12:20:54.237510Z"
    }
   },
   "outputs": [],
   "source": [
    "# Let's devide all values in the dataset by 255 (this also converts all data to floats)\n",
    "instances_features = instances_features / 255"
   ]
  },
  {
   "cell_type": "code",
   "execution_count": 48,
   "metadata": {
    "ExecuteTime": {
     "end_time": "2019-11-18T12:20:56.033957Z",
     "start_time": "2019-11-18T12:20:56.030075Z"
    }
   },
   "outputs": [
    {
     "data": {
      "text/plain": [
       "array([[0.11764706, 0.11372549, 0.10980392, ..., 0.15294118, 0.15294118,\n",
       "        0.14901961],\n",
       "       [0.12156863, 0.12156863, 0.12941176, ..., 0.14901961, 0.14509804,\n",
       "        0.14509804],\n",
       "       [0.11764706, 0.11764706, 0.12156863, ..., 0.14901961, 0.15294118,\n",
       "        0.15686275],\n",
       "       ...,\n",
       "       [0.03529412, 0.03921569, 0.03529412, ..., 0.03921569, 0.03529412,\n",
       "        0.03529412],\n",
       "       [0.03137255, 0.02745098, 0.02352941, ..., 0.03921569, 0.03529412,\n",
       "        0.03529412],\n",
       "       [0.03137255, 0.02745098, 0.02352941, ..., 0.03137255, 0.03529412,\n",
       "        0.03137255]])"
      ]
     },
     "execution_count": 48,
     "metadata": {},
     "output_type": "execute_result"
    }
   ],
   "source": [
    "instances_features"
   ]
  },
  {
   "cell_type": "markdown",
   "metadata": {},
   "source": [
    "Now we do everything else as before"
   ]
  },
  {
   "cell_type": "code",
   "execution_count": 49,
   "metadata": {
    "ExecuteTime": {
     "end_time": "2019-11-18T12:20:58.551227Z",
     "start_time": "2019-11-18T12:20:57.373171Z"
    }
   },
   "outputs": [],
   "source": [
    "X_train, X_test, y_train, y_test = train_test_split(\n",
    "    instances_features,\n",
    "    labels,\n",
    "    # (70 30)% split\n",
    "    test_size=0.3,\n",
    "    # We want it stratified, labels equally distributed in the training and test datasets\n",
    "    stratify=labels\n",
    ")"
   ]
  },
  {
   "cell_type": "code",
   "execution_count": 50,
   "metadata": {
    "ExecuteTime": {
     "end_time": "2019-11-18T12:20:58.557575Z",
     "start_time": "2019-11-18T12:20:58.553282Z"
    }
   },
   "outputs": [],
   "source": [
    "selector = SelectFromModel(\n",
    "        RandomForestClassifier(\n",
    "        n_estimators=100, # Chose this purely randomly\n",
    "        random_state=1337, # deterministic randomization (oxymoron?)\n",
    "        n_jobs=4, # I have 4 cores\n",
    "    ),\n",
    "    # produces 25% of the best features (mean is the mean of feature importances)\n",
    "    # threshold=\"0.8*mean\", It turns out this keeps varrying, so I'll set a hard limit at 25%\n",
    "    threshold=-np.inf, # Disables threshold, so we can hard set a limit\n",
    "    max_features=round((X_train.shape[1] * 25) / 100) # 25%\n",
    "    # From the experiment, 25% of the best features produced the best accuracy\n",
    ")"
   ]
  },
  {
   "cell_type": "code",
   "execution_count": 51,
   "metadata": {
    "ExecuteTime": {
     "end_time": "2019-11-18T12:21:04.111066Z",
     "start_time": "2019-11-18T12:20:59.325994Z"
    }
   },
   "outputs": [
    {
     "data": {
      "text/plain": [
       "SelectFromModel(estimator=RandomForestClassifier(bootstrap=True,\n",
       "                                                 class_weight=None,\n",
       "                                                 criterion='gini',\n",
       "                                                 max_depth=None,\n",
       "                                                 max_features='auto',\n",
       "                                                 max_leaf_nodes=None,\n",
       "                                                 min_impurity_decrease=0.0,\n",
       "                                                 min_impurity_split=None,\n",
       "                                                 min_samples_leaf=1,\n",
       "                                                 min_samples_split=2,\n",
       "                                                 min_weight_fraction_leaf=0.0,\n",
       "                                                 n_estimators=100, n_jobs=4,\n",
       "                                                 oob_score=False,\n",
       "                                                 random_state=1337, verbose=0,\n",
       "                                                 warm_start=False),\n",
       "                max_features=576, norm_order=1, prefit=False, threshold=-inf)"
      ]
     },
     "execution_count": 51,
     "metadata": {},
     "output_type": "execute_result"
    }
   ],
   "source": [
    "selector.fit(X_train, y_train)"
   ]
  },
  {
   "cell_type": "code",
   "execution_count": 52,
   "metadata": {
    "ExecuteTime": {
     "end_time": "2019-11-18T12:21:10.751213Z",
     "start_time": "2019-11-18T12:21:10.557459Z"
    }
   },
   "outputs": [],
   "source": [
    "X_train_selected = selector.transform(X_train)"
   ]
  },
  {
   "cell_type": "code",
   "execution_count": 53,
   "metadata": {
    "ExecuteTime": {
     "end_time": "2019-11-18T12:21:11.231460Z",
     "start_time": "2019-11-18T12:21:11.228972Z"
    }
   },
   "outputs": [],
   "source": [
    "complement_naive_bayes = ComplementNB()"
   ]
  },
  {
   "cell_type": "code",
   "execution_count": 54,
   "metadata": {
    "ExecuteTime": {
     "end_time": "2019-11-18T12:21:11.955098Z",
     "start_time": "2019-11-18T12:21:11.933770Z"
    }
   },
   "outputs": [
    {
     "data": {
      "text/plain": [
       "ComplementNB(alpha=1.0, class_prior=None, fit_prior=True, norm=False)"
      ]
     },
     "execution_count": 54,
     "metadata": {},
     "output_type": "execute_result"
    }
   ],
   "source": [
    "complement_naive_bayes.fit(X_train_selected, y_train)"
   ]
  },
  {
   "cell_type": "code",
   "execution_count": 55,
   "metadata": {
    "ExecuteTime": {
     "end_time": "2019-11-18T12:21:12.811523Z",
     "start_time": "2019-11-18T12:21:12.669430Z"
    }
   },
   "outputs": [],
   "source": [
    "X_test_selected = selector.transform(X_test)"
   ]
  },
  {
   "cell_type": "code",
   "execution_count": 56,
   "metadata": {
    "ExecuteTime": {
     "end_time": "2019-11-18T12:21:13.383543Z",
     "start_time": "2019-11-18T12:21:13.373263Z"
    }
   },
   "outputs": [
    {
     "data": {
      "text/plain": [
       "0.7048446550816219"
      ]
     },
     "execution_count": 56,
     "metadata": {},
     "output_type": "execute_result"
    }
   ],
   "source": [
    "complement_naive_bayes.score(X_test_selected, y_test)"
   ]
  },
  {
   "cell_type": "markdown",
   "metadata": {},
   "source": [
    "As suspected, no difference. Let's have a look at the confusion matrix:"
   ]
  },
  {
   "cell_type": "code",
   "execution_count": 57,
   "metadata": {
    "ExecuteTime": {
     "end_time": "2019-11-18T12:21:15.612463Z",
     "start_time": "2019-11-18T12:21:15.604432Z"
    }
   },
   "outputs": [
    {
     "data": {
      "text/plain": [
       "array([[  3,  62,   0,  40, 120, 114,  22,   0,  61,   1],\n",
       "       [  3,  70,   0,  73, 159, 132,  24,   0,  97,   0],\n",
       "       [  0,  12,   0,  17,  36,  30,   9,   0,  22,   0],\n",
       "       [  8,  47,   0,  51,  97, 105,  24,   0,  62,   2],\n",
       "       [  8,  89,   0,  68, 174, 148,  34,   0, 105,   4],\n",
       "       [  8,  80,   0,  61, 175, 171,  42,   0, 108,   3],\n",
       "       [  1,  35,   0,  27,  63,  52,  13,   0,  43,   0],\n",
       "       [  1,  14,   0,   7,  18,  14,   6,   0,  12,   0],\n",
       "       [  7,  84,   0,  77, 143, 149,  48,   0, 110,   3],\n",
       "       [  0,   9,   0,  16,  22,  28,   7,   0,   8,   0]])"
      ]
     },
     "execution_count": 57,
     "metadata": {},
     "output_type": "execute_result"
    }
   ],
   "source": [
    "confusion_matrix(y_test, predicted)"
   ]
  },
  {
   "cell_type": "markdown",
   "metadata": {},
   "source": [
    "Lots more in the false positives and negatives. And just to confirm, X_train_selected *is* the floats."
   ]
  },
  {
   "cell_type": "code",
   "execution_count": 59,
   "metadata": {
    "ExecuteTime": {
     "end_time": "2019-11-18T12:21:26.464773Z",
     "start_time": "2019-11-18T12:21:26.461348Z"
    }
   },
   "outputs": [
    {
     "data": {
      "text/plain": [
       "array([12,  6, 38, ..., 38, 12,  3])"
      ]
     },
     "execution_count": 59,
     "metadata": {},
     "output_type": "execute_result"
    }
   ],
   "source": [
    "y_test"
   ]
  },
  {
   "cell_type": "code",
   "execution_count": 60,
   "metadata": {
    "ExecuteTime": {
     "end_time": "2019-11-18T12:21:30.192191Z",
     "start_time": "2019-11-18T12:21:30.188044Z"
    }
   },
   "outputs": [
    {
     "data": {
      "text/plain": [
       "array([[0.08627451, 0.08235294, 0.09411765, ..., 0.49019608, 0.47058824,\n",
       "        0.41960784],\n",
       "       [0.14509804, 0.27843137, 0.29411765, ..., 0.05098039, 0.05098039,\n",
       "        0.05882353],\n",
       "       [0.55686275, 0.55294118, 0.54509804, ..., 0.74901961, 0.76078431,\n",
       "        0.58431373],\n",
       "       ...,\n",
       "       [0.38823529, 0.27058824, 0.25098039, ..., 0.29803922, 0.26666667,\n",
       "        0.25098039],\n",
       "       [0.63921569, 0.59215686, 0.58823529, ..., 0.51372549, 0.4627451 ,\n",
       "        0.24705882],\n",
       "       [0.17254902, 0.15686275, 0.17254902, ..., 0.10980392, 0.08627451,\n",
       "        0.06666667]])"
      ]
     },
     "execution_count": 60,
     "metadata": {},
     "output_type": "execute_result"
    }
   ],
   "source": [
    "X_train_selected"
   ]
  },
  {
   "cell_type": "markdown",
   "metadata": {},
   "source": [
    "Finally, we were taught about t-SNE for dimensionality reduction. Let's feed our dataset to it and see if it performs better than the ModelSelector via RandomForest. For this though, I'm scalling them back up to their original 0-255 range."
   ]
  },
  {
   "cell_type": "code",
   "execution_count": 61,
   "metadata": {
    "ExecuteTime": {
     "end_time": "2019-11-18T12:21:32.026885Z",
     "start_time": "2019-11-18T12:21:32.011335Z"
    }
   },
   "outputs": [],
   "source": [
    "from sklearn.manifold import TSNE"
   ]
  },
  {
   "cell_type": "code",
   "execution_count": 62,
   "metadata": {
    "ExecuteTime": {
     "end_time": "2019-11-18T12:21:33.733869Z",
     "start_time": "2019-11-18T12:21:33.730667Z"
    }
   },
   "outputs": [],
   "source": [
    "selector = TSNE(\n",
    "    n_components=3, # Should be less than 4 as \"the barnes_hut algorithm as it relies on quad-tree or oct-tree\".\n",
    "    perplexity=25  # This is a nob type hyperparameter, where trial an error dertmins the best setting\n",
    "    # Starting with 25\n",
    ")"
   ]
  },
  {
   "cell_type": "code",
   "execution_count": 63,
   "metadata": {
    "ExecuteTime": {
     "end_time": "2019-11-18T12:21:34.918857Z",
     "start_time": "2019-11-18T12:21:34.915922Z"
    }
   },
   "outputs": [],
   "source": [
    "# get back the original features and instances\n",
    "instances_features = dataset.iloc[:, :-1].values"
   ]
  },
  {
   "cell_type": "code",
   "execution_count": 64,
   "metadata": {
    "ExecuteTime": {
     "end_time": "2019-11-18T12:21:36.752607Z",
     "start_time": "2019-11-18T12:21:35.563823Z"
    }
   },
   "outputs": [],
   "source": [
    "# Train-test split\n",
    "X_train, X_test, y_train, y_test = train_test_split(\n",
    "    instances_features,\n",
    "    labels,\n",
    "    # (70 30)% split\n",
    "    test_size=0.3,\n",
    "    # We want it stratified, labels equally distributed in the training and test datasets\n",
    "    stratify=labels\n",
    ")"
   ]
  },
  {
   "cell_type": "markdown",
   "metadata": {},
   "source": [
    "Now everything else as before"
   ]
  },
  {
   "cell_type": "code",
   "execution_count": 65,
   "metadata": {
    "ExecuteTime": {
     "end_time": "2019-11-18T12:30:22.349848Z",
     "start_time": "2019-11-18T12:21:38.763381Z"
    }
   },
   "outputs": [],
   "source": [
    "X_train_selected = selector.fit_transform(X_train) # TSNE seems to need to do the fit and transform together"
   ]
  },
  {
   "cell_type": "code",
   "execution_count": 66,
   "metadata": {
    "ExecuteTime": {
     "end_time": "2019-11-18T12:30:22.356605Z",
     "start_time": "2019-11-18T12:30:22.352021Z"
    }
   },
   "outputs": [
    {
     "data": {
      "text/plain": [
       "array([[ 21.058275 , -12.742149 ,  -0.4506951],\n",
       "       [-12.054615 , -16.569088 , -15.791683 ],\n",
       "       [ 30.243029 ,  -2.3374012,  -5.53782  ],\n",
       "       ...,\n",
       "       [  2.0437763,  -6.790947 ,  15.300986 ],\n",
       "       [-12.423821 ,   3.3232546, -10.8429165],\n",
       "       [ 11.9068365, -12.921149 ,  -9.083743 ]], dtype=float32)"
      ]
     },
     "execution_count": 66,
     "metadata": {},
     "output_type": "execute_result"
    }
   ],
   "source": [
    "X_train_selected"
   ]
  },
  {
   "cell_type": "markdown",
   "metadata": {},
   "source": [
    "It has some nagatives. Probability based estimators don't work with values below 0. MinMax will set it between 0 and 1 without losing data meaning."
   ]
  },
  {
   "cell_type": "code",
   "execution_count": 67,
   "metadata": {
    "ExecuteTime": {
     "end_time": "2019-11-18T12:33:19.508767Z",
     "start_time": "2019-11-18T12:33:19.503306Z"
    }
   },
   "outputs": [
    {
     "data": {
      "text/plain": [
       "array([[0.8130759 , 0.24215257, 0.5448753 ],\n",
       "       [0.31102106, 0.17218882, 0.34161386],\n",
       "       [0.9523344 , 0.43237126, 0.4774731 ],\n",
       "       ...,\n",
       "       [0.5247797 , 0.3509519 , 0.75357825],\n",
       "       [0.3054232 , 0.53585887, 0.40718287],\n",
       "       [0.67432255, 0.23888011, 0.43049115]], dtype=float32)"
      ]
     },
     "execution_count": 67,
     "metadata": {},
     "output_type": "execute_result"
    }
   ],
   "source": [
    "from sklearn.preprocessing import MinMaxScaler\n",
    "\n",
    "scaler = MinMaxScaler(copy=False) # In-place scalling\n",
    "\n",
    "scaler.fit_transform(X_train_selected)"
   ]
  },
  {
   "cell_type": "code",
   "execution_count": 68,
   "metadata": {
    "ExecuteTime": {
     "end_time": "2019-11-18T12:33:21.755083Z",
     "start_time": "2019-11-18T12:33:21.751241Z"
    }
   },
   "outputs": [
    {
     "data": {
      "text/plain": [
       "array([[0.8130759 , 0.24215257, 0.5448753 ],\n",
       "       [0.31102106, 0.17218882, 0.34161386],\n",
       "       [0.9523344 , 0.43237126, 0.4774731 ],\n",
       "       ...,\n",
       "       [0.5247797 , 0.3509519 , 0.75357825],\n",
       "       [0.3054232 , 0.53585887, 0.40718287],\n",
       "       [0.67432255, 0.23888011, 0.43049115]], dtype=float32)"
      ]
     },
     "execution_count": 68,
     "metadata": {},
     "output_type": "execute_result"
    }
   ],
   "source": [
    "X_train_selected"
   ]
  },
  {
   "cell_type": "markdown",
   "metadata": {},
   "source": [
    "Now we train CNB"
   ]
  },
  {
   "cell_type": "code",
   "execution_count": 69,
   "metadata": {
    "ExecuteTime": {
     "end_time": "2019-11-18T12:33:24.374811Z",
     "start_time": "2019-11-18T12:33:24.366393Z"
    }
   },
   "outputs": [
    {
     "data": {
      "text/plain": [
       "ComplementNB(alpha=1.0, class_prior=None, fit_prior=True, norm=False)"
      ]
     },
     "execution_count": 69,
     "metadata": {},
     "output_type": "execute_result"
    }
   ],
   "source": [
    "# Use the existing CNB\n",
    "complement_naive_bayes.fit(X_train_selected, y_train)"
   ]
  },
  {
   "cell_type": "code",
   "execution_count": 70,
   "metadata": {
    "ExecuteTime": {
     "end_time": "2019-11-18T12:35:52.335031Z",
     "start_time": "2019-11-18T12:33:25.510423Z"
    }
   },
   "outputs": [],
   "source": [
    "X_test_selected = scaler.fit_transform(selector.fit_transform(X_test)) # Same here"
   ]
  },
  {
   "cell_type": "code",
   "execution_count": 71,
   "metadata": {
    "ExecuteTime": {
     "end_time": "2019-11-18T12:55:08.187946Z",
     "start_time": "2019-11-18T12:55:08.184072Z"
    }
   },
   "outputs": [
    {
     "data": {
      "text/plain": [
       "array([[0.63828826, 0.6038111 , 0.3298388 ],\n",
       "       [0.76947296, 0.4543478 , 0.2728273 ],\n",
       "       [0.6875774 , 0.24181339, 0.54954547],\n",
       "       ...,\n",
       "       [0.2623738 , 0.6102442 , 0.6372343 ],\n",
       "       [0.47285593, 0.35147357, 0.6967731 ],\n",
       "       [0.487378  , 0.7640635 , 0.16363645]], dtype=float32)"
      ]
     },
     "execution_count": 71,
     "metadata": {},
     "output_type": "execute_result"
    }
   ],
   "source": [
    "X_test_selected"
   ]
  },
  {
   "cell_type": "code",
   "execution_count": 72,
   "metadata": {
    "ExecuteTime": {
     "end_time": "2019-11-18T12:55:09.157336Z",
     "start_time": "2019-11-18T12:55:09.151539Z"
    }
   },
   "outputs": [
    {
     "data": {
      "text/plain": [
       "0.13401790416008424"
      ]
     },
     "execution_count": 72,
     "metadata": {},
     "output_type": "execute_result"
    }
   ],
   "source": [
    "complement_naive_bayes.score(X_test_selected, y_test)"
   ]
  },
  {
   "cell_type": "markdown",
   "metadata": {},
   "source": [
    "12% accuracy. TSNE didn't work very well for this dataset."
   ]
  },
  {
   "cell_type": "markdown",
   "metadata": {},
   "source": [
    "# CLUSTERING"
   ]
  },
  {
   "cell_type": "markdown",
   "metadata": {},
   "source": [
    "Clustering finds similar instances and groups them. Here we shall use the k-means clustering algorithm to cluster our dataset."
   ]
  },
  {
   "cell_type": "markdown",
   "metadata": {},
   "source": [
    "## k-means"
   ]
  },
  {
   "cell_type": "markdown",
   "metadata": {},
   "source": [
    "k-means sets a centrod based on the mean of the cluster, and finishes when the instace assignments no longer change."
   ]
  },
  {
   "cell_type": "code",
   "execution_count": 73,
   "metadata": {
    "ExecuteTime": {
     "end_time": "2019-11-18T12:55:17.237453Z",
     "start_time": "2019-11-18T12:55:17.214803Z"
    }
   },
   "outputs": [],
   "source": [
    "from sklearn.cluster import KMeans"
   ]
  },
  {
   "cell_type": "markdown",
   "metadata": {},
   "source": [
    "Okay; so we know we have 10 clusters, (10 labels). Let's tell k-means to look for 10 clusters.\n",
    "\n",
    "What dataset do we feed it though? Being that there is no training here, it's the original instances and attributes."
   ]
  },
  {
   "cell_type": "code",
   "execution_count": 74,
   "metadata": {
    "ExecuteTime": {
     "end_time": "2019-11-18T12:55:19.553672Z",
     "start_time": "2019-11-18T12:55:19.550450Z"
    }
   },
   "outputs": [],
   "source": [
    "instances_features = dataset.iloc[:, :-1].values"
   ]
  },
  {
   "cell_type": "code",
   "execution_count": 75,
   "metadata": {
    "ExecuteTime": {
     "end_time": "2019-11-18T12:55:21.377520Z",
     "start_time": "2019-11-18T12:55:21.374773Z"
    }
   },
   "outputs": [],
   "source": [
    "clusterer = KMeans(n_clusters=10)"
   ]
  },
  {
   "cell_type": "code",
   "execution_count": 76,
   "metadata": {
    "ExecuteTime": {
     "end_time": "2019-11-18T12:55:51.246726Z",
     "start_time": "2019-11-18T12:55:22.782529Z"
    }
   },
   "outputs": [
    {
     "data": {
      "text/plain": [
       "KMeans(algorithm='auto', copy_x=True, init='k-means++', max_iter=300,\n",
       "       n_clusters=10, n_init=10, n_jobs=None, precompute_distances='auto',\n",
       "       random_state=None, tol=0.0001, verbose=0)"
      ]
     },
     "execution_count": 76,
     "metadata": {},
     "output_type": "execute_result"
    }
   ],
   "source": [
    "clusterer.fit(instances_features)"
   ]
  },
  {
   "cell_type": "code",
   "execution_count": 77,
   "metadata": {
    "ExecuteTime": {
     "end_time": "2019-11-18T12:55:51.251809Z",
     "start_time": "2019-11-18T12:55:51.248859Z"
    }
   },
   "outputs": [],
   "source": [
    "# Let's let numpy print the whole array\n",
    "import sys\n",
    "np.set_printoptions(threshold=sys.maxsize)"
   ]
  },
  {
   "cell_type": "code",
   "execution_count": 78,
   "metadata": {
    "ExecuteTime": {
     "end_time": "2019-11-18T12:55:54.072154Z",
     "start_time": "2019-11-18T12:55:53.814459Z"
    }
   },
   "outputs": [],
   "source": [
    "clusters = clusterer.predict(instances_features)"
   ]
  },
  {
   "cell_type": "code",
   "execution_count": 79,
   "metadata": {
    "ExecuteTime": {
     "end_time": "2019-11-18T12:55:55.066366Z",
     "start_time": "2019-11-18T12:55:55.029016Z"
    }
   },
   "outputs": [],
   "source": [
    "# Lets see if this is right\n",
    "# But how do we know which instance is which group?\n",
    "# I wonder if they are in order of the instances?\n",
    "import seaborn as sns\n",
    "sns.set()"
   ]
  },
  {
   "cell_type": "code",
   "execution_count": 80,
   "metadata": {
    "ExecuteTime": {
     "end_time": "2019-11-18T12:55:57.377035Z",
     "start_time": "2019-11-18T12:55:57.117573Z"
    }
   },
   "outputs": [
    {
     "data": {
      "text/plain": [
       "<matplotlib.collections.PathCollection at 0x1223c4a90>"
      ]
     },
     "execution_count": 80,
     "metadata": {},
     "output_type": "execute_result"
    },
    {
     "data": {
      "image/png": "[encoded data removed]",
      "text/plain": [
       "<Figure size 432x288 with 1 Axes>"
      ]
     },
     "metadata": {},
     "output_type": "display_data"
    }
   ],
   "source": [
    "# This shows the location of the clusters\n",
    "centers = clusterer.cluster_centers_\n",
    "plt.scatter(centers[:,0], centers[:,1])"
   ]
  },
  {
   "cell_type": "code",
   "execution_count": 81,
   "metadata": {
    "ExecuteTime": {
     "end_time": "2019-11-18T12:55:59.633943Z",
     "start_time": "2019-11-18T12:55:59.629627Z"
    }
   },
   "outputs": [
    {
     "data": {
      "text/plain": [
       "(array([0, 1, 2, 3, 4, 5, 6, 7, 8, 9], dtype=int32),\n",
       " array([ 727, 1619, 2818,  879,  585, 2727,  466, 1189,  810,  840]))"
      ]
     },
     "execution_count": 81,
     "metadata": {},
     "output_type": "execute_result"
    }
   ],
   "source": [
    "# Frequencies\n",
    "np.unique(clusters, return_counts=True)"
   ]
  },
  {
   "cell_type": "code",
   "execution_count": 82,
   "metadata": {
    "ExecuteTime": {
     "end_time": "2019-11-18T12:56:00.816591Z",
     "start_time": "2019-11-18T12:56:00.812809Z"
    }
   },
   "outputs": [
    {
     "data": {
      "text/plain": [
       "(12660,)"
      ]
     },
     "execution_count": 82,
     "metadata": {},
     "output_type": "execute_result"
    }
   ],
   "source": [
    "clusters.shape"
   ]
  },
  {
   "cell_type": "markdown",
   "metadata": {},
   "source": [
    "This shows the number of instances in each cluster, but how do we know from the labels whether the instances are correctly clustered?"
   ]
  },
  {
   "cell_type": "markdown",
   "metadata": {},
   "source": [
    "### Beyond k-means, tools for computation of optimal number of clusters"
   ]
  },
  {
   "cell_type": "markdown",
   "metadata": {},
   "source": [
    "Can we automatically determin the number of clusters? Let's use the MeanShift algorithm and find out."
   ]
  },
  {
   "cell_type": "code",
   "execution_count": 83,
   "metadata": {
    "ExecuteTime": {
     "end_time": "2019-11-18T13:07:37.139868Z",
     "start_time": "2019-11-18T13:07:37.137363Z"
    }
   },
   "outputs": [],
   "source": [
    "from sklearn.cluster import MeanShift"
   ]
  },
  {
   "cell_type": "code",
   "execution_count": 86,
   "metadata": {
    "ExecuteTime": {
     "end_time": "2019-11-18T13:13:56.331676Z",
     "start_time": "2019-11-18T13:13:56.328320Z"
    }
   },
   "outputs": [],
   "source": [
    "instances_features = dataset.iloc[:, :-1].values"
   ]
  },
  {
   "cell_type": "code",
   "execution_count": 87,
   "metadata": {
    "ExecuteTime": {
     "end_time": "2019-11-18T13:15:03.704090Z",
     "start_time": "2019-11-18T13:15:02.548781Z"
    }
   },
   "outputs": [],
   "source": [
    "# This also needs a train test split\n",
    "X_train, X_test, y_train, y_test = train_test_split(\n",
    "    instances_features,\n",
    "    labels,\n",
    "    # (70 30)% split\n",
    "    test_size=0.3,\n",
    "    # We want it stratified, labels equally distributed in the training and test datasets\n",
    "    stratify=labels\n",
    ")"
   ]
  },
  {
   "cell_type": "code",
   "execution_count": 88,
   "metadata": {
    "ExecuteTime": {
     "end_time": "2019-11-18T13:15:55.357738Z",
     "start_time": "2019-11-18T13:15:11.085583Z"
    }
   },
   "outputs": [],
   "source": [
    "clusters = MeanShift(bandwidth=2).fit(X_train)"
   ]
  },
  {
   "cell_type": "code",
   "execution_count": 85,
   "metadata": {
    "ExecuteTime": {
     "end_time": "2019-11-18T13:12:49.671079Z",
     "start_time": "2019-11-18T13:12:49.635950Z"
    }
   },
   "outputs": [
    {
     "data": {
      "text/plain": [
       "array([ 9317,  9114,  9271, 10041, 10113,  9797, 10302, 10278, 10957,\n",
       "       10999, 11227, 11349, 11069, 11789, 11933, 11719, 11845, 12053,\n",
       "       12157, 12082, 12382, 12097, 11439, 12457, 12338, 12315, 12208,\n",
       "       12241, 11972, 12385,  6158,  5390,  5914,  4979,  2118,  2389,\n",
       "        2430,  2646,  3051,  4091,  5930,  4819,  5093,  6908,  4711,\n",
       "        5081,  5874,  5136,  6274,  7672,  6525,  7440,  4859,  1326,\n",
       "        5769,  3224,  2314,  4747,  5230,  5497,   383,   424,   417,\n",
       "         406,  1130,   813,  2720,  2208,  3043,  5138,  4718,  2458,\n",
       "         627,   413,   395,   389,   349,   386,   457,  5984,  3115,\n",
       "        2939,  6817,  6977,   865,   412,   411,   359,  1074,  1446,\n",
       "        9967,  9969,  9569,  8638,  4729,  3138,  2960,  3554, 10031,\n",
       "       10158, 10346, 10275, 10301, 10334, 10335, 10452, 10647, 10451,\n",
       "       10663, 10796, 10797, 10965, 10993, 10871, 10972, 10854, 10949,\n",
       "        8489,  3221,  3675,  6560,  6925,  7006,  7203,  7556,  6298,\n",
       "        7083,  6634,  6154,  6145,  5800,  5594,  6275,  6149,  5798,\n",
       "        5513,  6524,  7015,  5397,  6043,  6783,  6987,  8942,  7786,\n",
       "        7701, 10260,  9872, 10265,  8476,  7963,  9787,  9438,  7946,\n",
       "        4426,  9634,  9644,  9464,  9494,  9474,  9636,  9778,  9811,\n",
       "        9779,  9612,  5829,  3240,  3992,  9996,  9991,  9952,  9755,\n",
       "        9951,  9825, 10255, 10273,  9963,  6701,  4580, 10506, 10714,\n",
       "        8804,  8891,  9105,  9086,  9537, 10107, 10066,  9556,  9593,\n",
       "        9434, 10020,  9498,  9299,  8589,  8824,  5199,  8041,  7869,\n",
       "        8859,  8746,  9679,  9217,  8887,  8363,  8286,  9054,  8411,\n",
       "        8966,  9315,  8612,  1078,  1079,  1264,  1374,  1510,  1515,\n",
       "        1579,  1646,  1608,  1651,  1703,  1705,  1785,  4951,  2804,\n",
       "        7230,  7351,  9143,  8603,  5111,  3177,  2877,  6618,  1274,\n",
       "        1937,  4696,  7972, 10908, 11453, 12090,    25,    10,    11,\n",
       "          43,    40,    39,    49,    14,    24,    23,  1039,   670,\n",
       "         643,   431,   283,   198,   141,   116,   120,   182,   155,\n",
       "         203,   207,   315,   202,  1671,   589,   175,   172,   173,\n",
       "         636,   136,   730,   655,   201,   218,   220,    82,    72,\n",
       "          73,   110,    76,   230,   252,   294,   436,   664,   844,\n",
       "        4601,  5823,  4898,  2424,   168,   229,   285,   556,   967,\n",
       "        1559,  1452,   243,  9812,  9639,  9638,  9095,  9420,  9246,\n",
       "        8834,  6509,  5859,  6021,  7534,  6257,  1693,   164,    59,\n",
       "         238,   263,   292,   300,   506,   254,   154,   177,   261,\n",
       "         180,   181,   205,   204,   206,   209, 12411, 12404, 12405,\n",
       "       12392, 12483, 12401, 12403, 12389, 12421, 12353, 12335, 12398,\n",
       "       12487, 12209, 12178, 12345, 12469, 12098, 12351, 12380,  4984,\n",
       "        4581,  3518,  5964,  2601,  3854,  3811,  4013,  3599,  1935,\n",
       "          60,    33,     7,    48,    52,    36,    91,    16,    27,\n",
       "          58,    34,    50,    63,    32,    46,    51,   129,    97,\n",
       "         158,   133,   131,   130,   187,   189,   255,   270,   605,\n",
       "         961,  1060,  1160,  8415,  8673,  7926,  6151,  4707,  5107,\n",
       "        6435,  7355,  7193, 10833,  9401, 10632,  9183, 11782, 11641,\n",
       "       11550, 11582, 11652, 11623, 11331, 11559, 11571, 11226, 10801,\n",
       "       11322, 10938,  9313,  8782, 11462, 10085,  8413,  9131,  9415,\n",
       "       10264, 10314,  9799, 10140,  9165,  9447,  9995,  9992, 10133,\n",
       "       10437, 10635, 10276, 10470, 10005, 10350, 10166,  9901, 10655,\n",
       "       10436, 10609, 10651, 11139, 10978, 10943, 10980, 11398, 12086,\n",
       "        7539,  7757,  8784,  7541,  7777,  7981,  8354,  7627,  7767,\n",
       "        7780,  8023,  8136,  8277,  8430,  8692,  8556,  8699,  8825,\n",
       "        8980,  8700,  8866,  8701,  8877,  9076,  8991,  9104,  9489,\n",
       "        9293,  9522, 10080,   289,   276,   245,   193,  1093,   831,\n",
       "         620,   529,   426,   288,   281,   241,    64,   264,   231,\n",
       "          31,    77,    92,    44,    90,   138,  1767,   651,   612,\n",
       "         425,   295,   256,  1107,  2280,  1320,  3911,  2922,  2809,\n",
       "        1744,  1714,  1624,  1622,  1549,  1550,  1618,  1598,  1616,\n",
       "        1606,  1562,  1594,  1623,  1982,  1902,  2038,  1918,  1860,\n",
       "        2203,  2146,  9056,  9072,  2798,  2991,  3136,  3754,  3843,\n",
       "        2268,  2223,  2255,  2188,  2138,  2073,  2079,  2082,  2077,\n",
       "        2023,  1905,  1738,  1762,  1603,  1492,  1444,  1425,  1429,\n",
       "        4194,  1437,  6192,  2112,  1669,  1181,  1150,  1118,  1083,\n",
       "        1038,  1134,   918, 11214, 11078, 11881, 11291, 10920, 11988,\n",
       "       12229, 11769, 12159, 11726, 11259, 11145, 11263, 12214, 11922,\n",
       "        9888, 11615, 12225, 12447, 11919, 11614, 11903, 11949, 12349,\n",
       "       12137, 11781, 11327,  7818, 11671, 11280, 10261,  9789,  9250,\n",
       "        9304,  9102,  9127,  9495,  9311, 10262,  9762, 10042, 10035,\n",
       "       10508, 10491, 10730, 10964, 11225, 10670, 10941, 10674, 10808,\n",
       "       10105, 11267, 11504, 11217, 10785, 11152, 10973, 11477, 10803,\n",
       "       10676, 10815, 10667, 10657, 10495, 10814, 10653, 10660, 10836,\n",
       "       11142, 10881, 10844, 11061, 10800, 10619, 10341, 10664, 10374,\n",
       "       10389, 10805,  9726,  8227,  9784,  9205,  6411,  8398,  5951,\n",
       "        6244,  3273,  1980, 10360, 11022,  9591,  9834, 10727, 11251,\n",
       "       11176, 11420, 11414, 11159, 11636, 11626, 10392, 11746, 11975,\n",
       "       10072, 10764, 11001, 10642, 11289, 11216, 11473, 10903, 10768,\n",
       "       10804,  8667, 10749,  6543,  6557,  8786, 11697, 11362, 11235,\n",
       "       11405, 11160, 10604, 10419,  9577, 10524, 10043, 11112,  9358,\n",
       "        9931, 10456, 10952,  9740, 11113,  8923,  6602,  6092,  3303,\n",
       "        2948,  2215,  2248,  3084,  2206,  2069, 11102,  3287,  2848,\n",
       "       10540, 10321, 10596, 10468, 10432, 10324, 10367, 10445, 10783,\n",
       "       10114,  9939, 10207,  8885, 10217, 10154, 10027,  9705,  9832,\n",
       "       10270,  9861, 11326, 10206, 11197, 11042, 11266, 10450,  8905,\n",
       "        8762,  5464,  6680, 11965, 11779, 11090, 11749, 11831, 11847,\n",
       "       11711, 11892, 11816, 11966, 11856, 12152, 12029, 12116, 12115,\n",
       "       11945, 11566, 11814, 11958, 12092, 11911, 11629, 11260, 10983,\n",
       "       11722, 11731, 11287, 11921, 12067, 12281,  4642,  4822,  5047,\n",
       "        5242,  5352,  5852,  6131,  6203,  6832,  6833,  7010,  6442,\n",
       "        6753,  6922,  7008,  7004,  7208,  7406,  7644,  8113,  8380,\n",
       "        8175,  5958,  5590,  5342,  5707,  5989,  6644,  6829,  8097,\n",
       "        9652,  9473,  9654,  9683,  9640,  9687,  9796, 10155, 10312,\n",
       "       10147,  9981,  9988,  9503,  9648,  9650,  9282,  9653,  9769,\n",
       "        9831,  9819,  9482, 10215, 10201,  9292,  9174,  9989, 10163,\n",
       "       10588, 11558, 10542,  7430,  7789,  7712,  6772,  7309,  7100,\n",
       "        7003,  6398,  6652,  6460,  6332,  5262,  6651,  5978,  5265,\n",
       "        6371,  8262,  7979,  7139,  7520,  5635,  7405,  5480,  5873,\n",
       "        4042,  3475,  2723,  2650,  3674,  3943,   680,   621,   791,\n",
       "        1200,  1071,  2595,  3550,  5565,  5510,  5586,  6082,  6643,\n",
       "        7656,  7030,  7451,  6883,  6061,  8478,  8101,  8538,  9712,\n",
       "       10612, 10249, 10182,  9846, 10095, 10460, 10574, 10862, 10946,\n",
       "         692,   696,   787,   792,  1126,   854,  1158,   858,  1967,\n",
       "        2052,  3140,  1689,   832,  1024,  1137,  2872,  1388,  1908,\n",
       "        3402,  3598,  4725,  6262,  5899,  7260,  3413,  6034,   901,\n",
       "        1486,  1612,  1471, 11203, 11418, 11588, 11747, 11681, 11729,\n",
       "       11246, 11161, 11530, 11029, 10362, 10909, 10873, 10711, 10385,\n",
       "        9836, 10011,  9924, 10428,  9721, 10087, 11109, 10071,  9034,\n",
       "       10522, 10760, 11021, 10744, 11495,  8075,  5410,  5654,  6222,\n",
       "        6840,  5855,  8477,  9081,  8934,  8356,  8498,  9005,  8364,\n",
       "        9234,  8218,  7819,  6495,  3120,  6705,  6322,  3493,  2127,\n",
       "        1628,  1504,  2571,  8613, 10006, 11050,  3391,  1142,  1456,\n",
       "        7427,  7877,  7659,  7896,  8138,  7657,  8552,  8544,  8005,\n",
       "        7980,  8355,  8248,  8182,  7864,  7646,  7754,  7499,  7546,\n",
       "        8309,  8454,  8723,  9011,  9346,  9751,  8959,  9006,  8514,\n",
       "        9285,  8818,  9462,  1397,  1272,   855,   851,    41,    17,\n",
       "          19,    22,    28,    80,   260,   200,   302,   555,   687,\n",
       "        1602,  1000,   196,   117,    65,   122,    93,   101,   157,\n",
       "         132,   134,   100,   115,    99,   265, 10492, 10325, 10083,\n",
       "        9676,  8224,  9103,  9526,  9353,  9852,  7998,  6056,   944,\n",
       "         137,   146,   171,   113,    68,   149,   156,   239,   166,\n",
       "         167,   169,   357,   268,  1175,  1476,  1314,   348,   309,\n",
       "        8561,  8725,  8178,  8009,  7994,  3486,  5773,  4862,  3940,\n",
       "        2213,   219,   195,    87,    85,    54,   125,   148,   112,\n",
       "         153,   165,   151,   126,   150,   162,   253,   210,   179,\n",
       "         213,   308,   694,  2359,  2373,  2394,  2354,  2356,  2310,\n",
       "        2289,  2261,  2946,  2645,  2275,  2098,  1977,  1888,  1872,\n",
       "        1975,  1870,  1736,  1607,  1658,  1650,  1674,  1702,  1808,\n",
       "        1788,  1840,  1969,  2229,  2303,  2263,    37,     2,     4,\n",
       "           1,     0,    12,     5,    18,    13,    21,    15,    29,\n",
       "          26,    53,    57,    35,    42,    81,    61,    62,    84,\n",
       "          83,   128,   170,   236,   215,   208,   342,  1748,  1948,\n",
       "       11701, 11684, 11196, 10509,  9443,  8408,  6906,  6562,  6647,\n",
       "        7423,  7892,  8003,  7852,  7358,  7872,  7629,  8541,  8539,\n",
       "       11046, 10770, 11274, 11272, 12515, 12540, 12508, 12542, 12581,\n",
       "       12594, 12607, 12619,  9272,  8983,  9642,  8987,  8050,  5428,\n",
       "        5559,  7984,  6140,  6378,  4754,  5500,  6573,  5019,  3756,\n",
       "        3586,  4682,  4544,  3219,  3420,  4634,  3532,  3220,  3485,\n",
       "        3202,  3185,  3201,  3103,  3047,  3028,  8420,  8623,  9195,\n",
       "        9542,  9167, 10394, 10172,  9209,  7173,  7846, 11087, 10231,\n",
       "        7816,  9713, 10535, 11224, 11190, 11170, 11016, 11544, 12131,\n",
       "       11858, 12041, 11715, 11741, 12156, 11760, 12258, 12319, 12425,\n",
       "        8742,  8750,  9791,  8749,  8743,  8322, 10559, 11270, 11613,\n",
       "       12342, 12440, 12553, 12590, 12588, 12543, 12520, 12443, 11907,\n",
       "       10232, 11906, 12574, 12578, 12330, 11908, 11910, 12420,  9563,\n",
       "       11825, 11099, 12444,  9810,  9633,  9606, 10195, 10608, 10529,\n",
       "       10315, 10218, 10348, 10517, 10759, 11383,  9923,  9213,  7875,\n",
       "        8727, 10015, 10256, 10104, 10159, 10316, 10684, 11261, 11870,\n",
       "       12075, 12265, 12484, 12423, 12348, 10239,  4679,  5287,  3723,\n",
       "        2905,  2639,  2170,  1970,  2096,  2428,  2172,  3332,  4104,\n",
       "        3566,  4815,  4758,  4287,  3801,  2589,  5018,  5002,  5137,\n",
       "        2812,  5968,  1451,  1445,  1428,  1592,  1597,  1647,  1580,\n",
       "        6015,  4057,  6874,  7206,  6563,  3531,  4816,  4947,  4740,\n",
       "        4300,  4864,  5151,  3041,  2719,  2081,  2080,  2173,  2021,\n",
       "        1946,  1944,  1873,  1789,  1717,  1698,  1733,  1681,  2002,\n",
       "        3055,  3040,  1585,  8861,  7456,  8617,  6295,  9334,  9203,\n",
       "       10034, 10291,  8585, 10304,  8713,  9010,  9483,  8253,  8438,\n",
       "        7442,  6351,  7207,  6263,  6227,  6535,  6458,  6074,  7218,\n",
       "        6737,  6326,  6931,  6282,  5919,  1136,  4377,  4139,  4322,\n",
       "        4221,  4371,  4325,  4269,  4310,  4450,  4378,  4260,  4405,\n",
       "        4315,  4331,  4264,  4140,  3984,  3839,  3696,  3689,  3452,\n",
       "        3297,  3247,  3891,  4499,  3619,  4662,  5455,  6544,  6724,\n",
       "       11000, 10842, 10512, 10847, 10845, 10974, 10725, 10967, 11344,\n",
       "       11369, 11687, 11829, 11786, 11794, 11713, 11887, 11990, 11991,\n",
       "       11863, 12193, 11866, 12057, 12221, 12320, 12332, 12399, 12212,\n",
       "       12242, 12102, 11499,  8547,  8526,  9129,  8985,  9163,  9302,\n",
       "        9286,  9444,  9458,  9277,  9125,  8269,  8257,  9008,  8536,\n",
       "        8416,  8279,  8284,  8276,  8296,  8837,  8611,  7652,  7925,\n",
       "        7417,  8428,  8133,  7967,  8399,  8979,  5910,  5100,  5857,\n",
       "        6068,  6446,  6818,  6279,  6205,  6382,  6825,  6905,  7222,\n",
       "        6934,  7542,  7778,  7643,  8016,  6881,  5184,  6049,  5790,\n",
       "        5718,  6194,  6448,  5991,  6148,  6639,  7098,  5993,  5742,\n",
       "        4077,  4513,  4316,  4511,  4502,  4607,  4914,  5418,  5570,\n",
       "        5572,  4840,  6556,  6526,  6079,  6752,  6748,  6679,  6163,\n",
       "        6917,  7450,  6978,  6850,  7145,  7242,  9588,  9708,  9920,\n",
       "        9904,  9377, 10928,  3977,  4105,  4369,  4272,  4451,  4372,\n",
       "        4114,  4598,  4441,  4702,  4960,  4831,  5140,  5337,  5568,\n",
       "        5653,  5658,  5411,  6005,  4824,  5339,  6537,  6137,  6136,\n",
       "        7080,  7094,  7378,  7796,  6810,  7505,  2794,  2735,  2763,\n",
       "        3226,  4390,  9258,  9934, 10192,  9347,  7384,  6156,  3078,\n",
       "        2551,  2471,  2556,  2911,  3382,  4129,  5490,  8219, 10930,\n",
       "       11540, 10722,  7054, 10701, 10279,  9731,  4206,  5398,  8333,\n",
       "       12426, 12234, 11602, 12305, 12300, 12274, 12394, 12303, 12327,\n",
       "       12384, 12127, 12162, 12363, 11947, 12292,  9365, 11758, 12035,\n",
       "       12223, 12340, 12407, 12409, 12430, 12400, 12376, 12313, 12263,\n",
       "       12475, 12379, 10380,  3182,  3188,  3204,  3313,  6727,  6009,\n",
       "        7651, 10422, 10762, 11584, 11146, 11017, 10683, 11576, 10733,\n",
       "       11503, 10752, 11084,  9933, 10728, 11762, 10415, 10988, 10110,\n",
       "        8730, 11771, 11624, 10747, 10751,  1012,  2427,  2789,  2337,\n",
       "        3333,  3816,  2761,  1949,  2205,  2084,  1828,  1735,  1720,\n",
       "        1686,  1721,  1764,  1932,  1914,  1882,  1850,  2022,  1685,\n",
       "        1635,  1845,  2005,  2044,  2133,  2011,  2548,  2709,  2882,\n",
       "       11685, 11997, 12019, 11527, 12495, 12513, 12231, 12494, 12472,\n",
       "       12547, 12204, 11710, 11984, 11653, 11314, 11536, 12034,  8886,\n",
       "        9962, 11101,  9727,  8131, 12085, 10405, 10563,  9198, 10927,\n",
       "       11570, 12445,  6707, 11158, 11162, 11089, 11955, 11864, 12268,\n",
       "       12003, 11977, 12142, 11070,  9338,  9381,  9911,  9196,  8654,\n",
       "        5638,  6864,  8088,  7482,  8222,  5389,  9088,  9396,  5965,\n",
       "        6892,  9390, 11457,  7461,  5326,  4765,  3130,  3152,  3104,\n",
       "        3134,  3131,  3107,  3128,  3106,  3075,  3108,  3129,  3074,\n",
       "        3068,  3102,  3070,  3067,  3033,  3048,  3035,  3073,  2987,\n",
       "        2955,  2884,  2901,  2839,  2750,  2857,  2843,  2515,  2368,\n",
       "        2943,  2942,  2935,  2941,  2921,  2862,  2861,  2819,  2797,\n",
       "        2746,  2703,  2734,  2698,  2611,  2550,  2535,  2607,  2672,\n",
       "        2686,  2630,  2594,  2779,  2933,  2842,  2820,  2764,  2799,\n",
       "        2902,  3011,  2989,  2433,  2393,  2390,  2371,  2369,  2321,\n",
       "        2270,  2269,  2221,  2218,  2210,  2165,  2075,  2057,  1976,\n",
       "        1928,  1930,  1826,  1772,  1754,  1700,  1743,  1676,  1657,\n",
       "        1560,  1495,  1482,  1491,  1395,  1246,  6937,  4685,  2256,\n",
       "        3063,  2656,  2283,  2803,  3394,  4993,  5780,  5509,  2481,\n",
       "        2204,  2162,  2008,  1992,  1931,  1904,  1903,  1889,  1864,\n",
       "        1807,  1784,  1715,  1684,  1718,  1883,  1825,  2122,  2487,\n",
       "        6843,  7079,  7202,  6992,  6762,  5940,  5843,  5427,  5581,\n",
       "        4961,  3250,  3436,  2417,  2271,  2141,  1934,  1836,  1746,\n",
       "        1649,  1648,  1494,  1525,  1309,   325,   326,   345,   324,\n",
       "         322,   343,  1171,  6989,  6827,  6749,  6658,  7027,  6907,\n",
       "        6784,  7226,  7283,  6991,  7555,  7240,  7383,  7513,  7458,\n",
       "        7372,  6747,  6857,  6998,  7136,  7292,  7082,  7175,  5549,\n",
       "        4483,  5315,  4972,  3236,  2067,  1725,  6744,  6527,  5706,\n",
       "        5778,  6754, 10111,  7934,  9763,  9061,  8048,  9069,  7973,\n",
       "        6951,  9050, 11124,  8502,  8412,  9021,  8244,  8423,  7374,\n",
       "        8127,  9009,  8988,  8733,  8437,  8671,  8137,  8658,  8102,\n",
       "        4185,  4046,  3487,  3789,  3587,  3245,  3758,  4861,  6180,\n",
       "        5275,  4438,  4791,  3222,  5193,  3552,  2722,  4092,  5160,\n",
       "        8339, 10047, 10693, 10539, 10503, 10611, 10251, 11402, 10203,\n",
       "       11126, 10597, 10629,  9674,  9941,  9247,  8994,  8271,  8812,\n",
       "        8820,  8857,  8817,  8879,  9240,  9278,  8964,  8853,  9151,\n",
       "        9160,  9616,  9979,  9776,  9667,  9817, 10156, 10486,  9864,\n",
       "       10220, 10681, 10794, 11053, 10791, 10593,  8724,  9094,  8694,\n",
       "        8266,  8384,  7907,  7766,  7760,  8121,  7883,  8691,  8720,\n",
       "        8695,  8046,  8563,  9484,  9043,  9013,  9041,  9323,  9914,\n",
       "        9330,  8900,  9461,  9440,  8395, 10400, 10297,  9947,  8705,\n",
       "       10144, 10185,  9830,  9925,  9321,  9085,  8063,  9909,  9842,\n",
       "        9958,  8630,  4667,  7096,  6600,  7347,  6186,  7364,  4881,\n",
       "        4584,  9235, 10594,  9204,  7420,  5605,  6225,  9370, 10520,\n",
       "        8973,  8799,  2087,  2688,  2687,  2663,  2669,  2662,  2633,\n",
       "        2512,  2575,  2531,  2437,  2295,  2285,  2316,  2286,  2264,\n",
       "        2240,  2241,  2200,  2108,  1943,  1927,  1699,  1638,  1822,\n",
       "        1620,  1683,  1793,  2047,  2107,  1659, 12362, 12331, 12280,\n",
       "       12071, 11295, 11147, 12245, 12391, 12562, 12432, 12298, 12600,\n",
       "       12072, 11105, 10022,  8970, 12081,  9029, 10687, 12645, 12639,\n",
       "       12637, 12648, 12657, 12646, 12654, 12636, 12561, 12592, 12302,\n",
       "       11191, 11166, 10822, 10883, 11065, 10897, 11300, 11133, 11202,\n",
       "       11514, 11372, 11699, 11688,  6341,  6125, 11531, 11589, 11689,\n",
       "       11486, 11313, 11560, 11532, 11209, 10680, 10442, 11094,  6688,\n",
       "       10754,  8491,  8331, 11601, 11645, 11692, 11487, 11964, 11817,\n",
       "       11379, 11813, 11241, 11257, 11674, 11037, 11836, 11818, 11897,\n",
       "       11815, 11799, 11837, 11928, 11668, 11932, 11638, 11580, 11811,\n",
       "       11661, 11395, 11409, 11390, 11723, 11444,  1596,  1581,  1512,\n",
       "        1535,  1554,  1530,  1493,  1532,  1561,  1577,  2545,  3600,\n",
       "        5334,  7189,  7426,  7755,  7989,  7894,  7137,  6722, 12506,\n",
       "       12539, 12579, 12597, 12573, 12610, 12517, 12566, 12479, 12560,\n",
       "        9686,  9983,  9249,  9453,  8435,  8281,  8433,  8440,  8567,\n",
       "        8871,  8807,  8846,  9279,  9132,  9520, 10168,  9863, 10498,\n",
       "       10717, 11223, 11492, 11354, 11587, 11795, 11849, 11968, 12043,\n",
       "       12013, 12246, 12318, 10184,  9982, 10030, 10025,  9820,  9688,\n",
       "        9448,  9023,  9490,  8996,  9144,  8568,  8549,  8270,  7987,\n",
       "        6821,  5862,  1723,  1463,  1636,  1553,  1511,  1296,  1633,\n",
       "        1270,  1216,  1377,  1443,  1589,  2320, 11520, 11542, 11360,\n",
       "       11339, 11590, 11484, 11233, 11411, 11403, 11258, 11578, 11545,\n",
       "       11238, 11311, 11546, 11517, 11555, 11664, 11730, 11705, 11635,\n",
       "       11999, 11915, 11595, 11835, 11798, 11658, 12009, 11596, 12070,\n",
       "        2265,  2171,  2097,  2101,  2954,  5409,  5587,  5711,  5793,\n",
       "        5861,  5719,  5927,  6058,  6069,  6287,  6548,  6554,  6901,\n",
       "        6923,  7290,  7637,  4020,  6184,  6690,  6234,  7177,  4158,\n",
       "        3676,  3468,  2367,  9658,  9752,  9824,  9409,  9099,  9091,\n",
       "        9273,  7671,  8754,  8910,  9576,  8785,  9709, 10488, 10478,\n",
       "       10464,  9325,  9823,  8503,  9715, 10490,  8328,  4229,  4024,\n",
       "        9055, 10781,  8460, 10410, 10234,  6491, 10307,  9860, 10038,\n",
       "        9976,  9487,  9155,  7491,  6854,  8168,  9239,  8579,  8851,\n",
       "        7333,  9152, 10003,  9518,  9225,  8187,  6390,  7243,  7128,\n",
       "        3894,  3001,  5831,  6738,  5575,  2199,  2603,  1465,  1605,\n",
       "        2119,  2294,  1891,  1660,  1719,  1713,  2070,  3045,  4265,\n",
       "        4061,  3375,  4332,  4430,  5289,  5215,  4699,  3842,  4697,\n",
       "        6293,  4734,  7636,  6852,  7400,  6219,  4009,  5820,  4418,\n",
       "        7720,  8520,  8348,  5181,  4878,  2086,  1936,  1758,  1075,\n",
       "         192,    66,   103,   102,    74,    94,    79,   123,   183,\n",
       "        1505,  9108,  8858,   266,   184,  1100,  1663,  1708,   974,\n",
       "         211,  3165,  8680,  2562,   296,  1335,  8874,  8386,  8299,\n",
       "        7787,  7640,  7424,  7287,  6342,  6130,  6632,  6899,  7112,\n",
       "        6667,  6439,  7749,  8232,  8515,  8191,  7517, 10771, 10339,\n",
       "       10390,  9902,  2695,  2149, 11488, 12582, 11177, 11649, 12599,\n",
       "       10375, 11204, 10915, 11213, 11002, 11824, 11896, 12066, 12190,\n",
       "       12148, 12308, 12390, 12410, 12435, 12531, 12497, 12466, 12462,\n",
       "       11348, 11951, 10607,  9882, 10057, 10544, 10556,  9110, 10518,\n",
       "       10979, 11110, 10606,  7225,  7012,  6740,  6359,  6620,  6760,\n",
       "        7016,  6763,  6912,  7018,  7299,  7843,  8546,  8690,  9488,\n",
       "       10435, 10487,  9467, 10123, 10121, 11916, 11662, 11961, 10209,\n",
       "        8609,  1123,   247,   108,  1047,  2664, 10893, 10835, 10898,\n",
       "       10996, 11014, 11015, 10995, 11167, 10817, 10959, 10716, 11026,\n",
       "       11181, 10958, 10912, 11169, 11064, 11408, 11062, 11347, 11198,\n",
       "       11407, 11509, 11393, 12080, 11926, 11537, 11230, 10902, 11163,\n",
       "        2816,  2859,  2814,  2817,  2780,  2774,  2796,  2733,  3112,\n",
       "        3298,  4236,  6757,  4431,  4231,  7022,  6742,  4639,  5533,\n",
       "        5682,  7089,  7119,  5812,  2689,  2724,  3383,  3879,  4565,\n",
       "        3945,  3089,  5425,  5356,  5591,  4168,  4553,  3433,  3845,\n",
       "        3276,  4176,  3171,  3065,  2440,  2711,  2450,  2372,  2376,\n",
       "        2252,  2293,  2429,  3525,  2377,  2392,  2351,  2306,  2242,\n",
       "        2228,  2262,  2254,  2449,  3502,  3167,  3928,  4033,  4065,\n",
       "        4143,  4108,  4110,  4220,  4275,  4374,  4506,  4547,  4447,\n",
       "        4452,  4501,  4449,  4508,  4218,  4376,  4327,  4596,  4401,\n",
       "        4488,  4460,  4497,  4507,  4500,  4551,  4375,  4457,  3881,\n",
       "       11524, 11675, 11830, 11640, 11784, 11780, 11597, 12002, 11980,\n",
       "       12107, 12155, 12282, 12165, 12123, 12059, 12055, 12012, 12058,\n",
       "       12160, 11755, 11859, 11886, 12095, 11752, 11875, 10738, 11734,\n",
       "       11609, 11328, 10554,  3538,  2054,  2174,  1613,  2853,  2447,\n",
       "        1365,  2055,  1631,   947,   661,  1742,  3308,  4224,  4361,\n",
       "        3902,  4913,  4680,  4541,  3946,  3568,  4100,  2870,  3862,\n",
       "        4635,  5106,  3726,  1938,   540,  4255,  5476,  6007,  5782,\n",
       "        5803,  6073,  6150,  6157,  6819,  6741,  6895,  6545,  6534,\n",
       "        6352,  6372,  6577,  6567,  7737,  7975,  7880,  8236,  7747,\n",
       "        7233,  7810,  8117,  8289,  9237,  8231,  8948,  8192,  9115,\n",
       "        4971,  3609,  3225,  5897,  8082,  8674,  8471,  7052,  4843,\n",
       "        6338,  3728,  2959,  3164,  2811,  3037,  3216,  2653,  2259,\n",
       "        2308,  2239,  2350,  3013,  3310,  2291,  2212,  2266,  2726,\n",
       "        3309,  2815,  4335, 10723, 10640, 10992, 10252,  9314, 10848,\n",
       "       10186,  9433, 10366, 10289,  8357,  9937,  9372,  8771,  5768,\n",
       "       10244, 10750, 11325, 11119, 10745,  6961,  8666, 11768, 11620,\n",
       "       10782, 11264, 12088,  9737,  8197, 10921, 12226, 12270, 11929,\n",
       "       12015, 12022, 12199, 12187, 12185, 11905, 11894, 12108, 11935,\n",
       "       11568, 11775, 12161, 12216, 12096, 12120, 12257, 12304, 12387,\n",
       "       12252, 12198, 12296, 11754, 12044, 11871, 12179, 11879, 11943,\n",
       "       12191, 12018, 12060, 12146, 12174, 11854, 12144, 12163, 12183,\n",
       "       12149, 12173, 12176, 12032, 11939, 11941, 11959, 12014, 11885,\n",
       "       12005, 11851, 11994, 12117, 12118, 12030, 12069, 12026, 12388,\n",
       "       12307, 12316, 12546, 10994, 10846, 11136, 11057, 10669, 10819,\n",
       "       10990, 11009, 10954, 10962, 11187, 10682, 11013, 10799, 10372,\n",
       "       10610, 11143, 11397, 11352, 11018, 10812, 10975, 11059, 10726,\n",
       "       10834, 11284, 11309, 11242, 11201, 10882, 10989, 10204, 10809,\n",
       "       10483, 10601, 10821, 10876, 11007, 10843, 10961, 10792, 10707,\n",
       "       10767, 10618, 10532, 10860, 10536, 10699, 11220, 10384,  9908,\n",
       "        9868, 10388,  9261,  9499, 10298, 10317, 10266,  8493, 11247,\n",
       "       10363, 10589,  9437,  8815,  8083,  7871,  6080,  5543,  7487,\n",
       "        7530,  6939,  4282,  3312,  3732,  6239, 11567, 11665, 11927,\n",
       "       11833, 11843, 11844, 11979, 11981, 11637, 11043, 10623,  6045,\n",
       "        3785,  2307,  3288,  6402,  7141,  4160,  4980,  6952,  8444,\n",
       "        7922,  7245,  7675,  8697,  6786,  6096,  7577,  7148,  7576,\n",
       "        8715,  8962,  8981,  8867,  9223,  9077,  9224,  9082,  9243,\n",
       "        9080,  8507,  9074,  9749,  9965,  9932, 10631,  9068,  8381,\n",
       "        8545,  8293,  8255,  7382,  8447,  7784,  8058,  9316,  7444,\n",
       "        8890,  7668,  7029,  8895,  7665,  7739,  7970,  8779,  8194,\n",
       "        9227,  8170,  9431, 10855, 10894, 10577,  9573,  9113, 10014,\n",
       "        7114,  7201,  6450,  5076,  5259,  4922,  4318,  5130,  4686,\n",
       "        5447,  6267,  6380,  7554,  6830,  7180,  7220,  7186,  7969,\n",
       "        8268,  5415,  7682,  4655,  3119,  3528,  1114,  8830,  1923,\n",
       "        6201,  4266,  4764,   344,   346,   327,   422,   423,   435,\n",
       "         459,   496,   581,   608,   626,   695,   760,   828,   919,\n",
       "        5377,  9137,  8377, 10074, 11396,  8951,  8902,  9188, 10134,\n",
       "        9659,  9671, 10404, 12656, 12306, 12370,  1600,  2064,  2311,\n",
       "         949,  1424,   782,   530,   487,   906,  1951,   825,  1302,\n",
       "         941,   527,   490,  1030,  2197,  3146,  1875,  2466,  1392,\n",
       "         780,   526,  1679,  3957,  3956,  5118,  6317,  4199,  3860,\n",
       "        3151,  3168,  2606,  2335,  2318,  2334,  2353,  2438,  2362,\n",
       "        2395,  2319,  2332,  2290,  2288,  2220,  2251,  2191,  2139,\n",
       "        2076,  2074,  2030,  1978,  1959,  1865,  1846,  1776,  2970,\n",
       "        3331,  1266,  6533,  6455,  6926,  6751,  7026,  7228,  7318,\n",
       "        7865,  8022,  7655,  7751,  7432,  7902,  8018,  8148,  8146,\n",
       "        8159,  8280,  8572,  8315,  9300,  8709,  8868,  9761,  8954,\n",
       "        8722,  8320,  8681,  9480,  8899, 10101, 11168, 11192, 10891,\n",
       "       11012, 10641,  9975,  9626, 10485,  9637,  9410,  9814, 10191,\n",
       "       10466, 10322,  8960, 10705, 10816, 10148, 10336,  8288,  9457,\n",
       "       10150, 10337,  7495,  8008, 10179,  8497,  6060,  4334,  4446,\n",
       "        1340,  1316,  1415,  1479,  1478,  1528,  1858,  3997,  8230,\n",
       "        9849,  9492,  9971, 10310, 10328, 10463, 10433, 10157, 10888,\n",
       "       11583, 11293, 10976, 10977, 11085, 10899, 11874, 11434, 12039,\n",
       "       12093, 11732, 12360, 11828, 11820, 11839, 11740, 11883, 11708,\n",
       "       11840, 11895, 12010, 11891, 12007, 12119, 11996, 12074, 12284,\n",
       "       12079, 12133, 12184, 12025, 11904, 12202, 11456, 12087, 10923,\n",
       "       11882, 11877, 11474, 11442, 11045, 10093, 10353, 10602, 10955,\n",
       "       11179, 10857, 10098,  8350,  7086,  6684,  7511,  7610,  9071,\n",
       "        8829,  9407,  9803,  9519,  9961, 10590, 10176,  8765,  7955,\n",
       "        9574, 11276, 10587,  8480,  7156,  4867,  5808,  8321, 10926,\n",
       "       12301, 12295, 12189, 12188, 12056, 12182, 11973, 12175, 12285,\n",
       "       12147, 12150, 12125, 12181, 12321, 12367, 12329, 12291, 12323,\n",
       "       12347, 12510, 12545, 12437, 12589, 12532, 12569, 12418, 12498,\n",
       "       12489, 12428, 12583,  3657,  2388,  2059,  2121,  2159,  2006,\n",
       "        2484,  3170,  3251,  7453,  7396,  8237,  7525,  3880,  4249,\n",
       "        2236,  4661,  3111,  5057,  6877,  5821,  6396,  4976,  5887,\n",
       "        7822,  8196,  3878,  4850,  9360,  8770,  8527,  8557,  9035,\n",
       "       10039, 10351, 10160, 10525,  9927, 10170, 10431, 10357, 10308,\n",
       "       10906, 10283, 11140, 10710, 10277, 10513,  9348, 11108, 10766,\n",
       "       10560, 10285, 10096,  9486, 10009,  9584,  9918,  9511,  6787,\n",
       "        9412,  8719,  8855,  8698,  8675,  8431,  7923,  8662,  9245,\n",
       "        9012,  9126,  8999,  9497,  9418,  9427,  9768,  9943, 10706,\n",
       "       10429,  9349,  9678, 10054,  8419, 10040, 10729,  9977, 10649,\n",
       "        9663, 10125, 10109, 11178, 11134, 11680, 11556, 11416, 11857,\n",
       "        9341, 12114,  9263,  9264,  9643,  9874, 10444, 10702, 10501,\n",
       "       10905, 10675, 10776, 10547, 10811, 11141, 10515, 10774, 10639,\n",
       "        6958,  7949,  3740,  3876,   282,   224, 11424, 11355, 11175,\n",
       "       11292, 11236, 11376, 11535, 11426, 11563, 11694, 11371, 11553,\n",
       "       11478, 11427, 11591, 11538, 11557, 11445, 11842, 11861, 11422,\n",
       "       12027, 12011, 12091, 12063, 11714, 12211, 12217, 12452, 12322,\n",
       "        8145,  8141,  8167,  7878,  7638,  8112,  7666,  7117,  7616,\n",
       "        8523,  8844,  9442,  9792,  8735,  9589,  9501,  9309,  9596,\n",
       "        9394,  6692,  8689,  8094,  2906,  2752,  3584,  6513,  6555,\n",
       "        4202,  6608,  6421, 11032, 11210, 11138, 11513, 11137, 11361,\n",
       "       11072, 11585, 11586, 11485, 11341, 11511, 11066, 11228, 11067,\n",
       "       11386, 11421, 11607, 11565, 11738, 11656, 11428, 11612, 11876,\n",
       "       11610, 11787, 11430, 12103, 10622, 10562,  6646,  6648,  6739,\n",
       "        6836,  6834,  7023,  7011,  7188,  7116,  7209,  7234,  7526,\n",
       "        7985,  7653,  7740,  7642,  7873,  7866,  7863,  7129,  8139,\n",
       "        7915,  8025,  8007,  8351,  9032,  9604, 10188,  9561, 10592,\n",
       "        4603,  3189,  4948,  3834,  5327,  5816,  6086,  5503,  4353,\n",
       "        3662,  7662,  8712,  8326,  8978,  8369,  9514,  7887,  7498,\n",
       "        8362, 10033, 10196,  3624,  2498,  1609,  3145,  2153,   638,\n",
       "         317,   312,   310, 10007, 10146,  9507,  9865,  9798,  9809,\n",
       "       10045,  9851,  9857,  9919,  9470,  9445,  9525, 10872, 10214,\n",
       "        9922,  9275,  8854,  9788,  9848,  9956,  9000,  8940,  9541,\n",
       "        9912,  9714,  9895,  9622,  6782,  8918,  5010,  5042,  4786,\n",
       "        4748,  4821,  9122, 10474,  7876,  5446, 10968, 10313, 11165,\n",
       "        6777, 11003,  8560,  9681,  5186,  7009,  9280,  5878,  7944,\n",
       "        8810, 10089, 11004, 11024, 11342, 11368, 11470, 11593, 11827,\n",
       "       11129, 10986, 10603, 11051, 11171, 11125, 11189, 11060, 11296,\n",
       "       11207, 11483, 11481, 11650, 11651, 11698, 11702, 11696, 10077,\n",
       "       10748, 11611, 11978, 11273, 11778, 11936, 11460, 12064, 12073,\n",
       "       11621, 11277,  8334,  3751,  5764,  5077,  5691,  4246,  4409,\n",
       "        3865,  3585,  4138,  4908,  4389,  5017,  9668,  8838,  8841,\n",
       "        8162,  5784,  7302,  7438,  6756,  7743, 10319, 11025,  9479,\n",
       "       10656,  9675,  9003,  6428,  2420,  4618,   364,   432,   512,\n",
       "         539,   594,   642,   652,   769,   777,   814,   883,  1001,\n",
       "        2894,   331,   470,   614,   623,   163,   140,  2788,  2111,\n",
       "        2281,  1004,   745,   924,  2947,  2065,  1161,  6594,   878,\n",
       "        1355,  1384,  5757,  4844,  3258,  4520,  3097,  3961,  3260,\n",
       "        3322,  3299,  4301,  5837,  5221,  5702,  3916,  1146,  4228,\n",
       "        6207,  5970,  5396,  2565,  4439,  1430,  1453,  1984,  3265,\n",
       "         720,  4657,  3708,  4496,  2875,  3358,  2543,  5119,  4347,\n",
       "        2568,  4620,  2807,  6094,  4647,  6541,  6407,  7196,  6229,\n",
       "        7579,  3654,  2017,  2979,  4932,  6859,  2476,  5884,  5280,\n",
       "        4884,  1499,  5170,  5303,  2912,  2850,  5469,  5104,  5571,\n",
       "        4307,  5149,  6064,  5367,  5924,  6147,  5851,  5670,  5854,\n",
       "        6001,  6117,  5561,  6273,  6485,  6540,  6084,  5760,  6181,\n",
       "        5034,  4865,  4357,  5689,  5745,  5946,  4215,  3000,  3938,\n",
       "        4936,  6609,  4623,  5364,  2596,  1517,  2624,  4891,  2246,\n",
       "        2384,  2823,  4851,  6631,  2739,  6809,  6723,  7507,  7286,\n",
       "        7395,  7845,  7958,  8087,  8404,  8042,  8278,  8394,  8183,\n",
       "        7557,  8246,  5494,  4577,  4096,  4472,  4195,  4088,  4355,\n",
       "        4393,  4283,  4280,  4515,  4137,  4813,  5313,  4772,  4992,\n",
       "        3905,  4693,  3990,  4040,  4796,  4610,  4285,  7335,  3730,\n",
       "        5893,  4895,  3914,  4149,  4227,  6799,  1831,   748,   742,\n",
       "         713,   835,   907,   873,  1544,   950,  1132,   876,  1086,\n",
       "         963,  1692,   877,   842,   968,  1590,  1061,   928,   675,\n",
       "         809,   800,   930,  2822,  3076,  3412,  3963,  3623,  3688,\n",
       "        4869,  5091,  4900,  4387,  4558,  4648,  4940,  4847,  6409,\n",
       "        8013,  6806,  6614,  5103,  5133,  5535,  5448,  5732,  5453,\n",
       "        5061,  6291,  6465,  6118,  5817,  6481,  7121,  7185,  6162,\n",
       "        5676,  7693,  7914,  3985,  4214,  4493,  4540,  4056,  4360,\n",
       "        4522,  4469,  3965,  3904,  6944,  7217,  5885,  6316,  5078,\n",
       "        5055,  5293,  5154,  4838,  5178,  4630,  5328,  5236,  4994,\n",
       "        4504,  4937,  5383,  4025,  3311,  4411,  3760,  4115,  5036,\n",
       "        6575,  3833,  5324,  4668,  4562,  3621,  4857,  5208,  5598,\n",
       "        5602,  5321,  4897,  5697,  5444,  3197,  4853,  4058,  7486,\n",
       "        6062,  3641,  6191,  5730,  6965,  6012,  5634,  4539,  4909,\n",
       "        7399,  7381,  7073,  7037,  7095,  7025,  8732,  8327,  8062,\n",
       "        8359,  9206,  8074,  8161,  7231,  6968,  7938,  9389,  8935,\n",
       "        9391,  8626,  8152,  8752,  8402,  6953,  7571,  7342,  6793,\n",
       "        4291,  4338,  1709,  3731,  3705,  4410,  5759,  5041,  4589,\n",
       "        4570,  6035,  5660,  4059,  3305,  3285,  3803,  5639,  5630,\n",
       "        2717,  3307,  2234,  2194,  5143,  2345,  5277,  3832,  1956,\n",
       "        2322,  2235,  5627,  1615,  1105,   995,  9134,  8929,  7343,\n",
       "        5434,  4616,  5171,  3856,  8200, 10060,  5889, 10222,  9886,\n",
       "       10743, 10069, 10393, 10397, 11076, 11243, 11404, 11574, 11401,\n",
       "       11153, 11301, 10947, 11111,  7062,  3344,   756,  5243,   630,\n",
       "        5011,  5216,  4846,  6399,  6426,  6422,  6729,  5266,  5709,\n",
       "        5939,  5879,  6139,  6599,  6604,  5424,  7932,  3456,  3611,\n",
       "        2697,  2716,  5357,  3026,  1626,  1582,  7352,  5542,  7315,\n",
       "        6629,  6366,  4171,  3967,  3797,  4036,  4278,  4252,  3736,\n",
       "        5229,  3936,  4514,  4136,  4281,  3706,  3941,  4935,  4306,\n",
       "        4676,  3064,  3208,  4741,  5039,  2997,  4031,  3910,  2225,\n",
       "         991,  1068,  1073,   885,  3953,  1183,  8548,  8149,  8606,\n",
       "        8565,  8605,  8963,  7753,  7205,  6897,  8272,  8573,  6612,\n",
       "        5796,  6566,  6653,  6254,  8093,  6930,  7134,  3650,  6110,\n",
       "        4340,  7041,  3291,  2407,   840,   407,   404,   442,   452,\n",
       "        8738,  9432,  8975,  9090,  8955,  8360,  8751,  8450,  7568,\n",
       "       11573,  7945, 10561, 11155, 10850, 10342, 11250, 11575,  9896,\n",
       "       11279, 10586,  7954,  9734,  6019,  5947,  8323,  7349, 10735,\n",
       "       11130,  6312,  1029,  8607,  8465,  8965,  9703,  8977,  9439,\n",
       "        8661,  8473,  9521,  9566,  9938,  9739,  9022,  9048,  9631,\n",
       "        9414,  8952,  9491,  9336,  9800,  9953, 10152, 10763,  8475,\n",
       "       10173, 10756,  9374,  8936, 10628,  7690,  5264,  6861,  8252,\n",
       "        8306,  8510,  8344,  7493,  7162,  7320,  8425,  8422,  7960,\n",
       "        7622,  6514,  6451,  6155,  5752,  4880,  9786,  3058,  1533,\n",
       "        1447,  1338,  1334,  1311,  1276,  1198,  1303,  1378,  1279,\n",
       "        3924,  2071,   889,   897,  2605,   920,  2578,  2591,  2529,\n",
       "        2558,  2510,  2552,  2513,  2516,  2469,  2452,  2432,  2448,\n",
       "        2482,  2511,  2470,  2410,  2333,  2414,  2156,  2202,  2142,\n",
       "        2102,  2043,  1844,  1239,  1217,  1359,  1336,  1295,  1358,\n",
       "        1226,  1191,  1157,  1110,  1069,  1027,   752,   816,   750,\n",
       "         757,   824,   863,   925,   718,   714,   900,  1108,  1207,\n",
       "        1162,   959,  1351,  1055,  1211,  2909,  8748, 10063,  9363,\n",
       "       10985, 10913, 10887, 10205, 10630, 10056, 10953, 10598,  8108,\n",
       "        8797,  9040, 10418,  5539,  5883,  4757,  3602,  4292,  5225,\n",
       "        2754,  8789, 10153,  9194, 11969, 11008, 11400,  6494,  9527,\n",
       "        9162,  9222,  8651,  7828,  5541,  7268,  5777,  5317,  3595,\n",
       "        8106,  6506,  3614,  2968,  7624,  4477,  5169,  7806,  7647,\n",
       "        8349,  7340,  7874,  6297,  5162,  4146,  3920,  4035,  3479,\n",
       "        1103,   521,   541,  9770, 10514, 10143,  9808,  9463,  9288,\n",
       "        9651,  9460,  9765,  9496,  9476,  9333,  9955,  9806,  9665,\n",
       "        9159,  9073,  9158,  9084,  9605,  8577,  8621,  1454,  3653,\n",
       "        3077,  8631,  9052, 11097,  8925,  3060,  5316,  3378,  4043,\n",
       "        5950,  5692,  4916,  4256,  4196,  4109,  5892,  3521,  2299,\n",
       "        3082,  2953,  1653,  6022,  6484,  7144,  2927,  1856,  3622,\n",
       "        3555,  4632,  6795,  3341,  3092,  6173,  2034,  1420,  1256,\n",
       "        2844,  3163,  3416,  3627,  3629,  3701,  3023,  4175,  3370,\n",
       "        3336,  3735,  3712,  4166,  4666,  3256,  2876,  4795,  3668,\n",
       "        5813,  6733,  6175,  4165,  8731,  6950,  3673,  4044,  4656,\n",
       "        9296,  9547,  4692, 11350, 11415, 11172, 11019, 11298, 11338,\n",
       "       11173, 11194, 11185, 11040, 11358, 11533, 11193, 11363, 11237,\n",
       "       11307, 11554, 11343, 11212, 11378, 11521, 11367, 11068, 10537,\n",
       "       10896, 10901, 10046, 10340,  8909,  9710,  1866,  1900,  1890,\n",
       "        1881,  1867,  1874,  2040,  2018,  2025,  2003,  2020,  2039,\n",
       "        1990,  1666,  4917,  5249,  1234,  4839,  6779,  2784,  4247,\n",
       "        4239,  3739,  3099,  4841,  2442,  3098,  1985,  3764,  1003,\n",
       "        4871,  4785,  8584,  8265,  8445,  8840,  9098,  9124,  9121,\n",
       "        9248,  9016,  9148,  9632, 11365, 10434, 10356, 10476, 10269,\n",
       "       10465, 10130,  7344, 10355,  9187, 10250,  9585, 11333, 11086,\n",
       "       11154, 11303, 10425,  5600,  5980,  5981,  5537,  7001,  6597,\n",
       "        7013,  7529,  9881, 10874, 12195,  6272,  6436,  6986,  7408,\n",
       "        7531,  7775,  7770, 11942, 11631,  8637,  5310,  5694,  5121,\n",
       "        5723,  1102,   524,   645,  1045,  4805,  6355,  5349,  3770,\n",
       "        2349,  2126,  3686,  4609,  5655,  5309,  5026,  4480,  2642,\n",
       "        1677,  2444,  1812,  2585,  3372,  1487,  1939,  1539,  2692,\n",
       "        9324,  9517,  9603,  8551, 10058,  9320,  8642,  1367,  7183,\n",
       "        1570,  1690,  2019,  1799,  3005,  1964,  2910,  2182,  1819,\n",
       "        3085,  2183,  2180,  1818,  2385,  1899,  1777,  1854,  1842,\n",
       "        1942,  1920,  2094,  2117,  2161,  2537,  2969,  2398,  3815,\n",
       "        5273,  3444,  4903,  2130,  2092,  5394,  5643,  5405,  5585,\n",
       "        5704,  5850,  5982,  6048,  5905,  1106,  6413,  2325,  2541,\n",
       "         710,   770,   773,   754,   790,   801,   884,   933,  1008,\n",
       "        2693,  1543,  2878,  1067,   914,  2348,  3802,  3949,  3950,\n",
       "        4052,  4475,  3616,  3642,  3737,  3804,  3578,  5749,  3828,\n",
       "        6492,  7977, 10241, 10052, 10067, 10018, 10178,  9877,  9049,\n",
       "        9562, 10078, 10037, 10000,  4519,  2539,  4262,  4151,  4550,\n",
       "       10695, 10386, 10013,  9692,  8706,  9145,  9516,  7649,  7976,\n",
       "        8442,  6087,  4564,  4833,  4230,  5302,  5628,  3524,  3002,\n",
       "        2406,  4021,  2405,  2544,  1962,  1125,  2536,  1015,   387,\n",
       "         483,   667,   837,  5720,  5666,  5665,  6379,  6210,  6127,\n",
       "        5640,  4901,  4517,  5845,  5595,  5740,  6266,  5936,  6283,\n",
       "        6042,  4210,  4167,  5592,  5776,  4156,  3574,  8518,  9207,\n",
       "        8939,  7832,  9060,  3680,  1098,  2477,   499,   508,   513,\n",
       "         538,   542,   514,   505,   510,   507,   516,   569,   683,\n",
       "         666,   794,  1257,   523,   517,   543,   618,   798,  1059,\n",
       "        1018,   593,   563,   573,   576,   600,   599,   584,   604,\n",
       "        3153,  2938,  2920,  2732,  2762,  2749,  2707,  2744,  2699,\n",
       "        2685,  2666,  2631,  2593,  2573,  2508,  2451,  2492,  2491,\n",
       "        2338,  2357,  2249,  2238,  2143,  2104,  1947,  1887,  1755,\n",
       "        1661,  1634,  1534, 10305, 10294,  9833,  9722, 11151, 11174,\n",
       "       11010, 10890, 11285,  9957,  8974,  8070, 10065,  9469,  8657,\n",
       "        8665,  8081,  4293,  6412,  9893,  8205,  6311,  8927, 10932,\n",
       "        9297,  6711,  2542,  1066,   147,   246,  4181,  4403,  4323,\n",
       "        4271,  4133,  4320,  4144,  3973,  4000,  4217,  3975,  3715,\n",
       "        3714,  3747,  3691,  3563,  3633,  3501,  3510,  3717,  3300,\n",
       "        3841,  3233,  3101,  4574,  6849,  9211,  7697,  7327, 10570,\n",
       "        3927,  4270,  3087,  3295,  2282,  2292,  2675,  2873,  3497,\n",
       "        2326,  2475,  8778,  7547,  8091,  7147,  5544,  8066,  9371,\n",
       "        7434,  8781,  8656,  7884,  9331,  8238,  7991,  3858,  7971,\n",
       "        8261, 10719,  7608,  6845,  6475,  6164,  6077,  6626,  6734,\n",
       "        6941,  7328,  7236,  7213,  6785,  7797,  8345,  7441,  9031,\n",
       "        8329,  9395,  8602,  9294,  9039,  8318,  4689,  4089,  4578,\n",
       "        6314,  5079,  9368,  5440,  3741,  3810,  3861,  3625,  4523,\n",
       "        4406,  4636,  4720,  4337,  5110,  4015,  5556,  5865,  3334,\n",
       "        2881,  2898,  3096,  3242,  3049,   222,    86,   114,   152,\n",
       "         111,   139,   250,   199,   107,   145,   118,    88,   939,\n",
       "        3710,  4200,  5123,  4811,  3529,  3393,  2499,  3294,  3190,\n",
       "        3059,  3530,  3100,  3455,  2975,  3117,   251,   278,   269,\n",
       "         249,   143,   886,  1070,  1197,  1400,  1545,  1591,  1838,\n",
       "        1974,  2216,  2358,  3761,  3057,  4048,  4604,  1955,  4768,\n",
       "        5234,  4527,  6027,  4801,  5894,  3445,  6017,  7161,  6804,\n",
       "        7258,  7261,  2908,  2409,  6178,   980,  2832,  1682,  6054,\n",
       "        6172,  6177,  6105,  4695,  4569,  4654, 10358,  9179,  8464,\n",
       "        8463,  7471,  8737,  8282,  6863,  8012,  6489,  8169,  6242,\n",
       "        8031,  8455,  8396,  8808,  9259,  9027,  9154,  9619, 10216,\n",
       "       10202, 10576,  9620,  9379,  4809,  1288,  1237,  2638,   833,\n",
       "        5246,  5087,  4963,  5145,  5147,  5090,  5094,  5205,  5297,\n",
       "        5484,  7184,  5245,  5841,  5296,  5256,  5584,  5525,  5351,\n",
       "        5254,  5527,  5876,  5056,  6812,  6621,  5904,  5508,  8821,\n",
       "        8961,  8508,  7276,   323,   347,   330,   402,   399,   366,\n",
       "         441,   434,   445,   444,   447,   467,   472,   497,   474,\n",
       "         494,   473,   465,   534,   481,   509,   546,   544,   536,\n",
       "         518,   532,   535,   520,   561,   564,  7210,  8559,  8986,\n",
       "       10162,  7618,  9454, 10534,  9998, 10282, 11297, 11412, 11724,\n",
       "       11056, 11148, 10818, 10715, 11643, 10868, 10867, 10253,  9388,\n",
       "        5616,  8298,  8410,  8383,  8535,  4643,  3884,  8275, 10139,\n",
       "        6775,  6433,  7020,  7669,  7853,  6264,  7904,  5382,  4879,\n",
       "        1995,  2641,  1925,  4205,  9078,  9340, 10090,  8635,  1710,\n",
       "        4983,  5298, 10235,  3017,  3157, 11581, 10746, 11435, 11706,\n",
       "       11448,  8924,  1537,  2990,  2993,  3155,  3133,  3231,  3373,\n",
       "        3432,  3634,  3850,  3934,  4135,  4556,  4189,  6325,  5023,\n",
       "        3890,  4351,  4599,  4669,  3262,  2497,  2520,  2472,  7475,\n",
       "        4534,  2089,  6915,  1063,  3545,  1885,  3342,  4886,  4868,\n",
       "        6856,  9449,  8111,  5747,  4835,  4687,  5875,  5125,  7313,\n",
       "        6949,  3597,  1830,  1678,  1639,  2790,  2549,  1912,  1922,\n",
       "        4778,  1952,  3713,  2363,  3547,  6731,  2128,  2066,   739,\n",
       "        6456,  6948,  6767,  8649,  8574,  8366,  8729,  9387,  9033,\n",
       "        8860,  8826,  8537,  8371,  8034,  8920, 10246,  9087,  8884,\n",
       "       10327,  9773,  9112,  8744,  9783,  9047,  9180, 10780,  4933,\n",
       "        8204,  6903,  7746,  2583,  3116,  3408,  3759,  3244,  1529,\n",
       "        1813,  1372,  1441,  1474,  1458,  1323,  1324,  1304,   708,\n",
       "         700,   629,   609,   607,   628,   649,   631,   681,   966,\n",
       "         784,  4727,  1099,  5263,  3558,  6504, 11205, 10885, 11523,\n",
       "       11366, 10944, 11552, 11294, 11245, 11318, 11718, 11317, 11321,\n",
       "       10916, 11549, 11079, 11437, 10769, 11081, 10210, 10377, 11606,\n",
       "       11389, 11950, 10076, 10568,  7695,  7935, 11157, 11288,  9548,\n",
       "        2825,  3813,  3778,  3933,  4074,  3610,  3356,  2782,  3330,\n",
       "        5890,  3210,  5651,  6199,  6276,  6356,  6318,  4856,  5483,\n",
       "        5906,  5583,  6674,  6141,  6993,  7289,  7194,  7308,  7104,\n",
       "        7386,  7102,    78,  6838,  7224,  8848,  7538,  7756,  7899,\n",
       "        8823,  7983,  7725,  7898,  8004,  7990,  8116,  7986,  9254,\n",
       "        7633,  7750, 10798, 10448,  8728,  9089, 10583, 10616, 10467,\n",
       "        8576,  9539, 11077, 11628, 11103, 10865,  3608,  3749,  3702,\n",
       "        3720,  3790,  3669,  3698,  3666,  3697,  3659,  3693,  3569,\n",
       "        3509,  3434,  3453,  3424,  3774,  3781,  3775,  3158,  2871,\n",
       "        2760,  2341,  1737,  1129,   852,   857,  1036,  1037,  1040,\n",
       "        6927,  6990,  6909,  6839,  7319,  7118,  7412,  7721,  5432,\n",
       "        6837,  7617,  7569,  7727,  7717,  7533,  8095,  7573,  7360,\n",
       "        6258,  7385,  7135,  8312,  7272,  8787,  7961, 10088, 10138,\n",
       "        8908, 10079, 10132, 10461,  4988,  5054,  5751,  1168,  2478,\n",
       "        1206,  3490,  4915,  5725,  5474,  6008,  6813,  6249,  3768,\n",
       "        3974,  4611,  6003,  3478,  1233,  3579,  3293,  3535,  3540,\n",
       "        1122,  3160,  6704,  3537,  4208,  6791,  8529,  8703,  8852,\n",
       "        8693,  8534,  8711,  8186,  7680,  9220,  9436,  9970,  9025,\n",
       "        9685,  9481, 10183,  9290,  9141,  9138,  9623,  9361,  7164,\n",
       "        9362, 10558,  9698,  8519,  8065,  8768,  5025,  2300,  9891,\n",
       "        3836,  2658,  3020,  3228,  3191,  2768,  7798,  8669,  7948,\n",
       "        2996,  2620,  4982,  5435,  5814,  4120,  8495,  3268,  3325,\n",
       "        3601,  3767,  5120, 10403, 11268, 12036, 12233,  6408,  7264,\n",
       "       11100, 11974, 11088, 10997, 10839, 10869, 10499, 10051, 10115,\n",
       "       10359, 10500, 10364, 10489, 10199,  9928,  8969,  8061,  8010,\n",
       "        7280,  6041,  5210,  3515,  3351,  3284,  4090,  3317,  4712,\n",
       "        4427,  3428,  3477,  4659, 11469, 12164, 11497, 11316, 11564,\n",
       "       11677, 11315, 11579, 11695, 11391, 11120, 11493, 11423, 11516,\n",
       "       11592, 11838, 11496, 11310, 11370, 11494, 11364, 11551, 11657,\n",
       "       11377, 11054, 11149, 10870, 11006, 12519, 11208,  8889, 11123,\n",
       "       11841, 11852, 12054, 12001, 11937, 11748, 12105, 11044, 11855,\n",
       "       11902, 12250, 12158, 12040, 11793, 10918, 11670, 11944, 12049,\n",
       "       11616, 12024, 12141,  8215, 11873,  9329, 11918, 11912, 11953,\n",
       "        8976,  9747, 11381,  2636,  2670,  2667,  2635,  2616,  2629,\n",
       "        2665,  2617,  2647,  2648,  2582,  2610,  2534,  2530,  2533,\n",
       "        2494,  2439,  2413,  2243,  2272,  2396,  2412,  2315,  2309,\n",
       "        2260,  2106,  1933,  1722,  1514,  1185,  9199,  5833,  6098,\n",
       "        3711,  5668,  6111,  7259,  9357,  8035,  6319, 12077,  7153,\n",
       "        3461,  4054,  9200,  3986,  5173,  5688, 10566,  7515,  9587,\n",
       "        9892,  9889,  8337,  5755,  6665,  3021,  2982,  2041,  2416,\n",
       "        4923,  3588,  3454,  3795,  4928,  6479,  7413,  6947,  6044,\n",
       "        6576,  4651,  5392,  5183,  3423,  3564,  3321,  4873,  3852,\n",
       "        4131,  3368,  3426,  3422,  3316,  3266,  3154,  2845,  2580,\n",
       "        1839,  1745,  1797,  1994,  1987,  2013,  2085,  2517,  2521,\n",
       "        3543,  3415,  3377,  4125,  3086,  2691,  3027,  1968,  1775,\n",
       "        4345,  1841,  4204,  5913,  7160,  4938,  7254,  5701,  5318,\n",
       "        6313,  1763,  3442,  2150,  1655,  1195, 10599,  8294,  8099,\n",
       "        5685,  8522,  8338,  7387,  8532,  8124,  7702,  7072,  3912,\n",
       "        6606,  6943,  8080,  8591,  9899,  9699,  9355,  7937,  9733,\n",
       "        8319,  4395,  3234,  5268,  6607,  2852,  6955,  5877,  4053,\n",
       "        9822,  9945,  9859,  9866,  9669,  9795, 10263,  9289,  9578,\n",
       "        9241,  9146,  9157,  8368,  7051,  5195,  6024,  5491,  5696,\n",
       "        5693,  6305,  9781,  5437,  3440,  8911,  4041,  5307,  8311,\n",
       "        6250,  6400,  8212,  2980,  2456,  2181,  2854,  1957,  1998,\n",
       "        1664,  1346,  2445,  1280,  2821,  1732,  3443,  2678,  3357,\n",
       "        3237,  3885,  4290,  7170,  3677,  5582,  5804,  6238,  6698,\n",
       "        6478,  6165,  7951,  6792,  8208,  7821, 10494, 10824,  7916,\n",
       "        7379,  6444,  6750,  7021,  7512,  7901,  7854,  7736,  7540,\n",
       "        8234,  7779,  8140,  8000,  7630,  8160,  7764,  7303,  7785,\n",
       "        7090,  6842,  6430,  7191,  6625,   161,   127,    56,    89,\n",
       "        6969,  5545,  5611,  7850,  7435,  7601,  6611,  5530,  7900,\n",
       "        7839,  5071,  4051,  5529,  5576,  5589,  5942,  8448, 10258,\n",
       "       10582, 10779, 10960, 10939, 10686, 10851, 11118, 10477, 11510,\n",
       "       10614, 10832, 11508,  5856,  6343,  5987,  6657,  5997,  5710,\n",
       "        5335,  5472,  6066,  6445,  5222,  5311,  6523,  5988,  6904,\n",
       "        4384,  1769,  8452,  7295,  8098,  6427,  7694,  8129,  7401,\n",
       "        7731,  7795,  7882,  8179,  7522,  7974, 10685, 10399, 11215,\n",
       "       10753,  9818, 11468,  7930, 11199, 11131,  7941, 10624, 10569,\n",
       "        9724, 11501, 10408,  8903, 10075, 11625, 10924, 11759, 11454,\n",
       "       11096, 12317, 11106,  9219,  8766,  9728,  7995,  8721,  7457,\n",
       "        7769,  7122,  5941,  5726,  5807,  5811,  6070,  6853,  7421,\n",
       "        7200,  5504,  5084,  4709,  4305,  4398,  3411,  3042,  1205,\n",
       "        6713,  1652,  1542,  1023,   846,   986,  6694,  1829,  2245,\n",
       "        1408,  4587,  1284,  1896,  1610,  2829,  3465,  4084,  4119,\n",
       "        4800,  4086,  3491,  4016,  4759,  7650,  6677,  5488,  8089,\n",
       "        7463,  6691,  6855,  7931,  8755,  8479,  8210,  8067,  9748,\n",
       "        7825,  9558,  7068, 10248, 10274, 10691,  4721,  4842,  4429,\n",
       "        4484,  4471,  4665,  4367,  4341,  5202,  5375,  6682,  7518,\n",
       "        6858,  7002,  5395,  6142,  5871,  6187,  6294,  7913,  6805,\n",
       "         332,   333,   350,   352,   471,   601,   676,   958,  1728,\n",
       "        1981,  1804,  1901,  2024,  2195,  2339,  2599,  4482,  3863,\n",
       "        6517,  4422,  4288,  3606,  3752,  4776,  2366,  1327,  1253,\n",
       "        1859,  6395,  4336,  2400,  2297,  5127,  1759,  4248,  4486,\n",
       "        2949,  1522,  1350,  9435,  9630,  9944, 10141,  9985,  9974,\n",
       "        9973,  9764,  9987,  9775,  9335,  9700,  9782, 10112,  8071,\n",
       "        8211, 10242,  9745,  9533,  9746, 10553,  9690,  9567,  9343,\n",
       "       11438,  8625, 12101, 11324,  9231, 10550,  1149,  1704,  1366,\n",
       "        1868,  1599,  4259,  4617,  3039,  2671,  4629,  5675,  4888,\n",
       "        4079,  4380,  4219,   978,  3913,  2125,   902,  3556,  7692,\n",
       "        4761,  6217,  4810,  5661,  5786,  6000,  6438,  8488, 10416,\n",
       "        9185, 10548, 10229,  7549,  6488,  6107,  8043,  8151,  6078,\n",
       "        4286,  4243,  8044,  8484,  6868,  3951,  8570, 10761, 10287,\n",
       "       10581, 10081,  9024,  8984,  8850, 11465,  5839,  5053,  5089,\n",
       "        6591, 10347,  9839,  1439,   804,   701,   537,   654,  1832,\n",
       "        2196,   702,   495,   438,   707,  1203,  1282,  1179,  1254,\n",
       "        1164,   820,   903,  1667,  1573,   391,   351,   466,   360,\n",
       "         463,   455,   401,  1076,   633,  3139,  5487,  6153,  6503,\n",
       "        6174,  5935,  5737,  5128,  6324,  4860,  5191,  3056,  4428,\n",
       "        4060,  4107,  4479,  2999,  5095,  4343,  3495,  1752,  2443,\n",
       "        2523,  2740,  1880,  1268,  1269,  1331,  1399,  1464,  1527,\n",
       "        7761,  7862,  7759,  7765,  7660,  8267,  8177,  7574,  8580,\n",
       "        8588,  9274,  8842,  8499,  7734,  7634,  6601,  5761,  6605,\n",
       "        6802,  6046,  5492,  5754,  4849,   656,  3121,   759,  1285,\n",
       "         706,   454,   839,  5075,  4946,  4828,  5014,  4965,  4911,\n",
       "        4872,  6067,  5792,  5853,  5917,  5662,  5577,  5470,  5567,\n",
       "        5518,   843,  3038,  3734,  4082,  4284,   964,  3410,  4392,\n",
       "        3937,  4622,  7428,  5069,  5185,  5348,  9079,  9004,  8341,\n",
       "        9398,  5715,  7817,  6710,  7067,  5431,  5637,  9053,  5781,\n",
       "        5416,  5458,  5461, 10458,  6394,  8619,  9741,  8487,  3805,\n",
       "        3678,  2771,  4468,  6801,  5495,  8461,  9312,  5219,   400,\n",
       "        2198,  1411,  1555,  1541,  3328,  3143,   775,   921,   994,\n",
       "        4606,  8216,  5067,  4537,  1065,  5108,  7791,  2758,  1321,\n",
       "        4242,  8036,  5066,  3886,  1215,  1329,  1588,  1247,  1348,\n",
       "        1364,  1426,  1427,  6014,  7716,  7033,  7198,  7043,  5614,\n",
       "        6655,  5966,  8490,  7359,  3576,  4240,  5971,  6522,  4421,\n",
       "        5086,  5373,  5673,  5068,  4626,  4576,  3193,  5955,  7159,\n",
       "        6972,  7602,  2461,  6703,  6875,  3575, 10617, 10496, 10621,\n",
       "       10708, 10484,  9780, 10567, 10533, 10650, 10572,  8992, 10541,\n",
       "       10793, 10338, 10679,  9689, 10626,  9916,  8833,  7790,  8283,\n",
       "        7999,  7673,  7550,  8370,  9066,  8896,  7061,  2600,  5828,\n",
       "       11234, 11334, 11128, 11682, 11745, 11028, 11033, 10841,  9403,\n",
       "       10443, 10838, 10963, 10658,  9423,  8863, 10330,  3520,  7803,\n",
       "        7532,  8229,  8943,  6330,  6499,  5552,  6373,  5422,  4677,\n",
       "        7523,  7181,  1238,  7545,  6564,  6894,  6879,  6886,  6188,\n",
       "        5647,  7748,  8073,  7168,  7696,  6036,  6966,  6038,  6075,\n",
       "        4986,  4701,  4769,  5888,  7174,  1996,  6261,  7516,  6031,\n",
       "         983,  1418,   971,   917,   908,  1286,  2504,  2035,  1630,\n",
       "        1255,  3857,  1586,  1369,   927,  1111,   992,   926,   973,\n",
       "        1895,  1707,  2767,  2488,  1726,  2276,  6002,  3888,  1584,\n",
       "        1672,  6642,  7127,  8540,  3029,  8500,  9757,  8259,  6617,\n",
       "        4445,  4304,  4155,  2787,  2468,  2049,  2652,  2765,  3110,\n",
       "        3156,  3338,  3859,  3196,  2464,  2374,  2426,  4425,  1413,\n",
       "        2984,  4099,  2983,  2747,  2863,  3008,  2992,  3363,  5629,\n",
       "        2977,  2957,  3016,  7811,  7575,  4929,  6100,  7151,  7684,\n",
       "        7251,  6308,  8064,  8633,  4583,  2694,  9552,  7587,  6171,\n",
       "        9375,  9366,  8931,  8486,  7266,  3359,  7063,  2679,  4207,\n",
       "        5960,  9393,  9565,  9030,  7835,  5439, 11686, 11672, 11690,\n",
       "       11039, 11335, 10911,  9887, 11394,  9545, 11541, 11346, 11035,\n",
       "       11117,  9743,  9838,  7592,  3917,  3952,  3474,  3966,  9058,\n",
       "        7807,  5967,  6474,  5015,  2340,  6310, 11455, 11622, 10401,\n",
       "        6179,  5471,  5401,  6051,  6876,  5956,  6335,  6418,  5505,\n",
       "        5902,  5836,  6595,  5684,  5900,  5116,  5687,  6502,  4019,\n",
       "        6259,  4078,  6624,  5159,  5065,  6420,  7336,  6218,  5830,\n",
       "       11281,  6959,  7478,  9212,  6243,  6956,  9301,  9702,  8482,\n",
       "       10223,  9189, 10552, 10082,  9841,  9720,  9884, 10407,  8809,\n",
       "       10230, 10459, 10690,  6414,  8636,  7831,  5886,  7820,  5963,\n",
       "        5430,  4625,  4770,  5898,  7503,  4526,  7126,  6511,  7214,\n",
       "        7677,  7581,  7468,  8517,  9026,  9319,  8747,  8883,  8864,\n",
       "        9037,  9532,  9871, 10048, 10286, 10028,  9742, 10119,  9265,\n",
       "        9529,  9332,  9429,  9310,  9421, 10194, 10398, 10557, 10765,\n",
       "        8037,  3906,  4354,  5674,  6126,  7465,  7481,  5532,  7840,\n",
       "        5985,  5736,  9557,  6746,  6550,  6553,  8154,  6529,  6403,\n",
       "        7357,  6123,  6124,  6213,  8019,  8143,  7446,  9281,  9954,\n",
       "        2974,  3327,  6501,  8457,  4760,  4688,  6957,  5376,  9876,\n",
       "       10395,  9065, 10757,  9885,  9063,  8343, 10411,  9732,  9236,\n",
       "        8198,  8575,  8060,  9844,  7679,  9862,  8912,  9966,  9915,\n",
       "        9385,  9559,  8937,  8643,  8336,  8505, 12608, 12586, 12602,\n",
       "       12604, 12609, 12606, 12621, 12640, 12614, 12626, 12595, 12587,\n",
       "       12613, 12652, 12616, 12635, 12647, 12624, 12634, 12537, 12439,\n",
       "       10135, 11761,  9930,  7449, 10564,  8775,  6865,  7586, 11047,\n",
       "        8814,  9175,  9582,  9646, 10471, 10505,  9753, 10257,  9478,\n",
       "        9586,  6106,  4258,  3700,  3931,  4399,  4362,  4463,  4193,\n",
       "        4365,  4049,  5825,  7726,  8627, 10094,  8180, 10073,  9729,\n",
       "        6102, 10742,  5705,  6233,  6790,  5163,  5891,  4530,  7085,\n",
       "        5771,  6230,  6236,  8069,  7582,  8185,  8156,  6246,  6510,\n",
       "        7494, 10245,  8220,  5101,  6375,  6088,  9400,  9208,  5164,\n",
       "        9229,  7772,  9550,  9002,  9111,  7718,  7326,  7905,  8021,\n",
       "        8446,  9001,  9821, 10884, 11525, 11337, 10787, 10827, 10475,\n",
       "       10290,  3473,  3419,  4297,  4877,  6323,  5593,  4826,  5669,\n",
       "        7504,  4803,  5972,  4453,  3571,  4593,  6260,  6252,  4621,\n",
       "        7322,  4802,  6508,  6321,  5288,  5238,  5241,  7484,  7163,\n",
       "        7719,  6675,  7269,  7837,  7369,  7599,  7597,  7553,  7836,\n",
       "        5756,  4684,  6025,  7172,  6397,  7241,  6938,  6104,  3994,\n",
       "        2963,  3955,  1481,  6120,  6851,  5449,  6013,  4836,  2091,\n",
       "        2525,  8235,  8427,  6454,   711,  1033,  1072,  3214,  3923,\n",
       "        1381,  1091,  1090,  1673, 10142,  3983,  4415,  4408,  1675,\n",
       "        1578,  1376,  1546,  1281,  1619,  1734,  5663,  5475,  5402,\n",
       "        5363,  5795,  5739,  6209,  6350,  6532,  6536,  6340,  6389,\n",
       "        6459,  6844,  6780,   948,  1046,  1026,  1961,  4339,  6822,\n",
       "        7300,   969,  1988,  7195,  6026,  2805,  2587,  8096,  7544,\n",
       "        2346,  2757,   533,  1019,  1760,  2423,  1907,  6976,  7506,\n",
       "        7338,  8922,  6800,  7142,  7815,  7265,  7154,  7165,  7257,\n",
       "        8485, 11186,  7485,  9356,  8761,  8203,  9057,  6226,  4069,\n",
       "        9666, 10895, 10627,  8756,  9523,  8629,  8914, 10149,  9350,\n",
       "        9994, 10004, 10001,  9993,  9997,  9774,  9815,  9452,  9949,\n",
       "        9942,  9744,  9553,  7860,  8683,  9238,  4854,  7380, 10180,\n",
       "        5976,  8946,    98,    96,   124,    95,  5515,  5680,  6717,\n",
       "        7375,  5957,  6870,  3791,  3786,  3849,  3929,  3722,  3939,\n",
       "        3972,  4004,  4067,  4178,  4145,  4076,  4142,  4071,  3981,\n",
       "        4312,  4366,  4675,  4742,  4358,  4440,  4373,  4192,  4448,\n",
       "        5044,  5083,  4678,  5105,  5345,  5255,  5135,  4309,  4317,\n",
       "        4561,  5578,  5700,  6346,  6649,  6580,  7519,  6994,  6815,\n",
       "        6933,  7216,  7667,  8228,  9139,  9107,  8528,  8792,  4050,\n",
       "        1186,  1151,  1077,  6650,  6910,  7211,  7304,  6913,  7113,\n",
       "        4799,  6561,  7762,  8273,  8716,  8822,  9485,  9950, 10108,\n",
       "       10329, 10526, 10878, 11195, 11471, 11432, 11880, 12288, 12352,\n",
       "       12436, 12434, 11451, 11458,  4095,  4072,  1729,  1406,  1913,\n",
       "        1508,  1509,  1523,  2053,  2152,  2546,  2258,  2446,  2604,\n",
       "        2851,  3446,  2880,  2742,  2833,  3772,  4203,  4342,  4762,\n",
       "        5308,  2657,  4183,  3840,  5554,  5233,  4904,  6520,  5248,\n",
       "        5294,  5712,  5802,  5929,  5918,  5995,  5713,  6280,  5912,\n",
       "        6057,  5999,  6470,  7774,  7663,  7237,  6811,  7111,  6406,\n",
       "        7496,  6846,  6640,  6637,  5866,  7178,  2051,   176,   178,\n",
       "         226,   284,   637,  1287,   896,   899,   904,   911,   910,\n",
       "        1500,  2131,  1768,  2655,  2965,  1911,  1999,  1643,  1178,\n",
       "         981,  1002,   935,  1009,  1739,   271,   306,   227,   237,\n",
       "         234,   679,   977,   277,   799,  1310,  5485,  7561,  6633,\n",
       "        7235,  6641,  8302,  8375,  6304,  7130,  7480,  4573,  5824,\n",
       "        5679,  9535,  9579,  9268,  8109,  7294,  9694,  7593,  9406,\n",
       "        9801,  9672,  9201,  7281,  2422,  1849,   313,   321,   318,\n",
       "        3050,  3032,  3217,  3400,  3507,  3748,  3969,  4134,  4404,\n",
       "        5209,  5141,  7742,  3565,  3874,  6028,  9555,  5599,  3727,\n",
       "       10084,  3594,  6712,  3290,  4414,  7158, 10931,  8941, 12138,\n",
       "        8758, 12350, 11767,  3762,  4649,  2950,  5370,  7678,  4489,\n",
       "        4157,  7014,  8076,  9177,  7262,  2981,  5925,  4464,  5374,\n",
       "        4279,  4969,  5005,  6016,  8835,  3573,  5109,  4382,  3306,\n",
       "        4098,  3289,  3025,   945,   751,  1810,  1688,  2113,  1814,\n",
       "        2324,  3080,  5267,  2524,  7687,  4582,  1419,  2132,  1470,\n",
       "        2298,  2756,  7066,  8207,  7246,  4536,  6206,  3596,  1058,\n",
       "        7939,  6307,  8759,  7146,   975,  4728,  1042,  1053,  1258,\n",
       "         658,   498,  1798,  3090,  2971,  3137,  3248,  2273,  1694,\n",
       "        3186,  2786,  3380,  3324,  3613,  3793,  3213,  3671,  4417,\n",
       "        4595,  3798,  2184,  2828,  1894,   397,   106,    70,    38,\n",
       "          47,    45,   104,  3932,  3663,  3699,  3395,  3448,  3459,\n",
       "        2304,  3935,  4130,  3827,  4470,  4624,  4608,  4723,  4789,\n",
       "        4954,  5347,  5330,  5420,  5058,  5212,  5789,  5421,  5046,\n",
       "        5020,  5574,  6334,  6615,  6285,  6353,  7005,  5734,  4631,\n",
       "        6197,  2995,  4818,  8379,  7187,  7291,  7093,  7192,  7398,\n",
       "        7537,  8554, 11320,  6361,  6984,  7212,  6519,  7301,  7500,\n",
       "        6774,  7641,  7316,  7543,  6654,  6807,  6745,  6053,  5724,\n",
       "        1034,  5815,  2962,  7462,  7047,  6929,  7635,  6471,  7738,\n",
       "        7377,  8647,  6431,  6029,  6893,  4957,  7361,  7623, 10092,\n",
       "        9600, 10021,  8888,  9964,  7473,  2563,  9528,  9064,  9123,\n",
       "        6331,  9046,  5954,  3019,  2721,  3989,  4713,  2403,  3665,\n",
       "        6699,  3212,  2766,  6159,  5073,  3829,  2588,  1536,  4014,\n",
       "        4344,  2129,  2279,  4478,  5741,  5286,  6198,  5250,  5122,\n",
       "        6871,  3958,  1145,  3441,  3679,  1370,  7589,  3557,  2278,\n",
       "        6596,  2926,   806,  2177,  2961, 10698,   659,   669,   850,\n",
       "         363,   367,   960,   672,  1163,  1041,  1192,  1190,  1816,\n",
       "        1986,  2068,  2785,  4294,  1112,  1668, 10937, 11058, 10877,\n",
       "        1802,  1724,  3192,  2344,  5031,  5223,  1979,  1966,  3257,\n",
       "        4627,  3709,  1971,  1909,  2526,  2718,  2502,  3195,  2964,\n",
       "        1383,  1627,  1467,  1876,  3738,  1877,  3239,  1176,  2769,\n",
       "        2419,  3618,  3178,  3457,  3421,  3365,  3387,  3314,  3230,\n",
       "        3135,  3069,  2918,  2835,  2651,  2553,  2330,  2227,  2004,\n",
       "        1915,  1697,  1227,   105,   121,   119,   159,   240,   274,\n",
       "         427,   674,  1540,  4328,  5860,  6683,  3031,  3105,  3184,\n",
       "        3199,  3280,  3315,  3349,  3483,  3534,  3690,  3695,  3637,\n",
       "        3753,  3822,  3825,  3897,  3979,  3930,  4066,  4007,  3870,\n",
       "        3866,  4002,  3661,  3541,  3581,  3484,  3405,  3384,  3500,\n",
       "        4111,  4370,  4313,  4311,  4314,  4402,  4456,  4443,  4442,\n",
       "        4509,  4494,  4710,  4674,  4874,  5092,  5196,  5350,  5452,\n",
       "        5644,  5714,  5926,  6268,  6286,  5911,  4416,  6200,  5285,\n",
       "        6911,  6370,  6569,  3968,  3796,  4064,  4352,  3704,  4097,\n",
       "        4771,  4153,  4029,  4170,  3903,  3729,  3819,  3777,  3703,\n",
       "        2903,  2791,  2710,  2493,  2048,  2027,   987,   639,   429,\n",
       "         403,   437,   405,   446,   443,   419,  4600,  4751,  4959,\n",
       "        5043,  5009,  4997,  3407,  3771,  2810,  2411,  2209,  2123,\n",
       "        2078,  2100,  2046,  2061,  3592,  3835,  3118,  3572,  3471,\n",
       "        2626,  1815,  1954,   970,   641,   415,   384,   381,   376,\n",
       "        7124,  6572,  6565,  7105,  6776,  7125,  6676,  6393,  6778,\n",
       "        6766,  7133,  7238,  8696,  7562,  8054,  8601,  8599,  7929,\n",
       "        8878,  9116,  9456,  9405,  9771,  9625,  9680,  9777,  9352,\n",
       "        9717,  7250,  9707,   704,   688,   697,   789,   795,   797,\n",
       "         807,   808,  2696,   909,   874,   951,  2459,  1910,  3024,\n",
       "        3807,  3681,  2116,  3263,  3241,  2944,  2841,  3007,  2813,\n",
       "        2838,  2778,  2800,  2801,  3054,  3036,   703,   671,   733,\n",
       "         741,   660,   731,   737,   686,   738,   764,   709,   743,\n",
       "         691,   715,   888,  1450,  1803,  2095,  2158,  2109,  2690,\n",
       "        2489,  2930,  2867,  3053,  2455,  2683,  2436,  2751,  2500,\n",
       "        6461,  6828,  6985,  6215,  7436,  6423,  3326,  2145,   712,\n",
       "         634,   668,   705,   462,   845,   456,   440,  2250,   550,\n",
       "        1571,   468,   870,   823,   984,  3414,  7614,  1095,  2540,\n",
       "         722,   578,   727,  1963,  1861,  5132,  6940,  7713,  7724,\n",
       "        8291,  7274,  7704,  6405,  8120,  7921,  8040,  8763,  8828,\n",
       "        7388, 10378,  9168, 10945,  8130,  6183,  7044,  6689,  3883,\n",
       "        4807,   606,   624,   625,   632,   781,  7321,  8378,  7619,\n",
       "        8470,  7443,  8241,  8317,  9524,  8407,  9019,  8340,  7501,\n",
       "        9062,  6880,  6578,  5414,  7814,  5028,  7045,  7924,  7060,\n",
       "        9017,  9384,  7454,  4485,  8945,   996,  9701,  7253, 11459,\n",
       "        4945,  4397,  3921,  3607,  3364,  3431,  3670,  3548,  3549,\n",
       "        3763,  4117,  4094,  3980,  3814,  4010,  5596,  5787,  5391,\n",
       "        5074,  4083,  4087,  6128,  5150,  4975,  4704,  5835,  5729,\n",
       "        5708,  5190,  5770,  8593,  8594,  8777,  7950,  8641,  6664,\n",
       "        7166,  6095,  6673,  6223,  6167,  6463,  7038,  8451,  8189,\n",
       "        8092,  7215,  7603,  8057,  7812,  8803,  8620,  8805,  8393,\n",
       "        8596,  9345,  9404,  9221,  9711,  9750,  2998,  2381,  2522,\n",
       "        2483,  3174,  3223,  3855,  3286,  2976,  4571,  3255,  3489,\n",
       "        3235,  3439,  5372,  3882,  5168,  3799,  4198,  4806,  5218,\n",
       "        4614,  6099,  7157,  5312,  7155,  7056,  6101,  7685,  8325,\n",
       "        8741,  8256,  7856,  7087,  5333,  7844,  7833,  7123,  6841,\n",
       "        6628,  5990,  6185,  4738,  4905,  4319,  2994,  2179,  3570,\n",
       "        1503,  1614,   721,  1096,  2460,  3159,  1558,  3392,  3635,\n",
       "        2402,  2978,  8472,  2613,  2496,  2725,  2465,  2609,  2164,\n",
       "        2124,  3113,  4368,  4641,  3877,  3817,  4037,  4070,  4073,\n",
       "        4268,  4075,  4102,  3302,  2622,  4953,  3114,  2680,  4681,\n",
       "        4516,  2783,  2737,  4893,  5406,  4159,  3769,  4652,  3889,\n",
       "        2808,  4763,  5486,  7077,  7131,  2772,  7847,  3648,  7604,\n",
       "        5695,  4554,  2365,   988,  3390,  4829,  4952,  4866,  5016,\n",
       "        5404,  1289,  1188,  1421,  2257,  6869,  8646,  2627,  2928,\n",
       "        9538,  9269, 10120,  9284,  5305,  7590,  2532,  2355,  2201,\n",
       "        5340,  2009,  1929,  5331,  2951,  1809,  9411,  8993,  8049,\n",
       "        7433,  8753,  3526,  4658,  1520,  2232,  2033,  1601,  4164,\n",
       "        1919,   448,   834,  5462,  5188,  5214,  5204,  4926,  5810,\n",
       "        5840,  5649,  5362,  5417,  5569,  5785,  5733,  6065,  5524,\n",
       "        5923,  6255,  5393,  5329,  4939,  4289,  5809,  5433,  6193,\n",
       "        6055,  5227,  5762,  4653,  5454,  5479, 11826, 11913, 10531,\n",
       "       10571,  8624, 10861,  8622, 11691, 11082, 11240, 11092, 11244,\n",
       "       11572, 11156, 11104,  9344,  7149,  5683,  6030,  4022,  2217,\n",
       "        1941,  1747,  1716,  1795,  2378,  2237,  1893,  1766,  2157,\n",
       "       12633, 12598, 12094, 12638, 12629, 12625, 12641, 12612, 12605,\n",
       "       12529, 12601, 12632, 12584, 12627, 12628, 12615, 12649, 12630,\n",
       "       12644, 12567, 12395, 12336, 12377, 12499, 12558, 12514, 12521,\n",
       "       12441, 12620, 12419,  6216,  8193,  6761,  3513,  2274,   144,\n",
       "         135,  1051,   305,   786,  1519,  1087,    30,     3,     9,\n",
       "           8,     6,    20,   267,   728,   557,   772,  2474,  7808,\n",
       "       11184, 11222, 11600, 11764, 11725, 11255,  9735,  9176, 11034,\n",
       "       10462, 10070, 11867, 12397, 12264, 12227, 11036, 11654, 11528,\n",
       "       11312, 12017, 12124, 11774, 11353, 10982, 11751, 11901, 11766,\n",
       "       11976, 11744, 11790, 11742, 11703, 11080, 10758,  7167,  7940,\n",
       "        8845,  9419,  9308,  9446,  9257,  9441,  9149,  9306,  9425,\n",
       "        9609,  9597,  9119,  9426,  8919,  9580,  9171,  9226,  8989,\n",
       "        8967,  9136,  9515,  9402,  8358,  8795,  8171,  8397,  8474,\n",
       "        8798, 10933,  7474,  9980, 10002, 10128,  9804,  9610,  8736,\n",
       "        9266,  9465,  9471,  9826,  9990, 10296,  9960, 10447, 10345,\n",
       "       10136,  9629,  8558,  6687,  3345,  1621,  1593,  1449,  1431,\n",
       "        1412,  1393,  3536,  9929,  3647,  8767,  2347,  3122,  2802,\n",
       "        2826,  1665,  3004,  2952,  3261,  8335,  8769,  9186, 10689,\n",
       "       10734,  7346,  7143,  6693,  7489,  7247,  7605,  7849,  8832,\n",
       "        7337,  6302,  7830,  6997,  8494,  8051,  7793,  6848,  3593,\n",
       "        2016,   993,   997,  1422,   955,  2187,  2352,  4989,  3209,\n",
       "        2506,  2519,  3447,  2584,  2574,  3123,  3561,  1847,  1824,\n",
       "        1805,  1794,  1835,  1823,  1837,  1821,  1834,  1791,  1774,\n",
       "        1756,  1787,  1765,  6365,  6552,  7091,  6914,  7101,  7403,\n",
       "       10055,  8439,  7106,  7773,  7285,  6391,  7034,  7081,  6736,\n",
       "        6945,  6918,  7686,  8932,  6437,  6288,  6581, 11666, 11466,\n",
       "        6558,  7470, 11373,  9697, 11659, 11443,  4985,  4930,  5949,\n",
       "        5806,  5161,  6516,  6301,  6973,  8907,  5698,  7363,  5834,\n",
       "        6320,  5117,  7947,  6867,  8206,  4296,  2501,  4619, 10059,\n",
       "       10284,  7626,  7298,  7885,  7535,  6995,  8391,  7323, 11505,\n",
       "        4490,  4261,  4187,  4977,  8566,  8119,  4825,  6764,  8128,\n",
       "        7918,  8251,  4407,  4177,  3787,  3868,  3788,  3605,  3508,\n",
       "        4112,  6228,  3682,  2674,  3283,  3281,  3319,  3646,  4412,\n",
       "        4798,  5167,  2364,  5217,  8644,  5507,  4950,  4633,  4703,\n",
       "        4637,  4594,  4552,  4498,  4559,  4546,  4467,  4557,  4567,\n",
       "        6467,  5323,  6119,  5641,  5346,  4660,  2462,  2598,  5062,\n",
       "        4062,  3348,  2988,  3072,  1800,  1989, 12565, 12512, 12643,\n",
       "       12642, 12576, 12468, 12556, 12548, 12591, 12549, 12552, 12572,\n",
       "       12563, 12496, 11249, 10288, 10516,  9829,  9130,  8595,  8418,\n",
       "        9613,  9291,  8739,  8598,  6507,  1298,  1013,   257,   689,\n",
       "        3206,  3995,  3079,  3893,  3964,  3896,  4245,  5826, 10233,\n",
       "       11772, 11594, 11660, 11716, 11728, 11598, 11823, 11791, 11707,\n",
       "       11717, 11998, 11878, 11898, 12047, 11989, 11617, 12121, 11909,\n",
       "        7688,  9554, 10565,  5423,  5931,  6190,  6161,  5478,  5722,\n",
       "        7670,  7059,  6716,  6862,  7591,  8068,  3851,  3999,  4568,\n",
       "        4941,  4462,  3987,  8772,  4011,  5378, 10208, 11253,  4855,\n",
       "        9364,  5601,  5617,  5827,  9719,  6010,  4942,  4978,  6847,\n",
       "        8110,  5400,  5562,  4503,  4944,  4253,  7802,  5531,  7075,\n",
       "        8634,  7488,  5035,  6695,  6033,  4755,  5868,   558,   299,\n",
       "        1116,  1127,  1080,  1119,  1477,  1773,  2042,  2361,  2706,\n",
       "        1781,   952,  1271,  2244,  3034,  3901,  3919,  1405,  1457,\n",
       "        4726,  8039,  7889,  6873,  5278,  5506,  6477,  4921,  4123,\n",
       "        4388,  6386,  4981,  6376,  5182,  5000,  3553,  3292,  2479,\n",
       "          67,    75,    55,  8221,  7733,  7404,  7394,  7288,  8028,\n",
       "        8123,  8406,  8403,  8017,  7620,  8122,  8135,  7861,  6885,\n",
       "        6928,  5636,  6116,  5727,  4529,  4739,  4487,   810,   685,\n",
       "        1148,    71,    69,   233,   258,   577,  1140,  1307,  1587,\n",
       "        1749,  2934,  4458,  2602,  4169,  6166,  5261,  5832,  5548,\n",
       "        5511,  5953,  5612,  6967,  4919,  3628,  5224,  4525,  5172,\n",
       "        6493,  7942,  4890,  7567,  1235,  5618,  1043,  1120,  1156,\n",
       "        9568, 11476,  4931,  6964, 11286, 10910, 10413,  9855,  5064,\n",
       "        3238,  3194,  2176,  7345, 10527, 10929,  7681,  8324,  9169,\n",
       "        9233,  8865,  8209,  8052, 10786, 10238,  4233,  5429,  6962,\n",
       "        7053,  7551,  7962,  7745,  7906,  7917,  7768,  7867,  8006,\n",
       "        8011,  8032,  8126,  8027,  7910,  8300,  8033,  8163,  8047,\n",
       "        8307,  8172,  8176,  8531,  8304,  8542,  7996,  7842,  7920,\n",
       "        7439,  6963,  5555,  7282,  1011,  8352,  5013,  5201,  5258,\n",
       "        5152,  5457,  5040,  5284,  5021,  5564,  5419,  5517,  5460,\n",
       "        5139,  5200,  5300,  5388,  4912,  5306,  5304,  5299,  5251,\n",
       "        5456,  5004,  5466,  5523,  5656,  5657,  5463,  5566,  5292,\n",
       "        1853,  1869,  1852,  1848,  1851,  1796,  1820,  1792,  1965,\n",
       "        1790,  1778,  1916,  1757,  1779,  1563,  1475,  1332,  1199,\n",
       "        1124,  1081,   887,   486,   430,   420,   408,   409,   433,\n",
       "         410,   421,   449,  5459,  4274,  4966,  5198,  2713,  1434,\n",
       "        1252,  1879,  4173,  4006,  4008,  4436,  4209,  3180,  4190,\n",
       "        4277,  3750,  4645,  4717,  5799,  5521,  5849,  5102,  4716,\n",
       "        5283,  4753,  4350,  6542,  5681,  7729,   371,   338,   340,\n",
       "         320,   314,   329,   319,   337,   370,   353,   335,   336,\n",
       "         334,   355,   362,   354,   372,   341,   369,   365,   339,\n",
       "         356,   368,   373,   374,   378,   379,   377,   380,   375,\n",
       "        1730,  1644,  1459,  1345,   286,   293,   303,   316,   311,\n",
       "         307,   525,   519,   613,   740,   693,   778,   881,  1322,\n",
       "        5609,  2559,  3320,  3198,  1448,   194,   242,   279,   301,\n",
       "        1031,   793,   972,   617,   603,   734,   848,  1056,  1368,\n",
       "         866,  1484,  1054,  1385,  2301,  1231,  1166,   648,   682,\n",
       "        1020,   717,  1143,   767,   788,   796,   875,  1363,   690,\n",
       "         716,   726,   776,   774,   861,   915,  7354,  5604,  6685,\n",
       "        7911,  9598,  9506, 10825,  9218, 10914,  8764, 10942,  8928,\n",
       "        6296,  7279, 11461,  9197,  6771,  7469,  5192,  3620,  3066,\n",
       "        3091,  3012,  2958,  3046,  3279,  3264,  3243,  2945,  2919,\n",
       "       11332, 11182, 11290, 11005, 10668, 10718, 11229, 11071, 11127,\n",
       "       10666, 10615, 10969, 11083, 10439, 11115, 10917, 11512, 11052,\n",
       "       11440, 10174, 10243,  5998,  9354,  9840, 10950,  9723,  8214,\n",
       "        6329,  3496,  3806, 11970, 11967, 12006, 12197, 11931, 12145,\n",
       "       12110, 12111, 12045, 12050, 12106, 11785, 11743, 11853, 11893,\n",
       "       11848, 11982, 11899, 11380, 12171, 12294, 11765, 10528, 10402,\n",
       "       10575,  7366,  6160, 10391, 10591,  7714,  5631,  3560,  3630,\n",
       "       12186,  7492, 12406, 12402, 12431, 12310, 12151, 11850, 12028,\n",
       "       12052, 11797, 11667, 11788, 11800, 11385, 11265,  6224,  4756,\n",
       "        7312,  7055,  8434,  8226,  8181,  7580,  8038,  7472,  9560,\n",
       "        1398,  1343,  1356,  1401,  1339,  1315,  1337,  1221,  1277,\n",
       "        1244,  1242,  1249,  1218,  1214,  1223,  1375,  1250,  1306,\n",
       "        1407,  1379,  1201,  1189,  1170,  1262,  1128,  1390,  1566,\n",
       "        1251,  1926,  1466,  2001,  2090,  1645,  1632,  1357,  1344,\n",
       "        1318,  1362,  1319,  1414,  1396,  1342,  1402,  5844,  7829,\n",
       "        8872,  6890,  3516,  3397,  1489,  1361,  1278,  6919,  8592,\n",
       "        7700, 10907,  2869,  1152,  1330,  1403,  6091,  8085,  7888,\n",
       "        6090,  4793,  6583,  5620,  5520,  7324,  5024,  3360,   989,\n",
       "         272,   819,  1062,   235,   273,   729,   619,   554,   579,\n",
       "         492,   635,   503,   673,   580,   765,  1490,  1871,  2010,\n",
       "        5477,  5664,  5863,  6006,  6195,  6271,  6281,  6452,  6211,\n",
       "        6449,  6660,  6661,  6860,  7197,  4731,  4766,  3837,  4093,\n",
       "        3660,  3631,  3655,  4254,  6235,  4566,  4882,  6765,  4925,\n",
       "        4964,  3892,  1827,  1576,  1496,  1531,  1595,  1637,  1604,\n",
       "        1548,  1513,  1524,  1526,  1567,  1564,  1409,  1291,  1308,\n",
       "        1312,  1220,  1245,  1196,  1292,  1222,  1243,  1193,  1174,\n",
       "        1173,  1172,  1155,  1121,  1082,  1048,  8134,  8292,  7982,\n",
       "        8002,  8367,  8816,  9172,  8462,  8550,  8376,  8107,  8260,\n",
       "        7838,  7868,  8233,  8223,  7607,  6781,  7570,  7402,  7741,\n",
       "        6920,  6108,  1260,  2586,  5112,  3361,  2000,  2151,   856,\n",
       "         650,  1300,  1349,  1843,  2386,  2985,  3015,  2896,  2615,\n",
       "        2913,  3227,  3211,  3583,  3385,  3350,  3374,  2342,  2847,\n",
       "        3651,  3812,  3369,  3396,  3006,  2966,  1261,  1751,   500,\n",
       "         771,   811,   822,   547,   461,   491,   489,   428,   396,\n",
       "         398,  1878,  4383,  4775,  5788,  2383,  1209,   953,  1097,\n",
       "        1141,  1299,  5060,  2827,  1780,  1469,  1154,  2185,  6336,\n",
       "        5753,  1104,  5938,  5271,  5379,   847,  2973,  1290,  3323,\n",
       "        2640,  1498,   662,   458,   390,   394,   304,  2625,  4101,\n",
       "        2792,   602,   290,   280,   275,   262,   248,   244,  4827,\n",
       "        2527,  4461,  4150,  4719,  4346,  2741,  4579,  1782,  4781,\n",
       "       10831, 10605,  9716,  9867, 10409, 10061, 10731, 10645, 10091,\n",
       "       10212,  9100,  9946, 10661, 10998, 10807,  9513,  8953,  8652,\n",
       "        8655, 10383, 10017, 10344,  2505,  7583, 10224,  9181,  6487,\n",
       "        8926,  8059,  6592,  8195,  6670,  6528,  8388,  9216,  9760,\n",
       "        3733,  7548,  7703,  6882,  3469,  3887,  7609,  8930,  7848,\n",
       "        5882,  5952,  5731,  4356,  3683,  5563,  6018,  4586,  4845,\n",
       "        4127,  3404,  3900,  3944,  5626,  4201,  9109,  9140,  9020,\n",
       "        9147,  8590,  8670,  8459,  8586,  7978,  8496,  7993,  6954,\n",
       "        9373,  9621,  4423,  4943,  9551, 10352, 10103, 10100,  6708,\n",
       "        7639,  8389,  9170,  8578,  8793,  7466,  7855,  7536,  7190,\n",
       "        2931,  2547,  2572,  2425,  2360,  2105,  2060,  2137,  1973,\n",
       "        1921,  1806,  1786,  3203,  4213,  2879,  3800,  1670,  1862,\n",
       "         388,  1021,   853,  1293,  3451,   418,  2277,   622,   841,\n",
       "         416,   522,   805,  3960,  4812,  3743,  4126,  3776,  3612,\n",
       "        3687,  5613,  3464,  3270,  3267,  3343,  7275,  4162,  4628,\n",
       "        5623,  5499,  3061,  4722,  5438,  4435,  5007,  2967,   214,\n",
       "         212,   186,   216,   191,   190,   185,  2736,   913,   916,\n",
       "         912,  1138,  1574,  1028,   923,  1167,   922,   965,   859,\n",
       "         892,  1050,  1133,   838,   905,  1538,  1924,  1115,   862,\n",
       "         942,  1386,   475,  1017,   946,  1712,  6579,  5158,  8114,\n",
       "        2614,  2702,  2846,  3409,  4777,  4894,  3427,  3401,  3371,\n",
       "        3480,  3589,  3567,  3766,  8512,  7735,  7715,  4691,  3626,\n",
       "        3582,  3437,  3367,  3246,  3187,  3229,  8056,  3672,  3335,\n",
       "        3282,  2193,  2441,  6719,  5501,  3347,  3542,  3093,  3476,\n",
       "        3519,  9380,  2382,  5098,  5580,  3010,  3088,  2775,  2834,\n",
       "        2897,  2700,  2486,  2480,  2379,  2473,  6182,  4924,  5281,\n",
       "        9907,  6982,  5869,  3707,  6971,   812,   585,   549,   545,\n",
       "         570,   548,   565,   552,   591,   588,   560,   568,   572,\n",
       "         551,   583,   582,   590,   574,   571,   567,   698,   869,\n",
       "        3522,  1572,   890,   592,   586,   595,   597,   596,   724,\n",
       "        5699,  6419,  5606,  4752,  5113,  4876,  5502,  4694,  6251,\n",
       "        4118,  3175,  3044,  3580,  3684,  6797,  6480,  7097,  4396,\n",
       "        1863,  1811,  2643,  1770,  1497,  1440,  1771,  1180,  8800,\n",
       "        6891,  6589,  1094,  5916,  5908,  6623,  6770,  7560,  7036,\n",
       "        6721,  6306,  6401,  7565,  7393,  7628,  7232,  6720,  5671,\n",
       "        5538,  5206,  6004,  5838,  5366,  5359,  5354,  5607,  6112,\n",
       "        4018,  5619,   936,  1432,  4848,  6170,  1753,  1436,  1583,\n",
       "        3926,  5270,  7329,  9624,  7919,  8650,  5748,  6404,  7334,\n",
       "        4575,  2323,  2093,  1855,  2168,  2793,  2893,   836,  1182,\n",
       "        1144,  1208,   864,  1301,  1263,   954,   990,  1460,  4359,\n",
       "        5945,  6052,  7460,  8504,  8426,  8258,  9007,  8509,  5822,\n",
       "        6659,  5867,  4613,  3125,  3830,  1906,  2421,  1701,  1224,\n",
       "        1557,   985,  2408,   817,   477,   616,   611,   504,   610,\n",
       "         615,   646,   640,  6387,  6300,  6457,  6464,  6385,  6384,\n",
       "        6582,  6152,  6587,  6241,  8310,  7613,  7452,  7373,  7273,\n",
       "        7109,  6999,  8157,  7314,  8079,  8906,  8173,  7524,  7890,\n",
       "        8659,  7046,  8387,  4237,   755,   109,  1507,  1117,   872,\n",
       "        1240,   531,   469,   644,   647,   746,   732,   783,   895,\n",
       "        1049,  1088,   829,   723,   785,   736,   453,   482,   485,\n",
       "         464,   484,   479,   451,   478,   480,   450,   439,   976,\n",
       "        1953,  2623,  2313,  1394,  1230,  2312,  3355,  2569,  3083,\n",
       "        1202,   766,   868,  1228,  1057,  1404,  2454,  3450,  2590,\n",
       "        1283,  1884,  2062,  1353,  3909,  2088,  2925,   979,  2567,\n",
       "        8971,  5750,  8242,  5932,  6011,  5550,  5332,  5030,  5038,\n",
       "        5385,  4473,  7069,  7108,  7278,  6979,  5442,  1438,  3649,\n",
       "        1691,  1468,  6505,  4732,  2538,  3765,  5006,  4533,  4211,\n",
       "        5180,  6496,  4122,  3022,  3301,  1455,  7048,  5735,  7057,\n",
       "        7409,  7419,  6240,  7058,  8024,  8639,  9036,  9192,  9903,\n",
       "        9534,  7936,  7248,  7928,  9038,  7348,  8904,  8968,  8776,\n",
       "        2231,  3379,  6866,  9570,  4163,  1347,  8481,  5436,  1625,\n",
       "        1433,  1483,  2327,  1892,  1783,  1656,  1165,   894,  1131,\n",
       "        1382,  1750,  1817,  1552,  1442,  1391,  1333,  1219,  1194,\n",
       "        1153,  2929,   228,   938,  1016,   849,  1092,  1945,  6377,\n",
       "        2178,  1741,  2755,  6135,  6337,  6348,  6347,  6367,  7631,\n",
       "        6932,  8190,  8382,  8147,  7612,  7552,  3517,  3915,  6702,\n",
       "        5721,  5848,  5381,  4012,  7171,  4968,  4238,  4612,  5686,\n",
       "        6483,  7953,  8663,  6586,  7239,  8045, 10053, 10200, 10453,\n",
       "       10820, 11256, 11299, 12048, 12112, 11804, 11983, 12078, 11925,\n",
       "       11812,  5279, 11946, 12201,  4476,  3417,  9730, 11433,  5546,\n",
       "       10259, 11254, 10118,  7255,  6788, 12446,  9890,  5959, 11464,\n",
       "        6570,  6083,  7566,  9608,  9827,  9856, 10412,  8915,  8819,\n",
       "        9451,  9972, 10373, 10538, 10703, 10099, 10396,  8847,  9583,\n",
       "        9575,  1169,   931,  8104,  7912,  9898,  8869,   763,   815,\n",
       "         559,   575,   562,  8115,  3494,   677,   476,   460,   502,\n",
       "         493,   393,   382,   361,   488,   358,   414,   511,   678,\n",
       "         719,   860,  2147,  8597,  9018, 10625,  5896,  9546, 12224,\n",
       "        7648,  5903,  6333,  5915,  8466,  8332,  3352,  3386,  3353,\n",
       "        3403,  3429,  3506,  3694,  2058,  2029,  2083,  2135,  2007,\n",
       "        2103,  2031,  2099,  2136,  2166,  2186,  2144,  2621,  2907,\n",
       "        2561,  3346,  2660,  2576,  2781,  2891,  2956,  3425,  3632,\n",
       "        6743,  6221,  6269,  6453,  6635,  5934,  6835,  6071,  5257,\n",
       "        5994,  5979,  5146,  5260,  5008,  6547,  7223,  8678,  8684,\n",
       "        8893,  9416,  9611, 10023,  9475,  9430,  9615,  9253,  9581,\n",
       "        9873, 10427, 10300,  7781,  7858,  6935,  8409,  8405,  8314,\n",
       "        8132,  7076,  6214,  6121,  6047,  6447,  6758,  6613,  8414,\n",
       "        8225,  7988,  8569,  8600,  8956,  8610,  8827,  9339, 10213,\n",
       "       10697,  9959, 10049, 10417, 10016, 10720,  7307,  7661,  8555,\n",
       "        1213,   657,   528,   298,   259,   197,   142,  3200,  3215,\n",
       "        2305,  2865,  2824,  2453,  3124,  1740,  1556,  1706,   762,\n",
       "         188,  1025,   663,   221,  1897,   160,   174,  1305,   803,\n",
       "        4749,  6546,  5187,  5880,  6728,  6666,  8458,  7859,  8614,\n",
       "        9303,  9083,  9128,  9142,  8892,  9655,  8726,  9940,  8938,\n",
       "       10126, 10379,  8957,  9948, 10382,  8796, 10331, 10086,  9508,\n",
       "        4572, 10117,  9378,  5049,  5403,  7964,  3782,  3692,  4744,\n",
       "        4673,  4232,  5921,  4521,  3546,  3462,  3539,  4400,  6189,\n",
       "        4683,  4466,  4605,  3615,  4308,  4080,  5399,  6531,  7392,\n",
       "        5818,  4592,  4386,  5445,  5134,  4419,  7758,  7411,  7084,\n",
       "        7783,  7431,  7115,  5358,  4646,  4505,  3339,  4225,  4321,\n",
       "        5717,  5974,  7028,  7371,  8897,  7744,  8105,  6362,  8015,\n",
       "        6113,  6902,  7927,  7267,  8029,  7813,  7710,  5175,  7367,\n",
       "        8876,  9150,  9270,  9502,  9267,  9101,  8100,  7674,  8949,\n",
       "        6515,  4808,  7805,  9214,  7070,  9926, 11306,  8346, 11048,\n",
       "       11122,  3389,  2753,  4767,  8640,  2849,  9549,  5615,  8745,\n",
       "        6678,  3757,  8933,  1547,  1480,  1516,  1575,  1551,  1565,\n",
       "        2219,  2134,  2518,  4047,  3166,  2375,  3148,  3652,  7000,\n",
       "        6662,  6773,  7664,  6598,  3467,  7596,  7350,  7897,  8295,\n",
       "        6093,  8390,  8053,  5482,  7600,  8990,  7801,  8188,  7445,\n",
       "        6671,  8158,  7317,  8365,  8913,  6472,  7110,  7416,  7895,\n",
       "        7632,  7310,  7219,  7035,  7418,  7792,  8308,  6960,  7615,\n",
       "        7042,  8287,  9853,  9328,  9512,  8492, 10671,  2490,  2673,\n",
       "        5846,  6345,  5864,  5468,  5716,  6129,  6368,  8347,  5528,\n",
       "        4512,  4555,  4615,  5441,  7120,  1502,  5380,  9067,  2831,\n",
       "        1297,  1518,  1950,  2015,  2169,  3381,  3463,  3398,  6768,\n",
       "        6169,  7886,  7422,  2435,  2554,  2431,  2701,  2618,  2776,\n",
       "        2916,  2773,  2986,  3127,  3150,  3094,  3277,  3533,  3838,\n",
       "        3755,  3867,  3499,  3449,  3719,  3095,  3604,  3971,  3942,\n",
       "        4172,  4251,  4823,  5088,  5207,  3278,  3976,  3846,  3899,\n",
       "        4034,  4005,  4001,  4223,  4186,  4188,  4267,  4640,  4597,\n",
       "        4495,  4706,  4705,  4602,  4780,  4794,  4956,  5096,  4910,\n",
       "        5412,  4745,  4906,  5847,  6039,  6204,  6551,  6656,  7397,\n",
       "        3418,  3430,  3603,  3512,  3638,  3794,  4191,  4324,  4381,\n",
       "        4548,  4154,  3871,  3922,  3746,  3784,  3823,  4433,  3982,\n",
       "        4413,  4491,  4784,  4773,  5189,  5341,  5791,  5983,  6059,\n",
       "        6441,  6443,  6900,   684,   553,   501,   385,  1727,  3274,\n",
       "        3875,  4590,  4820,  3991,  3644,  5603,  1052,  1341,  1294,\n",
       "        1273,  1241,  1265,  1225,  1159,  1731,  1761,  4424,  5493,\n",
       "        5166,  4715,  5274,  4883,  1472,  1488,  6826,  6462,  6344,\n",
       "        7017,  6755,  6559,  5922,  6549,  6289,  6138,  7007,  7088,\n",
       "        6212,  5986,  6468,  6726,  6539,  7019,  6063,  6816,  7437,\n",
       "        7414,  7107,  6339,  3329,  6253,  6921,  8676,  9590, 10446,\n",
       "        4783,  4790,  3406,  3472,  3498,  4902,  2890,  3773,  3296,\n",
       "        5213,  4698,  4700,  6429,  5872,  4885,  5368,  4671,  5131,\n",
       "        4792,  4454,  5408,  5037,  4918,  7572,  6327,  7356,  7625,\n",
       "        7467,  5237,   934,  2885,  2714,  2110,  4664,  5226,   998,\n",
       "        3337,  3544,  3978,  4650,  3551,   871,  2387,  3318,  3667,\n",
       "        4391,  2503,  3636,   929,   747,   768,  1022,  3821,  4222,\n",
       "        4063,  6686,  4528,  4437,  4927,  5156,  9092,  8734,  9244,\n",
       "        9649,  9178,  8950,  9118,  9592,  9677,  9660, 10472, 10161,\n",
       "       10268, 10299, 10295, 10775, 10441, 10620, 10530, 10281, 10523,\n",
       "       10198,  9376,  8285,  8881,  9828,  8664, 10151,  7415,  6278,\n",
       "         932,  3780,  4832,  5652,  2036,  4465,  3376,  4638,  3562,\n",
       "        3003,  3438,  2759,  3126,  5909,  5050,  5142,  5240,  4068,\n",
       "        4032,  4999,  3179,  3716,  3399,  3505,  5301,  5365,  5465,\n",
       "        4837,   744,   725,  3895,  4039,  3744,  4180,  4545,  4326,\n",
       "        6134,  5667,  5177,  5642,  6383,  6202,  5290,  5355,  5239,\n",
       "        6109,  8077,  8078,  7728,  6023,  5870,  6872,  5597,  6473,\n",
       "        4730,  3523,  1506,   956,   826,  1085,  6669,  6889,  7103,\n",
       "        6630,  6759,  6645,  6290,  6924,  6284,  5247,  5933,  5928,\n",
       "        6143,  6132,  5992,  5048,  6122,  6981,  4017,  6538,  6887,\n",
       "        6360,  6196,  4863,  6114,  5319,  5797,  5003,  5633,  5295,\n",
       "        8385,  7723,  7879,  7908,  7654,  8553,  8142,  8361,  9093,\n",
       "        8582,  8432,  9450,  8604,  9738,  9794,  8303,  9921,  9595,\n",
       "        9466,  9337, 10165,  9276,  8831,  9530,  9978,  9850,  9843,\n",
       "        9500,  8708,  8026,  5547,  7064,  4852, 11805,  5244,  5153,\n",
       "       11502,  6622,  4834,  5360, 10984, 11679,  4585, 12099, 12196,\n",
       "       12130, 12219, 11098,  5052,  1654,  3142,  3062,  3925,  4444,\n",
       "        4455,  5080,  7390, 12256,  9684,  1958,  9617, 10164, 10145,\n",
       "        9906,  4244,  5165,  3962,  4132,  2014,  4124,  4736,  4349,\n",
       "        5029,  8760,  9468,  9785,  9397,  9571,  8843,  7256,  6410,\n",
       "        4161,  2397,  3559,  5622,  8917,  9326,  9880,  3354,   880,\n",
       "        1473,  6415,  5969,  6231,  3362,  2806,  3304,  1184,  4152,\n",
       "        3181,  3173,   879,  4787,   943,  6888,  6709,  6486,   982,\n",
       "         802,  3141,  1259,  5126,  3993,  3844,  3685,  6823,  1983,\n",
       "        7771,  4958,  4750,  6037,  7362,  7221,  8263,  7229,  4804,\n",
       "        2874,  1801,  1113,   749,  1501,   891,   515,   328,  1236,\n",
       "         893,  4896,  3253,  6248,  4788,  6315,  2866,  3504,  3820,\n",
       "        3848,  3725,  4481,  4510,  6270,  6417,  1109,  2738,   962,\n",
       "        2114,  3779,  2770,  6718,  4363,  5336,  6574,   957,   779,\n",
       "        5805,  7296,  3954,  3873,  4364,  3783,  3271,  3275,  6590,\n",
       "        4003,  2608,  2644,  9656,  8086,  9422,  7804,  6490,  7834,\n",
       "        7965,  7306,  7407,  7521,  7410,  7509,  7528,  8247,  8429,\n",
       "        7514,  8521,  9399, 10129, 10306,  9835,  9618,  8583,  8686,\n",
       "       10826,  8685,  7584,  9255,  9153,  9262,  7448, 11669,  4987,\n",
       "        8373,  8794,  8513,  1089,  1354,  2836,  2463,  2418,  1035,\n",
       "        1135,   735,  2050,  1328,  1991,  1187,  2457,  1317,  1267,\n",
       "        1275,  1248,   830,  1380,  2247,  2892,  2328,  5144,  5948,\n",
       "        3254,  4026,  1371,  6425,  5881,  4250,  9793,  8849,  8870,\n",
       "       10032,  9662,  9635, 10349,  9767,  7464,  8453,  9602,  9166,\n",
       "        2401,  6354,  1084,  8533,  8653,  7447, 10951, 11049, 10981,\n",
       "       10311, 10866,  9756, 10237,  6512, 10219, 10721, 10692,  3081,\n",
       "        6619,  7179,  9044,  5232,  5343,  5338,  5858,  4962,  6796,\n",
       "        5996,  5176,  5534,  5540,  6081,  5114,  5450,  4670,  2380,\n",
       "        3918,  4782,  3640,  4920, 10124,  8483, 10236,  9295, 11917,\n",
       "       10790, 11382,  8330,  3818,  5443,  1642,  4690,  4892,  3869,\n",
       "        5937,  5371,  7588,  7799,  1232,  5269,  9051,  9230,  8372,\n",
       "        9695,  9298,  8250,  7691,  6440,  6521,  8773, 11144,  4241,\n",
       "        8421,  6020,  5766,  8632,  5155,  6970,  1917,  1940,  1972,\n",
       "        1960,  2045,  2120,  2190,  2189,  2253,  2317,  2336,  2391,\n",
       "        2434,  2557,  2528,  2509,  2507,  2160,  2154,  2467,  2592,\n",
       "        2708,  2668,  2570,  2682,  2637,  2659,  2056,  2167,  2267,\n",
       "        3470, 10190, 10036,  8618,  8417,  9015,  8469,  8030,  9383,\n",
       "        8374,  8249,  8707,  7788,  9510,  8456,  8443,  9847,  8813,\n",
       "        8581,  9307,  9505, 10696,  9028,  9408,  9251,  8875,  7857,\n",
       "        7564,  8702,  7752,  4518,  4967,  4830,  4875,  4672,  5560,\n",
       "        7490,  8947,  8788,  9322,  8616,  8530,  8677,  8882,  8468,\n",
       "        9210,  8001,  8245,  6237,  6878,  8290,  7881,  8118,  8790,\n",
       "       10343,  8615,  8313,  9202,  9917, 10806,  9075,  9096,  9117,\n",
       "        9802,  7903,  9156,  7909,  8401,  8687,  8511,  7966,  8400,\n",
       "        8353,  7606,  7611,  8305,  8155,  7527,  7325,  7705,  7331,\n",
       "        7330,  7332,  8165,  7794,  7621,  8164,  8467,  8608,  8525,\n",
       "        6730,  6220,  6638,  9628,  9305,  9133,  9256,  9283,  8801,\n",
       "        9531, 10254, 10193, 10044, 10332,  9878,  9696,  9641,  9691,\n",
       "        9854,  9693,  9816, 10852, 10904, 10424,  9706, 10050,  8587,\n",
       "        8543,  8997, 10773, 10637, 11063, 11180, 11410, 10886, 10648,\n",
       "       10784,  8301, 10414, 11736, 10940, 11737, 11884, 11940, 11971,\n",
       "       11985, 11993, 11683, 11739, 11819, 11807, 11992, 11262, 11777,\n",
       "       11721, 11091, 11107, 11750, 12449, 11431, 12126, 12299, 12220,\n",
       "       12020, 10551, 10122, 10643, 10709, 11031,  9190, 11923, 11987,\n",
       "       11282, 12477, 12451, 12368, 12535, 12504, 12230, 12527, 12493,\n",
       "       12528, 12271, 12551, 12461, 12580, 12544, 12564, 12650, 12659,\n",
       "       10510, 10810, 10497, 10644, 10638, 10712, 10971, 11038, 11340,\n",
       "       11577, 11561,  6593,  3590, 12089, 12243, 12037, 12240, 12122,\n",
       "       11986, 11995, 12167, 12129, 12042, 10919, 12172, 12113, 12177,\n",
       "       12286, 12480, 12655,  8564,  8562,  8144,  9106,  8995,  8704,\n",
       "        9097,  8660,  8944,  9184,  9986, 10026, 11673, 11305, 10859,\n",
       "       10739,  8166, 11491, 11248, 10880, 11232, 11150, 10970, 10584,\n",
       "       11399, 10934,  9736, 10755, 10511, 11304, 11336, 11359, 11345,\n",
       "       11515, 11522, 11534, 11357, 11810,  7271, 10293, 10673, 11627,\n",
       "        8880, 10694,  9386, 10177,  8014,  8648, 10863,  5763, 10318,\n",
       "       10864, 11302, 11252, 11678, 11519, 11375,  8921,  4234,  5659,\n",
       "       10837, 10853, 11027, 10956, 10879, 11011,  9661,  9647,  9790,\n",
       "        9657,  7039,  8806, 10600, 11206, 11351, 11211, 11498, 11388,\n",
       "       11356, 11647, 11663, 11116, 11914, 11952, 11480, 10889, 11648,\n",
       "       11479, 12237, 12068, 12618, 12617, 12518, 10925, 10922, 10064,\n",
       "       11447, 11860, 12139, 12210, 11121, 11463, 12346, 12076, 12267,\n",
       "       11756, 10455, 11271, 11449, 11569, 11632, 12100, 12356, 12381,\n",
       "       12422, 12413, 12333, 12653, 12658, 12083, 12293, 12213, 12021,\n",
       "       11865, 11436, 11308, 12104, 11868, 12031, 12132, 11041, 11020,\n",
       "       10545, 10778, 10665, 10646, 10454, 10221, 10493, 10240, 10106,\n",
       "        9875,  8449,  8682,  7968,  8342,  8153,  7024,  6898,  5197,\n",
       "        4299,  7391,  7425,  7204,  7563,  7140,  6072,  4420,  6714,\n",
       "        6769,  6358,  6434,  7078,  7870,  7459,  6946,  8264,  8254,\n",
       "        9772, 10131,  8757, 10189,  9614,  9135,  6424,  2148,  5220,\n",
       "       11269,  1313,  9382,  3009,  4257,  3988,  4329,  5344,  3514,\n",
       "        3847,  5977,  5045,  5012,  6277,  6357,  6369,  5819,  5557,\n",
       "        5975,  6144,  3488,  3998,  3169,  3172,  4197,  2837,  3030,\n",
       "        4081,  3071,  3052,  3808,  3907,  4538, 10406,  9544,  9351,\n",
       "        8506,  7508, 11634,  7933,  8239,  7071,  9228,  9870,  9664,\n",
       "        9572, 10137,  9260,  9042,  8516,  8103,  9242,  9120,  8274,\n",
       "        9424,  9287,  9428,  8199,  9173,  9472,  8998,  4085,  5325,\n",
       "       11846, 11720, 11709, 11429, 11644, 11704, 11547, 10849, 10724,\n",
       "       10546,  9504,  9014,  8873,  9417,  9477,  8174,  9318, 10029,\n",
       "        9673,  9601, 10280, 11114, 10858, 10365,  9327,  4889,  6696,\n",
       "        7479, 12244, 12236,  4949,  5648,  5703,  6988,  7284,  7732,\n",
       "        7763, 12170, 11938, 12016, 10802, 11808, 12248, 12541, 12507,\n",
       "       12481, 12571, 12530,  9913, 11676, 11489, 12084, 12239,  9725,\n",
       "       11753, 11872, 12324, 10228, 12228, 10167, 12215, 12277, 12169,\n",
       "       12166, 12033, 12061, 12312, 12366, 12279, 12275, 12375, 12454,\n",
       "       12455, 12478, 12374, 12412, 12355, 12325, 10688, 12261, 12433,\n",
       "       12369, 12373, 12456, 12341, 12396, 12344, 12357, 12524, 12651,\n",
       "       12575, 12232, 12442, 12266, 12523, 12577, 12570, 12525, 12464,\n",
       "       12534, 12501, 12550, 12526, 12459, 12416, 12424, 12287, 12311,\n",
       "       12359, 12339, 12238, 12383, 12474, 12393, 12467, 12448, 12502,\n",
       "       12218, 12192, 12485, 11604, 11646, 11733, 11712, 11642, 11783,\n",
       "       12278, 12326, 11962, 12046, 11963, 11957, 11770, 12143, 12488,\n",
       "       12492, 12465, 12453, 12486, 12482, 12429, 11954, 11490, 11920,\n",
       "       11095, 11507, 11506, 10292, 11323, 11832,  4333,  4148,  3018,\n",
       "         761,   566,   392,   297,  1177,  1032,   940,  1485,   291,\n",
       "        1423,   223,   217,  2296,  2743,  4774,  5194,  5291,  5516,\n",
       "        5573,  2677,  4858,  5801,  5920,  5624,  6133,  6363,  7099,\n",
       "        2932,  2856,  2818,  2795,  2972,  2888,  2619,  2628,  2684,\n",
       "        2485,  2579,  2370,  2329,  2415,  2140,  2222,  2226,  2211,\n",
       "        2063,  1833,  1886,  2028,  2192,  2012,  2072,  2026,  2163,\n",
       "        2224,  2287,  2284,  2661,  2745,  2612,  2634,  2649,  2577,\n",
       "        2632,  2581,  2514,  2495,  2555,  2175,  2712,  2748,  2889,\n",
       "        3014,  3132,  3218,  4955,  3658,  3745,  3792,  3656,  3872,\n",
       "        4182,  4045,  4779,  4379,  6040,  6530, 10736, 10368,  9968,\n",
       "        9215, 11218, 10226, 10370,  7683,  3970,  3207,  7270, 10948,\n",
       "       10519,  9509, 10171, 10430, 10713,  9045, 10267, 10068,  7578,\n",
       "        9252,  7676,  7800,  5758,  3435,  4385,  2914,  7841,  5744,\n",
       "        9984,  9670, 10595, 10247, 11482, 11329, 10829, 10369, 10578,\n",
       "       10473, 10169, 10272, 10309, 10187, 10828, 10613, 10481, 10420,\n",
       "       10421, 10654, 10732, 10856, 11330, 11608, 12249, 11446, 12276,\n",
       "       10741, 11773, 11862,   827,  2302,  2830,  1229,  2214,  7389,\n",
       "         867,  7169,  2230,  8916,  9813,  4432,  2207,  1147,   818,\n",
       "        5235,   821,  2343,  5794,  5115,  5451,   232,  1101,  4560,\n",
       "        3149,  1325,   287,   225,  5489,  6571,  7559,  4907,  7032,\n",
       "        4303,  3639,  3721,  3458,  5650,  4708,  3232,  3109,  3249,\n",
       "        4459,  5551,  4023,  4743,  4524,  4030,  4184,  4737,  3853,\n",
       "        5320,  4113,  4263,  4998,  7031,  6616,  6374,  6292,  6364,\n",
       "         999,  2115,  2399,  1044,  1373,   898,   758,  1212,  3144,\n",
       "        3466,  1641,  1857,  3831,  4870,  2233,  1389,  4563,  2715,\n",
       "        6146,  6681,  7065,  6983,  1387,  1352,  2560,  1006,   699,\n",
       "         598,  6497,  1210, 10662, 11188, 10875, 10840, 11055, 10813,\n",
       "       10823, 10991, 10636, 10502, 10507, 10504,  9607,  9805,  9883,\n",
       "        9704, 10127,  9594,  7297,  8501,  6103,  6498,  6245,  7074,\n",
       "        7510,  7658,  8436,  9807,  9413,  9766,  5033,  5943,  6432,\n",
       "        5907,  5481,  6706,  6299,  6936,  6627,  5129,  5765,  7182,\n",
       "        5738,  5387,  6636,  5228,  7558,  9897, 10700,  6715,  5558,\n",
       "        7244, 10024, 10469, 10181, 10659, 10672,  9879, 10175, 10387,\n",
       "       10010,  9858, 10438, 10197,  9837,  9999, 10102,  9845, 10633,\n",
       "       10479, 10521, 10652, 10440, 10008, 10012, 10271, 10303, 10333,\n",
       "       10354, 10320, 10449, 10482, 10371, 10634,  9543, 10323,  9359,\n",
       "        5901,  9936,  9191,  9935,  8783,  9342, 10097,  8202,  6168,\n",
       "        5063,  4996,  4724,  5426,  5690,  6097,  5361,  5645,  5276,\n",
       "        4887,  6700,  9070,  9564,  7176,  3908,  4235,  4116,  5022,\n",
       "        5203,  6089,  2566,  4974,  4973,  1014,  3482,  3511,  3718,\n",
       "        3664,  3898,  3864,  4216,  4179,  4273,  4226,  2564,  1611,\n",
       "        2924,  3252,  3176,  3162,  3824,  3503,  4348,  4028,  4103,\n",
       "        3826,  3724,  4141,  4128,  4995,  5099,  5148,  4714,  4970,\n",
       "       12309, 12253, 12297, 12200, 12260, 12372, 12476, 12509, 12417,\n",
       "       12328, 12427, 12438, 12414, 12371, 12205, 12259, 12135, 12289,\n",
       "       12364, 12314, 12463, 12262, 12254, 12470, 12450, 12522, 12536,\n",
       "       12503, 12415, 12533, 11518, 11539, 10936, 10116, 10376, 10900,\n",
       "       11417, 11425, 11526, 11200, 11548, 11543, 11413, 10549, 10423,\n",
       "       11924, 11888, 11655, 11727, 11387, 11757, 11374, 11801, 12008,\n",
       "       11392, 12207, 12273, 12354, 12235, 12154,  8316,  7150,  6794,\n",
       "        6697,  9367,  7341,  6309,  7809,  8201,  8628, 10457, 10381,\n",
       "        6585,  8645, 10935,  7050,  7339,  7249,  8972,  8862,  8894,\n",
       "        8811,  9540,  9193, 11441, 11219, 11633, 11467, 11639, 11529,\n",
       "        1360,  1462,  1416,  1417,  1410,  1696,  3205,  1993,  3183,\n",
       "        2037,  4535,  3947,  3161,  1569,  1695,  5496,  2840,  1898,\n",
       "        2404,  1680,  2032,  3366,  4899,  4492,  5272,  3809,  7263,\n",
       "        6208,  5677,  6980,  3742,  3591,  3643,  3388,  2777,  2704,\n",
       "        2731,  2727,  2705,  2728,  2729,  2730,  2886,  2887,  2864,\n",
       "        2899,  2937,  2917,  2904,  2681,  2860,  2923,  2868,  2858,\n",
       "        2855,  2883,  2900,  2936,  2915,  2940,  9682,  9493,  9599,\n",
       "        9455,  9645,  9459,  8740,  8718,  8839,  8672,  8856,  8714,\n",
       "        8184,  8441,  8392,  8679,  8524,  9232,  8717,  8668,  8150,\n",
       "        8802,  7645,  7699,  9754, 10326, 10788, 10795, 10987, 10555,\n",
       "       10677, 10480, 10789, 11135, 11030, 11183, 11164, 11406, 11073,\n",
       "       11023, 11700, 12269, 12334, 11900, 11630, 12203, 11231, 11384,\n",
       "       11419, 11562, 11796, 11475, 11802, 11472, 12378, 11603, 12343,\n",
       "       12247, 12365, 12128, 11809, 11960, 11890, 12051, 11889, 11792,\n",
       "       12000, 11930, 11806, 12251, 12153, 12194, 12168, 12283, 11948,\n",
       "       12136, 12134, 12272, 12290, 12255, 12065, 12140, 11803, 11956,\n",
       "       11934, 11075, 11074, 10830, 10019,  9910, 10772, 10543, 10704,\n",
       "       10892, 10062, 10227,  9182,  8901,  8982,  7049,  6482,  7370,\n",
       "        6808,  9758,  5746,  7497,  7707,  8688,  7252, 10777, 11605,\n",
       "       11221,  7477, 10966, 11599, 12358, 12361, 12511, 11319, 12555,\n",
       "        6668,  6820,  6392,  7132,  6050,  5522,  6942,  7782,  6916,\n",
       "        6735,  7959,  7826, 11275, 11776, 12038, 12206, 11450, 10211,\n",
       "       11452,  8710,  5672,  5253,  5252,  5413,  5743,  1064,  3259,\n",
       "        5097,  1435,  1617,  1521,  3527,  4817,  5157,  5646,  5579,\n",
       "        5588,  4746,  5282,  5632,  5514,  5774,  5842,  5728,  5467,\n",
       "        5051,  5407,  5211,  5512,  5369,  4055,  1005,  1010,  1997,\n",
       "        1139,  1007,  7376,  3577,  1640,  4532,  4276,  4735,  4298,\n",
       "        3269,  2597,  4434,  5059,  6824,  7429,  7722,  8836,  7997,\n",
       "        7956,  5767,  5608,  4543,  6232,  6974,  6466,  5498,  5678,\n",
       "        6568,  6789,  6256,  7152,  8791,  7227,  8240,  7311,  9161,\n",
       "        6798,  6115,  5526,  5772,  5353,  5610,  6388,  6732,  6588,\n",
       "        6603,  5179,  2676,  5032,  3272,  3948,  5775,  4121,  5779,\n",
       "        5231,  1629,   753,   882,  5961,   665,  3617,  4295,  3340,\n",
       "        1204,  3147,  3492,  4591,  4038,  4106,  4542,  4663,  4394,\n",
       "        4212,  4644,  5082,  4027,  4549,  5072,  4147,  4330,  5322,\n",
       "        4174,  7598,  5621,  5783,  4531,  1461,  1711,  1687,  1662,\n",
       "        1568,  2155,  2331,  2895,  3959,  4990,  7698,  7957,  7711,\n",
       "        7730,  8072,  7952,  8780,  9392,  6416,  7823,  6247,  8774,\n",
       "        8213,  6610,  5384,  5962,  7824,  6265,  6884,  7092,  8020,\n",
       "        8125,  7706,  6176,  5473,  5085,  4797, 11278, 11618, 11763,\n",
       "       12004, 12109, 11821, 11822, 11834, 11693, 11093, 11500, 11735,\n",
       "       11283, 10737, 11132, 10585, 10225, 10579, 10678, 10740, 11619,\n",
       "       11239, 10361, 10573,  9536,  7585,  9718, 10580,  9164,  8898,\n",
       "        9869,  8084,  7368,  9759,  7827,  6803,  9900,  9627,  7595,\n",
       "        7483,  9905,  8958,  9369,  9059,  7594,  8424,  9894,  5973,\n",
       "        5553,  5625,  7353,  6328,  6831,  5895,  7708,  7943,  7689,\n",
       "        7709,  6500, 10426,  7476,  8571,  8055,  4588,  5027,  5070,\n",
       "        6032,  4991,  4814,  5386,  4934,  4733,  5174,  4302,  3481,\n",
       "        3460,  3645,  4474,  5314,  6584,  7277,  6896,  6381,  7199,\n",
       "        6975,  6476,  7502,  6996,  7455,  8217,  6814,  6672,  7776,\n",
       "        6076,  6085,  5944,  6303,  7040,  7893,  7891,  8090,  7365,\n",
       "        6349,  6663,  7138,  7851,  7293,  7992,  6725,  6469,  7305,\n",
       "        8297,  8243,  6518,  5519,  5536,  3996,   937,  2654,   587,\n",
       "        5001,  5124,   653, 12386, 12180, 12023, 12062, 11869, 12222,\n",
       "       12337, 12490, 12408, 12500, 12473, 12471, 12491, 12559, 12505,\n",
       "       12516, 12596, 12557, 12585, 12554, 12458, 12568, 12460, 12593,\n",
       "       12603, 12611, 12631, 12538, 12623, 12622])"
      ]
     },
     "execution_count": 85,
     "metadata": {},
     "output_type": "execute_result"
    }
   ],
   "source": [
    "clusters.labels_"
   ]
  },
  {
   "cell_type": "code",
   "execution_count": 89,
   "metadata": {
    "ExecuteTime": {
     "end_time": "2019-11-18T13:19:40.420892Z",
     "start_time": "2019-11-18T13:19:38.963578Z"
    }
   },
   "outputs": [
    {
     "data": {
      "text/plain": [
       "array([3181, 5530, 3041, 6602, 1658, 2382, 4814, 5208, 1918, 4496, 1100,\n",
       "       5316,  107, 8845, 5324, 3374,  363, 8638, 5435, 1837, 1941, 3192,\n",
       "       7919, 1719, 8244, 2114, 7673, 6344, 3082, 6134, 4813, 4969, 1507,\n",
       "       4682, 5746, 7409, 1500, 8229, 5208, 1457, 8211,  192, 2667, 4570,\n",
       "        801, 1650, 5816, 6181,  128, 3394, 1876, 4960,  999, 5835, 6666,\n",
       "       6506, 1286, 2012, 1983, 3655, 7934,  831, 2958, 2480, 8565, 7856,\n",
       "       5798, 3112, 6596, 8218, 6597, 5325, 8782, 3150, 3607, 4245, 4884,\n",
       "       2337, 4030, 5029,  791,  195, 6151, 7823, 1624, 1202, 7734, 3930,\n",
       "       1094,  581, 6435, 7757, 2867, 5663, 2386, 3583, 1722, 3491, 4707,\n",
       "        291, 1644, 2427, 3737, 1645, 2115,  116, 4945, 5491, 3742, 5206,\n",
       "        919, 7543,  756, 4951,  804, 8044, 5033, 4344, 6931, 1673, 7882,\n",
       "        813, 2353, 3130, 6159, 1194, 6736, 2428, 1349, 6584, 7544, 2119,\n",
       "        142, 6623, 4239,  845, 5365, 1359, 5784, 1793, 6919, 1999,  375,\n",
       "       4782,  898, 3976, 2740, 4482, 8643,  879, 3099, 4748, 3508, 5397,\n",
       "       5592, 1173, 4274, 4812, 3024,  620, 6623, 1503, 7989,  617, 2251,\n",
       "        786, 4398,  294, 6141, 4083, 1530, 7476, 6663, 2737, 4257, 3573,\n",
       "       4852, 2021,  216, 6274, 4794, 3187, 7429, 5021, 5508, 6424, 2171,\n",
       "       7452, 7802, 4709, 6245, 4583, 7169, 8337, 8125, 4103, 3874, 3627,\n",
       "         82, 5434, 5580, 8550, 1431, 7178, 1837, 1274, 6681, 8187, 5362,\n",
       "       7618, 4414, 5185, 8745, 6148, 4120, 5009, 8803, 7833, 3702, 8064,\n",
       "       6158, 7142, 1584,  116, 5009, 7112, 6974, 8822, 3414, 1668, 2830,\n",
       "       1602,  898, 8641, 3576, 3698, 2267, 3836, 6459, 3797, 2926, 6035,\n",
       "        190, 2037, 5400, 2335, 6045, 2647, 5279, 7234, 8368, 5954, 3031,\n",
       "       6613, 1235,  890, 4642, 3894,  669, 2329, 2046, 6361, 6090, 4960,\n",
       "        343, 4813, 4631, 3798, 6589, 3498, 7454, 1255, 3869, 2960, 3302,\n",
       "       2648, 1804, 1515, 3872, 8107, 1760, 7804, 1295,  470, 7939,  239,\n",
       "       3960, 4328, 3354, 3146, 2675, 6335, 5555, 6391, 8493,  917, 4930,\n",
       "       4201, 7708, 5397, 5604, 1581, 1804, 3580,  128, 2877, 6686, 7813,\n",
       "       2548, 5069, 1998, 4870,  153, 3332, 8275, 3306, 3082,  588, 6657,\n",
       "       8090, 7685, 8014, 7844, 7239, 1496,  957, 4398, 1797, 4739, 6364,\n",
       "       7519, 1218,  918, 6905, 4649,  765, 4357,  876, 5439, 2897, 3522,\n",
       "       2216, 4670, 5770,  581, 2663, 2261,  972, 4855, 7752, 6621, 4818,\n",
       "       7005, 1197, 6837, 1098, 3049, 3296, 5372, 8696, 5862, 7839, 8667,\n",
       "       1877, 6045, 5514, 4983, 2798, 5989, 3885, 1294, 6997, 2567, 5706,\n",
       "         88, 6464, 5801, 7618, 1167, 2722, 8452,  943, 5326, 1939, 7637,\n",
       "       5252, 5764, 1591, 2063, 4564, 2335, 7676, 5721, 2657, 6498, 1215,\n",
       "       6167, 4476, 2668, 6558, 2205, 7022, 6391, 6278, 8812, 4152, 7820,\n",
       "       4142, 8629, 8498, 7142,   43,  943,  416, 5821, 1182, 1040, 2295,\n",
       "       4676, 5088, 8063, 4340, 7125, 1029, 5402, 4874, 6415, 4022, 8360,\n",
       "       3034, 4852, 4365, 5153, 2471, 3384, 3694,   23, 3441, 7691, 6198,\n",
       "        434,  668,  367, 3212, 2531, 2369, 1675, 8507, 3744,  521,  921,\n",
       "        286, 5119, 7853, 8332, 6762, 1337, 5826, 2500, 4725, 8787, 2847,\n",
       "       2159, 1462, 5807, 8572, 6672, 7988, 3441, 6089, 6119, 7538, 4369,\n",
       "       4367, 6946, 8626, 6477, 6585, 7951, 2110,  833, 1180, 8634, 6495,\n",
       "       8659, 8359, 6495, 7791, 6058, 8006, 3824, 2625, 3503, 2307, 2657,\n",
       "       5833, 1906, 4236,  238, 4015, 5811, 2463, 4438,   45, 4862, 1748,\n",
       "       7791, 5842, 1633, 4116, 1504, 2938, 2543,  733, 8050, 7846, 5833,\n",
       "       4115, 3309, 1981, 4244, 7963, 7757, 1659, 2407,  148, 7355, 3822,\n",
       "       4064, 3989, 2862, 8546, 4297, 7671, 6866, 8268, 7567, 2411, 1569,\n",
       "       7497, 2650, 3784, 3486, 3993, 6691, 3298, 4371, 5243, 5732, 8682,\n",
       "        975,  130,  972, 1563, 7371, 2532, 3744, 3987, 7369, 1581, 5394,\n",
       "       6676, 1091, 7505, 6068, 5032, 8568, 8190, 5155, 1311, 3332, 6906,\n",
       "        496, 5468, 6516, 3332, 5853, 2149, 1959, 6516, 8057, 1526, 3824,\n",
       "       7559, 7409, 5625, 3735, 2465, 5385, 3146, 4424, 1295, 4322, 5566,\n",
       "       6651, 7857, 5365, 3487, 4618, 1146, 2228, 6193, 2685, 4725, 6120,\n",
       "       8334, 3932, 8635, 7994, 8842,  832, 2919, 5547, 1204, 4688,  723,\n",
       "       1590, 6439, 2458, 8387, 1528, 1365, 5172, 1755, 7223, 4580, 5476,\n",
       "       4262, 1299, 5283, 3583, 3888, 7641, 2355, 2866, 6001, 2751, 6260,\n",
       "       3735, 2422, 2746, 8397, 4864, 2416, 2142, 8610, 2619, 8077, 4388,\n",
       "        407,  801, 8778, 1282, 1239, 6880,  590, 3064, 8830, 6069, 2182,\n",
       "       2895, 4852, 5601, 7262, 6366,  165, 5533, 3788, 3430, 2554, 7123,\n",
       "       1797, 4360, 3065, 1846, 1268, 1539, 8682, 4934, 4813, 1078, 6837,\n",
       "       6117, 8289, 3054, 3077, 7368, 3867, 3431, 6216, 3502, 3241, 4679,\n",
       "       4294, 2042, 2709, 3888, 7805, 4934, 1963, 3183, 8664,  309, 2399,\n",
       "        376, 2159, 6516, 6222, 6943, 4902,  617, 5591, 8001, 6864, 4807,\n",
       "       4959, 7106, 3454, 3686, 7759, 3156, 1047, 4236, 3075, 1804, 8723,\n",
       "       4848, 1409, 8042, 1780, 3738, 4889, 6269, 6958, 2792, 2229, 8109,\n",
       "       8405,  660, 4244, 4657, 7308, 8497, 1908, 7119, 7405, 4150, 3328,\n",
       "       7232, 6124, 1960, 3467, 3513, 7766, 6907, 3141, 5845, 7499, 3840,\n",
       "       2466, 7096, 4160, 2167, 2053, 1756, 8114, 4463,  603, 4649, 1010,\n",
       "       8745, 4662,  965, 7125, 5346,  571, 1548, 4619, 4504, 4200, 4953,\n",
       "       7804,  469, 4911, 3956,  234, 5842, 4943, 8161, 6202, 3560, 6925,\n",
       "        934, 7122, 4376, 4439, 7055, 1189,  142, 7186, 3563, 7559, 1625,\n",
       "       2501, 5491, 2766, 4108, 6480, 3705, 6431, 7382, 7773, 3549, 2679,\n",
       "       2498, 6599,  933, 7020, 6567, 3831, 8688, 5093, 5883, 6787, 7452,\n",
       "       2684, 5875, 1409,  668, 5121,  246,  549, 2947, 6460, 7117, 4092,\n",
       "       2066, 6669,  176,  391,  743, 2578,  135, 7416, 1315, 3889, 3751,\n",
       "       7442, 1827, 2469, 5657, 4678, 5185, 7490, 4649, 8412,   47, 8446,\n",
       "       2397, 3901, 2890, 3961, 2016, 8612, 7645, 1983, 8808,   78, 7198,\n",
       "         29, 5538, 4315, 4682, 8333, 3736, 7666, 1244,  119,  307, 1695,\n",
       "       3442,  729, 5654, 1143, 7498, 7532, 5286, 5365, 4353, 2121, 5138,\n",
       "       8615,  495, 4124,  370, 2925, 3105, 4725, 7673, 1584, 4258, 4446,\n",
       "       5752, 8812, 6498, 1252, 4959, 4094, 5407, 8419, 4297, 2836, 1724,\n",
       "       3948, 8578, 2840, 4645, 6809, 3289,  642, 2330, 1374, 5948, 6358,\n",
       "       4069, 8343,  652,  820, 6947, 6601, 8276, 4039, 6037,   25, 5643,\n",
       "       5732, 3002, 7796, 6729, 8101, 5753, 4644, 1992, 5351,  815, 1543,\n",
       "       2608, 7098, 7970, 4272, 5252,  625, 5804, 2822, 6533, 7186, 2073,\n",
       "       8299,  360, 7081,  466,  434, 8766, 8447, 4010, 6120, 7111, 3451,\n",
       "       4193, 1337, 4571, 2775, 7759,  749, 7520, 1288, 1674, 7074, 3803,\n",
       "       8536, 4470, 1434, 1050, 2055, 7029, 3881, 8844, 5833, 4481, 6762,\n",
       "       5597,  130, 1129, 6834, 8686, 6651, 1416, 2468, 1710, 4504,  734,\n",
       "       6188, 3232, 3659, 5168, 7996,  862, 5155, 4006, 4425, 7340, 6747,\n",
       "       5952, 6016, 2575, 2393, 7001, 8674, 3145, 3396, 1649,  795, 4210,\n",
       "       2337, 5067, 1256, 5444, 2073, 4373, 7220, 1661, 8382, 7567, 5397,\n",
       "         78, 7359, 5970, 7332, 4184, 1053, 1721, 4984,  114, 6274, 1499,\n",
       "       3996, 4678, 5024,  324,  994, 5371, 8049, 8329, 3331, 3781, 2432,\n",
       "       6667, 5279, 7671, 3020, 2441, 2403, 6786, 8819, 6485, 5912, 3360,\n",
       "       1200, 2051, 6976, 6524,   31, 2690, 3121, 3096, 6039, 5818, 8784,\n",
       "       6896, 1919, 2830,  934,   22, 8254, 5389, 4916, 7748, 2316, 3865,\n",
       "       8658, 2954,  360, 5017, 6286, 7969,   77, 8591, 8169, 4946, 7308,\n",
       "       5077, 4908, 5174, 1112, 1810, 5128, 7592, 3781, 8337, 1085, 1482,\n",
       "        579, 2694, 4097, 8084, 4302, 7503, 1667, 5402, 8112, 3457, 3694,\n",
       "         78, 3759, 3184, 6192, 5137, 1610, 8600, 7787,  234, 5523, 1833,\n",
       "       7219, 5785, 3008, 7519,  303, 3562, 7607, 4058, 5805, 7718, 5624,\n",
       "       5137, 7685, 4666, 1318, 5808, 8372, 6230,  442, 5600, 7462, 7551,\n",
       "       2747, 1796, 1216, 1970, 3696, 4774, 7415, 6327, 2581, 3560, 5833,\n",
       "        136, 1215, 3105, 7725, 3741, 4827, 5489, 6777, 6897,  328, 8128,\n",
       "       6215, 1706, 2169, 3294, 4562, 7272, 4653, 6126, 4721, 4952, 4258,\n",
       "       6693, 8243, 3991, 5876, 2898, 5397,  726, 4209, 6180, 3941, 7315,\n",
       "       1785, 3623, 4731, 7306,  263, 7136, 6002, 1815, 7700, 3436, 1534,\n",
       "       5404, 2086, 8191,  646, 8226, 3961, 1361, 2810, 2047, 1664, 4365,\n",
       "       7272, 5758, 1941, 2002, 1413, 2201, 1808,  553, 4698, 6528,  133,\n",
       "       3728, 7361,   51, 4215, 3048, 2198, 1726, 3288, 2606, 6249, 7204,\n",
       "       8769,  986, 3441, 4401, 8430, 7759, 3429,   43, 4796, 6477, 5090,\n",
       "        116, 8812, 2948, 5291, 2722,  166, 4244, 5729, 7664, 3007, 6929,\n",
       "        668, 6152, 1028, 5452, 7341,    9, 4316, 4251, 5502, 2516, 7836,\n",
       "       4005, 5224, 1424, 7559,    8, 7622,   80, 1992, 5616, 1028, 6713,\n",
       "       5507, 2442, 3780, 2546, 4290, 8638, 5736, 5216, 7146, 4994, 2618,\n",
       "       7573, 3640,  189, 3215, 7067, 7015, 4958, 1956, 5383, 4330, 7230,\n",
       "       5109, 6896, 7743,  875, 6135, 1934, 3035, 2246,  683, 5043, 3962,\n",
       "       6134, 6283, 4322, 5616, 4750, 1042, 5753, 6477, 1776, 4492, 6931,\n",
       "       2175, 7692, 1387, 8341, 4030, 8532, 8419,  844,   35, 3218, 7918,\n",
       "        743,  353, 2949, 4651, 6715, 6279, 5433, 1108, 4504, 2183, 2005,\n",
       "       8497, 6457, 8077,  494, 4136, 1533, 8277, 7553, 2126, 2805, 7320,\n",
       "        327, 3490,  485, 7365, 2807, 4932, 1723, 3157, 1195, 6534, 4093,\n",
       "        973, 2497, 1712,  801, 4394, 8023,  158, 5372, 8302, 2193, 6498,\n",
       "       1852, 2359, 8474, 6624, 6599, 3182, 5624, 5470, 7797, 3211, 5265,\n",
       "       3774, 2007, 3231, 2473, 1987, 1234, 4923, 3030,  362, 1200, 8792,\n",
       "       3246, 5623, 6372, 3426, 1759, 6751,  213, 2509, 1644, 8437, 4234,\n",
       "       4315, 1689, 6156, 3554, 2176, 5180,  985, 8099, 8822, 3364, 5770,\n",
       "       8249, 1224, 4534,   35, 7326, 6885, 3536, 4936, 4052, 7490, 2550,\n",
       "       5154, 7325, 4569, 7581, 3061, 7365, 5405, 6464,  392, 2888, 8250,\n",
       "       3103, 7116, 6725, 4320, 3614, 6756, 1487, 8702, 5696, 2829, 1900,\n",
       "       6140, 7975, 2155, 8299, 6959, 2411, 6749, 4733, 4702, 4520, 3937,\n",
       "       5964, 6891, 3749, 7076,  291, 6460, 4516, 6160, 7134, 3820, 8580,\n",
       "       7344, 1100, 3709, 7618, 4309, 7119, 5728, 7656, 8645, 3199, 2841,\n",
       "       2116, 6821, 6588, 4620, 5137, 7754, 5580, 7247, 2684, 6275, 3642,\n",
       "       3865, 8022, 6771,  628, 5249, 3383, 5135,  214, 2742, 4655, 3643,\n",
       "       2489, 2014, 7034, 3485, 8536, 5060, 6453, 4136, 5737, 2563, 7611,\n",
       "       7180, 8861, 7454, 4731, 1528, 1117, 8111, 7980, 6186, 7963, 1837,\n",
       "       8858, 7081, 2728, 8049, 3623, 2543, 6596, 4191, 5350, 1195, 4691,\n",
       "        372, 2355, 6500, 2920, 7229, 7142, 8359, 4649, 1899,  345, 2167,\n",
       "       3270, 4594, 4555, 1600, 2897, 8619, 7348, 8270,  904, 2205, 6036,\n",
       "       6731, 7594,  759, 4449, 7223, 3414, 2294, 7840, 8638, 2265, 7833,\n",
       "       8519,  881, 1426, 2186, 7016, 3742, 7238, 8165, 3824, 8658, 5215,\n",
       "       1186, 3084, 6731, 3907, 2555, 6984, 3905, 5934, 1735, 5433, 1886,\n",
       "       7799, 5152, 6405, 4486, 5063, 2329, 4644, 8080, 7525, 5611, 5851,\n",
       "       7218, 6942, 4876, 3414,  176, 4871, 5328, 7341, 6858, 3511, 3616,\n",
       "       3227, 6931, 6278, 2769, 3698, 6124, 8548, 2300,  664, 3091, 7306,\n",
       "       2910,  764, 6901, 7706, 8660, 4623, 6139, 7171, 2771, 2383, 6037,\n",
       "       7063, 1556, 8555,  451,  820, 3662, 1748, 1935, 8823, 2161, 8775,\n",
       "       4119, 2540, 6864, 4884, 2001, 5335, 5477, 5282, 3569, 8784, 5680,\n",
       "       4352, 8228,  885, 1440, 5722, 1116, 1687, 4124, 6692,  215, 3811,\n",
       "       5350, 2747, 3421, 5030, 2269, 3900, 3154, 6165, 7528, 1893, 4977,\n",
       "       3579, 5968, 3841, 2153, 3875, 6965, 8071, 3538, 8072, 3947,  618,\n",
       "       4949, 6240, 5841, 5839, 1338, 8309, 5471, 8732, 1685,  349, 5143,\n",
       "       8775, 2955, 6846, 4836, 7612, 8543, 7382, 4171, 3941,  590, 7206,\n",
       "       5000, 4496, 1105, 7839, 6521, 1215, 6309,  775, 4797, 2707,  527,\n",
       "       4186, 5805, 4099,  204, 1925,  442, 1512, 3736, 3305, 1841, 4964,\n",
       "       7362, 7963,  414, 8426, 2205, 4667, 2229, 4302, 6284, 5121, 7432,\n",
       "       3450, 7197, 2698, 4948, 1103, 5052,  985, 6732, 3984, 1125, 6492,\n",
       "       7002, 1275,  837, 2033, 3667, 3821, 5477, 4874, 8701, 1441, 5368,\n",
       "       8519, 2990, 1762, 6354,   66, 8038, 2927, 6670, 3931, 6964, 4800,\n",
       "       6746,  838, 2705,  166, 3584, 1793, 7068, 8824, 2547, 4816, 8858,\n",
       "       8206, 6836, 5554, 7625, 3691, 4207, 4426,  345,  843, 1925,   49,\n",
       "       2580, 1169, 1015, 6735, 7692,  791, 2563, 4693, 4347, 3630, 2833,\n",
       "       5815, 8112, 1390, 3414, 6081, 3626, 1812, 6238, 1700, 5734, 4889,\n",
       "       3554, 6786, 3417, 2857, 5768, 5635, 3572, 4505, 3636, 1014, 7675,\n",
       "       6399, 7508,  405, 8830,  262, 7109, 1582, 3082,  233, 5723, 5117,\n",
       "       7374, 8491, 5115, 3244, 3085, 4929, 7091, 5520, 7359, 7276, 6879,\n",
       "       1298, 1631, 2574, 8453, 4463,  859, 3012, 3626, 6864, 5119, 1713,\n",
       "       3512, 3166,  777, 4858,  532, 6784, 2433, 7165, 6934, 5915, 8272,\n",
       "       4951, 2042, 4565, 6989, 7950, 5078, 4228, 8556, 1799, 8046, 3426,\n",
       "       2152,  485,  571, 2355, 7239, 7292, 2675, 6726, 2274, 5130, 3167,\n",
       "       2690, 4322,  721, 1675, 1543, 5709, 7279, 1648, 2981, 1833, 2741,\n",
       "       1153,   86, 5365, 3450, 4921, 7930, 2930,  802,  133, 1756, 4937,\n",
       "       6056, 7218, 6543, 4661, 7083, 1959, 3133, 4473, 3007, 2354,  218,\n",
       "       4338, 3544, 8170,  772, 7378,  851, 5356, 7767, 1861, 1200,  723,\n",
       "       1951, 5975, 4693, 5971, 5547, 3435, 5041, 4851, 7394, 7909,  390,\n",
       "       5757, 7131, 4897, 5496, 1758, 1817, 5750, 7743, 2060, 1837, 1335,\n",
       "       6541, 5988, 5420, 2746, 2974, 4445, 4406, 8551, 6511, 1157, 1763,\n",
       "       3887, 6700, 5562, 5394, 2419,  525, 3354, 1645, 2073, 5501, 6343,\n",
       "       4900, 8352, 2377, 7217,   96, 6459, 5625, 3040,  328, 6812, 1854,\n",
       "       5901, 6817, 4591, 2471, 1959, 2349, 6452, 4105, 3757,  591, 7813,\n",
       "        136, 5573, 4623, 6257, 1744, 5447, 3983, 8688,  778,  429, 2347,\n",
       "       2414, 5559, 7764, 3495,  635, 6146, 6621, 3919, 4468,  518, 8680,\n",
       "       6894, 6363, 5849, 4389, 3419, 6135, 3536, 7985, 7710, 3986, 8669,\n",
       "       4048, 1992, 4064, 1166, 5005, 8489, 4948, 3961, 6358, 7325, 7145,\n",
       "        357, 8364, 4692, 1462, 3328, 4050,  799, 2368, 4040, 2622, 6806,\n",
       "       8657, 8732, 6843, 3826, 7422, 8810, 5169, 8564, 5655, 8590, 7238,\n",
       "       4666, 4570, 8489, 3644,   36, 8282, 8165, 1106,  202, 7231, 5365,\n",
       "       5769, 5729,  509, 6705, 1192, 1327, 3830,  384, 2650, 7401, 5471,\n",
       "       5203, 3705, 6134, 2521, 2624, 3153, 5280, 4486, 6598, 2065, 3569,\n",
       "       1250, 8458, 1212, 5087, 8386, 1506, 8363, 1667, 2535, 1914, 2894,\n",
       "       1871, 3297, 5448, 7272, 4192,  880, 2867, 1662, 2118, 7105, 3538,\n",
       "       5766, 6886, 4481,   33, 5082, 8548, 5679, 7619, 2577, 2718, 4103,\n",
       "       4789,  490, 2163, 3172, 2644, 3338, 7626, 1518,  124, 1679, 4536,\n",
       "       2213, 6362, 4827, 2572, 6302, 2038, 7341, 1580,  760, 5313,  502,\n",
       "       5258, 4618, 1906,  704, 5837, 2206, 5742,  370, 3340,  859, 4791,\n",
       "       2894, 2669, 5525, 6135, 7723, 3948, 2560, 4108, 7171, 2458, 4582,\n",
       "       4786, 7634, 5874, 6891, 2048,  876, 2337, 4320, 4624, 7454, 5103,\n",
       "        326, 4933, 6278, 8805, 8475, 1297, 6265, 2920, 2035, 6967, 2841,\n",
       "       8362, 3818, 5254,  296, 1812, 6249, 2125, 6833, 8758, 3154, 2572,\n",
       "       6910, 1414, 7123, 6381, 8830, 4481, 8736, 6814, 4687, 3738, 1557,\n",
       "       6950, 1657, 3396, 8696, 5753, 5887, 6132, 3960, 2634, 6344, 6331,\n",
       "       5365, 2932, 7058, 7786, 2055,  213, 8338, 5153, 3014, 3508, 5732,\n",
       "       4351, 5484, 7580, 3551,  478, 5155, 2165, 4743, 5646, 2375, 4569,\n",
       "       7844, 4477, 8223, 4522, 4977, 1648, 4257, 1061, 1409, 8150, 6660,\n",
       "       2660, 5490,  280, 4799, 7123, 5958, 6495, 1317, 3639, 4977, 4258,\n",
       "       1893,  596, 5949, 8651, 3876, 6905, 5557, 7135, 3177, 4763, 1325,\n",
       "       2411, 3238,  462, 3994, 4092, 3694, 5847, 2589, 4782, 3058, 3484,\n",
       "       1950, 8335, 7217, 6192, 7855, 5812, 7247, 6634, 2588, 1945, 1176,\n",
       "        298, 6919,  341, 8025, 8692, 2248, 1919, 2199, 1748,  961, 1255,\n",
       "       8692, 2300, 2576, 4126,  191,  668, 3661, 6165, 3990,  470, 4378,\n",
       "       1012, 4959, 6182, 2056, 6075, 3894,  493, 4939,  731, 8570, 4134,\n",
       "       5667, 3978, 4921, 2546, 8191, 4929, 8100,  674, 8681, 1879,  891,\n",
       "       2923,  299, 6191, 8572, 3726, 8169, 6002, 6062, 2377, 5560, 7605,\n",
       "       6231, 8391, 8317, 2912, 7017, 5746, 6779, 6454, 3914, 6478, 4131,\n",
       "        444, 3147, 1536, 5567, 7451, 8574, 4094, 8286, 3953, 3915, 7850,\n",
       "       3463, 6526, 6456, 3182, 5131, 7782, 4165, 5851, 3634, 2665, 6223,\n",
       "       1972, 2171, 3441, 7851, 5014, 6849, 1496, 1494, 3264, 5508, 5649,\n",
       "       5374, 7120, 4065, 5828,  857, 1826, 2067,  176,  410, 5687, 4835,\n",
       "       8453, 7559, 5330, 8091, 1990, 3522, 3993, 2920, 7559, 3004, 6137,\n",
       "       8349, 1069, 8474, 2458, 4544, 3386, 5029, 4711, 5135, 5652, 2916,\n",
       "       4676, 6717, 1905, 1627, 1991, 2133, 4118, 3905, 6511, 6274, 6352,\n",
       "       8362, 7124, 2168, 5776, 1237,  557, 6614, 5868, 3150, 3338, 8324,\n",
       "       5928, 5165, 4701, 4148,  847, 8593, 8645, 3589, 3255, 3269, 2432,\n",
       "       4373, 4119,  254, 3317, 2887, 3133, 5005, 2108, 7274, 5397,   71,\n",
       "       5476, 7486, 4104, 4566,  500, 2985, 4398, 2984, 2651, 1419, 6902,\n",
       "       2360, 3080, 6814,  138, 4858, 1571, 2597, 7300, 3639,  833, 7758,\n",
       "       3962, 4847, 7101,  635,  378,   98, 4423, 6949, 3615, 6548, 7530,\n",
       "       6806, 6455, 6176,  376, 4165, 2300,  697,   40, 8472, 3297, 3835,\n",
       "        700, 2115, 4364, 1434, 6465, 3695, 5274, 8491, 5819, 8574, 4468,\n",
       "         51, 1763, 6379, 8526, 4402, 1255, 6894, 2809, 5703, 3264, 7605,\n",
       "       2760, 4369, 1659, 5180,  532, 4519, 8587, 5911, 7913, 8568, 3536,\n",
       "       8295,  410,  278, 5657, 7239, 7944, 4682, 1531, 8190, 5509, 5457,\n",
       "       5399, 1146, 8831, 7666, 8133, 7188, 5612, 1777, 6228, 3332, 7126,\n",
       "        227, 2171, 7606, 5146, 8711, 3990, 6570, 7192, 6098, 5351, 8022,\n",
       "       6963, 1093, 5093, 3974, 7254, 7048, 3396, 8707, 5575, 8108, 2563,\n",
       "       3525, 7783, 2994,    4, 6687, 3335, 7544, 7403, 1675, 3280, 1555,\n",
       "        298, 6008, 6603, 5468, 1593, 6482, 8131,  135, 6070, 4755, 8091,\n",
       "       2742, 2615, 3267, 1908, 2518, 4371, 5872, 7835, 6861,  274, 5757,\n",
       "       8324, 3375, 3854, 6465, 7012, 3352, 5531, 3024, 4761, 3522, 4338,\n",
       "        641, 7134, 3432, 8460, 7115, 1876, 4846, 2699, 2668, 7860, 5174,\n",
       "        506, 6125, 2202, 2329, 6385, 5375, 3101, 1676, 4569, 5709, 8447,\n",
       "       1370, 8161, 5011, 6119, 1299, 5612, 7586, 4020, 2014, 7393, 6688,\n",
       "        244, 6076, 2877, 4194, 1260,   22, 4141, 3238, 7096,  127,  739,\n",
       "        943, 5342, 5294, 3981, 7789, 4645, 8659, 4098,  366, 4460, 6150,\n",
       "       2610, 2275, 8179, 7263, 7295, 7050, 2230, 3591, 4768, 3573, 2527,\n",
       "       1855,  879, 5458, 8534, 1290, 6063, 6033, 3701, 1543, 2156, 4951,\n",
       "       6664, 6084, 4789, 2947, 7771, 1466, 1710, 6630, 2429, 8118, 2052,\n",
       "       6894, 3920, 1427, 7454, 7977, 7261, 8072, 5221, 6482, 1878,  350,\n",
       "       6268,  482, 1920, 4080, 7956, 8555, 1934, 8563, 7913, 8849, 4570,\n",
       "       4528, 4108, 7872, 2600, 2396, 2449, 2608, 1478, 4750, 4031, 2588,\n",
       "       7426, 4678,   17, 4633, 4881, 5712, 5155, 1208, 3678, 5367, 3811,\n",
       "       5627,   65, 4892, 3931, 1697, 6145, 5399,  553, 3014, 1588, 1158,\n",
       "       8101, 1908, 1553, 6475,  348, 4242, 1790, 3483, 6485,   69, 1781,\n",
       "       1560,  939,  239,  425, 3825, 3505, 1595, 3907, 2716, 7310, 6243,\n",
       "       4436, 4984, 7795, 8251, 4715, 5488, 6135, 3981, 8249, 3792, 3519,\n",
       "       5726, 4716, 7689, 6690,  361, 2021, 5157,  589, 8818, 1603, 5766,\n",
       "       5934, 8308, 6606, 4106, 1295, 5703, 3820, 7546, 8169, 3759, 2016,\n",
       "       4857, 2863, 6245, 2657, 5027, 3645, 1992, 1686, 3422, 6969, 8564,\n",
       "       2410, 6451, 3887, 7203, 3736, 2906, 5925, 1447, 2957, 1449, 1204,\n",
       "       4299, 1267, 7710, 6891, 5863, 1151, 6382, 4094, 6401, 4527, 1492,\n",
       "        592, 7523, 1267, 3640, 1725,   42,  302, 4346, 7272, 1841, 2367,\n",
       "       7181, 7994, 4097, 2313, 2840, 8310, 7359, 5027, 8706, 6989,   37,\n",
       "       3638, 8637,  746,  723, 6276, 3777, 6368, 1500,  592,  399, 8553,\n",
       "        940, 5296, 1635, 4129, 6704, 7595, 2130,  841, 6993,  301, 7074,\n",
       "       7678, 7212, 3120, 5853, 4223, 1103, 8148, 1875, 8726, 1182,   52,\n",
       "       5952, 3474, 5514, 7032, 2932, 2188, 3019, 1165, 1777, 8255, 8319,\n",
       "       3739, 5318, 3110, 7475, 8154, 7667, 8566, 5619, 5326, 8322, 6485,\n",
       "       4249, 6528, 5458, 8806, 3031, 2204,  884, 3741, 1395,  989, 1518,\n",
       "       5128,  673, 2418, 3628, 2215, 5908, 6725, 2305, 8489, 5329, 4781,\n",
       "       7503, 6963, 7218, 1489, 7761, 7249, 2338, 5821, 1010, 4194, 6467,\n",
       "        834, 2273, 6087, 5407, 6006, 8473, 1401, 8562,  449, 4257, 1872,\n",
       "       3632, 5153, 3366, 4573,  136, 7399, 6487,  716, 2763,  708, 1445,\n",
       "       1440,  848, 3981, 4775, 4083, 7888, 7787, 5309, 5202, 3780, 1466,\n",
       "       5679, 1716, 1689, 7985, 3636, 4620, 4945, 1047, 6463, 2691, 1580,\n",
       "       7784, 3661,  294, 8381, 2153, 4603, 8568, 7446, 1771, 4864, 1279,\n",
       "       5451, 1128, 4952, 4631, 6320, 2681, 6404, 3809, 3767, 8216, 3300,\n",
       "       6599, 7057,  940, 7605, 4217, 1350, 6475, 7930, 2272, 4231, 2126,\n",
       "       3167, 4896, 2767, 3850, 5155, 3797, 1739, 1187, 4733, 8550, 8677,\n",
       "       3782, 2412, 5050, 1112, 8293, 8747, 7468, 3184, 5052, 4091, 8198,\n",
       "        829, 3048, 8324,   13, 3268, 3956, 6908, 2762, 3480, 4170, 2866,\n",
       "       5467, 2312, 6491, 6179, 3316, 4488, 2927, 3369, 8693, 6468, 2141,\n",
       "       2402, 4265,  746, 4969, 4054, 7583, 5950, 1416, 1830, 2464, 4249,\n",
       "       6479, 1185, 7621, 3799, 8131, 6334,  380, 4979, 3471,  737, 2616,\n",
       "       5092, 7156, 1438, 5272, 1001, 1200, 8336, 2104, 1125, 6100,  480,\n",
       "        129, 5263, 3623, 3153, 7407, 4691, 8697, 3228, 3760, 4896, 1614,\n",
       "       7146, 3667, 7953, 1686, 8079, 2181, 2260, 3372, 2050, 8825, 7735,\n",
       "        567, 8391, 2975, 3533, 6567, 5228,  664, 4557, 4891, 2796, 5484,\n",
       "       5529, 3180, 6752, 2889, 2957, 3602, 4364, 5408, 7780, 8365, 6048,\n",
       "       4743, 1422, 3682, 5796,  898, 5902, 5590, 7968, 1313, 3350, 8012,\n",
       "       4154,  154, 4250, 5427,   96, 8149, 2894, 4700, 3666, 2167, 2057,\n",
       "       7370, 3902, 4696, 7163, 2016, 2144, 4079,   49, 8358, 2298, 1383,\n",
       "       8482, 8246, 4090, 7691, 3416, 1307, 3595, 4794, 7219, 4009, 3748,\n",
       "       2167, 6940, 6526, 1334,  339, 6025, 4445, 3493, 4821, 3635, 2518,\n",
       "       4343, 5146, 4653, 6925, 3085, 2969, 1594, 3536, 4851,  488, 5412,\n",
       "       5359, 6994,   95, 7567, 1688, 6582, 6487, 1403, 2248, 5630, 4335,\n",
       "       2694, 2418, 5382, 1759, 1608, 7348, 4026, 2518,  328, 7642, 1264,\n",
       "        373, 3824,  973, 2280, 5141, 2323, 8112, 8650, 4038, 8293, 1153,\n",
       "       1712, 2084, 2457,  904,   75, 2879, 7754, 8576, 2432, 1113, 5819,\n",
       "       2339, 3632, 5149,   50, 7909, 7183, 2055, 1755, 3162, 3694, 2457,\n",
       "       4512, 3350, 6495, 4637, 5005, 1476, 1147, 3925, 1457,  414, 3738,\n",
       "        711,  232, 7338, 2983, 1846, 7508, 3224, 5308, 5316, 3238, 8376,\n",
       "       5343, 1739, 3363, 6594, 5897, 4175, 1719, 8733, 1375, 2269, 2447,\n",
       "        978, 6244, 5842, 3566,  567, 5254, 5964, 8101, 2657, 8844, 6887,\n",
       "       1447, 3947, 6068, 7338, 4443, 1278, 5497,  519, 5987, 2887, 2009,\n",
       "       2609, 6228,  685, 7478, 7867, 7661,  296, 4257, 4466, 5102, 7927,\n",
       "        198, 1064, 7142, 1679, 7291, 4865, 1668, 3428, 4063, 6617, 8529,\n",
       "       5797, 5087, 8118, 8809, 7165, 8628,  723, 1359, 6898, 7794, 3539,\n",
       "       3454, 5608, 4524, 4691, 5878, 3315, 4607, 1604, 8319, 5926, 2086,\n",
       "        170, 3341, 8383, 6998, 2269, 7197, 4423, 4758,  951, 1409, 4861,\n",
       "       6973,  775, 6544, 6802, 4861, 4599, 7746, 1491, 4230, 3146, 2623,\n",
       "       2331, 5056, 6568, 5029, 4378, 4000, 2790, 4663, 2481, 3960, 7915,\n",
       "       3441, 3393, 5860, 3231, 7545, 1098,  590, 1563, 5269, 1192, 5478,\n",
       "       2153, 4582, 3514, 8534, 7843, 1649, 2473, 8267, 2271, 2736, 8702,\n",
       "       4942, 5729, 8136, 4391, 7515, 2416, 4018, 6072, 7350, 8107, 2932,\n",
       "       8643, 7261, 8731, 8859, 1885, 1797, 1290,  899, 5113, 8813, 4282,\n",
       "       4497, 8262, 1848, 2011, 1133, 6647, 1142, 7731, 6485, 8682, 4183,\n",
       "       6337,   86, 3536, 5798, 3103, 6672, 2370, 3192, 6165, 8132, 2241,\n",
       "       3865, 8323, 5549, 5352, 4855, 6853, 2016, 1995, 5826, 3524, 1675,\n",
       "       5994, 8078,  833, 4495, 6442, 8504,  408, 3715, 5076, 3565, 7581,\n",
       "       4142, 3367, 1329, 8623, 7194, 3085, 7504, 1843, 2460, 1759, 5741,\n",
       "       3579, 7860, 5327, 4797, 6967,  344, 7286, 2194, 7339, 3210, 6109,\n",
       "       8505, 6951, 1712, 4267, 3762, 7369, 6591, 2192, 5296,  281,  872,\n",
       "       6135, 7653, 3047, 2572,  933, 7727, 6320, 1723,  131, 7378, 8578,\n",
       "       3422, 4995, 1555,  960, 2676, 2010, 6459, 3811, 1905, 6249, 1771,\n",
       "       3575, 6802, 3516, 1301, 2338, 2541, 4733, 1269, 5765, 1590, 3090,\n",
       "       5138, 2862, 5840, 2763, 3949, 3149, 7045, 1320, 6058, 3824, 1010,\n",
       "       5477, 8603, 8771, 3230,  476, 3654, 5328, 4838,  725, 4434,  626,\n",
       "       3715,  899, 4135, 7228, 4183, 5988, 4535, 1420, 2664, 2066,  480,\n",
       "       7815, 3074, 2438, 6156, 7539, 3150, 3522, 2668, 2258, 4026, 2952,\n",
       "       3081, 4160,  580, 8508, 8593, 7735, 4560, 2064, 7985, 2746, 8579,\n",
       "       2467, 2323, 4097, 6222, 7319, 5722, 8079, 8679, 3939, 8169, 6461,\n",
       "       1972, 2182, 1523, 1798, 3961, 6442, 3074, 4453, 2438, 3346, 6782,\n",
       "        810, 7546, 4760, 2162, 2025, 3558, 2099, 3608, 8490, 1548, 2115,\n",
       "       1142, 1692, 8578, 6683, 1759, 6164, 7013, 1998, 5770, 6259, 7038,\n",
       "       8291, 8498, 7021, 8565, 7817, 2660, 8683, 1600, 4693, 1011, 7029,\n",
       "       5703, 2846, 5769, 2057, 8536, 1980, 7039, 8841,  513, 5784, 6068,\n",
       "       1177, 3414, 3210, 2012, 2415,  508,  279, 8851, 5454, 6151, 3590,\n",
       "       2905, 4952, 6814, 3363,  794, 5362, 5535, 8090, 4396, 1352, 3416,\n",
       "       5476, 8318, 2877, 8637, 4820, 2219, 3611, 7652, 2527,   42, 4049,\n",
       "       3114, 7385, 2908, 4438, 3614, 6616, 3312, 1279, 5665, 3791, 5075,\n",
       "       4168,  199, 2852,  946, 5282, 7530, 2807, 4390, 4227, 1697, 4808,\n",
       "       7206, 4065, 1831])"
      ]
     },
     "execution_count": 89,
     "metadata": {},
     "output_type": "execute_result"
    }
   ],
   "source": [
    "clusters.predict(X_test)"
   ]
  },
  {
   "cell_type": "markdown",
   "metadata": {},
   "source": [
    "# RESEARCH QUESTION"
   ]
  },
  {
   "cell_type": "markdown",
   "metadata": {},
   "source": [
    "#### Q: Given data, is it possible to determin which data nomrmalizarion method, which dimensionality reduction algorithm and which classification algorith will work best with it?"
   ]
  },
  {
   "cell_type": "markdown",
   "metadata": {},
   "source": [
    "Generit programming is an optimizer than can prove useful in this case. [TPot](https://github.com/EpistasisLab/tpot) is a Python library that is specifically implemented for this task. From the [documentation](http://epistasislab.github.io/tpot/):\n",
    "\"TPOT will automate the most tedious part of machine learning by intelligently exploring thousands of possible pipelines to find the best one for your data.\"\n",
    "\n",
    "Let's give it a try."
   ]
  },
  {
   "cell_type": "code",
   "execution_count": 238,
   "metadata": {
    "ExecuteTime": {
     "end_time": "2019-11-16T14:22:36.072429Z",
     "start_time": "2019-11-16T14:22:36.069383Z"
    }
   },
   "outputs": [],
   "source": [
    "# The labels are the same; lets get fresh instances and attributes data.\n",
    "instances_features = dataset.iloc[:, :-1].values"
   ]
  },
  {
   "cell_type": "code",
   "execution_count": 239,
   "metadata": {
    "ExecuteTime": {
     "end_time": "2019-11-16T15:08:14.849699Z",
     "start_time": "2019-11-16T15:08:14.847399Z"
    }
   },
   "outputs": [],
   "source": [
    "# We cant to classify, so let's import the TPOTClassifier\n",
    "from tpot import TPOTClassifier"
   ]
  },
  {
   "cell_type": "code",
   "execution_count": 240,
   "metadata": {
    "ExecuteTime": {
     "end_time": "2019-11-16T15:09:58.915447Z",
     "start_time": "2019-11-16T15:09:57.795243Z"
    }
   },
   "outputs": [],
   "source": [
    "X_train, X_test, y_train, y_test = train_test_split(\n",
    "    instances_features,\n",
    "    labels, \n",
    "    test_size=0.30 # Still a 70/30 split\n",
    ")"
   ]
  },
  {
   "cell_type": "code",
   "execution_count": 244,
   "metadata": {
    "ExecuteTime": {
     "end_time": "2019-11-16T15:18:17.375909Z",
     "start_time": "2019-11-16T15:18:17.372132Z"
    }
   },
   "outputs": [],
   "source": [
    "# Now instantiate the optimizer\n",
    "pipeline_optimizer = TPOTClassifier(\n",
    "    generations=5, # Starting point\n",
    "    population_size=20, # ''\n",
    "    cv=5, # Five fold cross validation\n",
    "    random_state=1337, # Deterministic results on the same dataset each run\n",
    "    verbosity=2,\n",
    ")"
   ]
  },
  {
   "cell_type": "code",
   "execution_count": 245,
   "metadata": {
    "ExecuteTime": {
     "end_time": "2019-11-16T20:48:41.935449Z",
     "start_time": "2019-11-16T15:18:18.250635Z"
    }
   },
   "outputs": [
    {
     "name": "stdout",
     "output_type": "stream",
     "text": [
      "Warning: xgboost.XGBClassifier is not available and will not be used by TPOT.\n"
     ]
    },
    {
     "data": {
      "application/vnd.jupyter.widget-view+json": {
       "model_id": "",
       "version_major": 2,
       "version_minor": 0
      },
      "text/plain": [
       "HBox(children=(IntProgress(value=0, description='Optimization Progress', max=120, style=ProgressStyle(descript…"
      ]
     },
     "metadata": {},
     "output_type": "display_data"
    },
    {
     "name": "stdout",
     "output_type": "stream",
     "text": [
      "Generation 1 - Current best internal CV score: 0.9700996931070645\n",
      "Generation 2 - Current best internal CV score: 0.9700996931070645\n",
      "Generation 3 - Current best internal CV score: 0.9714542304143521\n",
      "Generation 4 - Current best internal CV score: 0.972357100575483\n",
      "Generation 5 - Current best internal CV score: 0.9782242810302799\n",
      "\n",
      "Best pipeline: ExtraTreesClassifier(MinMaxScaler(input_matrix), bootstrap=True, criterion=entropy, max_features=0.3, min_samples_leaf=4, min_samples_split=18, n_estimators=100)\n"
     ]
    },
    {
     "data": {
      "text/plain": [
       "TPOTClassifier(config_dict=None, crossover_rate=0.1, cv=5,\n",
       "               disable_update_check=False, early_stop=None, generations=5,\n",
       "               max_eval_time_mins=5, max_time_mins=None, memory=None,\n",
       "               mutation_rate=0.9, n_jobs=1, offspring_size=None,\n",
       "               periodic_checkpoint_folder=None, population_size=20,\n",
       "               random_state=1337, scoring=None, subsample=1.0, template=None,\n",
       "               use_dask=False, verbosity=2, warm_start=False)"
      ]
     },
     "execution_count": 245,
     "metadata": {},
     "output_type": "execute_result"
    }
   ],
   "source": [
    "# The actual run\n",
    "pipeline_optimizer.fit(X_train, y_train)"
   ]
  },
  {
   "cell_type": "markdown",
   "metadata": {},
   "source": [
    "That's 97% accuracy! let's see the score:"
   ]
  },
  {
   "cell_type": "code",
   "execution_count": 246,
   "metadata": {
    "ExecuteTime": {
     "end_time": "2019-11-17T12:22:08.614778Z",
     "start_time": "2019-11-17T12:22:08.310647Z"
    }
   },
   "outputs": [
    {
     "data": {
      "text/plain": [
       "0.9807793575566087"
      ]
     },
     "execution_count": 246,
     "metadata": {},
     "output_type": "execute_result"
    }
   ],
   "source": [
    "pipeline_optimizer.score(X_test, y_test)"
   ]
  },
  {
   "cell_type": "markdown",
   "metadata": {},
   "source": [
    "98% accuracy. This is with only 5 generations!"
   ]
  },
  {
   "cell_type": "code",
   "execution_count": 248,
   "metadata": {
    "ExecuteTime": {
     "end_time": "2019-11-17T12:26:25.163221Z",
     "start_time": "2019-11-17T12:26:25.160131Z"
    }
   },
   "outputs": [
    {
     "name": "stdout",
     "output_type": "stream",
     "text": [
      "import numpy as np\n",
      "import pandas as pd\n",
      "from sklearn.ensemble import ExtraTreesClassifier\n",
      "from sklearn.model_selection import train_test_split\n",
      "from sklearn.pipeline import make_pipeline\n",
      "from sklearn.preprocessing import MinMaxScaler\n",
      "from tpot.export_utils import set_param_recursive\n",
      "\n",
      "# NOTE: Make sure that the outcome column is labeled 'target' in the data file\n",
      "tpot_data = pd.read_csv('PATH/TO/DATA/FILE', sep='COLUMN_SEPARATOR', dtype=np.float64)\n",
      "features = tpot_data.drop('target', axis=1)\n",
      "training_features, testing_features, training_target, testing_target = \\\n",
      "            train_test_split(features, tpot_data['target'], random_state=1337)\n",
      "\n",
      "# Average CV score on the training set was: 0.9782242810302799\n",
      "exported_pipeline = make_pipeline(\n",
      "    MinMaxScaler(),\n",
      "    ExtraTreesClassifier(bootstrap=True, criterion=\"entropy\", max_features=0.3, min_samples_leaf=4, min_samples_split=18, n_estimators=100)\n",
      ")\n",
      "# Fix random state for all the steps in exported pipeline\n",
      "set_param_recursive(exported_pipeline.steps, 'random_state', 1337)\n",
      "\n",
      "exported_pipeline.fit(training_features, training_target)\n",
      "results = exported_pipeline.predict(testing_features)\n",
      "\n"
     ]
    }
   ],
   "source": [
    "# We can export the code that TPOT generated\n",
    "print(pipeline_optimizer.export())"
   ]
  },
  {
   "cell_type": "code",
   "execution_count": 259,
   "metadata": {
    "ExecuteTime": {
     "end_time": "2019-11-17T12:44:25.532498Z",
     "start_time": "2019-11-17T12:44:25.364393Z"
    }
   },
   "outputs": [
    {
     "data": {
      "text/plain": [
       "array([[399,  26,   0,   0,   4,   1,   1,   0,   0,   0],\n",
       "       [  9, 589,   0,   0,   2,   4,   0,   0,   4,   1],\n",
       "       [  0,   2, 112,   0,   0,   0,   0,   1,   0,   0],\n",
       "       [  0,   1,   0, 402,   0,   0,   0,   0,   0,   0],\n",
       "       [  0,   4,   0,   0, 598,   3,   0,   0,   0,   0],\n",
       "       [  0,   0,   0,   0,   0, 656,   0,   0,   3,   0],\n",
       "       [  0,   0,   0,   1,   0,   0, 231,   0,   0,   0],\n",
       "       [  0,   0,   0,   0,   3,   0,   0,  65,   0,   0],\n",
       "       [  0,   0,   0,   0,   1,   0,   0,   0, 593,   0],\n",
       "       [  0,   1,   0,   0,   1,   0,   0,   0,   0,  80]])"
      ]
     },
     "execution_count": 259,
     "metadata": {},
     "output_type": "execute_result"
    }
   ],
   "source": [
    "# The confusion matrix:\n",
    "predicted = pipeline_optimizer.predict(X_test)\n",
    "confusion_matrix(y_test, predicted)"
   ]
  },
  {
   "cell_type": "code",
   "execution_count": 261,
   "metadata": {
    "ExecuteTime": {
     "end_time": "2019-11-17T12:46:17.722533Z",
     "start_time": "2019-11-17T12:46:17.711534Z"
    }
   },
   "outputs": [
    {
     "name": "stdout",
     "output_type": "stream",
     "text": [
      "              precision    recall  f1-score   support\n",
      "\n",
      "           3       0.98      0.93      0.95       431\n",
      "           5       0.95      0.97      0.96       609\n",
      "           6       1.00      0.97      0.99       115\n",
      "          11       1.00      1.00      1.00       403\n",
      "          12       0.98      0.99      0.99       605\n",
      "          13       0.99      1.00      0.99       659\n",
      "          14       1.00      1.00      1.00       232\n",
      "          32       0.98      0.96      0.97        68\n",
      "          38       0.99      1.00      0.99       594\n",
      "          39       0.99      0.98      0.98        82\n",
      "\n",
      "    accuracy                           0.98      3798\n",
      "   macro avg       0.98      0.98      0.98      3798\n",
      "weighted avg       0.98      0.98      0.98      3798\n",
      "\n"
     ]
    }
   ],
   "source": [
    "# A full report\n",
    "print(classification_report(y_test, predicted))"
   ]
  },
  {
   "cell_type": "code",
   "execution_count": null,
   "metadata": {},
   "outputs": [],
   "source": []
  }
 ],
 "metadata": {
  "kernelspec": {
   "display_name": "Python 3",
   "language": "python",
   "name": "python3"
  },
  "language_info": {
   "codemirror_mode": {
    "name": "ipython",
    "version": 3
   },
   "file_extension": ".py",
   "mimetype": "text/x-python",
   "name": "python",
   "nbconvert_exporter": "python",
   "pygments_lexer": "ipython3",
   "version": "3.7.4"
  }
 },
 "nbformat": 4,
 "nbformat_minor": 2
}
