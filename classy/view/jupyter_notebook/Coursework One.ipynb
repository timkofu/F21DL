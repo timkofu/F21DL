{
 "cells": [
  {
   "cell_type": "markdown",
   "metadata": {},
   "source": [
    "# INTRODUCTION"
   ]
  },
  {
   "cell_type": "markdown",
   "metadata": {},
   "source": [
    "In this coursework we'll do data exploration, preparation and analysis, correlation and feature selection, probabilistic data analysis and clustering"
   ]
  },
  {
   "cell_type": "markdown",
   "metadata": {},
   "source": [
    "# DATA EXPLORATION"
   ]
  },
  {
   "cell_type": "markdown",
   "metadata": {},
   "source": [
    "## Loading the data"
   ]
  },
  {
   "cell_type": "markdown",
   "metadata": {},
   "source": [
    "We Have been provided with CSV files containing instances of road sign images that are gray-scalled. I have already downloaded these, and written a library (see the model folder) to read CSV files and return a Pandas dataframe, and to write pandas dataframes into HDF5 files.\n",
    "\n",
    "Let's go ahead and load the images CSV."
   ]
  },
  {
   "cell_type": "code",
   "execution_count": 1,
   "metadata": {
    "ExecuteTime": {
     "end_time": "2019-11-10T12:27:49.259081Z",
     "start_time": "2019-11-10T12:27:49.255634Z"
    }
   },
   "outputs": [],
   "source": [
    "# First we add the project into PYTHONPATH so our notebook can access the code in our MVC structure\n",
    "import set_sys_path"
   ]
  },
  {
   "cell_type": "code",
   "execution_count": 2,
   "metadata": {
    "ExecuteTime": {
     "end_time": "2019-11-10T12:27:50.340570Z",
     "start_time": "2019-11-10T12:27:49.950836Z"
    }
   },
   "outputs": [],
   "source": [
    "# Now we import the data read-write library from the model package, and initialise the read and write objects\n",
    "from classy.model.data.read import Reader\n",
    "from classy.model.data.write import Writer\n",
    "\n",
    "reader = Reader()\n",
    "writer = Writer()"
   ]
  },
  {
   "cell_type": "code",
   "execution_count": 3,
   "metadata": {
    "ExecuteTime": {
     "end_time": "2019-11-10T12:27:51.768143Z",
     "start_time": "2019-11-10T12:27:51.758090Z"
    }
   },
   "outputs": [
    {
     "data": {
      "text/plain": [
       "['y_train_smpl_0.csv',\n",
       " 'y_train_smpl_1.csv',\n",
       " 'y_train_smpl_3.csv',\n",
       " 'x_train_gr_smpl.csv',\n",
       " 'y_train_smpl_2.csv',\n",
       " 'y_train_smpl_6.csv',\n",
       " 'y_train_smpl_7.csv',\n",
       " 'y_train_smpl.csv',\n",
       " 'y_train_smpl_5.csv',\n",
       " 'y_train_smpl_4.csv',\n",
       " 'y_train_smpl_9.csv',\n",
       " 'y_train_smpl_8.csv']"
      ]
     },
     "execution_count": 3,
     "metadata": {},
     "output_type": "execute_result"
    }
   ],
   "source": [
    "# Let's see what data we have been provided with\n",
    "reader.list_data_files(file_type=\"csv\")"
   ]
  },
  {
   "cell_type": "markdown",
   "metadata": {},
   "source": [
    "The x_train_gr_smpl.csv is the main dataset that contains the instances and features (X in datamining lingo). The y_* are the labels for each intance (except y_train_smpl.csv).\n",
    "\n",
    "The labels are in the vertical order of instances."
   ]
  },
  {
   "cell_type": "code",
   "execution_count": 4,
   "metadata": {
    "ExecuteTime": {
     "end_time": "2019-11-10T12:27:59.553866Z",
     "start_time": "2019-11-10T12:27:54.759106Z"
    }
   },
   "outputs": [],
   "source": [
    "# Now lets load the main (X) dataset\n",
    "x_train_gr_smpl = reader.load_data(\"x_train_gr_smpl\", file_type=\"csv\")"
   ]
  },
  {
   "cell_type": "code",
   "execution_count": 5,
   "metadata": {
    "ExecuteTime": {
     "end_time": "2019-11-10T12:28:00.503598Z",
     "start_time": "2019-11-10T12:28:00.478477Z"
    }
   },
   "outputs": [],
   "source": [
    "# Let's also load the labels\n",
    "labels_transient = {\n",
    "    (\"speed_limit_60\", 3): reader.load_data(\"y_train_smpl_0\", file_type=\"csv\"),\n",
    "    (\"speed_limit_80\", 5): reader.load_data(\"y_train_smpl_1\", file_type=\"csv\"),\n",
    "    (\"speed_limit_80_lifted\", 6): reader.load_data(\"y_train_smpl_2\", file_type=\"csv\"),\n",
    "    (\"right_of_way_crossing\", 11): reader.load_data(\"y_train_smpl_3\", file_type=\"csv\"),\n",
    "    (\"right_of_way_general\", 12): reader.load_data(\"y_train_smpl_4\", file_type=\"csv\"),\n",
    "    (\"give_way\", 13): reader.load_data(\"y_train_smpl_5\", file_type=\"csv\"),\n",
    "    (\"stop\", 14): reader.load_data(\"y_train_smpl_6\", file_type=\"csv\"),\n",
    "    (\"no_speed_limit_general\", 32): reader.load_data(\"y_train_smpl_7\", file_type=\"csv\"),\n",
    "    (\"turn_right_down\", 38): reader.load_data(\"y_train_smpl_8\", file_type=\"csv\"),\n",
    "    (\"turn_left_down\", 39): reader.load_data(\"y_train_smpl_9\", file_type=\"csv\"),\n",
    "}"
   ]
  },
  {
   "cell_type": "markdown",
   "metadata": {},
   "source": [
    "## Exploration"
   ]
  },
  {
   "cell_type": "code",
   "execution_count": 6,
   "metadata": {
    "ExecuteTime": {
     "end_time": "2019-11-10T12:28:03.423379Z",
     "start_time": "2019-11-10T12:28:03.391922Z"
    }
   },
   "outputs": [
    {
     "data": {
      "text/html": [
       "<div>\n",
       "<style scoped>\n",
       "    .dataframe tbody tr th:only-of-type {\n",
       "        vertical-align: middle;\n",
       "    }\n",
       "\n",
       "    .dataframe tbody tr th {\n",
       "        vertical-align: top;\n",
       "    }\n",
       "\n",
       "    .dataframe thead th {\n",
       "        text-align: right;\n",
       "    }\n",
       "</style>\n",
       "<table border=\"1\" class=\"dataframe\">\n",
       "  <thead>\n",
       "    <tr style=\"text-align: right;\">\n",
       "      <th></th>\n",
       "      <th>0</th>\n",
       "      <th>1</th>\n",
       "      <th>2</th>\n",
       "      <th>3</th>\n",
       "      <th>4</th>\n",
       "      <th>5</th>\n",
       "      <th>6</th>\n",
       "      <th>7</th>\n",
       "      <th>8</th>\n",
       "      <th>9</th>\n",
       "      <th>...</th>\n",
       "      <th>2294</th>\n",
       "      <th>2295</th>\n",
       "      <th>2296</th>\n",
       "      <th>2297</th>\n",
       "      <th>2298</th>\n",
       "      <th>2299</th>\n",
       "      <th>2300</th>\n",
       "      <th>2301</th>\n",
       "      <th>2302</th>\n",
       "      <th>2303</th>\n",
       "    </tr>\n",
       "  </thead>\n",
       "  <tbody>\n",
       "    <tr>\n",
       "      <th>0</th>\n",
       "      <td>30.0</td>\n",
       "      <td>29.0</td>\n",
       "      <td>28.0</td>\n",
       "      <td>29.0</td>\n",
       "      <td>31.0</td>\n",
       "      <td>30.0</td>\n",
       "      <td>29.0</td>\n",
       "      <td>28.0</td>\n",
       "      <td>27.0</td>\n",
       "      <td>26.0</td>\n",
       "      <td>...</td>\n",
       "      <td>31.0</td>\n",
       "      <td>32.0</td>\n",
       "      <td>35.0</td>\n",
       "      <td>38.0</td>\n",
       "      <td>39.0</td>\n",
       "      <td>39.0</td>\n",
       "      <td>40.0</td>\n",
       "      <td>39.0</td>\n",
       "      <td>39.0</td>\n",
       "      <td>38.0</td>\n",
       "    </tr>\n",
       "    <tr>\n",
       "      <th>1</th>\n",
       "      <td>31.0</td>\n",
       "      <td>31.0</td>\n",
       "      <td>33.0</td>\n",
       "      <td>32.0</td>\n",
       "      <td>31.0</td>\n",
       "      <td>30.0</td>\n",
       "      <td>29.0</td>\n",
       "      <td>28.0</td>\n",
       "      <td>28.0</td>\n",
       "      <td>28.0</td>\n",
       "      <td>...</td>\n",
       "      <td>32.0</td>\n",
       "      <td>34.0</td>\n",
       "      <td>35.0</td>\n",
       "      <td>36.0</td>\n",
       "      <td>36.0</td>\n",
       "      <td>37.0</td>\n",
       "      <td>38.0</td>\n",
       "      <td>38.0</td>\n",
       "      <td>37.0</td>\n",
       "      <td>37.0</td>\n",
       "    </tr>\n",
       "    <tr>\n",
       "      <th>2</th>\n",
       "      <td>30.0</td>\n",
       "      <td>30.0</td>\n",
       "      <td>31.0</td>\n",
       "      <td>29.0</td>\n",
       "      <td>28.0</td>\n",
       "      <td>27.0</td>\n",
       "      <td>26.0</td>\n",
       "      <td>28.0</td>\n",
       "      <td>30.0</td>\n",
       "      <td>31.0</td>\n",
       "      <td>...</td>\n",
       "      <td>33.0</td>\n",
       "      <td>35.0</td>\n",
       "      <td>37.0</td>\n",
       "      <td>37.0</td>\n",
       "      <td>38.0</td>\n",
       "      <td>39.0</td>\n",
       "      <td>38.0</td>\n",
       "      <td>38.0</td>\n",
       "      <td>39.0</td>\n",
       "      <td>40.0</td>\n",
       "    </tr>\n",
       "    <tr>\n",
       "      <th>3</th>\n",
       "      <td>26.0</td>\n",
       "      <td>25.0</td>\n",
       "      <td>24.0</td>\n",
       "      <td>24.0</td>\n",
       "      <td>24.0</td>\n",
       "      <td>27.0</td>\n",
       "      <td>28.0</td>\n",
       "      <td>29.0</td>\n",
       "      <td>29.0</td>\n",
       "      <td>30.0</td>\n",
       "      <td>...</td>\n",
       "      <td>32.0</td>\n",
       "      <td>34.0</td>\n",
       "      <td>36.0</td>\n",
       "      <td>37.0</td>\n",
       "      <td>38.0</td>\n",
       "      <td>42.0</td>\n",
       "      <td>40.0</td>\n",
       "      <td>37.0</td>\n",
       "      <td>36.0</td>\n",
       "      <td>36.0</td>\n",
       "    </tr>\n",
       "    <tr>\n",
       "      <th>4</th>\n",
       "      <td>25.0</td>\n",
       "      <td>26.0</td>\n",
       "      <td>28.0</td>\n",
       "      <td>28.0</td>\n",
       "      <td>28.0</td>\n",
       "      <td>28.0</td>\n",
       "      <td>28.0</td>\n",
       "      <td>27.0</td>\n",
       "      <td>26.0</td>\n",
       "      <td>25.0</td>\n",
       "      <td>...</td>\n",
       "      <td>30.0</td>\n",
       "      <td>31.0</td>\n",
       "      <td>33.0</td>\n",
       "      <td>37.0</td>\n",
       "      <td>38.0</td>\n",
       "      <td>37.0</td>\n",
       "      <td>36.0</td>\n",
       "      <td>36.0</td>\n",
       "      <td>35.0</td>\n",
       "      <td>35.0</td>\n",
       "    </tr>\n",
       "    <tr>\n",
       "      <th>...</th>\n",
       "      <td>...</td>\n",
       "      <td>...</td>\n",
       "      <td>...</td>\n",
       "      <td>...</td>\n",
       "      <td>...</td>\n",
       "      <td>...</td>\n",
       "      <td>...</td>\n",
       "      <td>...</td>\n",
       "      <td>...</td>\n",
       "      <td>...</td>\n",
       "      <td>...</td>\n",
       "      <td>...</td>\n",
       "      <td>...</td>\n",
       "      <td>...</td>\n",
       "      <td>...</td>\n",
       "      <td>...</td>\n",
       "      <td>...</td>\n",
       "      <td>...</td>\n",
       "      <td>...</td>\n",
       "      <td>...</td>\n",
       "      <td>...</td>\n",
       "    </tr>\n",
       "    <tr>\n",
       "      <th>12655</th>\n",
       "      <td>8.0</td>\n",
       "      <td>8.0</td>\n",
       "      <td>7.0</td>\n",
       "      <td>7.0</td>\n",
       "      <td>8.0</td>\n",
       "      <td>8.0</td>\n",
       "      <td>8.0</td>\n",
       "      <td>8.0</td>\n",
       "      <td>8.0</td>\n",
       "      <td>8.0</td>\n",
       "      <td>...</td>\n",
       "      <td>11.0</td>\n",
       "      <td>10.0</td>\n",
       "      <td>9.0</td>\n",
       "      <td>9.0</td>\n",
       "      <td>10.0</td>\n",
       "      <td>9.0</td>\n",
       "      <td>9.0</td>\n",
       "      <td>10.0</td>\n",
       "      <td>11.0</td>\n",
       "      <td>11.0</td>\n",
       "    </tr>\n",
       "    <tr>\n",
       "      <th>12656</th>\n",
       "      <td>7.0</td>\n",
       "      <td>7.0</td>\n",
       "      <td>8.0</td>\n",
       "      <td>8.0</td>\n",
       "      <td>9.0</td>\n",
       "      <td>8.0</td>\n",
       "      <td>8.0</td>\n",
       "      <td>9.0</td>\n",
       "      <td>8.0</td>\n",
       "      <td>9.0</td>\n",
       "      <td>...</td>\n",
       "      <td>10.0</td>\n",
       "      <td>10.0</td>\n",
       "      <td>10.0</td>\n",
       "      <td>9.0</td>\n",
       "      <td>9.0</td>\n",
       "      <td>9.0</td>\n",
       "      <td>9.0</td>\n",
       "      <td>9.0</td>\n",
       "      <td>9.0</td>\n",
       "      <td>9.0</td>\n",
       "    </tr>\n",
       "    <tr>\n",
       "      <th>12657</th>\n",
       "      <td>9.0</td>\n",
       "      <td>10.0</td>\n",
       "      <td>9.0</td>\n",
       "      <td>9.0</td>\n",
       "      <td>9.0</td>\n",
       "      <td>9.0</td>\n",
       "      <td>11.0</td>\n",
       "      <td>10.0</td>\n",
       "      <td>10.0</td>\n",
       "      <td>10.0</td>\n",
       "      <td>...</td>\n",
       "      <td>9.0</td>\n",
       "      <td>9.0</td>\n",
       "      <td>9.0</td>\n",
       "      <td>9.0</td>\n",
       "      <td>8.0</td>\n",
       "      <td>9.0</td>\n",
       "      <td>9.0</td>\n",
       "      <td>10.0</td>\n",
       "      <td>9.0</td>\n",
       "      <td>9.0</td>\n",
       "    </tr>\n",
       "    <tr>\n",
       "      <th>12658</th>\n",
       "      <td>8.0</td>\n",
       "      <td>7.0</td>\n",
       "      <td>6.0</td>\n",
       "      <td>6.0</td>\n",
       "      <td>6.0</td>\n",
       "      <td>6.0</td>\n",
       "      <td>7.0</td>\n",
       "      <td>6.0</td>\n",
       "      <td>6.0</td>\n",
       "      <td>6.0</td>\n",
       "      <td>...</td>\n",
       "      <td>10.0</td>\n",
       "      <td>9.0</td>\n",
       "      <td>9.0</td>\n",
       "      <td>9.0</td>\n",
       "      <td>9.0</td>\n",
       "      <td>9.0</td>\n",
       "      <td>10.0</td>\n",
       "      <td>10.0</td>\n",
       "      <td>9.0</td>\n",
       "      <td>9.0</td>\n",
       "    </tr>\n",
       "    <tr>\n",
       "      <th>12659</th>\n",
       "      <td>8.0</td>\n",
       "      <td>7.0</td>\n",
       "      <td>6.0</td>\n",
       "      <td>6.0</td>\n",
       "      <td>6.0</td>\n",
       "      <td>6.0</td>\n",
       "      <td>8.0</td>\n",
       "      <td>8.0</td>\n",
       "      <td>9.0</td>\n",
       "      <td>10.0</td>\n",
       "      <td>...</td>\n",
       "      <td>9.0</td>\n",
       "      <td>10.0</td>\n",
       "      <td>10.0</td>\n",
       "      <td>10.0</td>\n",
       "      <td>10.0</td>\n",
       "      <td>8.0</td>\n",
       "      <td>8.0</td>\n",
       "      <td>8.0</td>\n",
       "      <td>9.0</td>\n",
       "      <td>8.0</td>\n",
       "    </tr>\n",
       "  </tbody>\n",
       "</table>\n",
       "<p>12660 rows × 2304 columns</p>\n",
       "</div>"
      ],
      "text/plain": [
       "          0     1     2     3     4     5     6     7     8     9  ...  2294  \\\n",
       "0      30.0  29.0  28.0  29.0  31.0  30.0  29.0  28.0  27.0  26.0  ...  31.0   \n",
       "1      31.0  31.0  33.0  32.0  31.0  30.0  29.0  28.0  28.0  28.0  ...  32.0   \n",
       "2      30.0  30.0  31.0  29.0  28.0  27.0  26.0  28.0  30.0  31.0  ...  33.0   \n",
       "3      26.0  25.0  24.0  24.0  24.0  27.0  28.0  29.0  29.0  30.0  ...  32.0   \n",
       "4      25.0  26.0  28.0  28.0  28.0  28.0  28.0  27.0  26.0  25.0  ...  30.0   \n",
       "...     ...   ...   ...   ...   ...   ...   ...   ...   ...   ...  ...   ...   \n",
       "12655   8.0   8.0   7.0   7.0   8.0   8.0   8.0   8.0   8.0   8.0  ...  11.0   \n",
       "12656   7.0   7.0   8.0   8.0   9.0   8.0   8.0   9.0   8.0   9.0  ...  10.0   \n",
       "12657   9.0  10.0   9.0   9.0   9.0   9.0  11.0  10.0  10.0  10.0  ...   9.0   \n",
       "12658   8.0   7.0   6.0   6.0   6.0   6.0   7.0   6.0   6.0   6.0  ...  10.0   \n",
       "12659   8.0   7.0   6.0   6.0   6.0   6.0   8.0   8.0   9.0  10.0  ...   9.0   \n",
       "\n",
       "       2295  2296  2297  2298  2299  2300  2301  2302  2303  \n",
       "0      32.0  35.0  38.0  39.0  39.0  40.0  39.0  39.0  38.0  \n",
       "1      34.0  35.0  36.0  36.0  37.0  38.0  38.0  37.0  37.0  \n",
       "2      35.0  37.0  37.0  38.0  39.0  38.0  38.0  39.0  40.0  \n",
       "3      34.0  36.0  37.0  38.0  42.0  40.0  37.0  36.0  36.0  \n",
       "4      31.0  33.0  37.0  38.0  37.0  36.0  36.0  35.0  35.0  \n",
       "...     ...   ...   ...   ...   ...   ...   ...   ...   ...  \n",
       "12655  10.0   9.0   9.0  10.0   9.0   9.0  10.0  11.0  11.0  \n",
       "12656  10.0  10.0   9.0   9.0   9.0   9.0   9.0   9.0   9.0  \n",
       "12657   9.0   9.0   9.0   8.0   9.0   9.0  10.0   9.0   9.0  \n",
       "12658   9.0   9.0   9.0   9.0   9.0  10.0  10.0   9.0   9.0  \n",
       "12659  10.0  10.0  10.0  10.0   8.0   8.0   8.0   9.0   8.0  \n",
       "\n",
       "[12660 rows x 2304 columns]"
      ]
     },
     "execution_count": 6,
     "metadata": {},
     "output_type": "execute_result"
    }
   ],
   "source": [
    "# How does the data look like?\n",
    "x_train_gr_smpl"
   ]
  },
  {
   "cell_type": "code",
   "execution_count": 7,
   "metadata": {
    "ExecuteTime": {
     "end_time": "2019-11-10T12:28:06.307846Z",
     "start_time": "2019-11-10T12:28:06.302286Z"
    }
   },
   "outputs": [
    {
     "data": {
      "text/plain": [
       "0       float64\n",
       "1       float64\n",
       "2       float64\n",
       "3       float64\n",
       "4       float64\n",
       "         ...   \n",
       "2299    float64\n",
       "2300    float64\n",
       "2301    float64\n",
       "2302    float64\n",
       "2303    float64\n",
       "Length: 2304, dtype: object"
      ]
     },
     "execution_count": 7,
     "metadata": {},
     "output_type": "execute_result"
    }
   ],
   "source": [
    "# what datatypes are they?\n",
    "x_train_gr_smpl.dtypes"
   ]
  },
  {
   "cell_type": "code",
   "execution_count": 8,
   "metadata": {
    "ExecuteTime": {
     "end_time": "2019-11-10T12:28:11.281370Z",
     "start_time": "2019-11-10T12:28:08.766249Z"
    }
   },
   "outputs": [
    {
     "data": {
      "text/plain": [
       "True"
      ]
     },
     "execution_count": 8,
     "metadata": {},
     "output_type": "execute_result"
    }
   ],
   "source": [
    "# They all seem to be integers. Are they really all integers (floats with 0 after the decimal place)? Let's confirm\n",
    "\n",
    "import numpy as np\n",
    "\n",
    "all(x_train_gr_smpl.apply(np.vectorize(float.is_integer)))"
   ]
  },
  {
   "cell_type": "code",
   "execution_count": 9,
   "metadata": {
    "ExecuteTime": {
     "end_time": "2019-11-10T12:28:14.020433Z",
     "start_time": "2019-11-10T12:28:13.870783Z"
    }
   },
   "outputs": [],
   "source": [
    "# Confirmed. Let's convert them all to what they really are; integers.\n",
    "x_train_gr_smpl = x_train_gr_smpl.astype(int)"
   ]
  },
  {
   "cell_type": "code",
   "execution_count": 10,
   "metadata": {
    "ExecuteTime": {
     "end_time": "2019-11-10T12:28:16.737299Z",
     "start_time": "2019-11-10T12:28:16.719377Z"
    }
   },
   "outputs": [
    {
     "data": {
      "text/html": [
       "<div>\n",
       "<style scoped>\n",
       "    .dataframe tbody tr th:only-of-type {\n",
       "        vertical-align: middle;\n",
       "    }\n",
       "\n",
       "    .dataframe tbody tr th {\n",
       "        vertical-align: top;\n",
       "    }\n",
       "\n",
       "    .dataframe thead th {\n",
       "        text-align: right;\n",
       "    }\n",
       "</style>\n",
       "<table border=\"1\" class=\"dataframe\">\n",
       "  <thead>\n",
       "    <tr style=\"text-align: right;\">\n",
       "      <th></th>\n",
       "      <th>0</th>\n",
       "      <th>1</th>\n",
       "      <th>2</th>\n",
       "      <th>3</th>\n",
       "      <th>4</th>\n",
       "      <th>5</th>\n",
       "      <th>6</th>\n",
       "      <th>7</th>\n",
       "      <th>8</th>\n",
       "      <th>9</th>\n",
       "      <th>...</th>\n",
       "      <th>2294</th>\n",
       "      <th>2295</th>\n",
       "      <th>2296</th>\n",
       "      <th>2297</th>\n",
       "      <th>2298</th>\n",
       "      <th>2299</th>\n",
       "      <th>2300</th>\n",
       "      <th>2301</th>\n",
       "      <th>2302</th>\n",
       "      <th>2303</th>\n",
       "    </tr>\n",
       "  </thead>\n",
       "  <tbody>\n",
       "    <tr>\n",
       "      <th>0</th>\n",
       "      <td>30</td>\n",
       "      <td>29</td>\n",
       "      <td>28</td>\n",
       "      <td>29</td>\n",
       "      <td>31</td>\n",
       "      <td>30</td>\n",
       "      <td>29</td>\n",
       "      <td>28</td>\n",
       "      <td>27</td>\n",
       "      <td>26</td>\n",
       "      <td>...</td>\n",
       "      <td>31</td>\n",
       "      <td>32</td>\n",
       "      <td>35</td>\n",
       "      <td>38</td>\n",
       "      <td>39</td>\n",
       "      <td>39</td>\n",
       "      <td>40</td>\n",
       "      <td>39</td>\n",
       "      <td>39</td>\n",
       "      <td>38</td>\n",
       "    </tr>\n",
       "    <tr>\n",
       "      <th>1</th>\n",
       "      <td>31</td>\n",
       "      <td>31</td>\n",
       "      <td>33</td>\n",
       "      <td>32</td>\n",
       "      <td>31</td>\n",
       "      <td>30</td>\n",
       "      <td>29</td>\n",
       "      <td>28</td>\n",
       "      <td>28</td>\n",
       "      <td>28</td>\n",
       "      <td>...</td>\n",
       "      <td>32</td>\n",
       "      <td>34</td>\n",
       "      <td>35</td>\n",
       "      <td>36</td>\n",
       "      <td>36</td>\n",
       "      <td>37</td>\n",
       "      <td>38</td>\n",
       "      <td>38</td>\n",
       "      <td>37</td>\n",
       "      <td>37</td>\n",
       "    </tr>\n",
       "    <tr>\n",
       "      <th>2</th>\n",
       "      <td>30</td>\n",
       "      <td>30</td>\n",
       "      <td>31</td>\n",
       "      <td>29</td>\n",
       "      <td>28</td>\n",
       "      <td>27</td>\n",
       "      <td>26</td>\n",
       "      <td>28</td>\n",
       "      <td>30</td>\n",
       "      <td>31</td>\n",
       "      <td>...</td>\n",
       "      <td>33</td>\n",
       "      <td>35</td>\n",
       "      <td>37</td>\n",
       "      <td>37</td>\n",
       "      <td>38</td>\n",
       "      <td>39</td>\n",
       "      <td>38</td>\n",
       "      <td>38</td>\n",
       "      <td>39</td>\n",
       "      <td>40</td>\n",
       "    </tr>\n",
       "    <tr>\n",
       "      <th>3</th>\n",
       "      <td>26</td>\n",
       "      <td>25</td>\n",
       "      <td>24</td>\n",
       "      <td>24</td>\n",
       "      <td>24</td>\n",
       "      <td>27</td>\n",
       "      <td>28</td>\n",
       "      <td>29</td>\n",
       "      <td>29</td>\n",
       "      <td>30</td>\n",
       "      <td>...</td>\n",
       "      <td>32</td>\n",
       "      <td>34</td>\n",
       "      <td>36</td>\n",
       "      <td>37</td>\n",
       "      <td>38</td>\n",
       "      <td>42</td>\n",
       "      <td>40</td>\n",
       "      <td>37</td>\n",
       "      <td>36</td>\n",
       "      <td>36</td>\n",
       "    </tr>\n",
       "    <tr>\n",
       "      <th>4</th>\n",
       "      <td>25</td>\n",
       "      <td>26</td>\n",
       "      <td>28</td>\n",
       "      <td>28</td>\n",
       "      <td>28</td>\n",
       "      <td>28</td>\n",
       "      <td>28</td>\n",
       "      <td>27</td>\n",
       "      <td>26</td>\n",
       "      <td>25</td>\n",
       "      <td>...</td>\n",
       "      <td>30</td>\n",
       "      <td>31</td>\n",
       "      <td>33</td>\n",
       "      <td>37</td>\n",
       "      <td>38</td>\n",
       "      <td>37</td>\n",
       "      <td>36</td>\n",
       "      <td>36</td>\n",
       "      <td>35</td>\n",
       "      <td>35</td>\n",
       "    </tr>\n",
       "    <tr>\n",
       "      <th>...</th>\n",
       "      <td>...</td>\n",
       "      <td>...</td>\n",
       "      <td>...</td>\n",
       "      <td>...</td>\n",
       "      <td>...</td>\n",
       "      <td>...</td>\n",
       "      <td>...</td>\n",
       "      <td>...</td>\n",
       "      <td>...</td>\n",
       "      <td>...</td>\n",
       "      <td>...</td>\n",
       "      <td>...</td>\n",
       "      <td>...</td>\n",
       "      <td>...</td>\n",
       "      <td>...</td>\n",
       "      <td>...</td>\n",
       "      <td>...</td>\n",
       "      <td>...</td>\n",
       "      <td>...</td>\n",
       "      <td>...</td>\n",
       "      <td>...</td>\n",
       "    </tr>\n",
       "    <tr>\n",
       "      <th>12655</th>\n",
       "      <td>8</td>\n",
       "      <td>8</td>\n",
       "      <td>7</td>\n",
       "      <td>7</td>\n",
       "      <td>8</td>\n",
       "      <td>8</td>\n",
       "      <td>8</td>\n",
       "      <td>8</td>\n",
       "      <td>8</td>\n",
       "      <td>8</td>\n",
       "      <td>...</td>\n",
       "      <td>11</td>\n",
       "      <td>10</td>\n",
       "      <td>9</td>\n",
       "      <td>9</td>\n",
       "      <td>10</td>\n",
       "      <td>9</td>\n",
       "      <td>9</td>\n",
       "      <td>10</td>\n",
       "      <td>11</td>\n",
       "      <td>11</td>\n",
       "    </tr>\n",
       "    <tr>\n",
       "      <th>12656</th>\n",
       "      <td>7</td>\n",
       "      <td>7</td>\n",
       "      <td>8</td>\n",
       "      <td>8</td>\n",
       "      <td>9</td>\n",
       "      <td>8</td>\n",
       "      <td>8</td>\n",
       "      <td>9</td>\n",
       "      <td>8</td>\n",
       "      <td>9</td>\n",
       "      <td>...</td>\n",
       "      <td>10</td>\n",
       "      <td>10</td>\n",
       "      <td>10</td>\n",
       "      <td>9</td>\n",
       "      <td>9</td>\n",
       "      <td>9</td>\n",
       "      <td>9</td>\n",
       "      <td>9</td>\n",
       "      <td>9</td>\n",
       "      <td>9</td>\n",
       "    </tr>\n",
       "    <tr>\n",
       "      <th>12657</th>\n",
       "      <td>9</td>\n",
       "      <td>10</td>\n",
       "      <td>9</td>\n",
       "      <td>9</td>\n",
       "      <td>9</td>\n",
       "      <td>9</td>\n",
       "      <td>11</td>\n",
       "      <td>10</td>\n",
       "      <td>10</td>\n",
       "      <td>10</td>\n",
       "      <td>...</td>\n",
       "      <td>9</td>\n",
       "      <td>9</td>\n",
       "      <td>9</td>\n",
       "      <td>9</td>\n",
       "      <td>8</td>\n",
       "      <td>9</td>\n",
       "      <td>9</td>\n",
       "      <td>10</td>\n",
       "      <td>9</td>\n",
       "      <td>9</td>\n",
       "    </tr>\n",
       "    <tr>\n",
       "      <th>12658</th>\n",
       "      <td>8</td>\n",
       "      <td>7</td>\n",
       "      <td>6</td>\n",
       "      <td>6</td>\n",
       "      <td>6</td>\n",
       "      <td>6</td>\n",
       "      <td>7</td>\n",
       "      <td>6</td>\n",
       "      <td>6</td>\n",
       "      <td>6</td>\n",
       "      <td>...</td>\n",
       "      <td>10</td>\n",
       "      <td>9</td>\n",
       "      <td>9</td>\n",
       "      <td>9</td>\n",
       "      <td>9</td>\n",
       "      <td>9</td>\n",
       "      <td>10</td>\n",
       "      <td>10</td>\n",
       "      <td>9</td>\n",
       "      <td>9</td>\n",
       "    </tr>\n",
       "    <tr>\n",
       "      <th>12659</th>\n",
       "      <td>8</td>\n",
       "      <td>7</td>\n",
       "      <td>6</td>\n",
       "      <td>6</td>\n",
       "      <td>6</td>\n",
       "      <td>6</td>\n",
       "      <td>8</td>\n",
       "      <td>8</td>\n",
       "      <td>9</td>\n",
       "      <td>10</td>\n",
       "      <td>...</td>\n",
       "      <td>9</td>\n",
       "      <td>10</td>\n",
       "      <td>10</td>\n",
       "      <td>10</td>\n",
       "      <td>10</td>\n",
       "      <td>8</td>\n",
       "      <td>8</td>\n",
       "      <td>8</td>\n",
       "      <td>9</td>\n",
       "      <td>8</td>\n",
       "    </tr>\n",
       "  </tbody>\n",
       "</table>\n",
       "<p>12660 rows × 2304 columns</p>\n",
       "</div>"
      ],
      "text/plain": [
       "        0   1   2   3   4   5   6   7   8   9  ...  2294  2295  2296  2297  \\\n",
       "0      30  29  28  29  31  30  29  28  27  26  ...    31    32    35    38   \n",
       "1      31  31  33  32  31  30  29  28  28  28  ...    32    34    35    36   \n",
       "2      30  30  31  29  28  27  26  28  30  31  ...    33    35    37    37   \n",
       "3      26  25  24  24  24  27  28  29  29  30  ...    32    34    36    37   \n",
       "4      25  26  28  28  28  28  28  27  26  25  ...    30    31    33    37   \n",
       "...    ..  ..  ..  ..  ..  ..  ..  ..  ..  ..  ...   ...   ...   ...   ...   \n",
       "12655   8   8   7   7   8   8   8   8   8   8  ...    11    10     9     9   \n",
       "12656   7   7   8   8   9   8   8   9   8   9  ...    10    10    10     9   \n",
       "12657   9  10   9   9   9   9  11  10  10  10  ...     9     9     9     9   \n",
       "12658   8   7   6   6   6   6   7   6   6   6  ...    10     9     9     9   \n",
       "12659   8   7   6   6   6   6   8   8   9  10  ...     9    10    10    10   \n",
       "\n",
       "       2298  2299  2300  2301  2302  2303  \n",
       "0        39    39    40    39    39    38  \n",
       "1        36    37    38    38    37    37  \n",
       "2        38    39    38    38    39    40  \n",
       "3        38    42    40    37    36    36  \n",
       "4        38    37    36    36    35    35  \n",
       "...     ...   ...   ...   ...   ...   ...  \n",
       "12655    10     9     9    10    11    11  \n",
       "12656     9     9     9     9     9     9  \n",
       "12657     8     9     9    10     9     9  \n",
       "12658     9     9    10    10     9     9  \n",
       "12659    10     8     8     8     9     8  \n",
       "\n",
       "[12660 rows x 2304 columns]"
      ]
     },
     "execution_count": 10,
     "metadata": {},
     "output_type": "execute_result"
    }
   ],
   "source": [
    "x_train_gr_smpl"
   ]
  },
  {
   "cell_type": "markdown",
   "metadata": {},
   "source": [
    "So this is <b>ratio</b> data, all in the same <b>range</b> (0-255).\n",
    "\n",
    "There are also no null values. All cells have values (pixel brightness count), so no null cells need to be replaced with the label mean for that cell for example.\n",
    "\n",
    "We have 12660 instances with 2304 features each (48*48 grayscale image unrolled into one horizontal array)"
   ]
  },
  {
   "cell_type": "code",
   "execution_count": 11,
   "metadata": {
    "ExecuteTime": {
     "end_time": "2019-11-10T12:28:25.304235Z",
     "start_time": "2019-11-10T12:28:20.487212Z"
    }
   },
   "outputs": [
    {
     "data": {
      "text/html": [
       "<div>\n",
       "<style scoped>\n",
       "    .dataframe tbody tr th:only-of-type {\n",
       "        vertical-align: middle;\n",
       "    }\n",
       "\n",
       "    .dataframe tbody tr th {\n",
       "        vertical-align: top;\n",
       "    }\n",
       "\n",
       "    .dataframe thead th {\n",
       "        text-align: right;\n",
       "    }\n",
       "</style>\n",
       "<table border=\"1\" class=\"dataframe\">\n",
       "  <thead>\n",
       "    <tr style=\"text-align: right;\">\n",
       "      <th></th>\n",
       "      <th>0</th>\n",
       "      <th>1</th>\n",
       "      <th>2</th>\n",
       "      <th>3</th>\n",
       "      <th>4</th>\n",
       "      <th>5</th>\n",
       "      <th>6</th>\n",
       "      <th>7</th>\n",
       "      <th>8</th>\n",
       "      <th>9</th>\n",
       "      <th>...</th>\n",
       "      <th>2294</th>\n",
       "      <th>2295</th>\n",
       "      <th>2296</th>\n",
       "      <th>2297</th>\n",
       "      <th>2298</th>\n",
       "      <th>2299</th>\n",
       "      <th>2300</th>\n",
       "      <th>2301</th>\n",
       "      <th>2302</th>\n",
       "      <th>2303</th>\n",
       "    </tr>\n",
       "  </thead>\n",
       "  <tbody>\n",
       "    <tr>\n",
       "      <th>count</th>\n",
       "      <td>12660.000000</td>\n",
       "      <td>12660.000000</td>\n",
       "      <td>12660.000000</td>\n",
       "      <td>12660.000000</td>\n",
       "      <td>12660.000000</td>\n",
       "      <td>12660.000000</td>\n",
       "      <td>12660.000000</td>\n",
       "      <td>12660.000000</td>\n",
       "      <td>12660.000000</td>\n",
       "      <td>12660.000000</td>\n",
       "      <td>...</td>\n",
       "      <td>12660.000000</td>\n",
       "      <td>12660.000000</td>\n",
       "      <td>12660.000000</td>\n",
       "      <td>12660.000000</td>\n",
       "      <td>12660.000000</td>\n",
       "      <td>12660.000000</td>\n",
       "      <td>12660.000000</td>\n",
       "      <td>12660.000000</td>\n",
       "      <td>12660.000000</td>\n",
       "      <td>12660.000000</td>\n",
       "    </tr>\n",
       "    <tr>\n",
       "      <th>mean</th>\n",
       "      <td>90.275908</td>\n",
       "      <td>90.296840</td>\n",
       "      <td>90.331043</td>\n",
       "      <td>90.369510</td>\n",
       "      <td>90.608847</td>\n",
       "      <td>90.852370</td>\n",
       "      <td>91.113033</td>\n",
       "      <td>91.427488</td>\n",
       "      <td>91.566588</td>\n",
       "      <td>91.775355</td>\n",
       "      <td>...</td>\n",
       "      <td>72.123460</td>\n",
       "      <td>71.547393</td>\n",
       "      <td>71.399368</td>\n",
       "      <td>70.980253</td>\n",
       "      <td>70.064455</td>\n",
       "      <td>69.243681</td>\n",
       "      <td>68.339336</td>\n",
       "      <td>67.716983</td>\n",
       "      <td>67.734992</td>\n",
       "      <td>67.784123</td>\n",
       "    </tr>\n",
       "    <tr>\n",
       "      <th>std</th>\n",
       "      <td>79.531811</td>\n",
       "      <td>79.674242</td>\n",
       "      <td>79.816240</td>\n",
       "      <td>79.896452</td>\n",
       "      <td>79.958141</td>\n",
       "      <td>80.082173</td>\n",
       "      <td>80.266651</td>\n",
       "      <td>80.406439</td>\n",
       "      <td>80.439131</td>\n",
       "      <td>80.457116</td>\n",
       "      <td>...</td>\n",
       "      <td>65.643296</td>\n",
       "      <td>65.317373</td>\n",
       "      <td>65.485237</td>\n",
       "      <td>65.649521</td>\n",
       "      <td>65.109495</td>\n",
       "      <td>64.328815</td>\n",
       "      <td>63.312147</td>\n",
       "      <td>62.688005</td>\n",
       "      <td>62.951496</td>\n",
       "      <td>63.289188</td>\n",
       "    </tr>\n",
       "    <tr>\n",
       "      <th>min</th>\n",
       "      <td>5.000000</td>\n",
       "      <td>6.000000</td>\n",
       "      <td>5.000000</td>\n",
       "      <td>6.000000</td>\n",
       "      <td>6.000000</td>\n",
       "      <td>6.000000</td>\n",
       "      <td>6.000000</td>\n",
       "      <td>6.000000</td>\n",
       "      <td>5.000000</td>\n",
       "      <td>6.000000</td>\n",
       "      <td>...</td>\n",
       "      <td>6.000000</td>\n",
       "      <td>6.000000</td>\n",
       "      <td>6.000000</td>\n",
       "      <td>6.000000</td>\n",
       "      <td>5.000000</td>\n",
       "      <td>6.000000</td>\n",
       "      <td>6.000000</td>\n",
       "      <td>6.000000</td>\n",
       "      <td>6.000000</td>\n",
       "      <td>5.000000</td>\n",
       "    </tr>\n",
       "    <tr>\n",
       "      <th>25%</th>\n",
       "      <td>29.000000</td>\n",
       "      <td>29.000000</td>\n",
       "      <td>29.000000</td>\n",
       "      <td>28.000000</td>\n",
       "      <td>28.000000</td>\n",
       "      <td>28.000000</td>\n",
       "      <td>28.000000</td>\n",
       "      <td>28.000000</td>\n",
       "      <td>28.000000</td>\n",
       "      <td>29.000000</td>\n",
       "      <td>...</td>\n",
       "      <td>26.000000</td>\n",
       "      <td>25.000000</td>\n",
       "      <td>25.000000</td>\n",
       "      <td>25.000000</td>\n",
       "      <td>25.000000</td>\n",
       "      <td>24.000000</td>\n",
       "      <td>24.000000</td>\n",
       "      <td>24.000000</td>\n",
       "      <td>24.000000</td>\n",
       "      <td>24.000000</td>\n",
       "    </tr>\n",
       "    <tr>\n",
       "      <th>50%</th>\n",
       "      <td>55.000000</td>\n",
       "      <td>56.000000</td>\n",
       "      <td>55.000000</td>\n",
       "      <td>55.000000</td>\n",
       "      <td>56.000000</td>\n",
       "      <td>56.000000</td>\n",
       "      <td>56.000000</td>\n",
       "      <td>56.000000</td>\n",
       "      <td>57.000000</td>\n",
       "      <td>57.000000</td>\n",
       "      <td>...</td>\n",
       "      <td>47.000000</td>\n",
       "      <td>47.000000</td>\n",
       "      <td>47.000000</td>\n",
       "      <td>46.000000</td>\n",
       "      <td>45.000000</td>\n",
       "      <td>44.000000</td>\n",
       "      <td>44.000000</td>\n",
       "      <td>44.000000</td>\n",
       "      <td>43.000000</td>\n",
       "      <td>43.000000</td>\n",
       "    </tr>\n",
       "    <tr>\n",
       "      <th>75%</th>\n",
       "      <td>136.000000</td>\n",
       "      <td>136.000000</td>\n",
       "      <td>135.000000</td>\n",
       "      <td>136.000000</td>\n",
       "      <td>137.000000</td>\n",
       "      <td>137.000000</td>\n",
       "      <td>140.000000</td>\n",
       "      <td>140.000000</td>\n",
       "      <td>140.000000</td>\n",
       "      <td>140.000000</td>\n",
       "      <td>...</td>\n",
       "      <td>94.000000</td>\n",
       "      <td>93.000000</td>\n",
       "      <td>93.000000</td>\n",
       "      <td>92.000000</td>\n",
       "      <td>91.000000</td>\n",
       "      <td>90.000000</td>\n",
       "      <td>88.000000</td>\n",
       "      <td>87.000000</td>\n",
       "      <td>86.000000</td>\n",
       "      <td>87.000000</td>\n",
       "    </tr>\n",
       "    <tr>\n",
       "      <th>max</th>\n",
       "      <td>255.000000</td>\n",
       "      <td>255.000000</td>\n",
       "      <td>255.000000</td>\n",
       "      <td>255.000000</td>\n",
       "      <td>255.000000</td>\n",
       "      <td>255.000000</td>\n",
       "      <td>255.000000</td>\n",
       "      <td>255.000000</td>\n",
       "      <td>255.000000</td>\n",
       "      <td>255.000000</td>\n",
       "      <td>...</td>\n",
       "      <td>255.000000</td>\n",
       "      <td>255.000000</td>\n",
       "      <td>255.000000</td>\n",
       "      <td>255.000000</td>\n",
       "      <td>255.000000</td>\n",
       "      <td>255.000000</td>\n",
       "      <td>255.000000</td>\n",
       "      <td>255.000000</td>\n",
       "      <td>255.000000</td>\n",
       "      <td>255.000000</td>\n",
       "    </tr>\n",
       "  </tbody>\n",
       "</table>\n",
       "<p>8 rows × 2304 columns</p>\n",
       "</div>"
      ],
      "text/plain": [
       "                  0             1             2             3             4  \\\n",
       "count  12660.000000  12660.000000  12660.000000  12660.000000  12660.000000   \n",
       "mean      90.275908     90.296840     90.331043     90.369510     90.608847   \n",
       "std       79.531811     79.674242     79.816240     79.896452     79.958141   \n",
       "min        5.000000      6.000000      5.000000      6.000000      6.000000   \n",
       "25%       29.000000     29.000000     29.000000     28.000000     28.000000   \n",
       "50%       55.000000     56.000000     55.000000     55.000000     56.000000   \n",
       "75%      136.000000    136.000000    135.000000    136.000000    137.000000   \n",
       "max      255.000000    255.000000    255.000000    255.000000    255.000000   \n",
       "\n",
       "                  5             6             7             8             9  \\\n",
       "count  12660.000000  12660.000000  12660.000000  12660.000000  12660.000000   \n",
       "mean      90.852370     91.113033     91.427488     91.566588     91.775355   \n",
       "std       80.082173     80.266651     80.406439     80.439131     80.457116   \n",
       "min        6.000000      6.000000      6.000000      5.000000      6.000000   \n",
       "25%       28.000000     28.000000     28.000000     28.000000     29.000000   \n",
       "50%       56.000000     56.000000     56.000000     57.000000     57.000000   \n",
       "75%      137.000000    140.000000    140.000000    140.000000    140.000000   \n",
       "max      255.000000    255.000000    255.000000    255.000000    255.000000   \n",
       "\n",
       "       ...          2294          2295          2296          2297  \\\n",
       "count  ...  12660.000000  12660.000000  12660.000000  12660.000000   \n",
       "mean   ...     72.123460     71.547393     71.399368     70.980253   \n",
       "std    ...     65.643296     65.317373     65.485237     65.649521   \n",
       "min    ...      6.000000      6.000000      6.000000      6.000000   \n",
       "25%    ...     26.000000     25.000000     25.000000     25.000000   \n",
       "50%    ...     47.000000     47.000000     47.000000     46.000000   \n",
       "75%    ...     94.000000     93.000000     93.000000     92.000000   \n",
       "max    ...    255.000000    255.000000    255.000000    255.000000   \n",
       "\n",
       "               2298          2299          2300          2301          2302  \\\n",
       "count  12660.000000  12660.000000  12660.000000  12660.000000  12660.000000   \n",
       "mean      70.064455     69.243681     68.339336     67.716983     67.734992   \n",
       "std       65.109495     64.328815     63.312147     62.688005     62.951496   \n",
       "min        5.000000      6.000000      6.000000      6.000000      6.000000   \n",
       "25%       25.000000     24.000000     24.000000     24.000000     24.000000   \n",
       "50%       45.000000     44.000000     44.000000     44.000000     43.000000   \n",
       "75%       91.000000     90.000000     88.000000     87.000000     86.000000   \n",
       "max      255.000000    255.000000    255.000000    255.000000    255.000000   \n",
       "\n",
       "               2303  \n",
       "count  12660.000000  \n",
       "mean      67.784123  \n",
       "std       63.289188  \n",
       "min        5.000000  \n",
       "25%       24.000000  \n",
       "50%       43.000000  \n",
       "75%       87.000000  \n",
       "max      255.000000  \n",
       "\n",
       "[8 rows x 2304 columns]"
      ]
     },
     "execution_count": 11,
     "metadata": {},
     "output_type": "execute_result"
    }
   ],
   "source": [
    "# Now let's see some statistics about our data\n",
    "x_train_gr_smpl.describe()"
   ]
  },
  {
   "cell_type": "markdown",
   "metadata": {},
   "source": [
    "Interesting statistics, but not really practical for image data."
   ]
  },
  {
   "cell_type": "markdown",
   "metadata": {},
   "source": [
    "## Visualization"
   ]
  },
  {
   "cell_type": "code",
   "execution_count": 12,
   "metadata": {
    "ExecuteTime": {
     "end_time": "2019-11-10T12:28:28.684952Z",
     "start_time": "2019-11-10T12:28:28.597706Z"
    }
   },
   "outputs": [],
   "source": [
    "# The libraries\n",
    "import matplotlib.pyplot as plt\n",
    "%matplotlib inline\n",
    "\n",
    "from classy.controller.utilities.visualize_image import visualize_image"
   ]
  },
  {
   "cell_type": "code",
   "execution_count": 28,
   "metadata": {
    "ExecuteTime": {
     "end_time": "2019-11-10T12:47:43.491399Z",
     "start_time": "2019-11-10T12:47:43.309208Z"
    }
   },
   "outputs": [
    {
     "data": {
      "image/png": "[encoded data removed]",
      "text/plain": [
       "<Figure size 432x288 with 1 Axes>"
      ]
     },
     "metadata": {
      "needs_background": "light"
     },
     "output_type": "display_data"
    }
   ],
   "source": [
    "# Lets see a random image\n",
    "random_sample = x_train_gr_smpl.sample(1)\n",
    "random_sample_index = random_sample.index.values[0] # We'll need this later\n",
    "\n",
    "visualize_image(random_sample, plt)"
   ]
  },
  {
   "cell_type": "markdown",
   "metadata": {},
   "source": [
    "After we concatenate the labels to the features and instances, we can confirm what this image was using the index."
   ]
  },
  {
   "cell_type": "markdown",
   "metadata": {},
   "source": [
    "# DATA PREPARATION"
   ]
  },
  {
   "cell_type": "markdown",
   "metadata": {},
   "source": [
    "Lets first concantenate the labels to the instances and features as one big dataframe."
   ]
  },
  {
   "cell_type": "code",
   "execution_count": 15,
   "metadata": {
    "ExecuteTime": {
     "end_time": "2019-11-10T12:32:36.299540Z",
     "start_time": "2019-11-10T12:32:36.295516Z"
    }
   },
   "outputs": [],
   "source": [
    "# First the function to generate a list of label dataframes, which we will the concatanate one by one to the \n",
    "# instances and features dataframe\n",
    "\n",
    "def generate_label_dfs():\n",
    "    dataframes = []\n",
    "    for k,v in labels_transient.items():\n",
    "        # Set column label\n",
    "        v.columns = [k[0]]\n",
    "        # Convert 1s to the original label and leave 0s as 0s\n",
    "        v.loc[v[k[0]] == 1, k[0]] = k[1]\n",
    "        # And append the new df to the master df\n",
    "        dataframes.append(v)\n",
    "    return dataframes"
   ]
  },
  {
   "cell_type": "code",
   "execution_count": 18,
   "metadata": {
    "ExecuteTime": {
     "end_time": "2019-11-10T12:34:19.393060Z",
     "start_time": "2019-11-10T12:34:15.510857Z"
    }
   },
   "outputs": [],
   "source": [
    "# Now the concatenation\n",
    "import pandas as pd\n",
    "\n",
    "working_dataframe = x_train_gr_smpl\n",
    "for label_df in generate_label_dfs():\n",
    "    working_dataframe = pd.concat([working_dataframe, label_df], axis=1)"
   ]
  },
  {
   "cell_type": "code",
   "execution_count": 19,
   "metadata": {
    "ExecuteTime": {
     "end_time": "2019-11-10T12:34:27.647122Z",
     "start_time": "2019-11-10T12:34:27.623408Z"
    }
   },
   "outputs": [
    {
     "data": {
      "text/html": [
       "<div>\n",
       "<style scoped>\n",
       "    .dataframe tbody tr th:only-of-type {\n",
       "        vertical-align: middle;\n",
       "    }\n",
       "\n",
       "    .dataframe tbody tr th {\n",
       "        vertical-align: top;\n",
       "    }\n",
       "\n",
       "    .dataframe thead th {\n",
       "        text-align: right;\n",
       "    }\n",
       "</style>\n",
       "<table border=\"1\" class=\"dataframe\">\n",
       "  <thead>\n",
       "    <tr style=\"text-align: right;\">\n",
       "      <th></th>\n",
       "      <th>0</th>\n",
       "      <th>1</th>\n",
       "      <th>2</th>\n",
       "      <th>3</th>\n",
       "      <th>4</th>\n",
       "      <th>5</th>\n",
       "      <th>6</th>\n",
       "      <th>7</th>\n",
       "      <th>8</th>\n",
       "      <th>9</th>\n",
       "      <th>...</th>\n",
       "      <th>speed_limit_60</th>\n",
       "      <th>speed_limit_80</th>\n",
       "      <th>speed_limit_80_lifted</th>\n",
       "      <th>right_of_way_crossing</th>\n",
       "      <th>right_of_way_general</th>\n",
       "      <th>give_way</th>\n",
       "      <th>stop</th>\n",
       "      <th>no_speed_limit_general</th>\n",
       "      <th>turn_right_down</th>\n",
       "      <th>turn_left_down</th>\n",
       "    </tr>\n",
       "  </thead>\n",
       "  <tbody>\n",
       "    <tr>\n",
       "      <th>0</th>\n",
       "      <td>30</td>\n",
       "      <td>29</td>\n",
       "      <td>28</td>\n",
       "      <td>29</td>\n",
       "      <td>31</td>\n",
       "      <td>30</td>\n",
       "      <td>29</td>\n",
       "      <td>28</td>\n",
       "      <td>27</td>\n",
       "      <td>26</td>\n",
       "      <td>...</td>\n",
       "      <td>0</td>\n",
       "      <td>5</td>\n",
       "      <td>6</td>\n",
       "      <td>11</td>\n",
       "      <td>12</td>\n",
       "      <td>13</td>\n",
       "      <td>14</td>\n",
       "      <td>32</td>\n",
       "      <td>38</td>\n",
       "      <td>39</td>\n",
       "    </tr>\n",
       "    <tr>\n",
       "      <th>1</th>\n",
       "      <td>31</td>\n",
       "      <td>31</td>\n",
       "      <td>33</td>\n",
       "      <td>32</td>\n",
       "      <td>31</td>\n",
       "      <td>30</td>\n",
       "      <td>29</td>\n",
       "      <td>28</td>\n",
       "      <td>28</td>\n",
       "      <td>28</td>\n",
       "      <td>...</td>\n",
       "      <td>0</td>\n",
       "      <td>5</td>\n",
       "      <td>6</td>\n",
       "      <td>11</td>\n",
       "      <td>12</td>\n",
       "      <td>13</td>\n",
       "      <td>14</td>\n",
       "      <td>32</td>\n",
       "      <td>38</td>\n",
       "      <td>39</td>\n",
       "    </tr>\n",
       "    <tr>\n",
       "      <th>2</th>\n",
       "      <td>30</td>\n",
       "      <td>30</td>\n",
       "      <td>31</td>\n",
       "      <td>29</td>\n",
       "      <td>28</td>\n",
       "      <td>27</td>\n",
       "      <td>26</td>\n",
       "      <td>28</td>\n",
       "      <td>30</td>\n",
       "      <td>31</td>\n",
       "      <td>...</td>\n",
       "      <td>0</td>\n",
       "      <td>5</td>\n",
       "      <td>6</td>\n",
       "      <td>11</td>\n",
       "      <td>12</td>\n",
       "      <td>13</td>\n",
       "      <td>14</td>\n",
       "      <td>32</td>\n",
       "      <td>38</td>\n",
       "      <td>39</td>\n",
       "    </tr>\n",
       "    <tr>\n",
       "      <th>3</th>\n",
       "      <td>26</td>\n",
       "      <td>25</td>\n",
       "      <td>24</td>\n",
       "      <td>24</td>\n",
       "      <td>24</td>\n",
       "      <td>27</td>\n",
       "      <td>28</td>\n",
       "      <td>29</td>\n",
       "      <td>29</td>\n",
       "      <td>30</td>\n",
       "      <td>...</td>\n",
       "      <td>0</td>\n",
       "      <td>5</td>\n",
       "      <td>6</td>\n",
       "      <td>11</td>\n",
       "      <td>12</td>\n",
       "      <td>13</td>\n",
       "      <td>14</td>\n",
       "      <td>32</td>\n",
       "      <td>38</td>\n",
       "      <td>39</td>\n",
       "    </tr>\n",
       "    <tr>\n",
       "      <th>4</th>\n",
       "      <td>25</td>\n",
       "      <td>26</td>\n",
       "      <td>28</td>\n",
       "      <td>28</td>\n",
       "      <td>28</td>\n",
       "      <td>28</td>\n",
       "      <td>28</td>\n",
       "      <td>27</td>\n",
       "      <td>26</td>\n",
       "      <td>25</td>\n",
       "      <td>...</td>\n",
       "      <td>0</td>\n",
       "      <td>5</td>\n",
       "      <td>6</td>\n",
       "      <td>11</td>\n",
       "      <td>12</td>\n",
       "      <td>13</td>\n",
       "      <td>14</td>\n",
       "      <td>32</td>\n",
       "      <td>38</td>\n",
       "      <td>39</td>\n",
       "    </tr>\n",
       "    <tr>\n",
       "      <th>...</th>\n",
       "      <td>...</td>\n",
       "      <td>...</td>\n",
       "      <td>...</td>\n",
       "      <td>...</td>\n",
       "      <td>...</td>\n",
       "      <td>...</td>\n",
       "      <td>...</td>\n",
       "      <td>...</td>\n",
       "      <td>...</td>\n",
       "      <td>...</td>\n",
       "      <td>...</td>\n",
       "      <td>...</td>\n",
       "      <td>...</td>\n",
       "      <td>...</td>\n",
       "      <td>...</td>\n",
       "      <td>...</td>\n",
       "      <td>...</td>\n",
       "      <td>...</td>\n",
       "      <td>...</td>\n",
       "      <td>...</td>\n",
       "      <td>...</td>\n",
       "    </tr>\n",
       "    <tr>\n",
       "      <th>12655</th>\n",
       "      <td>8</td>\n",
       "      <td>8</td>\n",
       "      <td>7</td>\n",
       "      <td>7</td>\n",
       "      <td>8</td>\n",
       "      <td>8</td>\n",
       "      <td>8</td>\n",
       "      <td>8</td>\n",
       "      <td>8</td>\n",
       "      <td>8</td>\n",
       "      <td>...</td>\n",
       "      <td>3</td>\n",
       "      <td>5</td>\n",
       "      <td>6</td>\n",
       "      <td>11</td>\n",
       "      <td>12</td>\n",
       "      <td>13</td>\n",
       "      <td>14</td>\n",
       "      <td>32</td>\n",
       "      <td>38</td>\n",
       "      <td>0</td>\n",
       "    </tr>\n",
       "    <tr>\n",
       "      <th>12656</th>\n",
       "      <td>7</td>\n",
       "      <td>7</td>\n",
       "      <td>8</td>\n",
       "      <td>8</td>\n",
       "      <td>9</td>\n",
       "      <td>8</td>\n",
       "      <td>8</td>\n",
       "      <td>9</td>\n",
       "      <td>8</td>\n",
       "      <td>9</td>\n",
       "      <td>...</td>\n",
       "      <td>3</td>\n",
       "      <td>5</td>\n",
       "      <td>6</td>\n",
       "      <td>11</td>\n",
       "      <td>12</td>\n",
       "      <td>13</td>\n",
       "      <td>14</td>\n",
       "      <td>32</td>\n",
       "      <td>38</td>\n",
       "      <td>0</td>\n",
       "    </tr>\n",
       "    <tr>\n",
       "      <th>12657</th>\n",
       "      <td>9</td>\n",
       "      <td>10</td>\n",
       "      <td>9</td>\n",
       "      <td>9</td>\n",
       "      <td>9</td>\n",
       "      <td>9</td>\n",
       "      <td>11</td>\n",
       "      <td>10</td>\n",
       "      <td>10</td>\n",
       "      <td>10</td>\n",
       "      <td>...</td>\n",
       "      <td>3</td>\n",
       "      <td>5</td>\n",
       "      <td>6</td>\n",
       "      <td>11</td>\n",
       "      <td>12</td>\n",
       "      <td>13</td>\n",
       "      <td>14</td>\n",
       "      <td>32</td>\n",
       "      <td>38</td>\n",
       "      <td>0</td>\n",
       "    </tr>\n",
       "    <tr>\n",
       "      <th>12658</th>\n",
       "      <td>8</td>\n",
       "      <td>7</td>\n",
       "      <td>6</td>\n",
       "      <td>6</td>\n",
       "      <td>6</td>\n",
       "      <td>6</td>\n",
       "      <td>7</td>\n",
       "      <td>6</td>\n",
       "      <td>6</td>\n",
       "      <td>6</td>\n",
       "      <td>...</td>\n",
       "      <td>3</td>\n",
       "      <td>5</td>\n",
       "      <td>6</td>\n",
       "      <td>11</td>\n",
       "      <td>12</td>\n",
       "      <td>13</td>\n",
       "      <td>14</td>\n",
       "      <td>32</td>\n",
       "      <td>38</td>\n",
       "      <td>0</td>\n",
       "    </tr>\n",
       "    <tr>\n",
       "      <th>12659</th>\n",
       "      <td>8</td>\n",
       "      <td>7</td>\n",
       "      <td>6</td>\n",
       "      <td>6</td>\n",
       "      <td>6</td>\n",
       "      <td>6</td>\n",
       "      <td>8</td>\n",
       "      <td>8</td>\n",
       "      <td>9</td>\n",
       "      <td>10</td>\n",
       "      <td>...</td>\n",
       "      <td>3</td>\n",
       "      <td>5</td>\n",
       "      <td>6</td>\n",
       "      <td>11</td>\n",
       "      <td>12</td>\n",
       "      <td>13</td>\n",
       "      <td>14</td>\n",
       "      <td>32</td>\n",
       "      <td>38</td>\n",
       "      <td>0</td>\n",
       "    </tr>\n",
       "  </tbody>\n",
       "</table>\n",
       "<p>12660 rows × 2314 columns</p>\n",
       "</div>"
      ],
      "text/plain": [
       "        0   1   2   3   4   5   6   7   8   9  ...  speed_limit_60  \\\n",
       "0      30  29  28  29  31  30  29  28  27  26  ...               0   \n",
       "1      31  31  33  32  31  30  29  28  28  28  ...               0   \n",
       "2      30  30  31  29  28  27  26  28  30  31  ...               0   \n",
       "3      26  25  24  24  24  27  28  29  29  30  ...               0   \n",
       "4      25  26  28  28  28  28  28  27  26  25  ...               0   \n",
       "...    ..  ..  ..  ..  ..  ..  ..  ..  ..  ..  ...             ...   \n",
       "12655   8   8   7   7   8   8   8   8   8   8  ...               3   \n",
       "12656   7   7   8   8   9   8   8   9   8   9  ...               3   \n",
       "12657   9  10   9   9   9   9  11  10  10  10  ...               3   \n",
       "12658   8   7   6   6   6   6   7   6   6   6  ...               3   \n",
       "12659   8   7   6   6   6   6   8   8   9  10  ...               3   \n",
       "\n",
       "       speed_limit_80  speed_limit_80_lifted  right_of_way_crossing  \\\n",
       "0                   5                      6                     11   \n",
       "1                   5                      6                     11   \n",
       "2                   5                      6                     11   \n",
       "3                   5                      6                     11   \n",
       "4                   5                      6                     11   \n",
       "...               ...                    ...                    ...   \n",
       "12655               5                      6                     11   \n",
       "12656               5                      6                     11   \n",
       "12657               5                      6                     11   \n",
       "12658               5                      6                     11   \n",
       "12659               5                      6                     11   \n",
       "\n",
       "       right_of_way_general  give_way  stop  no_speed_limit_general  \\\n",
       "0                        12        13    14                      32   \n",
       "1                        12        13    14                      32   \n",
       "2                        12        13    14                      32   \n",
       "3                        12        13    14                      32   \n",
       "4                        12        13    14                      32   \n",
       "...                     ...       ...   ...                     ...   \n",
       "12655                    12        13    14                      32   \n",
       "12656                    12        13    14                      32   \n",
       "12657                    12        13    14                      32   \n",
       "12658                    12        13    14                      32   \n",
       "12659                    12        13    14                      32   \n",
       "\n",
       "       turn_right_down  turn_left_down  \n",
       "0                   38              39  \n",
       "1                   38              39  \n",
       "2                   38              39  \n",
       "3                   38              39  \n",
       "4                   38              39  \n",
       "...                ...             ...  \n",
       "12655               38               0  \n",
       "12656               38               0  \n",
       "12657               38               0  \n",
       "12658               38               0  \n",
       "12659               38               0  \n",
       "\n",
       "[12660 rows x 2314 columns]"
      ]
     },
     "execution_count": 19,
     "metadata": {},
     "output_type": "execute_result"
    }
   ],
   "source": [
    "working_dataframe"
   ]
  },
  {
   "cell_type": "markdown",
   "metadata": {},
   "source": [
    "Done.\n",
    "\n",
    "Now lets see what the label for our previosly visualized dataframe is using it's index:"
   ]
  },
  {
   "cell_type": "code",
   "execution_count": 25,
   "metadata": {
    "ExecuteTime": {
     "end_time": "2019-11-10T12:47:27.608249Z",
     "start_time": "2019-11-10T12:47:27.603551Z"
    }
   },
   "outputs": [],
   "source": [
    "# First separate the labels\n",
    "labels = working_dataframe.iloc[:, 2304:] # All the rows, and columns staring where the last feature ends and the labels begin"
   ]
  },
  {
   "cell_type": "code",
   "execution_count": 29,
   "metadata": {
    "ExecuteTime": {
     "end_time": "2019-11-10T12:47:50.122657Z",
     "start_time": "2019-11-10T12:47:50.117940Z"
    }
   },
   "outputs": [
    {
     "data": {
      "text/plain": [
       "speed_limit_60             3\n",
       "speed_limit_80             0\n",
       "speed_limit_80_lifted      6\n",
       "right_of_way_crossing     11\n",
       "right_of_way_general      12\n",
       "give_way                  13\n",
       "stop                      14\n",
       "no_speed_limit_general    32\n",
       "turn_right_down           38\n",
       "turn_left_down            39\n",
       "Name: 2457, dtype: int64"
      ]
     },
     "execution_count": 29,
     "metadata": {},
     "output_type": "execute_result"
    }
   ],
   "source": [
    "# Now we see what the label for our image is\n",
    "labels.iloc[random_sample_index,:]"
   ]
  },
  {
   "cell_type": "markdown",
   "metadata": {},
   "source": [
    "And there we have it.\n",
    "\n",
    "But we should have one class/target feature column, not 10. So let's fix that. Now that we know the column with a zero is the one that is the label for that instance, we can write some code to replace that 0 with the original label number.\n",
    "\n",
    "Here we go:"
   ]
  },
  {
   "cell_type": "code",
   "execution_count": 34,
   "metadata": {
    "ExecuteTime": {
     "end_time": "2019-11-10T13:05:02.014155Z",
     "start_time": "2019-11-10T13:05:02.009970Z"
    }
   },
   "outputs": [],
   "source": [
    "# First, the label mappings\n",
    "label_mappings = {\n",
    "    \"speed_limit_60\": 3,\n",
    "    \"speed_limit_80\": 5,\n",
    "    \"speed_limit_80_lifted\": 6,\n",
    "    \"right_of_way_crossing\": 11,\n",
    "    \"right_of_way_general\": 12,\n",
    "    \"give_way\": 13,\n",
    "    \"stop\": 14,\n",
    "    \"no_speed_limit_general\": 32,\n",
    "    \"turn_right_down\": 38,\n",
    "    \"turn_left_down\": 39,\n",
    "}"
   ]
  },
  {
   "cell_type": "code",
   "execution_count": 35,
   "metadata": {
    "ExecuteTime": {
     "end_time": "2019-11-10T13:05:40.156241Z",
     "start_time": "2019-11-10T13:05:40.152401Z"
    }
   },
   "outputs": [],
   "source": [
    "# This function will generate the class attribute \"labels\"\n",
    "def make_class_attr():\n",
    "    class_attributes = []\n",
    "    for lb in labels.itertuples():\n",
    "        for l in label_mappings.keys():\n",
    "            if getattr(lb, l) == 0:\n",
    "                class_attributes.append(label_mappings[l])\n",
    "    return class_attributes"
   ]
  },
  {
   "cell_type": "code",
   "execution_count": 36,
   "metadata": {
    "ExecuteTime": {
     "end_time": "2019-11-10T13:07:38.467129Z",
     "start_time": "2019-11-10T13:07:38.415566Z"
    }
   },
   "outputs": [],
   "source": [
    "# Here we go\n",
    "single_column_labels = pd.DataFrame(make_class_attr(), columns=['label'])"
   ]
  },
  {
   "cell_type": "code",
   "execution_count": 37,
   "metadata": {
    "ExecuteTime": {
     "end_time": "2019-11-10T13:07:47.218398Z",
     "start_time": "2019-11-10T13:07:47.210689Z"
    }
   },
   "outputs": [
    {
     "data": {
      "text/html": [
       "<div>\n",
       "<style scoped>\n",
       "    .dataframe tbody tr th:only-of-type {\n",
       "        vertical-align: middle;\n",
       "    }\n",
       "\n",
       "    .dataframe tbody tr th {\n",
       "        vertical-align: top;\n",
       "    }\n",
       "\n",
       "    .dataframe thead th {\n",
       "        text-align: right;\n",
       "    }\n",
       "</style>\n",
       "<table border=\"1\" class=\"dataframe\">\n",
       "  <thead>\n",
       "    <tr style=\"text-align: right;\">\n",
       "      <th></th>\n",
       "      <th>label</th>\n",
       "    </tr>\n",
       "  </thead>\n",
       "  <tbody>\n",
       "    <tr>\n",
       "      <th>0</th>\n",
       "      <td>3</td>\n",
       "    </tr>\n",
       "    <tr>\n",
       "      <th>1</th>\n",
       "      <td>3</td>\n",
       "    </tr>\n",
       "    <tr>\n",
       "      <th>2</th>\n",
       "      <td>3</td>\n",
       "    </tr>\n",
       "    <tr>\n",
       "      <th>3</th>\n",
       "      <td>3</td>\n",
       "    </tr>\n",
       "    <tr>\n",
       "      <th>4</th>\n",
       "      <td>3</td>\n",
       "    </tr>\n",
       "    <tr>\n",
       "      <th>...</th>\n",
       "      <td>...</td>\n",
       "    </tr>\n",
       "    <tr>\n",
       "      <th>12655</th>\n",
       "      <td>39</td>\n",
       "    </tr>\n",
       "    <tr>\n",
       "      <th>12656</th>\n",
       "      <td>39</td>\n",
       "    </tr>\n",
       "    <tr>\n",
       "      <th>12657</th>\n",
       "      <td>39</td>\n",
       "    </tr>\n",
       "    <tr>\n",
       "      <th>12658</th>\n",
       "      <td>39</td>\n",
       "    </tr>\n",
       "    <tr>\n",
       "      <th>12659</th>\n",
       "      <td>39</td>\n",
       "    </tr>\n",
       "  </tbody>\n",
       "</table>\n",
       "<p>12660 rows × 1 columns</p>\n",
       "</div>"
      ],
      "text/plain": [
       "       label\n",
       "0          3\n",
       "1          3\n",
       "2          3\n",
       "3          3\n",
       "4          3\n",
       "...      ...\n",
       "12655     39\n",
       "12656     39\n",
       "12657     39\n",
       "12658     39\n",
       "12659     39\n",
       "\n",
       "[12660 rows x 1 columns]"
      ]
     },
     "execution_count": 37,
     "metadata": {},
     "output_type": "execute_result"
    }
   ],
   "source": [
    "single_column_labels"
   ]
  },
  {
   "cell_type": "code",
   "execution_count": 39,
   "metadata": {
    "ExecuteTime": {
     "end_time": "2019-11-10T13:11:11.822943Z",
     "start_time": "2019-11-10T13:11:11.700117Z"
    }
   },
   "outputs": [],
   "source": [
    "# Now we join that column to the instances and attributes and now we finally have a dataset to feed to our\n",
    "# model\n",
    "dataset = pd.concat([x_train_gr_smpl, single_column_labels], axis=1)"
   ]
  },
  {
   "cell_type": "code",
   "execution_count": 41,
   "metadata": {
    "ExecuteTime": {
     "end_time": "2019-11-10T13:11:51.556660Z",
     "start_time": "2019-11-10T13:11:51.264875Z"
    }
   },
   "outputs": [
    {
     "data": {
      "text/html": [
       "<div>\n",
       "<style scoped>\n",
       "    .dataframe tbody tr th:only-of-type {\n",
       "        vertical-align: middle;\n",
       "    }\n",
       "\n",
       "    .dataframe tbody tr th {\n",
       "        vertical-align: top;\n",
       "    }\n",
       "\n",
       "    .dataframe thead th {\n",
       "        text-align: right;\n",
       "    }\n",
       "</style>\n",
       "<table border=\"1\" class=\"dataframe\">\n",
       "  <thead>\n",
       "    <tr style=\"text-align: right;\">\n",
       "      <th></th>\n",
       "      <th>0</th>\n",
       "      <th>1</th>\n",
       "      <th>2</th>\n",
       "      <th>3</th>\n",
       "      <th>4</th>\n",
       "      <th>5</th>\n",
       "      <th>6</th>\n",
       "      <th>7</th>\n",
       "      <th>8</th>\n",
       "      <th>9</th>\n",
       "      <th>...</th>\n",
       "      <th>2295</th>\n",
       "      <th>2296</th>\n",
       "      <th>2297</th>\n",
       "      <th>2298</th>\n",
       "      <th>2299</th>\n",
       "      <th>2300</th>\n",
       "      <th>2301</th>\n",
       "      <th>2302</th>\n",
       "      <th>2303</th>\n",
       "      <th>label</th>\n",
       "    </tr>\n",
       "  </thead>\n",
       "  <tbody>\n",
       "    <tr>\n",
       "      <th>3900</th>\n",
       "      <td>88</td>\n",
       "      <td>62</td>\n",
       "      <td>51</td>\n",
       "      <td>43</td>\n",
       "      <td>42</td>\n",
       "      <td>47</td>\n",
       "      <td>56</td>\n",
       "      <td>78</td>\n",
       "      <td>101</td>\n",
       "      <td>101</td>\n",
       "      <td>...</td>\n",
       "      <td>27</td>\n",
       "      <td>26</td>\n",
       "      <td>24</td>\n",
       "      <td>25</td>\n",
       "      <td>27</td>\n",
       "      <td>29</td>\n",
       "      <td>30</td>\n",
       "      <td>29</td>\n",
       "      <td>28</td>\n",
       "      <td>11</td>\n",
       "    </tr>\n",
       "    <tr>\n",
       "      <th>1178</th>\n",
       "      <td>52</td>\n",
       "      <td>52</td>\n",
       "      <td>53</td>\n",
       "      <td>52</td>\n",
       "      <td>52</td>\n",
       "      <td>54</td>\n",
       "      <td>60</td>\n",
       "      <td>64</td>\n",
       "      <td>64</td>\n",
       "      <td>56</td>\n",
       "      <td>...</td>\n",
       "      <td>39</td>\n",
       "      <td>49</td>\n",
       "      <td>58</td>\n",
       "      <td>66</td>\n",
       "      <td>64</td>\n",
       "      <td>57</td>\n",
       "      <td>43</td>\n",
       "      <td>38</td>\n",
       "      <td>34</td>\n",
       "      <td>3</td>\n",
       "    </tr>\n",
       "    <tr>\n",
       "      <th>11248</th>\n",
       "      <td>7</td>\n",
       "      <td>6</td>\n",
       "      <td>8</td>\n",
       "      <td>11</td>\n",
       "      <td>9</td>\n",
       "      <td>8</td>\n",
       "      <td>9</td>\n",
       "      <td>15</td>\n",
       "      <td>19</td>\n",
       "      <td>21</td>\n",
       "      <td>...</td>\n",
       "      <td>9</td>\n",
       "      <td>9</td>\n",
       "      <td>10</td>\n",
       "      <td>10</td>\n",
       "      <td>10</td>\n",
       "      <td>11</td>\n",
       "      <td>12</td>\n",
       "      <td>13</td>\n",
       "      <td>12</td>\n",
       "      <td>38</td>\n",
       "    </tr>\n",
       "    <tr>\n",
       "      <th>8621</th>\n",
       "      <td>47</td>\n",
       "      <td>50</td>\n",
       "      <td>53</td>\n",
       "      <td>48</td>\n",
       "      <td>43</td>\n",
       "      <td>39</td>\n",
       "      <td>33</td>\n",
       "      <td>28</td>\n",
       "      <td>26</td>\n",
       "      <td>33</td>\n",
       "      <td>...</td>\n",
       "      <td>93</td>\n",
       "      <td>74</td>\n",
       "      <td>60</td>\n",
       "      <td>60</td>\n",
       "      <td>61</td>\n",
       "      <td>62</td>\n",
       "      <td>61</td>\n",
       "      <td>61</td>\n",
       "      <td>61</td>\n",
       "      <td>13</td>\n",
       "    </tr>\n",
       "    <tr>\n",
       "      <th>10771</th>\n",
       "      <td>25</td>\n",
       "      <td>25</td>\n",
       "      <td>24</td>\n",
       "      <td>24</td>\n",
       "      <td>25</td>\n",
       "      <td>25</td>\n",
       "      <td>26</td>\n",
       "      <td>25</td>\n",
       "      <td>25</td>\n",
       "      <td>24</td>\n",
       "      <td>...</td>\n",
       "      <td>69</td>\n",
       "      <td>132</td>\n",
       "      <td>236</td>\n",
       "      <td>172</td>\n",
       "      <td>123</td>\n",
       "      <td>95</td>\n",
       "      <td>76</td>\n",
       "      <td>57</td>\n",
       "      <td>41</td>\n",
       "      <td>38</td>\n",
       "    </tr>\n",
       "    <tr>\n",
       "      <th>1980</th>\n",
       "      <td>96</td>\n",
       "      <td>95</td>\n",
       "      <td>96</td>\n",
       "      <td>106</td>\n",
       "      <td>114</td>\n",
       "      <td>120</td>\n",
       "      <td>118</td>\n",
       "      <td>115</td>\n",
       "      <td>114</td>\n",
       "      <td>110</td>\n",
       "      <td>...</td>\n",
       "      <td>39</td>\n",
       "      <td>40</td>\n",
       "      <td>40</td>\n",
       "      <td>41</td>\n",
       "      <td>39</td>\n",
       "      <td>36</td>\n",
       "      <td>33</td>\n",
       "      <td>32</td>\n",
       "      <td>31</td>\n",
       "      <td>5</td>\n",
       "    </tr>\n",
       "    <tr>\n",
       "      <th>10026</th>\n",
       "      <td>255</td>\n",
       "      <td>255</td>\n",
       "      <td>255</td>\n",
       "      <td>255</td>\n",
       "      <td>255</td>\n",
       "      <td>255</td>\n",
       "      <td>255</td>\n",
       "      <td>255</td>\n",
       "      <td>255</td>\n",
       "      <td>255</td>\n",
       "      <td>...</td>\n",
       "      <td>72</td>\n",
       "      <td>71</td>\n",
       "      <td>70</td>\n",
       "      <td>68</td>\n",
       "      <td>69</td>\n",
       "      <td>75</td>\n",
       "      <td>87</td>\n",
       "      <td>114</td>\n",
       "      <td>134</td>\n",
       "      <td>14</td>\n",
       "    </tr>\n",
       "  </tbody>\n",
       "</table>\n",
       "<p>7 rows × 2305 columns</p>\n",
       "</div>"
      ],
      "text/plain": [
       "         0    1    2    3    4    5    6    7    8    9  ...  2295  2296  \\\n",
       "3900    88   62   51   43   42   47   56   78  101  101  ...    27    26   \n",
       "1178    52   52   53   52   52   54   60   64   64   56  ...    39    49   \n",
       "11248    7    6    8   11    9    8    9   15   19   21  ...     9     9   \n",
       "8621    47   50   53   48   43   39   33   28   26   33  ...    93    74   \n",
       "10771   25   25   24   24   25   25   26   25   25   24  ...    69   132   \n",
       "1980    96   95   96  106  114  120  118  115  114  110  ...    39    40   \n",
       "10026  255  255  255  255  255  255  255  255  255  255  ...    72    71   \n",
       "\n",
       "       2297  2298  2299  2300  2301  2302  2303  label  \n",
       "3900     24    25    27    29    30    29    28     11  \n",
       "1178     58    66    64    57    43    38    34      3  \n",
       "11248    10    10    10    11    12    13    12     38  \n",
       "8621     60    60    61    62    61    61    61     13  \n",
       "10771   236   172   123    95    76    57    41     38  \n",
       "1980     40    41    39    36    33    32    31      5  \n",
       "10026    70    68    69    75    87   114   134     14  \n",
       "\n",
       "[7 rows x 2305 columns]"
      ]
     },
     "execution_count": 41,
     "metadata": {},
     "output_type": "execute_result"
    }
   ],
   "source": [
    "dataset.sample(7)"
   ]
  },
  {
   "cell_type": "markdown",
   "metadata": {},
   "source": [
    "Let's visualize a couple to make sure they are correctly labeled:"
   ]
  },
  {
   "cell_type": "code",
   "execution_count": 50,
   "metadata": {
    "ExecuteTime": {
     "end_time": "2019-11-10T13:18:35.382184Z",
     "start_time": "2019-11-10T13:18:35.215199Z"
    }
   },
   "outputs": [
    {
     "data": {
      "image/png": "[encoded data removed]",
      "text/plain": [
       "<Figure size 432x288 with 1 Axes>"
      ]
     },
     "metadata": {
      "needs_background": "light"
     },
     "output_type": "display_data"
    }
   ],
   "source": [
    "random_image = dataset.iloc[1989, :2304]\n",
    "visualize_image(random_image, plt)"
   ]
  },
  {
   "cell_type": "code",
   "execution_count": 55,
   "metadata": {
    "ExecuteTime": {
     "end_time": "2019-11-10T13:25:24.624360Z",
     "start_time": "2019-11-10T13:25:24.621414Z"
    }
   },
   "outputs": [],
   "source": [
    "# Now we need to flip the labels dictionary so we can index by the label numbers\n",
    "label_mappings = {v:k for k,v in label_mappings.items()}"
   ]
  },
  {
   "cell_type": "code",
   "execution_count": 54,
   "metadata": {
    "ExecuteTime": {
     "end_time": "2019-11-10T13:22:58.305233Z",
     "start_time": "2019-11-10T13:22:58.300550Z"
    }
   },
   "outputs": [
    {
     "data": {
      "text/plain": [
       "5"
      ]
     },
     "execution_count": 54,
     "metadata": {},
     "output_type": "execute_result"
    }
   ],
   "source": [
    "# Now let's see whats at that label position\n",
    "dataset.iloc[1989, 2304:].values[0]"
   ]
  },
  {
   "cell_type": "code",
   "execution_count": 56,
   "metadata": {
    "ExecuteTime": {
     "end_time": "2019-11-10T13:26:01.296706Z",
     "start_time": "2019-11-10T13:26:01.292649Z"
    }
   },
   "outputs": [
    {
     "name": "stdout",
     "output_type": "stream",
     "text": [
      "speed_limit_80\n"
     ]
    }
   ],
   "source": [
    "# Now let's see which label is 5\n",
    "print(label_mappings[dataset.iloc[1989, 2304:].values[0]])"
   ]
  },
  {
   "cell_type": "markdown",
   "metadata": {},
   "source": [
    "We're good. Onward."
   ]
  },
  {
   "cell_type": "markdown",
   "metadata": {},
   "source": [
    "### Train-Test split"
   ]
  },
  {
   "cell_type": "markdown",
   "metadata": {},
   "source": [
    "This is very important because the model will need to be tested on data it has never seen before, to confirm it's generalizing well (not overfitting; doesn't have high variance)\n",
    "\n",
    "We'll do a 70-30 split, 70% of the dataset for training, and 30% for testing.\n",
    "\n",
    "We will use the excellent [scikit-learn](https://scikit-learn.org/stable/) machine learning library from here on out."
   ]
  },
  {
   "cell_type": "code",
   "execution_count": 58,
   "metadata": {
    "ExecuteTime": {
     "end_time": "2019-11-10T14:02:00.937707Z",
     "start_time": "2019-11-10T14:02:00.935388Z"
    }
   },
   "outputs": [],
   "source": [
    "# First we import the train_test_split function\n",
    "from sklearn.model_selection import train_test_split"
   ]
  },
  {
   "cell_type": "code",
   "execution_count": 59,
   "metadata": {
    "ExecuteTime": {
     "end_time": "2019-11-10T14:07:01.524412Z",
     "start_time": "2019-11-10T14:07:01.520435Z"
    }
   },
   "outputs": [],
   "source": [
    "# Create labels and instances&features numpy arrays (scikit-learn mostly works with numpy arrays)\n",
    "instances_features = dataset.iloc[:, :-1].values\n",
    "labels = dataset['label'].values"
   ]
  },
  {
   "cell_type": "code",
   "execution_count": 61,
   "metadata": {
    "ExecuteTime": {
     "end_time": "2019-11-10T14:08:08.296314Z",
     "start_time": "2019-11-10T14:08:07.130137Z"
    }
   },
   "outputs": [],
   "source": [
    "# And do a stratified 70/30 train-test split\n",
    "X_train, X_test, y_train, y_test = train_test_split(\n",
    "    instances_features,\n",
    "    labels,\n",
    "    # (70 30)% split\n",
    "    test_size=0.3,\n",
    "    # We want it stratified, labels equally distributed in the training and test datasets\n",
    "    stratify=labels\n",
    ")"
   ]
  },
  {
   "cell_type": "markdown",
   "metadata": {},
   "source": [
    "The data is stratified and shuffled before splitting."
   ]
  },
  {
   "cell_type": "markdown",
   "metadata": {},
   "source": [
    "## Correlation"
   ]
  },
  {
   "cell_type": "markdown",
   "metadata": {
    "ExecuteTime": {
     "end_time": "2019-11-09T15:21:49.635718Z",
     "start_time": "2019-11-09T15:21:49.633211Z"
    }
   },
   "source": [
    "## Feature Selection"
   ]
  },
  {
   "cell_type": "markdown",
   "metadata": {},
   "source": [
    "I did many of experiments (please see jupyter notebook <b>4_actual - Classification -- Performance of the Naive Bayes algorithm on the given data set</b> inside the scratch-pad folder for the experiments) to find out which automated feature selector would select the best features. Analysis of variace didn't work very well, at best producing a 39% accuracy dataset with 20% of the features using the SelectPercentile autoselector.\n",
    "\n",
    "A model based selector using a RandomForest classifier with 100 tree worked well. We'll reproduce it below:"
   ]
  },
  {
   "cell_type": "code",
   "execution_count": 68,
   "metadata": {
    "ExecuteTime": {
     "end_time": "2019-11-10T15:15:52.021680Z",
     "start_time": "2019-11-10T15:15:52.018629Z"
    }
   },
   "outputs": [],
   "source": [
    "from sklearn.feature_selection import SelectFromModel\n",
    "from sklearn.ensemble import RandomForestClassifier\n",
    "import numpy as np"
   ]
  },
  {
   "cell_type": "code",
   "execution_count": 80,
   "metadata": {
    "ExecuteTime": {
     "end_time": "2019-11-10T15:22:51.012288Z",
     "start_time": "2019-11-10T15:22:51.008349Z"
    }
   },
   "outputs": [],
   "source": [
    "selector = SelectFromModel(\n",
    "        RandomForestClassifier(\n",
    "        n_estimators=100, # Chose this purely randomly\n",
    "        random_state=1337, # deterministic randomization (oxymoron?)\n",
    "        n_jobs=4, # I have 4 cores\n",
    "    ),\n",
    "    # produces 25% of the best features (mean is the mean of feature importances)\n",
    "    # threshold=\"0.8*mean\", It turns out this keeps varrying, so I'll set a hard limit at 25%\n",
    "    threshold=-np.inf, # Disables threshold, so we can hard set a limit\n",
    "    max_features=round((X_train.shape[1] * 25) / 100) # 25%\n",
    "    # From the experiment, 25% of the best features produced the best accuracy\n",
    ")"
   ]
  },
  {
   "cell_type": "code",
   "execution_count": 81,
   "metadata": {
    "ExecuteTime": {
     "end_time": "2019-11-10T15:22:57.791428Z",
     "start_time": "2019-11-10T15:22:53.079350Z"
    }
   },
   "outputs": [
    {
     "data": {
      "text/plain": [
       "SelectFromModel(estimator=RandomForestClassifier(bootstrap=True,\n",
       "                                                 class_weight=None,\n",
       "                                                 criterion='gini',\n",
       "                                                 max_depth=None,\n",
       "                                                 max_features='auto',\n",
       "                                                 max_leaf_nodes=None,\n",
       "                                                 min_impurity_decrease=0.0,\n",
       "                                                 min_impurity_split=None,\n",
       "                                                 min_samples_leaf=1,\n",
       "                                                 min_samples_split=2,\n",
       "                                                 min_weight_fraction_leaf=0.0,\n",
       "                                                 n_estimators=100, n_jobs=4,\n",
       "                                                 oob_score=False,\n",
       "                                                 random_state=1337, verbose=0,\n",
       "                                                 warm_start=False),\n",
       "                max_features=576, norm_order=1, prefit=False, threshold=-inf)"
      ]
     },
     "execution_count": 81,
     "metadata": {},
     "output_type": "execute_result"
    }
   ],
   "source": [
    "selector.fit(X_train, y_train)"
   ]
  },
  {
   "cell_type": "code",
   "execution_count": 82,
   "metadata": {
    "ExecuteTime": {
     "end_time": "2019-11-10T15:23:02.356348Z",
     "start_time": "2019-11-10T15:23:02.183304Z"
    }
   },
   "outputs": [],
   "source": [
    "X_train_selected = selector.transform(X_train)"
   ]
  },
  {
   "cell_type": "code",
   "execution_count": 83,
   "metadata": {
    "ExecuteTime": {
     "end_time": "2019-11-10T15:23:03.218409Z",
     "start_time": "2019-11-10T15:23:03.215167Z"
    }
   },
   "outputs": [
    {
     "data": {
      "text/plain": [
       "(8862, 576)"
      ]
     },
     "execution_count": 83,
     "metadata": {},
     "output_type": "execute_result"
    }
   ],
   "source": [
    "# How many features selected, and which ones?\n",
    "X_train_selected.shape"
   ]
  },
  {
   "cell_type": "markdown",
   "metadata": {},
   "source": [
    "We have 25% of the best features for our images. Let's proceed to the classifier."
   ]
  },
  {
   "cell_type": "markdown",
   "metadata": {},
   "source": [
    "# CLASSIFICATION"
   ]
  },
  {
   "cell_type": "markdown",
   "metadata": {},
   "source": [
    "## Naïve Bayes"
   ]
  },
  {
   "cell_type": "markdown",
   "metadata": {},
   "source": [
    "In my experiments, I tried using Guassian Naive Bayes (GuassainNB). This did not produce good results. Complement Naive Bayes (ComplementNB) produced the best results. This is no surprise as it works best with imbalanced data, where some classes have waay more instances than others.\n",
    "\n",
    "Do we have imbalanced data? Let's find out."
   ]
  },
  {
   "cell_type": "code",
   "execution_count": 101,
   "metadata": {
    "ExecuteTime": {
     "end_time": "2019-11-10T16:21:46.237613Z",
     "start_time": "2019-11-10T16:21:46.230458Z"
    }
   },
   "outputs": [
    {
     "name": "stdout",
     "output_type": "stream",
     "text": [
      "Name                      Label    Frequency\n",
      "----------------------  -------  -----------\n",
      "give_way                     13         2160\n",
      "right_of_way_general         12         2100\n",
      "turn_right_down              38         2070\n",
      "speed_limit_80                5         1860\n",
      "speed_limit_60                3         1410\n",
      "right_of_way_crossing        11         1320\n",
      "stop                         14          780\n",
      "speed_limit_80_lifted         6          420\n",
      "turn_left_down               39          300\n",
      "no_speed_limit_general       32          240\n"
     ]
    }
   ],
   "source": [
    "# Count frequency of labels\n",
    "from tabulate import tabulate\n",
    "\n",
    "table = []\n",
    "for label_frequency in dataset['label'].value_counts().iteritems():\n",
    "    # Print a table: Name, Label, Frequency\n",
    "    table.append([label_mappings[label_frequency[0]], label_frequency[0], label_frequency[1]])\n",
    "\n",
    "print(tabulate(\n",
    "    table,\n",
    "    headers=[\"Name\", \"Label\", \"Frequency\"]\n",
    "))"
   ]
  },
  {
   "cell_type": "markdown",
   "metadata": {},
   "source": [
    "<b>Extreamly so.</b>"
   ]
  },
  {
   "cell_type": "code",
   "execution_count": 84,
   "metadata": {
    "ExecuteTime": {
     "end_time": "2019-11-10T15:50:02.927859Z",
     "start_time": "2019-11-10T15:50:02.925322Z"
    }
   },
   "outputs": [],
   "source": [
    "# Let's import both classifiers\n",
    "from sklearn.naive_bayes import ComplementNB"
   ]
  },
  {
   "cell_type": "code",
   "execution_count": 102,
   "metadata": {
    "ExecuteTime": {
     "end_time": "2019-11-10T16:23:39.052832Z",
     "start_time": "2019-11-10T16:23:39.050231Z"
    }
   },
   "outputs": [],
   "source": [
    "complement_naive_bayes = ComplementNB()"
   ]
  },
  {
   "cell_type": "code",
   "execution_count": 103,
   "metadata": {
    "ExecuteTime": {
     "end_time": "2019-11-10T16:24:23.652056Z",
     "start_time": "2019-11-10T16:24:23.608026Z"
    }
   },
   "outputs": [
    {
     "data": {
      "text/plain": [
       "ComplementNB(alpha=1.0, class_prior=None, fit_prior=True, norm=False)"
      ]
     },
     "execution_count": 103,
     "metadata": {},
     "output_type": "execute_result"
    }
   ],
   "source": [
    "# Let's train the model\n",
    "complement_naive_bayes.fit(X_train_selected, y_train)"
   ]
  },
  {
   "cell_type": "code",
   "execution_count": 105,
   "metadata": {
    "ExecuteTime": {
     "end_time": "2019-11-10T16:27:05.839505Z",
     "start_time": "2019-11-10T16:27:05.705207Z"
    }
   },
   "outputs": [],
   "source": [
    "# Select the test set with the model selector\n",
    "X_test_selected = selector.transform(X_test)"
   ]
  },
  {
   "cell_type": "code",
   "execution_count": 106,
   "metadata": {
    "ExecuteTime": {
     "end_time": "2019-11-10T16:28:49.112478Z",
     "start_time": "2019-11-10T16:28:49.084472Z"
    }
   },
   "outputs": [
    {
     "data": {
      "text/plain": [
       "0.718272775144813"
      ]
     },
     "execution_count": 106,
     "metadata": {},
     "output_type": "execute_result"
    }
   ],
   "source": [
    "# Now we test the model with data it has never seen before. This will tell us if it generalized well.\n",
    "complement_naive_bayes.score(X_test_selected, y_test)"
   ]
  },
  {
   "cell_type": "markdown",
   "metadata": {},
   "source": [
    "71% accuracy.\n",
    "\n",
    "And what are the actual predictions?"
   ]
  },
  {
   "cell_type": "code",
   "execution_count": 108,
   "metadata": {
    "ExecuteTime": {
     "end_time": "2019-11-10T16:34:06.133049Z",
     "start_time": "2019-11-10T16:34:06.116996Z"
    }
   },
   "outputs": [],
   "source": [
    "predicted = complement_naive_bayes.predict(X_test_selected)"
   ]
  },
  {
   "cell_type": "code",
   "execution_count": 136,
   "metadata": {
    "ExecuteTime": {
     "end_time": "2019-11-10T17:13:31.120662Z",
     "start_time": "2019-11-10T17:13:29.892066Z"
    }
   },
   "outputs": [
    {
     "data": {
      "text/plain": [
       "<matplotlib.axes._subplots.AxesSubplot at 0x165f9bb90>"
      ]
     },
     "execution_count": 136,
     "metadata": {},
     "output_type": "execute_result"
    },
    {
     "data": {
      "image/png": "[encoded data removed]",
      "text/plain": [
       "<Figure size 432x288 with 2 Axes>"
      ]
     },
     "metadata": {
      "needs_background": "light"
     },
     "output_type": "display_data"
    }
   ],
   "source": [
    "# Let's see how that looks like\n",
    "import seaborn as sns\n",
    "\n",
    "sns.lineplot(data=y_test, color='b')\n",
    "axis_2 = plt.twinx()\n",
    "sns.lineplot(data=predicted, color='g', ax=axis_2)\n",
    "#plt.legend()\n"
   ]
  },
  {
   "cell_type": "markdown",
   "metadata": {},
   "source": [
    "### Analysis"
   ]
  },
  {
   "cell_type": "code",
   "execution_count": 107,
   "metadata": {
    "ExecuteTime": {
     "end_time": "2019-11-10T16:31:42.993211Z",
     "start_time": "2019-11-10T16:31:42.990719Z"
    }
   },
   "outputs": [],
   "source": [
    "from sklearn.metrics import (\n",
    "    confusion_matrix,\n",
    "    classification_report\n",
    ")"
   ]
  },
  {
   "cell_type": "markdown",
   "metadata": {},
   "source": [
    "How does the confusion matrix look like?"
   ]
  },
  {
   "cell_type": "code",
   "execution_count": 120,
   "metadata": {
    "ExecuteTime": {
     "end_time": "2019-11-10T16:51:02.805778Z",
     "start_time": "2019-11-10T16:51:02.797339Z"
    }
   },
   "outputs": [
    {
     "data": {
      "text/plain": [
       "array([[ 29, 167,   0,  19,  63, 127,   0,   0,  18,   0],\n",
       "       [  0, 313,   0,  25,  96, 107,   2,   0,  15,   0],\n",
       "       [  0,   1,   0,   3, 122,   0,   0,   0,   0,   0],\n",
       "       [  0,   0,   0, 357,  37,   2,   0,   0,   0,   0],\n",
       "       [  0,  13,   0,  24, 578,  15,   0,   0,   0,   0],\n",
       "       [  0,   1,   0,  17,  10, 620,   0,   0,   0,   0],\n",
       "       [  0,   0,   0,   0,   4,   1, 227,   0,   2,   0],\n",
       "       [  0,   4,   0,   0,  60,   0,   0,   0,   8,   0],\n",
       "       [  0,   0,   0,   1,  23,  22,   0,   0, 575,   0],\n",
       "       [  0,   2,   0,   4,  11,  44,   0,   0,   0,  29]])"
      ]
     },
     "execution_count": 120,
     "metadata": {},
     "output_type": "execute_result"
    }
   ],
   "source": [
    "confusion_matrix(y_test, predicted)"
   ]
  },
  {
   "cell_type": "code",
   "execution_count": 122,
   "metadata": {
    "ExecuteTime": {
     "end_time": "2019-11-10T16:52:48.010928Z",
     "start_time": "2019-11-10T16:52:47.999764Z"
    }
   },
   "outputs": [
    {
     "name": "stdout",
     "output_type": "stream",
     "text": [
      "              precision    recall  f1-score   support\n",
      "\n",
      "           3       1.00      0.07      0.13       423\n",
      "           5       0.62      0.56      0.59       558\n",
      "           6       0.00      0.00      0.00       126\n",
      "          11       0.79      0.90      0.84       396\n",
      "          12       0.58      0.92      0.71       630\n",
      "          13       0.66      0.96      0.78       648\n",
      "          14       0.99      0.97      0.98       234\n",
      "          32       0.00      0.00      0.00        72\n",
      "          38       0.93      0.93      0.93       621\n",
      "          39       1.00      0.32      0.49        90\n",
      "\n",
      "    accuracy                           0.72      3798\n",
      "   macro avg       0.66      0.56      0.54      3798\n",
      "weighted avg       0.73      0.72      0.66      3798\n",
      "\n"
     ]
    }
   ],
   "source": [
    "print(classification_report(y_test, predicted))"
   ]
  },
  {
   "cell_type": "markdown",
   "metadata": {},
   "source": [
    "## Bayesian Network"
   ]
  },
  {
   "cell_type": "markdown",
   "metadata": {},
   "source": [
    "# CLUSTERING"
   ]
  },
  {
   "cell_type": "markdown",
   "metadata": {},
   "source": [
    "## k-means"
   ]
  },
  {
   "cell_type": "markdown",
   "metadata": {},
   "source": [
    "# RESEARCH QUESTION"
   ]
  },
  {
   "cell_type": "code",
   "execution_count": null,
   "metadata": {},
   "outputs": [],
   "source": []
  }
 ],
 "metadata": {
  "kernelspec": {
   "display_name": "Python 3",
   "language": "python",
   "name": "python3"
  },
  "language_info": {
   "codemirror_mode": {
    "name": "ipython",
    "version": 3
   },
   "file_extension": ".py",
   "mimetype": "text/x-python",
   "name": "python",
   "nbconvert_exporter": "python",
   "pygments_lexer": "ipython3",
   "version": "3.7.4"
  }
 },
 "nbformat": 4,
 "nbformat_minor": 2
}
