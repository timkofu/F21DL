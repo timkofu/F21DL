{
 "cells": [
  {
   "cell_type": "code",
   "execution_count": 1,
   "metadata": {},
   "outputs": [],
   "source": [
    "import set_sys_path"
   ]
  },
  {
   "cell_type": "code",
   "execution_count": 2,
   "metadata": {},
   "outputs": [],
   "source": [
    "from classy.controller.tasks import three"
   ]
  },
  {
   "cell_type": "code",
   "execution_count": 4,
   "metadata": {},
   "outputs": [
    {
     "name": "stdout",
     "output_type": "stream",
     "text": [
      "\n",
      "[Reducing the size, dealing with computational constraints] The given files may be too big for\n",
      "standard settings of GUI Weka: decide how you are going to deal with this:\n",
      "● You may reduce the number of attributes, as taught during the course. Record and explain all\n",
      "choices made when you perform the reduction of attributes. A number of algorithms and options are\n",
      "available in Weka. See Sections 2.1 -2.3 in\n",
      "www.cs.waikato.ac.nz/ml/weka/Witten_et_al_2016_appendix.pdf\n",
      "● Alternatively, you may use the full data set and the Weka command-line interface. See Section\n",
      "5 of www.cs.waikato.ac.nz/ml/weka/Witten_et_al_2016_appendix.pdf) and manipulate the heap size\n",
      "(see https://weka.wikispaces.com/OutOfMemoryException).\n",
      "● Either choice is acceptable as long as you can perform the next task.\n",
      "\n",
      "\n"
     ]
    }
   ],
   "source": [
    "print(three.__doc__)"
   ]
  },
  {
   "cell_type": "code",
   "execution_count": 5,
   "metadata": {},
   "outputs": [],
   "source": [
    "# Talking about dimensionality reduction here.\n",
    "# Will come back to it after preliminary classifier results, see if there's a way to do it and not reduce accuracy"
   ]
  },
  {
   "cell_type": "code",
   "execution_count": null,
   "metadata": {},
   "outputs": [],
   "source": []
  }
 ],
 "metadata": {
  "kernelspec": {
   "display_name": "Python 3",
   "language": "python",
   "name": "python3"
  },
  "language_info": {
   "codemirror_mode": {
    "name": "ipython",
    "version": 3
   },
   "file_extension": ".py",
   "mimetype": "text/x-python",
   "name": "python",
   "nbconvert_exporter": "python",
   "pygments_lexer": "ipython3",
   "version": "3.7.4"
  }
 },
 "nbformat": 4,
 "nbformat_minor": 2
}
