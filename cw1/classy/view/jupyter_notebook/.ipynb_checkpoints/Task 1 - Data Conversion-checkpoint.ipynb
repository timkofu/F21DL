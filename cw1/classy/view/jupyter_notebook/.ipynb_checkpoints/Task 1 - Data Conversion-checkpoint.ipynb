{
 "cells": [
  {
   "cell_type": "code",
   "execution_count": 7,
   "metadata": {},
   "outputs": [],
   "source": [
    "# Lets enable importing modules from the classy(this) package\n",
    "\n",
    "import set_sys_path"
   ]
  },
  {
   "cell_type": "code",
   "execution_count": 2,
   "metadata": {},
   "outputs": [],
   "source": [
    "import sys"
   ]
  },
  {
   "cell_type": "code",
   "execution_count": 3,
   "metadata": {},
   "outputs": [
    {
     "data": {
      "text/plain": [
       "['/Users/timkofu/code_base/F21DLCW/cw1',\n",
       " '/Users/timkofu/code_base/F21DLCW/cw1/classy/view/jupyter_notebook',\n",
       " '/Users/timkofu/.local/share/virtualenvs/cw1-bLespvwF/lib/python37.zip',\n",
       " '/Users/timkofu/.local/share/virtualenvs/cw1-bLespvwF/lib/python3.7',\n",
       " '/Users/timkofu/.local/share/virtualenvs/cw1-bLespvwF/lib/python3.7/lib-dynload',\n",
       " '/usr/local/Cellar/python/3.7.4_1/Frameworks/Python.framework/Versions/3.7/lib/python3.7',\n",
       " '',\n",
       " '/Users/timkofu/.local/share/virtualenvs/cw1-bLespvwF/lib/python3.7/site-packages',\n",
       " '/Users/timkofu/.local/share/virtualenvs/cw1-bLespvwF/lib/python3.7/site-packages/IPython/extensions',\n",
       " '/Users/timkofu/.ipython']"
      ]
     },
     "execution_count": 3,
     "metadata": {},
     "output_type": "execute_result"
    }
   ],
   "source": [
    "sys.path"
   ]
  },
  {
   "cell_type": "code",
   "execution_count": 4,
   "metadata": {},
   "outputs": [],
   "source": [
    "# The folder is set, now we see what CSVs we can work with\n",
    "\n",
    "from classy.model.data.read import Reader"
   ]
  },
  {
   "cell_type": "code",
   "execution_count": 6,
   "metadata": {},
   "outputs": [
    {
     "name": "stdout",
     "output_type": "stream",
     "text": [
      "y_train_smpl_0.csv\n",
      "y_train_smpl_1.csv\n",
      "y_train_smpl_3.csv\n",
      "x_train_gr_smpl.csv\n",
      "y_train_smpl_2.csv\n",
      "y_train_smpl_6.csv\n",
      "y_train_smpl_7.csv\n",
      "y_train_smpl.csv\n",
      "y_train_smpl_5.csv\n",
      "y_train_smpl_4.csv\n",
      "y_train_smpl_9.csv\n",
      "y_train_smpl_8.csv\n"
     ]
    }
   ],
   "source": [
    "Reader().list_csvs()"
   ]
  },
  {
   "cell_type": "code",
   "execution_count": null,
   "metadata": {},
   "outputs": [],
   "source": []
  }
 ],
 "metadata": {
  "kernelspec": {
   "display_name": "Python 3",
   "language": "python",
   "name": "python3"
  },
  "language_info": {
   "codemirror_mode": {
    "name": "ipython",
    "version": 3
   },
   "file_extension": ".py",
   "mimetype": "text/x-python",
   "name": "python",
   "nbconvert_exporter": "python",
   "pygments_lexer": "ipython3",
   "version": "3.7.4"
  }
 },
 "nbformat": 4,
 "nbformat_minor": 2
}
